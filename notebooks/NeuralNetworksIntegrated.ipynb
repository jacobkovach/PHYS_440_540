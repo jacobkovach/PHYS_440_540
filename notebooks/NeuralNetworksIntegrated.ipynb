{
 "cells": [
  {
   "cell_type": "markdown",
   "metadata": {
    "slideshow": {
     "slide_type": "slide"
    }
   },
   "source": [
    "# Neural Networks I\n",
    "G. Richards\n",
    "(2016, 2018, 2020, 2022)\n",
    "[Ivezic 9.8](https://www.astroml.org/book_figures/chapter9/index.html) and [Geron](https://www.amazon.com/Hands-Machine-Learning-Scikit-Learn-TensorFlow/dp/1492032646/ref=sr_1_5?dchild=1&keywords=machine+learning&qid=1596499152&sr=8-5).   With updates to my own class from [Stephen Taylor's class at Vanderbilt](https://github.com/VanderbiltAstronomy/astr_8070_s22).\n",
    "\n",
    "I found this video series particularly helpful in trying to simplify the explanation https://www.youtube.com/watch?v=bxe2T-V8XRs. \n",
    "\n",
    "\n",
    "- [Textbook](http://press.princeton.edu/titles/10159.html) Chapter 9.\n",
    "- Many blogs and videos.\n",
    "- Free online book! http://neuralnetworksanddeeplearning.com/index.html"
   ]
  },
  {
   "cell_type": "markdown",
   "metadata": {
    "slideshow": {
     "slide_type": "slide"
    }
   },
   "source": [
    "## Contents\n",
    "\n",
    "Loss Functions, Gradient Descent, and AdaBoost are in Classification3.  Add them here??\n",
    "\n",
    "\n",
    "* [Neural networks](#one)"
   ]
  },
  {
   "cell_type": "markdown",
   "metadata": {
    "slideshow": {
     "slide_type": "slide"
    }
   },
   "source": [
    "Before we start today, we need to install some new software.  Go ahead and do this while you are waiting for lecture to start.\n",
    "\n",
    "On the command line:\n",
    "    \n",
    "% python3 -m pip install --upgrade tensorflow\n",
    "\n",
    "% pip install pydot"
   ]
  },
  {
   "cell_type": "code",
   "execution_count": 1,
   "metadata": {
    "slideshow": {
     "slide_type": "slide"
    }
   },
   "outputs": [],
   "source": [
    "from matplotlib import pyplot as plt\n",
    "import numpy as np"
   ]
  },
  {
   "cell_type": "code",
   "execution_count": 3,
   "metadata": {},
   "outputs": [
    {
     "name": "stdout",
     "output_type": "stream",
     "text": [
      "TensorFlow version: 2.10.0\n",
      "Num GPUs Available:  1\n",
      "Num CPUs Available:  1\n"
     ]
    }
   ],
   "source": [
    "import tensorflow as tf\n",
    "#import tensorflow_datasets as tfds\n",
    "print(\"TensorFlow version:\", tf.__version__)\n",
    "print(\"Num GPUs Available: \", len(tf.config.experimental.list_physical_devices('GPU')))\n",
    "print(\"Num CPUs Available: \", len(tf.config.experimental.list_physical_devices('CPU')))"
   ]
  },
  {
   "cell_type": "code",
   "execution_count": 4,
   "metadata": {
    "slideshow": {
     "slide_type": "slide"
    }
   },
   "outputs": [
    {
     "name": "stdout",
     "output_type": "stream",
     "text": [
      "2.10.0\n"
     ]
    }
   ],
   "source": [
    "from tensorflow import keras\n",
    "print(keras.__version__)"
   ]
  },
  {
   "cell_type": "markdown",
   "metadata": {
    "slideshow": {
     "slide_type": "slide"
    }
   },
   "source": [
    "Before lecture today, please go to https://playground.tensorflow.org/\n",
    "\n",
    "Try the default. Note how the first layer identifies simple patterns and the second layer combines those to make more complex patterns. It also finds a solution quite quickly. (Note also that it won't stop on its own. Hit pause when you are happy with the solution it has converged on.)\n",
    "Try a ReLU activation function. Much faster, but with a \"boxy\" solution.\n",
    "See what happens when there is only 1 hidden layer with 3 neurons. Reset and run it multiple times.\n",
    "Compare learning rate 0.001 to 1.0.\n",
    "Now try just 2 neurons (with learning rate back at 0.3).\n",
    "Now try 8 neurons.\n",
    "Lastly try the spiral dataset with 4 hidden layers, each with 8 neurons. Run it for at least 1000-1500 epochs -- until it gets the answer \"right\" (make sure that your computer is plugged in and properly cooled!) This illustrates the vanishing gradient problem.\n",
    "Do this again after lecture.\n",
    "See Problem 10.1 in Geron"
   ]
  },
  {
   "cell_type": "markdown",
   "metadata": {
    "slideshow": {
     "slide_type": "slide"
    }
   },
   "source": [
    "[Artificial Neural Networks](https://en.wikipedia.org/wiki/Artificial_neural_network) are a simplified computation architecture based loosely on the real neural networks found in brains. \n",
    "\n",
    "![Neuron example](https://4.bp.blogspot.com/-Z5LfY6yoIcE/U-OFKWHoAbI/AAAAAAAAAKo/ytH6BzDLeo4/s1600/Picture-533.png)\n",
    "\n",
    "In reality, what we are going to explore is a **[multi-layer perceptron](https://en.wikipedia.org/wiki/Multilayer_perceptron)**."
   ]
  },
  {
   "cell_type": "markdown",
   "metadata": {
    "slideshow": {
     "slide_type": "slide"
    }
   },
   "source": [
    "In the image below, \n",
    "- the circles on the ***left*** represent the **features/attributes** of our input data, $X$, which here is 3 dimensional.  \n",
    "- the circles in the ***middle*** represent the **neurons**. They take in the information from the input and, based on some criterion decide whether or not to \"fire\". These middle layers are called \"**hidden layers**\".\n",
    "- the collective results of the neurons in the hidden layer produce the **output**, $y$, which is represented by the circles on the ***right***, which here is 2 dimensional result.  \n",
    "- the lines connecting the circles represent the synapses.  \n",
    "\n",
    "This is a simple example with just one layer of neurons; however, there can be many layers of neurons.\n",
    "\n",
    "![Cartoon of Neural Network](https://upload.wikimedia.org/wikipedia/commons/thumb/e/e4/Artificial_neural_network.svg/500px-Artificial_neural_network.svg.png)"
   ]
  },
  {
   "cell_type": "markdown",
   "metadata": {
    "slideshow": {
     "slide_type": "slide"
    }
   },
   "source": [
    "Here are two graphics from an [article](https://towardsdatascience.com/artificial-intelligence-vs-machine-learning-vs-deep-learning-2210ba8cc4ac describing the relationship between artificial inteligence, machine learning and deep learning.\n",
    "\n",
    "![MLvsDL1](https://miro.medium.com/max/1060/0*R53mzDRJXZ8l6idL)\n",
    "\n",
    "![MLvsDL2](https://miro.medium.com/max/1400/0*2V2i5DbamWhswRV6)"
   ]
  },
  {
   "cell_type": "markdown",
   "metadata": {
    "slideshow": {
     "slide_type": "slide"
    }
   },
   "source": [
    "Back to understanding this architecture.\n",
    "\n",
    "![Cartoon of Neural Network](https://upload.wikimedia.org/wikipedia/commons/thumb/e/e4/Artificial_neural_network.svg/500px-Artificial_neural_network.svg.png)"
   ]
  },
  {
   "cell_type": "markdown",
   "metadata": {
    "slideshow": {
     "slide_type": "slide"
    }
   },
   "source": [
    "The job of a synapse is to take input values and multiply them by some **weight**, $w$, and add a **bias**, $b$, before passing them to the neuron (hidden layer):\n",
    "\n",
    "$$z = \\sum_i w x_i + b$$\n",
    "\n",
    "The bias determines the input level at which the neuron \"fires\". It is always present, and unique to each neuron, but we'll set that to zero for the sake of simplicity here.\n",
    "\n",
    "The neuron then sums up the inputs from all of the synapses connected to it and applies an \"**activation function**\", e.g., a **[sigmoid](https://en.wikipedia.org/wiki/Sigmoid_function) activation function**.\n",
    "\n",
    "$$a = \\frac{1}{1+e^{-z}}.$$\n",
    "\n",
    "![Sigmoid Function](https://upload.wikimedia.org/wikipedia/commons/thumb/8/88/Logistic-curve.svg/500px-Logistic-curve.svg.png)"
   ]
  },
  {
   "cell_type": "markdown",
   "metadata": {
    "slideshow": {
     "slide_type": "slide"
    }
   },
   "source": [
    "What the neural network does is to learn the weights of the synapses that are needed to produce an accurate model of $y_{\\rm train}$.\n",
    "\n",
    "![Ivezic Figure 9.17](https://www.astroml.org/_images/fig_neural_network_1.png)"
   ]
  },
  {
   "cell_type": "markdown",
   "metadata": {
    "slideshow": {
     "slide_type": "slide"
    }
   },
   "source": [
    "Rather than think about the inputs individually, we can write this process in matrix form as\n",
    "$$Z^{(2)} = X W^{(1)}$$\n",
    "\n",
    "If $D$ is the number of attributes and $H$ is the number of neurons in the hidden layer, then $X$ is an $N\\times D$ matrix, while $W^{(1)}$ is a $D\\times H$ matrix.  The result, $Z^{(2)}$, is then an $N\\times H$ matrix.\n",
    "\n",
    "We then apply the activation function to each entry of $Z^{(2)}$ independently: \n",
    "$$A^{(2)} = f(Z^{(2)}),$$\n",
    "where $A^{(2)}$ is the output of the neurons in the hidden layer and is also $N\\times H$."
   ]
  },
  {
   "cell_type": "markdown",
   "metadata": {
    "slideshow": {
     "slide_type": "slide"
    }
   },
   "source": [
    "These values are then the inputs for the next set of synapses, where we multiply the inputs by another set of weights, $W^{(2)}:$\n",
    "$$Z^{(3)} = A^{(2)} W^{(2)},$$\n",
    "\n",
    "where $W^{(2)}$ is an $H\\times O$ matrix and $Z^{(3)}$ is an $N\\times O$ matrix with $O$-dimensional output.\n",
    "\n",
    "Another activation function is then applied to $Z^{(3)}$ to give\n",
    "$$\\hat{y} = f(Z^{(3)}),$$\n",
    "which is our estimator of $y$."
   ]
  },
  {
   "cell_type": "markdown",
   "metadata": {
    "slideshow": {
     "slide_type": "slide"
    }
   },
   "source": [
    "Following my previous examples, say we have $N=100$ skeletons for which we have measured \n",
    "* tibia length\n",
    "* femur lenght\n",
    "* ulna length\n",
    "\n",
    "for which we know their species and gender.\n",
    "\n",
    "Then we are going to use this to predict the species and gender of an unknown skeleton."
   ]
  },
  {
   "cell_type": "markdown",
   "metadata": {
    "slideshow": {
     "slide_type": "slide"
    }
   },
   "source": [
    "The neural network then essentially boils down to determining the weights of the synapses, which are usually initialized randomly.\n",
    "\n",
    "We do that by minimizing the cost function (which compares the true values of $y$ to our predicted values).  Typically an MSE cost:\n",
    "$$ {\\rm Cost} = J = \\sum\\frac{1}{2}(y - \\hat{y})^2.$$\n",
    "\n",
    "Let's take a minute to talk about loss functions in detail."
   ]
  },
  {
   "cell_type": "markdown",
   "metadata": {
    "slideshow": {
     "slide_type": "notes"
    }
   },
   "source": [
    "As we saw above, that would be a cost function for regression (where we have only one output node).  For classification, we'd use one of the examples above (but ideally one that is differentiable as we'll see later)."
   ]
  },
  {
   "cell_type": "markdown",
   "metadata": {
    "slideshow": {
     "slide_type": "slide"
    }
   },
   "source": [
    "### Loss Functions\n",
    "\n",
    "**GTR: This part is updated in Classification3 for 2022.  If keeping it here, update here instead (or in addition).**\n",
    "\n",
    "A [loss function](https://en.wikipedia.org/wiki/Loss_functions_for_classification) is like the cost functions that we discussed earlier, except for a single training example rather than the full data set.\n",
    "\n",
    "Whether you realize it or not, you are typically working with $l2$ loss functions:\n",
    "$$(y-f(x))^2,$$\n",
    "where the corresponding cost function is the mean of those for all $x_i$ or the Mean Squared Error (MSE).\n",
    "\n",
    "We also talked about $l1$ loss functions:\n",
    "$$|y-f(x)|,$$\n",
    "which is more robust to outliers.\n",
    "\n",
    "For regression we plot loss vs. $y-f(x)$, where ideally we want that to be zero and would assign that zero \"loss\".\n",
    "\n",
    "For classification we instead plot the loss vs. $y*f(x)$, where that is the known class (either $+1$ or $-1$) times the predicted value.  If that product is positive, we predict $+1$.  If it is negative, we predict $-1$.  \n",
    "\n",
    "We define the loss to be zero for $y*f(x)=1$, that is, when we have gotten the right answer.\n",
    "\n",
    "So what do the mean squared error (MSE or $l2$) and mean absolute error (MAE or $l1$) look like for classification?"
   ]
  },
  {
   "cell_type": "code",
   "execution_count": 5,
   "metadata": {
    "slideshow": {
     "slide_type": "slide"
    }
   },
   "outputs": [],
   "source": [
    "# Mathematical formulas for various loss functions\n",
    "def log_loss(raw_model_output):\n",
    "   return np.log(1+np.exp(-raw_model_output))\n",
    "\n",
    "def hinge_loss(raw_model_output):\n",
    "   return np.maximum(0,1-raw_model_output)\n",
    " \n",
    "def l2(raw_model_output):\n",
    "   return (raw_model_output-1)**2  \n",
    "\n",
    "def l1(raw_model_output):\n",
    "   return np.abs(raw_model_output-1)  \n",
    " \n",
    "def zero_one(raw_model_output):\n",
    "   return np.where(raw_model_output < 0, 1, 0)   "
   ]
  },
  {
   "cell_type": "code",
   "execution_count": 7,
   "metadata": {
    "slideshow": {
     "slide_type": "slide"
    }
   },
   "outputs": [
    {
     "data": {
      "image/png": "[encoded data removed]",
      "text/plain": [
       "<Figure size 432x288 with 1 Axes>"
      ]
     },
     "metadata": {
      "needs_background": "light"
     },
     "output_type": "display_data"
    }
   ],
   "source": [
    "# Create a grid of values and plot\n",
    "grid = np.linspace(-3,3,1000)\n",
    "plt.plot(grid, l2(grid), color=\"g\", label='l2')\n",
    "plt.plot(grid, l1(grid), color=\"brown\", label='l1')\n",
    "\n",
    "plt.fill_between([0,3],-0.02,5, color=\"b\",alpha=0.4)\n",
    "plt.fill_between([-3,0],-0.02,5, color=\"r\",alpha=0.5)\n",
    "plt.xlim([-3,3])\n",
    "plt.ylim([-0.02,5])\n",
    "plt.xlabel(\"y*f(x)\",fontsize=12)\n",
    "plt.ylabel(\"loss\",fontsize=12)\n",
    "plt.title(\"predict -1 (incorrect)         predict +1 (correct)\",fontsize=12)\n",
    "plt.legend()\n",
    "\n",
    "plt.show()"
   ]
  },
  {
   "cell_type": "markdown",
   "metadata": {
    "slideshow": {
     "slide_type": "slide"
    }
   },
   "source": [
    "Those would make sense if we plotted $y-f(x)$ as a value of $-1$ would be just as wrong as a value of $+1$.  \n",
    "\n",
    "When plotting $y*f(x)\\le1$ it kind of does something reasonable for $y*f(x)\\le1$.  However, look what happens at larger values (where we are even more confident that $y*f(x)$ is positive and that our class should be $+1$.  The loss goes **up**.  That's bad.\n",
    "\n",
    "Now, you may be wondering how $y*f(x)$ can be larger than 1.  Me too.  The internet is filled with useless non-answers.  But here's how this works.\n",
    "\n",
    "$f(x)$ isn't just a value between $-1$ and $1$, it is a function.  For example, let's say that our training data looks like this:"
   ]
  },
  {
   "cell_type": "code",
   "execution_count": 8,
   "metadata": {
    "slideshow": {
     "slide_type": "slide"
    }
   },
   "outputs": [
    {
     "data": {
      "image/png": "[encoded data removed]",
      "text/plain": [
       "<Figure size 432x288 with 1 Axes>"
      ]
     },
     "metadata": {
      "needs_background": "light"
     },
     "output_type": "display_data"
    }
   ],
   "source": [
    "xx = np.array([0.1,0.2,0.4,0.6,0.8,1.1,1.4,1.5])\n",
    "yy = np.array([-1,-1,-1,-1,1,1,1,1])\n",
    "\n",
    "#with plt.xkcd():\n",
    "if 1:\n",
    "    \n",
    "    fig = plt.figure(1)\n",
    "    ax = fig.add_subplot(1, 1, 1)\n",
    "\n",
    "    # Move left y-axis and bottim x-axis to centre, passing through (0,0)\n",
    "    ax.spines['left'].set_position(('axes',0.045))\n",
    "    ax.spines['bottom'].set_position('center')\n",
    "\n",
    "    # Eliminate upper and right axes\n",
    "    ax.spines['right'].set_color('none')\n",
    "    ax.spines['top'].set_color('none')\n",
    "\n",
    "    # Show ticks in the left and lower axes only\n",
    "    ax.xaxis.set_ticks_position('bottom')\n",
    "    ax.yaxis.set_ticks_position('left')\n",
    "    \n",
    "    ax.plot(1, 0, \">k\", transform=ax.get_yaxis_transform(), clip_on=False)\n",
    "    ax.plot(0, 1, \"^k\", transform=ax.get_xaxis_transform(), clip_on=False)\n",
    "        \n",
    "    ax.scatter(xx,yy)"
   ]
  },
  {
   "cell_type": "markdown",
   "metadata": {
    "slideshow": {
     "slide_type": "slide"
    }
   },
   "source": [
    "Now let's fit a linear model to the training data:"
   ]
  },
  {
   "cell_type": "code",
   "execution_count": 9,
   "metadata": {
    "slideshow": {
     "slide_type": "slide"
    }
   },
   "outputs": [
    {
     "data": {
      "image/png": "[encoded data removed]",
      "text/plain": [
       "<Figure size 432x288 with 1 Axes>"
      ]
     },
     "metadata": {
      "needs_background": "light"
     },
     "output_type": "display_data"
    }
   ],
   "source": [
    "from sklearn.linear_model import LinearRegression\n",
    "\n",
    "linreg = LinearRegression()\n",
    "linreg.fit(xx[:,None],yy)\n",
    "ypred = linreg.predict(grid[:,None])\n",
    "\n",
    "if 1:\n",
    "    \n",
    "    fig = plt.figure(1)\n",
    "    ax = fig.add_subplot(1, 1, 1)\n",
    "\n",
    "    # Move left y-axis and bottim x-axis to centre, passing through (0,0)\n",
    "    ax.spines['left'].set_position(('axes',0.25))\n",
    "    ax.spines['bottom'].set_position('center')\n",
    "\n",
    "    # Eliminate upper and right axes\n",
    "    ax.spines['right'].set_color('none')\n",
    "    ax.spines['top'].set_color('none')\n",
    "\n",
    "    # Show ticks in the left and lower axes only\n",
    "    ax.xaxis.set_ticks_position('bottom')\n",
    "    ax.yaxis.set_ticks_position('left')\n",
    "    \n",
    "    ax.plot(1, 0, \">k\", transform=ax.get_yaxis_transform(), clip_on=False)\n",
    "    ax.plot(0, 1, \"^k\", transform=ax.get_xaxis_transform(), clip_on=False)\n",
    "    \n",
    "    ax.plot(grid,ypred)\n",
    "    ax.set_xlim([-1,3])\n",
    "    ax.set_ylim([-2,2])\n",
    "        \n",
    "    ax.scatter(xx,yy)"
   ]
  },
  {
   "cell_type": "markdown",
   "metadata": {
    "slideshow": {
     "slide_type": "slide"
    }
   },
   "source": [
    "We see that for $x$ greater than about 1.3, $f(x)$ can indeed be larger than 1 and so can $y*f(x)$, which is indicating an increased certainty of the $+1$ class. \n",
    "\n",
    "OK, so now we can understand the plot, but we still need a loss function that makes sense for classification.\n",
    "\n",
    "The first we'll try is the so-called [\"Zero-One\"](https://scikit-learn.org/stable/modules/generated/sklearn.metrics.zero_one_loss.html) loss shown in **black**.  It is 1 for $yf(x)<0$ and 0 for $yf(x)>0$; thus the name.  You increment the loss function by 1 every time you make a wrong prediction.  It is just a count of the total number of mistakes.\n",
    "\n",
    "However, the Zero-One loss is hard to minimize, so instead we can try something that allows the loss to be continuous function in $y*f(x)$.  \n",
    "\n",
    "For example, the [Hinge Loss](https://scikit-learn.org/stable/modules/generated/sklearn.metrics.hinge_loss.html), which looks like\n",
    "$${\\rm max}(0,1-y*f(x)),$$\n",
    "as plotted in **orange**.  Here there is no contribution to the loss for values $\\ge 1$, but there is an linearly increasing loss for smaller values.  So, it penalizes both wrong predictions and also correct predictions that have low confidence.\n",
    "\n",
    "A [logistic loss](https://scikit-learn.org/stable/modules/generated/sklearn.metrics.log_loss.html#sklearn.metrics.log_loss) (also called the log loss and cross entropy loss) function has similar properties as shown in **blue**, but is smoother and has slightly less and less penalty for more and more confident $+1$ predictions."
   ]
  },
  {
   "cell_type": "code",
   "execution_count": 11,
   "metadata": {
    "slideshow": {
     "slide_type": "slide"
    }
   },
   "outputs": [
    {
     "data": {
      "image/png": "[encoded data removed]",
      "text/plain": [
       "<Figure size 432x288 with 1 Axes>"
      ]
     },
     "metadata": {
      "needs_background": "light"
     },
     "output_type": "display_data"
    }
   ],
   "source": [
    "# Create a grid of values and plot\n",
    "grid = np.linspace(-3,3,1000)\n",
    "#plt.plot(grid, log_loss(grid), label='logistic')\n",
    "plt.plot(grid, zero_one(grid), \"k\", label='0-1')\n",
    "plt.plot(grid, hinge_loss(grid), \"orange\", label='hinge')\n",
    "plt.plot(grid, log_loss(grid), \"b\", label='logistic')\n",
    "#plt.plot(grid, l2(grid), label='l2')\n",
    "#plt.plot(grid, l1(grid), label='l1')\n",
    "\n",
    "plt.fill_between([0,3],-0.02,5,color=\"b\",alpha=0.4)\n",
    "plt.fill_between([-3,0],-0.02,5,color=\"r\",alpha=0.5)\n",
    "plt.xlim([-3,3])\n",
    "plt.ylim([-0.02,5])\n",
    "plt.xlabel(\"y*f(x)\",fontsize=12)\n",
    "plt.ylabel(\"loss\",fontsize=12)\n",
    "plt.title(\"predict -1 (incorrect)         predict +1 (correct)\",fontsize=12)\n",
    "plt.legend()\n",
    "\n",
    "plt.show()"
   ]
  },
  {
   "cell_type": "markdown",
   "metadata": {
    "slideshow": {
     "slide_type": "slide"
    }
   },
   "source": [
    "For more see [Linear Classsifiers in Python course](https://learn.datacamp.com/courses/linear-classifiers-in-python).  Also\n",
    "\n",
    "https://datascience103579984.wordpress.com/2019/09/18/linear-classifiers-in-python-from-datacamp/\n",
    "\n",
    "https://towardsdatascience.com/common-loss-functions-in-machine-learning-46af0ffc4d23\n",
    "\n",
    "https://www.analyticsvidhya.com/blog/2019/08/detailed-guide-7-loss-functions-machine-learning-python-code\n",
    "\n",
    "http://www.datasciencecourse.org/notes/linear_classification/"
   ]
  },
  {
   "cell_type": "code",
   "execution_count": null,
   "metadata": {},
   "outputs": [],
   "source": []
  },
  {
   "cell_type": "markdown",
   "metadata": {
    "slideshow": {
     "slide_type": "slide"
    }
   },
   "source": [
    "OK, back to trying to minimize the loss function by tweaking the weights connecting each neuron.\n",
    "\n",
    "If we just had 1 weight and we wanted to check 1000 possible values, that wouldn't be so bad.  But if we have 20 weights, that means checking $20^{1000}$ possible combinations.    Remember the curse of dimensionality?  That might take a while.  Indeed, far, far longer than the age of the Universe."
   ]
  },
  {
   "cell_type": "markdown",
   "metadata": {
    "slideshow": {
     "slide_type": "slide"
    }
   },
   "source": [
    "### Backpropagation\n",
    "\n",
    "However some clever techniques have evolved out of realizing that we can write an analytic formula for the *gradient* going backwards through the network, and use that to update our weights (and biases, of course).\n",
    "\n",
    "For example, how about just checking 3 points for each weight and see if we can at least figure out which way is \"down hill\"? That's a start."
   ]
  },
  {
   "cell_type": "markdown",
   "metadata": {
    "slideshow": {
     "slide_type": "slide"
    }
   },
   "source": [
    "We can rewrite $J$ as\n",
    "$$ J = \\sum\\frac{1}{2}\\left(y - f\\left( f(X W^{(1)}) W^{(2)} \\right) \\right)^2$$\n",
    "\n",
    "and then compute\n",
    "$$\\frac{\\partial J}{\\partial W}$$\n",
    "in order to determine the slope of the cost function for each weight.  This is the **gradient descent** method.  Your choice of cost function is important here; specifically you want it to be differentiable.\n",
    "\n",
    "**GTR: From Vanderbilt**\n",
    "\n",
    "We'll want $\\partial J/\\partial W^{(1)}$ and $\\partial J/\\partial W^{(2)}$ separately. This allows us to ***[backpropagate](https://en.wikipedia.org/wiki/Backpropagation)*** the error contributions along each neuron and to change the weights where they most need to be changed.  It is like each observation gets a vote on which way is \"down hill\".  We compute the vector sum to decide the ultimate down hill direction.\n",
    "\n",
    "Once we know the down hill direction from the derivative, we update the weights by subtracting a scalar (the *learning rate*) times that derivative from the original weights-- this is just gradient descent! This is obviously much faster than randomly sampling all the possible combinations of weights.  \n",
    "\n",
    "<font color='red'>Watch the following short video to understand more of the mathematics of **backpropagation (= \"backward propagation of errors\")**.</font>"
   ]
  },
  {
   "cell_type": "markdown",
   "metadata": {
    "slideshow": {
     "slide_type": "slide"
    }
   },
   "source": [
    "### Gradient Descent\n",
    "\n",
    "**GTR: This is updated in Classification3 for 2022.  Merge in here if desired.**\n",
    "\n",
    "That brings us to the topic of [Gradient Descent](https://en.wikipedia.org/wiki/Gradient_descent) which comes in for log loss because there is no analytic solution (can't write the equation for $\\theta$ as we have been).\n",
    "\n",
    "Throughout the couse we have been trying to determine model parameters, $\\theta$, that minimize either the regression error or the classification error when fitting our training data (and not overfitting!). \n",
    "\n",
    "Sometimes we have been able to write an analytic solution for $\\theta$.  In MCMC we semi-randomly sampled the multi-dimensional $\\theta$ space to find the best answer (and map the full parameter space along the way).  But what happens if you are stuck on top of a freezing cold mountain and you have no map and can't magically jump from place to place?  You start walking **down**.  That's the basic idea of gradient descent--take a look around you, figure out which way is sloping downward the most and go *that* way.\n",
    "\n",
    "We are going to determine the local gradient of the loss function with respect to $\\theta$ and go in the steepest direction, until the gradient is zero (and we have arrived at our destination)."
   ]
  },
  {
   "cell_type": "markdown",
   "metadata": {
    "slideshow": {
     "slide_type": "slide"
    }
   },
   "source": [
    "Mathematically, we have \n",
    "\n",
    "$$\\nabla_{\\theta}{\\rm MSE}({\\mathbf \\theta}) = \\frac{2}{N}X^T(X\\theta - y)$$\n",
    "\n",
    "That gives the uphill direction, so we compute the next step as\n",
    "\n",
    "$$\\theta^{\\rm next step} = \\theta - \\eta\\nabla_{\\theta}{\\rm MSE}({\\mathbf \\theta}),$$\n",
    "\n",
    "where $\\eta$ is the \"learning rate\" and the rest are all matrices or vectors.\n",
    "\n",
    "Note that the initial values for $\\theta$ are chosen randomly.\n"
   ]
  },
  {
   "cell_type": "markdown",
   "metadata": {
    "slideshow": {
     "slide_type": "slide"
    }
   },
   "source": [
    "We'll want $\\partial J/\\partial W^{(1)}$ and $\\partial J/\\partial W^{(2)}$ separately.  This allows us to [*backpropagate*](https://en.wikipedia.org/wiki/Backpropagation) the error contributions along each neuron and to change the weights where they most need to be changed.  It is like each observation gets a vote on which way is \"down hill\".  We compute the vector sum to decide the ultimate down hill direction.\n",
    "\n",
    "Once we know the down hill direction from the derivative, we update the weights by subtracting a scalar times that derivative from the original weights.  That's obviously much faster than randomly sampling all the possible combinations of weights.  Once the weights are set, then you have your Neural Network classifier/regressor.\n",
    "\n",
    "![Ivezic Figure 9.17](https://www.astroml.org/_images/fig_neural_network_1.png)"
   ]
  },
  {
   "cell_type": "markdown",
   "metadata": {
    "slideshow": {
     "slide_type": "slide"
    }
   },
   "source": [
    "#### Learning Rates\n",
    "\n",
    "The [learning rate](https://en.wikipedia.org/wiki/Learning_rate), which controls how big your steps \"down\" are.  If your step size is too small, it will take too long to converge.  If it is too big, you might miss the bottom completely (and possibly end up diverging from the solution).  \n",
    "\n",
    "\n",
    "![https://miro.medium.com/max/1400/0*GaO7X6j3coh3oNwf.png](https://miro.medium.com/max/1400/0*GaO7X6j3coh3oNwf.png)\n",
    "\n",
    "We also have to be careful that we don't end up in a local minimum instead of the global minimum.  (One of the nice things about the $l2$ cost function is that it is guaranteed to have just a single global minimum."
   ]
  },
  {
   "cell_type": "markdown",
   "metadata": {
    "slideshow": {
     "slide_type": "notes"
    }
   },
   "source": [
    "Diverges because the sign of the gradient was opposite to what it just was?  Add figure showing this?"
   ]
  },
  {
   "cell_type": "markdown",
   "metadata": {
    "slideshow": {
     "slide_type": "slide"
    }
   },
   "source": [
    "Note that gradient descent is also useful for regression where too many training points (or too many features) to fit into memory."
   ]
  },
  {
   "cell_type": "markdown",
   "metadata": {
    "slideshow": {
     "slide_type": "slide"
    }
   },
   "source": [
    "Here's an example from Geron where we apply gradient descent to a simple linear regression problem."
   ]
  },
  {
   "cell_type": "code",
   "execution_count": 12,
   "metadata": {
    "slideshow": {
     "slide_type": "slide"
    }
   },
   "outputs": [],
   "source": [
    "#Run the next 4 cells\n",
    "#N points randomly drawn from a linear distribution\n",
    "N=100\n",
    "X = 2 * np.random.rand(N, 1)\n",
    "y = 4 + 3 * X + np.random.randn(N, 1)\n",
    "\n",
    "#Turn X into a matrix\n",
    "X_b = np.c_[np.ones((100, 1)), X]  # add x0 = 1 to each \n",
    "\n",
    "#Grid for plotting\n",
    "X_new = np.array([[0], [2]])\n",
    "X_new_b = np.c_[np.ones((2, 1)), X_new]  # add x0 = 1 to each instance\n",
    "\n",
    "X_b = np.c_[np.ones((100, 1)), X]  # add x0 = 1 to each instance"
   ]
  },
  {
   "cell_type": "code",
   "execution_count": 13,
   "metadata": {
    "slideshow": {
     "slide_type": "slide"
    }
   },
   "outputs": [],
   "source": [
    "eta = 0.1  # learning rate\n",
    "n_iterations = 100\n",
    "theta = np.random.randn(2,1)  # random initialization\n",
    "\n",
    "for iteration in range(n_iterations):\n",
    "    gradients = 2/N * X_b.T.dot(X_b.dot(theta) - y)\n",
    "    theta = theta - eta * gradients"
   ]
  },
  {
   "cell_type": "code",
   "execution_count": 14,
   "metadata": {
    "slideshow": {
     "slide_type": "slide"
    }
   },
   "outputs": [],
   "source": [
    "n_lines=10\n",
    "color_idx = np.linspace(0, 1, n_lines)\n",
    "#Helper function\n",
    "theta_path_bgd = []\n",
    "def plot_gradient_descent(theta, eta, theta_path=None):\n",
    "    m = len(X_b)\n",
    "    plt.plot(X, y, \"b.\")\n",
    "    n_iterations = 1000\n",
    "    for iteration in range(n_iterations):\n",
    "        if iteration < 10:\n",
    "            y_predict = X_new_b.dot(theta)\n",
    "            #style = \"b-\" if iteration > 0 else \"r--\"\n",
    "            #plt.plot(X_new, y_predict, style)\n",
    "            plt.plot(X_new, y_predict, color=plt.cm.cool(color_idx[iteration]))\n",
    "        gradients = 2/m * X_b.T.dot(X_b.dot(theta) - y)\n",
    "        theta = theta - eta * gradients\n",
    "        if theta_path is not None:\n",
    "            theta_path.append(theta)\n",
    "    plt.xlabel(\"$x_1$\", fontsize=18)\n",
    "    plt.axis([0, 2, 0, 15])\n",
    "    plt.title(r\"$\\eta = {}$\".format(eta), fontsize=16)"
   ]
  },
  {
   "cell_type": "code",
   "execution_count": 15,
   "metadata": {
    "slideshow": {
     "slide_type": "slide"
    }
   },
   "outputs": [
    {
     "data": {
      "image/png": "[encoded data removed]",
      "text/plain": [
       "<Figure size 864x288 with 3 Axes>"
      ]
     },
     "metadata": {
      "needs_background": "light"
     },
     "output_type": "display_data"
    }
   ],
   "source": [
    "np.random.seed(42)\n",
    "theta = np.random.randn(2,1)  # random initialization\n",
    "plt.figure(figsize=(12,4))\n",
    "plt.subplot(131); plot_gradient_descent(theta, eta=0.02)\n",
    "plt.ylabel(\"$y$\", rotation=0, fontsize=18)\n",
    "plt.subplot(132); plot_gradient_descent(theta, eta=0.1, theta_path=theta_path_bgd)\n",
    "plt.subplot(133); plot_gradient_descent(theta, eta=0.5)\n",
    "plt.show()"
   ]
  },
  {
   "cell_type": "markdown",
   "metadata": {
    "slideshow": {
     "slide_type": "slide"
    }
   },
   "source": [
    "On the left our learning rate is too low; we'll eventually get to the solution, but it will take a long time.  On the right it is too high and we have completely missed the solution.  In the middle is just right.\n",
    "\n",
    "Try $\\eta = 0.3$ and $0.4$ to see if you can understand what is going on in the right panel."
   ]
  },
  {
   "cell_type": "markdown",
   "metadata": {
    "slideshow": {
     "slide_type": "slide"
    }
   },
   "source": [
    "So, getting the learning rate right is important both for converging quickly and even doing so at all.\n",
    "\n",
    "[Geron11-8.png](attachment:Geron11-8.png)\n",
    "\n",
    "You also don't have to keep the learning rate fixed, but can instead do learning rate scheduling.  For example, see this [article](https://towardsdatascience.com/learning-rate-schedule-in-practice-an-example-with-keras-and-tensorflow-2-0-2f48b2888a0c).\n",
    "\n",
    "[Geron](../figures/Geron11-8.png)"
   ]
  },
  {
   "cell_type": "markdown",
   "metadata": {
    "slideshow": {
     "slide_type": "slide"
    }
   },
   "source": [
    "Scikit-Learn has both [unsupervised Neural Network](http://scikit-learn.org/stable/modules/neural_networks_unsupervised.html#neural-networks-unsupervised) and [supervised Neural Network](http://scikit-learn.org/stable/modules/neural_networks_supervised.html#neural-networks-supervised) examples. \n",
    "\n",
    "Let's try to use the multi-layer perceptron classifier on the California House Price dataset (using 75% of the data for training and 25% for testing)."
   ]
  },
  {
   "cell_type": "code",
   "execution_count": 16,
   "metadata": {
    "slideshow": {
     "slide_type": "slide"
    }
   },
   "outputs": [],
   "source": [
    "%matplotlib inline\n",
    "import numpy as np\n",
    "from matplotlib import pyplot as plt\n",
    "from sklearn.model_selection import train_test_split\n",
    "from sklearn.datasets import fetch_california_housing\n",
    "\n",
    "housing = fetch_california_housing()\n",
    "\n",
    "X = housing.data\n",
    "y = housing.target\n",
    "\n",
    "Xtrain, Xtest, ytrain, ytest = train_test_split(X, y, test_size=0.25, random_state=42)\n",
    "\n",
    "from sklearn import preprocessing\n",
    "Xtrain_scaled = preprocessing.scale(Xtrain)\n",
    "Xtest_scaled = preprocessing.scale(Xtest)\n",
    "Xscaled = preprocessing.scale(X)"
   ]
  },
  {
   "cell_type": "code",
   "execution_count": 17,
   "metadata": {
    "slideshow": {
     "slide_type": "slide"
    }
   },
   "outputs": [
    {
     "name": "stdout",
     "output_type": "stream",
     "text": [
      "[(8, 5), (5, 2), (2, 1)]\n"
     ]
    },
    {
     "data": {
      "image/png": "[encoded data removed]",
      "text/plain": [
       "<Figure size 432x432 with 1 Axes>"
      ]
     },
     "metadata": {
      "needs_background": "light"
     },
     "output_type": "display_data"
    }
   ],
   "source": [
    "from sklearn.neural_network import MLPRegressor\n",
    "clf = MLPRegressor(solver='lbfgs', alpha=1e-5, hidden_layer_sizes=(5,2), random_state=1, max_iter=5000)\n",
    "clf.fit(Xtrain_scaled, ytrain)\n",
    "\n",
    "# Look at the weights\n",
    "print([coef.shape for coef in clf.coefs_])\n",
    "\n",
    "ypred = clf.predict(Xtest_scaled)\n",
    "#print ypred, ytest\n",
    "\n",
    "fig = plt.figure(figsize=(6, 6))\n",
    "plt.scatter(ytest,ypred)\n",
    "plt.xlabel(\"Actual Value [x$1000]\")\n",
    "plt.ylabel(\"Predicted Value [x$1000]\")\n",
    "plt.show()"
   ]
  },
  {
   "cell_type": "markdown",
   "metadata": {
    "slideshow": {
     "slide_type": "slide"
    }
   },
   "source": [
    "Of course, that only predicts the value for a fraction of the data set. <font color='red'>Again, we can use Scikit-Learn's [cross_val_predict](http://scikit-learn.org/stable/modules/generated/sklearn.model_selection.cross_val_predict.html#sklearn.model_selection.cross_val_predict) to make predictions for the full data set.</font>"
   ]
  },
  {
   "cell_type": "code",
   "execution_count": 18,
   "metadata": {
    "slideshow": {
     "slide_type": "slide"
    }
   },
   "outputs": [
    {
     "data": {
      "image/png": "[encoded data removed]",
      "text/plain": [
       "<Figure size 432x432 with 1 Axes>"
      ]
     },
     "metadata": {
      "needs_background": "light"
     },
     "output_type": "display_data"
    }
   ],
   "source": [
    "from sklearn.model_selection import cross_val_predict\n",
    "\n",
    "yCVpred = cross_val_predict(clf, Xscaled, y, cv=5) # Complete\n",
    "\n",
    "fig = plt.figure(figsize=(6, 6))\n",
    "plt.scatter(y,yCVpred)\n",
    "plt.xlabel(\"Actual Value [x$1000]\")\n",
    "plt.ylabel(\"Predicted Value [x$1000]\")\n",
    "plt.show()"
   ]
  },
  {
   "cell_type": "markdown",
   "metadata": {
    "slideshow": {
     "slide_type": "slide"
    }
   },
   "source": [
    "Just as with other model hyperparameters, we can use cross-validation to determine the optimal number of layers, neurons per layer, etc. But for now, let's talk about some guidelines."
   ]
  },
  {
   "cell_type": "markdown",
   "metadata": {
    "slideshow": {
     "slide_type": "slide"
    }
   },
   "source": [
    "### Number of Layers\n",
    "\n",
    "Ivezic: \n",
    "\n",
    "> \"*For data that can be represented by a linear model, no layers are required (McCullagh & Nelder 1989).  A single layer network can approximate any continuous function.  Two layers can represent arbitrary decision boundaries for smooth functions (Lippmann 1987).  More layers can represent non-continuous or complex structure within the data.*\"  \n",
    "\n",
    "Think about why no layers are needed for linear regression.  We just connect our input to the output where the synapses are the weights (slopes) and the output neurons add the constant (intecept).\n",
    "\n",
    "So you might start with a single layer, then add more layers and use cross-validation to determine when you are overfitting."
   ]
  },
  {
   "cell_type": "markdown",
   "metadata": {
    "slideshow": {
     "slide_type": "slide"
    }
   },
   "source": [
    "Geron has a good example of what adding layers does.  Say you had to draw a whole forest, but you couldn't cut and paste anything.  That would be very tedious.  But if you could draw just one leaf and copy that to make a small branch, then scale up a small branch to a big branch and copy that, then attach the branches to a tree trunk and then make copies of the full tree, you wouldn't have to draw all that much.  **Each of the layers in a neural network handles  more and more detailed aspects of the problem.**\n",
    "\n",
    "For image recognition, you might need dozens of layers, but also a huge training set to populate those layers."
   ]
  },
  {
   "cell_type": "markdown",
   "metadata": {
    "slideshow": {
     "slide_type": "slide"
    }
   },
   "source": [
    "### Number of Neurons\n",
    "\n",
    "The number of neurons in each layer is also a free parameter. \n",
    "\n",
    "- ***Typically choose somewhere between twice the number of input nodes and a number between the number of input and output nodes.***\n",
    "\n",
    "\n",
    "- If there are lots hidden layers (where \"lots\" is not clearly defined) then we call that a **deep neural network or [deep learning](https://en.wikipedia.org/wiki/Deep_learning)**. \n",
    "\n",
    "\n",
    "- Sometimes the number of neurons in each layer goes down.  But it can also be useful to have the same number in each layer so that there is only one hyperparameter (the number of neurons) and not one per layer.\n",
    "\n",
    "\n",
    "- In practice a reasonable approach is to simply **specify many more layers and neurons than you need and perform regularization**. This can be as simple as just stopping the training when the cross-validation error reaches a minimum, which appropriately (for once) is called **[early stopping](https://en.wikipedia.org/wiki/Early_stopping)**. Basically, you put your `fit` method into a loop and instantiate with `max_iter=1` and `warm_start=True`.  See Geron (page 141) for an example.\n",
    "\n",
    "\n",
    "While the number of neurons in the hidden layers are free parameters the number of input and output nodes are constrained by the data and the desired output.  For example, the MNIST digits data requires 784 input neurons (one for each pixel in the 28x28 images) and 10 output neurons (one for each class [digit]).  "
   ]
  },
  {
   "cell_type": "markdown",
   "metadata": {
    "slideshow": {
     "slide_type": "slide"
    }
   },
   "source": [
    "### Activation Functions\n",
    "\n",
    "The **[Activation function](https://en.wikipedia.org/wiki/Activation_function)** controls how much \"signal\" it takes for a neuron to \"fire\".  The more signal, the more likely the neuron will fire. See https://mlfromscratch.com/activation-functions-explained/#/\n",
    "\n",
    "The cells below show different activation functions, using the same visualization as we used for loss functions."
   ]
  },
  {
   "cell_type": "code",
   "execution_count": 19,
   "metadata": {
    "slideshow": {
     "slide_type": "slide"
    }
   },
   "outputs": [],
   "source": [
    "# Mathematical formulas for activation functions\n",
    "  \n",
    "def binary(raw_model_output):\n",
    "    return np.where(raw_model_output < 0, \n",
    "                    0, \n",
    "                    1)  \n",
    "\n",
    "def sigmoid(raw_model_output):\n",
    "    return 1.0 / (1 + np.exp(-raw_model_output))\n",
    "\n",
    "def ReLU(raw_model_output):\n",
    "    return np.where(raw_model_output < 0, \n",
    "                    0, \n",
    "                    raw_model_output)\n",
    "\n",
    "def LReLU(raw_model_output):\n",
    "    alpha=0.1\n",
    "    return np.where(raw_model_output < 0, \n",
    "                    alpha*raw_model_output, \n",
    "                    raw_model_output)"
   ]
  },
  {
   "cell_type": "code",
   "execution_count": 20,
   "metadata": {
    "slideshow": {
     "slide_type": "slide"
    }
   },
   "outputs": [
    {
     "data": {
      "image/png": "[encoded data removed]",
      "text/plain": [
       "<Figure size 432x288 with 1 Axes>"
      ]
     },
     "metadata": {
      "needs_background": "light"
     },
     "output_type": "display_data"
    }
   ],
   "source": [
    "# Create a grid of values and plot\n",
    "grid = np.linspace(-3,3,1000)\n",
    "#plt.plot(grid, log_loss(grid), label='logistic')\n",
    "plt.plot(grid, binary(grid), \"k\", label='binary')\n",
    "plt.plot(grid, sigmoid(grid), \"b\", label='sigmoid')\n",
    "#plt.plot(grid, ReLU(grid), label='ReLU')\n",
    "#plt.plot(grid, LReLU(grid), label='LReLU')\n",
    "#plt.plot(grid, l2(grid), label='L2')\n",
    "#plt.plot(grid, l1(grid), label='L1')\n",
    "\n",
    "plt.fill_between([0,3], y1=-1, y2=3, \n",
    "                 color=\"b\", alpha=0.2)\n",
    "plt.fill_between([-3,0], y1=-1, y2=3, \n",
    "                 color=\"r\", alpha=0.2)\n",
    "plt.xlim([-3,3])\n",
    "plt.ylim([-1,3])\n",
    "plt.xlabel(\"z\",fontsize=12)\n",
    "plt.title(\"don't fire                 fire\",fontsize=12)\n",
    "plt.legend()\n",
    "\n",
    "plt.show()"
   ]
  },
  {
   "cell_type": "markdown",
   "metadata": {
    "slideshow": {
     "slide_type": "slide"
    }
   },
   "source": [
    "\"*On vs. Off*\" activation actually isn't quite true or what we want. The way your eyes work is that you need 1-10 photons to trigger a rod, but several rods must be triggered to send a signal to the brain. The sigmoid activation function captures the probabilistic nature of neuron firing. More importantly it is differentiable, so can be used for backpropagation.\n",
    "\n",
    "Another important aspect of non-linear activation functions is that they are what allow neural networks to solve non-linear problems.  If we used a strictly linear activation function, then we could only solve linear problems.  That is, you could fit a straight line, but not an exponential."
   ]
  },
  {
   "cell_type": "markdown",
   "metadata": {
    "slideshow": {
     "slide_type": "slide"
    }
   },
   "source": [
    "If you wanted to make the activation function a parameter, here's how to find out what your options are"
   ]
  },
  {
   "cell_type": "code",
   "execution_count": 21,
   "metadata": {
    "slideshow": {
     "slide_type": "slide"
    }
   },
   "outputs": [
    {
     "data": {
      "text/plain": [
       "['deserialize',\n",
       " 'elu',\n",
       " 'exponential',\n",
       " 'gelu',\n",
       " 'get',\n",
       " 'hard_sigmoid',\n",
       " 'linear',\n",
       " 'relu',\n",
       " 'selu',\n",
       " 'serialize',\n",
       " 'sigmoid',\n",
       " 'softmax',\n",
       " 'softplus',\n",
       " 'softsign',\n",
       " 'swish',\n",
       " 'tanh']"
      ]
     },
     "execution_count": 21,
     "metadata": {},
     "output_type": "execute_result"
    }
   ],
   "source": [
    "#Different activation functions that are available\n",
    "[m for m in dir(keras.activations) if not m.startswith(\"_\")]"
   ]
  },
  {
   "cell_type": "markdown",
   "metadata": {
    "slideshow": {
     "slide_type": "slide"
    }
   },
   "source": [
    "#### Vanishing and Exploding Gradients\n",
    "\n",
    "Neural network research suffered significant limitations and problems at the hands of the [vanishing and exploding gradients](https://en.wikipedia.org/wiki/Vanishing_gradient_problem) problem.  We won't go into detail there except to say that ***around 2010 there were suggestions for different activation functions that were published.***  \n",
    "\n",
    "- For example, the **[Rectified Linear Unit (ReLU) activation function](https://www.wikiwand.com/en/Rectifier_(neural_networks))** is another commonly used activation function as it solves the vanishing gradient problem (since the gradient is only 0 or 1).\n",
    "$${\\rm ReLU}(z) = max(0,z)$$\n",
    "\n",
    "\n",
    "- It isn't ideal both because the derivative is 0 for $z<0$ and it can end up producing dead nodes. However, it is fast and the resulting sparsity can be good (sort of like regularization).\n",
    "\n",
    "\n",
    "- A number of papers since 2015 describe various improvements, including the **Leaky ReLU**, the **exponential linear unit (ELU)**, and **scaled exponential linear unit (SELU)**.\n",
    "\n",
    "\n",
    "Note that the activation functions can be different in different layers.  For example, for regression, one typically doesn't use any activation function in the output layer as including one would restrict the range of possible outputs"
   ]
  },
  {
   "cell_type": "code",
   "execution_count": 22,
   "metadata": {
    "slideshow": {
     "slide_type": "slide"
    }
   },
   "outputs": [
    {
     "data": {
      "image/png": "[encoded data removed]",
      "text/plain": [
       "<Figure size 432x288 with 1 Axes>"
      ]
     },
     "metadata": {
      "needs_background": "light"
     },
     "output_type": "display_data"
    }
   ],
   "source": [
    "# Create a grid of values and plot\n",
    "grid = np.linspace(-3,3,1000)\n",
    "#plt.plot(grid, log_loss(grid), label='logistic')\n",
    "#plt.plot(grid, binary(grid), \"k\", label='binary')\n",
    "#plt.plot(grid, sigmoid(grid), \"b\", label='sigmoid')\n",
    "plt.plot(grid, ReLU(grid), \"b--\", label='ReLU')\n",
    "plt.plot(grid, LReLU(grid), \"orange\", label='LReLU')\n",
    "#plt.plot(grid, l2(grid), label='L2')\n",
    "#plt.plot(grid, l1(grid), label='L1')\n",
    "\n",
    "plt.fill_between([0,3], y1=-1, y2=3, \n",
    "                 color=\"b\", alpha=0.2)\n",
    "plt.fill_between([-3,0], y1=-1, y2=3, \n",
    "                 color=\"r\", alpha=0.2)\n",
    "plt.xlim([-3,3])\n",
    "plt.ylim([-1,3])\n",
    "plt.xlabel(\"z\",fontsize=12)\n",
    "plt.title(\"don't fire                       fire\",fontsize=12)\n",
    "plt.legend()\n",
    "\n",
    "plt.show()"
   ]
  },
  {
   "cell_type": "markdown",
   "metadata": {
    "slideshow": {
     "slide_type": "slide"
    }
   },
   "source": [
    "Some general guidance on activation functions:\n",
    "    \n",
    "* **Use sigmoid for output of binary classification (with binary cross entropy loss)**\n",
    "\n",
    "\n",
    "* **Use ReLU for layers other than output (at least to start with because it is faster)**\n",
    "\n",
    "\n",
    "* **Use softmax for output with more than 2 classes (with categorical cross entropy loss)**"
   ]
  },
  {
   "cell_type": "markdown",
   "metadata": {
    "slideshow": {
     "slide_type": "slide"
    }
   },
   "source": [
    "### Regularization\n",
    "\n",
    "Just as we can use regularization for standard regression and classification tasks, so too can we with neural networks.  \n",
    "\n",
    "Not only can we apply the usual $L1$ (LASSO) or $L2$ (Ridge) regularization techniques, we can also use **dropout** which, as the name indicates, causes some neurons to be temporarily \"dropped out\" during training (usually by setting some probability for that to happen, typically 10-50%). After training, all of the neurons are used.\n",
    "\n",
    "*Geron* explains this in terms of a company needing to try to figure out how to adapt to a crucial employee being out sick for a period of time.  In the end, it can make the company stronger as more people (neurons) are able to handle certain parts of the process."
   ]
  },
  {
   "cell_type": "markdown",
   "metadata": {
    "slideshow": {
     "slide_type": "slide"
    }
   },
   "source": [
    "One form of regularization is  \"early stopping\".  This will determine when there hasn't been any improvement in the validation set for `patience` epochs and stop the fitting.  It also uses the \"best\" weights and just the \"last\" weights."
   ]
  },
  {
   "cell_type": "markdown",
   "metadata": {
    "slideshow": {
     "slide_type": "slide"
    }
   },
   "source": [
    "### Batch normalization\n",
    "\n",
    "Just as it is often necessary to normalize or standardize our features, sometimes it is helpful to do the same to the output of the hidden layers.  This is called **[batch normalization](https://en.wikipedia.org/wiki/Batch_normalization)** and is done before passing the data to the activation function.  It make the process more stable and can also make it faster.  We'll do an example next time. "
   ]
  },
  {
   "cell_type": "markdown",
   "metadata": {
    "slideshow": {
     "slide_type": "slide"
    }
   },
   "source": [
    "### Faster Optimizers\n",
    "\n",
    "We aren't going to talk about optimizers, but it might be useful for you to have some options to feed into a search for the best parameter using cross validation.  For example **`['mse', 'adam', 'sgd', 'adagrad']`**."
   ]
  },
  {
   "cell_type": "markdown",
   "metadata": {
    "slideshow": {
     "slide_type": "slide"
    }
   },
   "source": [
    "---"
   ]
  },
  {
   "cell_type": "markdown",
   "metadata": {
    "slideshow": {
     "slide_type": "slide"
    }
   },
   "source": [
    "**GTR: Stop the notebook here and start another?  But leaving this for now.**"
   ]
  },
  {
   "cell_type": "code",
   "execution_count": null,
   "metadata": {},
   "outputs": [],
   "source": []
  },
  {
   "cell_type": "markdown",
   "metadata": {
    "slideshow": {
     "slide_type": "slide"
    }
   },
   "source": [
    "If we want to do anything more complicated, we'll need to use something other than Scikit-Learn.  Enter Keras and TensorFlow."
   ]
  },
  {
   "cell_type": "markdown",
   "metadata": {
    "slideshow": {
     "slide_type": "slide"
    }
   },
   "source": [
    "[Keras](https://keras.io/) is a deep learning API.  Essentially it is Scikit-Learn for deep neural networks.\n",
    "\n",
    "Keras needs a computational backend to handle the heavy computation.  Three popular (open sources) deep learning libraries are [TensorFlow](https://www.tensorflow.org/), Microsoft Cognitive Toolkit, and [Theano](http://www.deeplearning.net/software/theano/).  TensorFlow now comes bundled with a version of Keras and that's what we'll use here (actually TensorFlow 2).  Another option is PyTorch.   Section 9.8 of Ivezic includes examples using both `keras` and `torch`.\n",
    "\n",
    "If you apply for a data-science job in industry knowing one of these tools might be the most useful thing for you to have learned."
   ]
  },
  {
   "cell_type": "markdown",
   "metadata": {
    "slideshow": {
     "slide_type": "slide"
    }
   },
   "source": [
    "In short, for neural networks:\n",
    "\n",
    "> numpy -> tensorflow\n",
    "\n",
    "> sklearn -> keras\n",
    "\n",
    "In the same way that you can build a linear regression algorithm in numpy without using sklearn, you can build a neural network algorithm (not to mention linear regression) in tensorflow without using keras.  But just as sklearn makes our life easier, so too does keras.  Keras has Sequential and Functional APIs.  We will just use Sequential in our examples.\n",
    "\n",
    "Just as I'm teaching you about sklearn and not numpy, I have no intention of teaching you tensorflow, so this notebook should really be named keras.ipynb and not tensorflow.ipynb.  "
   ]
  },
  {
   "cell_type": "markdown",
   "metadata": {
    "slideshow": {
     "slide_type": "slide"
    }
   },
   "source": [
    "The following cells are from Geron, Chapter 10, see \n",
    "https://github.com/ageron/handson-ml2/blob/master/10_neural_nets_with_keras.ipynb\n",
    "\n",
    "I'll indicate below when I switch chapters.\n",
    "\n",
    "We'll start by introducing the Fashion MNIST data set, which is as common for learning about neural networks as the MNIST are for machine learning in general.  We can also use the MNIST data too.\n",
    "\n",
    "The next cells load the data, define test, trainging, and validation sets; normalize the data; display an example image; list the possible target values ($y$), and show a 4x10 grid of examples."
   ]
  },
  {
   "cell_type": "code",
   "execution_count": 23,
   "metadata": {
    "slideshow": {
     "slide_type": "slide"
    }
   },
   "outputs": [
    {
     "name": "stdout",
     "output_type": "stream",
     "text": [
      "(60000, 28, 28)\n",
      "(10000, 28, 28)\n"
     ]
    }
   ],
   "source": [
    "fashion_mnist = keras.datasets.fashion_mnist\n",
    "(X_train_full, y_train_full), (X_test, y_test) = fashion_mnist.load_data()\n",
    "\n",
    "print(X_train_full.shape)\n",
    "print(X_test.shape)"
   ]
  },
  {
   "cell_type": "code",
   "execution_count": 24,
   "metadata": {
    "slideshow": {
     "slide_type": "slide"
    }
   },
   "outputs": [
    {
     "name": "stdout",
     "output_type": "stream",
     "text": [
      "(55000, 28, 28)\n",
      "(5000, 28, 28)\n",
      "(10000, 28, 28)\n"
     ]
    }
   ],
   "source": [
    "X_valid, X_train = X_train_full[:5000] / 255., X_train_full[5000:] / 255.\n",
    "y_valid, y_train = y_train_full[:5000], y_train_full[5000:]\n",
    "X_test = X_test / 255.\n",
    "\n",
    "print(X_train.shape)\n",
    "print(X_valid.shape)\n",
    "print(X_test.shape)"
   ]
  },
  {
   "cell_type": "code",
   "execution_count": 25,
   "metadata": {
    "slideshow": {
     "slide_type": "slide"
    }
   },
   "outputs": [
    {
     "data": {
      "image/png": "[encoded data removed]",
      "text/plain": [
       "<Figure size 432x288 with 1 Axes>"
      ]
     },
     "metadata": {
      "needs_background": "light"
     },
     "output_type": "display_data"
    }
   ],
   "source": [
    "plt.imshow(X_train[0], cmap=\"binary\", origin='upper') #Origin controls right-side up\n",
    "plt.axis('off')\n",
    "plt.show()"
   ]
  },
  {
   "cell_type": "markdown",
   "metadata": {
    "slideshow": {
     "slide_type": "slide"
    }
   },
   "source": [
    "Take a look at some of the other entries in the training data.  Also see what happens when you remove the `origin='upper'` parameter."
   ]
  },
  {
   "cell_type": "code",
   "execution_count": 26,
   "metadata": {
    "slideshow": {
     "slide_type": "slide"
    }
   },
   "outputs": [],
   "source": [
    "#Let's make a list of class names that we can refer to.\n",
    "class_names = [\"T-shirt/top\", \"Trouser\", \"Pullover\", \"Dress\", \"Coat\",\n",
    "               \"Sandal\", \"Shirt\", \"Sneaker\", \"Bag\", \"Ankle boot\"]"
   ]
  },
  {
   "cell_type": "code",
   "execution_count": 27,
   "metadata": {
    "slideshow": {
     "slide_type": "slide"
    }
   },
   "outputs": [
    {
     "data": {
      "image/png": "[encoded data removed]",
      "text/plain": [
       "<Figure size 864x345.6 with 40 Axes>"
      ]
     },
     "metadata": {
      "needs_background": "light"
     },
     "output_type": "display_data"
    }
   ],
   "source": [
    "# Plot 4x10 array of images from the Fashion MNIST database\n",
    "n_rows = 4\n",
    "n_cols = 10\n",
    "plt.figure(figsize=(n_cols * 1.2, n_rows * 1.2))\n",
    "for row in range(n_rows):\n",
    "    for col in range(n_cols):\n",
    "        index = n_cols * row + col\n",
    "        plt.subplot(n_rows, n_cols, index + 1)\n",
    "        plt.imshow(X_train[index], cmap=\"binary\", interpolation=\"nearest\", origin='upper')\n",
    "        plt.axis('off')\n",
    "        plt.title(class_names[y_train[index]], fontsize=12)\n",
    "plt.subplots_adjust(wspace=0.2, hspace=0.5)\n",
    "plt.show()"
   ]
  },
  {
   "cell_type": "markdown",
   "metadata": {
    "slideshow": {
     "slide_type": "slide"
    }
   },
   "source": [
    "Now we'll build a \"simple\" neural network that classifies an unknown image (preprocessed to have the same image and color scale) into one of these 10 categories."
   ]
  },
  {
   "cell_type": "code",
   "execution_count": 28,
   "metadata": {
    "slideshow": {
     "slide_type": "slide"
    }
   },
   "outputs": [],
   "source": [
    "keras.backend.clear_session() #Make sure that we are starting a new model and not adding to an earlier one\n",
    "np.random.seed(42) #Set the numpy and tensorflow random seeds so that we all get the same answer\n",
    "tf.random.set_seed(42)"
   ]
  },
  {
   "cell_type": "code",
   "execution_count": 29,
   "metadata": {
    "slideshow": {
     "slide_type": "slide"
    }
   },
   "outputs": [
    {
     "name": "stdout",
     "output_type": "stream",
     "text": [
      "Metal device set to: Apple M1 Pro\n"
     ]
    },
    {
     "name": "stderr",
     "output_type": "stream",
     "text": [
      "2022-11-15 20:55:16.307507: I tensorflow/core/common_runtime/pluggable_device/pluggable_device_factory.cc:306] Could not identify NUMA node of platform GPU ID 0, defaulting to 0. Your kernel may not have been built with NUMA support.\n",
      "2022-11-15 20:55:16.308402: I tensorflow/core/common_runtime/pluggable_device/pluggable_device_factory.cc:272] Created TensorFlow device (/job:localhost/replica:0/task:0/device:GPU:0 with 0 MB memory) -> physical PluggableDevice (device: 0, name: METAL, pci bus id: <undefined>)\n"
     ]
    }
   ],
   "source": [
    "model = keras.models.Sequential() #Instantiate a sequential model\n",
    "model.add(keras.layers.Flatten(input_shape=[28, 28])) #Define the input layer\n",
    "model.add(keras.layers.Dense(300, activation=\"relu\")) #First hidden layer\n",
    "model.add(keras.layers.Dense(100, activation=\"relu\")) #Second hidden layer\n",
    "model.add(keras.layers.Dense(10, activation=\"softmax\")) #Output layer"
   ]
  },
  {
   "cell_type": "markdown",
   "metadata": {
    "slideshow": {
     "slide_type": "notes"
    }
   },
   "source": [
    "[GTR: this notebook currently doesn't discuss activation functions until later.  Might need to fix that.]"
   ]
  },
  {
   "cell_type": "markdown",
   "metadata": {
    "slideshow": {
     "slide_type": "notes"
    }
   },
   "source": [
    "Need to define the input size/shape for the first layer.  The others know how to talk to each other.  The last layer sets the number of outputs.  Need softmax here because there are 10 categories.  If just one output or two, then a different activation function would be used."
   ]
  },
  {
   "cell_type": "raw",
   "metadata": {
    "slideshow": {
     "slide_type": "slide"
    }
   },
   "source": [
    "#Same as above, just different syntax\n",
    "model = keras.models.Sequential([\n",
    "    keras.layers.Flatten(input_shape=[28, 28]),\n",
    "    keras.layers.Dense(300, activation=\"relu\"),\n",
    "    keras.layers.Dense(100, activation=\"relu\"),\n",
    "    keras.layers.Dense(10, activation=\"softmax\")\n",
    "])"
   ]
  },
  {
   "cell_type": "code",
   "execution_count": 30,
   "metadata": {
    "slideshow": {
     "slide_type": "slide"
    }
   },
   "outputs": [
    {
     "name": "stdout",
     "output_type": "stream",
     "text": [
      "Model: \"sequential\"\n",
      "_________________________________________________________________\n",
      " Layer (type)                Output Shape              Param #   \n",
      "=================================================================\n",
      " flatten (Flatten)           (None, 784)               0         \n",
      "                                                                 \n",
      " dense (Dense)               (None, 300)               235500    \n",
      "                                                                 \n",
      " dense_1 (Dense)             (None, 100)               30100     \n",
      "                                                                 \n",
      " dense_2 (Dense)             (None, 10)                1010      \n",
      "                                                                 \n",
      "=================================================================\n",
      "Total params: 266,610\n",
      "Trainable params: 266,610\n",
      "Non-trainable params: 0\n",
      "_________________________________________________________________\n"
     ]
    }
   ],
   "source": [
    "#Let's see what we just built\n",
    "model.summary()"
   ]
  },
  {
   "cell_type": "markdown",
   "metadata": {
    "slideshow": {
     "slide_type": "slide"
    }
   },
   "source": [
    "The number of parameters in each layer is one for each weight that connects each node of the layer to the previous layer, plus the number of neurons in the layer to account for the constant \"bias\" parameter (e.g., 784x300+300 = 235500).\n",
    "\n",
    "Note that \"Dense\" here means \"fully connected\".  That is, each node in one layer is connected to each node in the next layer.  This does't always have to be the case.  The layers can instead be \"Sparse\"."
   ]
  },
  {
   "cell_type": "markdown",
   "metadata": {
    "slideshow": {
     "slide_type": "slide"
    }
   },
   "source": [
    "We can access (or set) the weights with `get_weights()` and `set_weights()` as follows.  Note that the initial weights are set randomly and the bias values are initially zero."
   ]
  },
  {
   "cell_type": "code",
   "execution_count": 31,
   "metadata": {
    "slideshow": {
     "slide_type": "slide"
    }
   },
   "outputs": [
    {
     "name": "stdout",
     "output_type": "stream",
     "text": [
      "(784, 300) [[-0.03435203  0.07306209  0.05982348 ...  0.05257651  0.058393\n",
      "   0.01872874]\n",
      " [ 0.01666184 -0.03675376  0.07421866 ... -0.05267569  0.02351782\n",
      "   0.04638566]\n",
      " [-0.07437211  0.0241164   0.06424564 ... -0.03721029 -0.04889008\n",
      "  -0.00324023]\n",
      " ...\n",
      " [ 0.04940728  0.05726938 -0.06743476 ... -0.05093856 -0.00513876\n",
      "  -0.04111585]\n",
      " [ 0.00293155 -0.07112566  0.01772861 ... -0.05935838  0.01317304\n",
      "  -0.02696794]\n",
      " [ 0.07284217  0.00789727 -0.02834688 ... -0.03078052  0.01495388\n",
      "  -0.01438194]] [0. 0. 0. 0. 0. 0. 0. 0. 0. 0. 0. 0. 0. 0. 0. 0. 0. 0. 0. 0. 0. 0. 0. 0.\n",
      " 0. 0. 0. 0. 0. 0. 0. 0. 0. 0. 0. 0. 0. 0. 0. 0. 0. 0. 0. 0. 0. 0. 0. 0.\n",
      " 0. 0. 0. 0. 0. 0. 0. 0. 0. 0. 0. 0. 0. 0. 0. 0. 0. 0. 0. 0. 0. 0. 0. 0.\n",
      " 0. 0. 0. 0. 0. 0. 0. 0. 0. 0. 0. 0. 0. 0. 0. 0. 0. 0. 0. 0. 0. 0. 0. 0.\n",
      " 0. 0. 0. 0. 0. 0. 0. 0. 0. 0. 0. 0. 0. 0. 0. 0. 0. 0. 0. 0. 0. 0. 0. 0.\n",
      " 0. 0. 0. 0. 0. 0. 0. 0. 0. 0. 0. 0. 0. 0. 0. 0. 0. 0. 0. 0. 0. 0. 0. 0.\n",
      " 0. 0. 0. 0. 0. 0. 0. 0. 0. 0. 0. 0. 0. 0. 0. 0. 0. 0. 0. 0. 0. 0. 0. 0.\n",
      " 0. 0. 0. 0. 0. 0. 0. 0. 0. 0. 0. 0. 0. 0. 0. 0. 0. 0. 0. 0. 0. 0. 0. 0.\n",
      " 0. 0. 0. 0. 0. 0. 0. 0. 0. 0. 0. 0. 0. 0. 0. 0. 0. 0. 0. 0. 0. 0. 0. 0.\n",
      " 0. 0. 0. 0. 0. 0. 0. 0. 0. 0. 0. 0. 0. 0. 0. 0. 0. 0. 0. 0. 0. 0. 0. 0.\n",
      " 0. 0. 0. 0. 0. 0. 0. 0. 0. 0. 0. 0. 0. 0. 0. 0. 0. 0. 0. 0. 0. 0. 0. 0.\n",
      " 0. 0. 0. 0. 0. 0. 0. 0. 0. 0. 0. 0. 0. 0. 0. 0. 0. 0. 0. 0. 0. 0. 0. 0.\n",
      " 0. 0. 0. 0. 0. 0. 0. 0. 0. 0. 0. 0.]\n"
     ]
    }
   ],
   "source": [
    "hidden1 = model.layers[1]\n",
    "weights, biases = hidden1.get_weights()\n",
    "#Weights set to random numbers to break degeneracy\n",
    "#Biases are set to 0\n",
    "print(weights.shape,weights,biases)"
   ]
  },
  {
   "cell_type": "markdown",
   "metadata": {
    "slideshow": {
     "slide_type": "slide"
    }
   },
   "source": [
    "For neural networks we can't just fit the model after we instantiate it.  We need to compile first--specifying the loss function, the optimizer, and any desired metrics."
   ]
  },
  {
   "cell_type": "code",
   "execution_count": 32,
   "metadata": {
    "slideshow": {
     "slide_type": "slide"
    }
   },
   "outputs": [],
   "source": [
    "model.compile(loss=\"sparse_categorical_crossentropy\",\n",
    "              optimizer=\"sgd\",\n",
    "              metrics=[\"accuracy\"])"
   ]
  },
  {
   "cell_type": "raw",
   "metadata": {
    "slideshow": {
     "slide_type": "slide"
    }
   },
   "source": [
    "#For binary classification instead do this\n",
    "#(and change the activation function of the output layer from \"softmax\" to \"sigmoid\"\n",
    "\n",
    "model.compile(loss=\"binary_crossentropy\",\n",
    "              optimizer=\"sgd\",\n",
    "              metrics=[\"accuracy\"])"
   ]
  },
  {
   "cell_type": "markdown",
   "metadata": {
    "slideshow": {
     "slide_type": "slide"
    }
   },
   "source": [
    "Now we can go ahead and fit the model with our training data.  The fit method will output a bunch of useful diagnostics that we'll save to `history` for plotting later."
   ]
  },
  {
   "cell_type": "code",
   "execution_count": 33,
   "metadata": {
    "slideshow": {
     "slide_type": "slide"
    }
   },
   "outputs": [
    {
     "name": "stdout",
     "output_type": "stream",
     "text": [
      "Epoch 1/25\n"
     ]
    },
    {
     "name": "stderr",
     "output_type": "stream",
     "text": [
      "2022-11-15 20:55:55.856971: W tensorflow/core/platform/profile_utils/cpu_utils.cc:128] Failed to get CPU frequency: 0 Hz\n",
      "2022-11-15 20:55:56.063429: I tensorflow/core/grappler/optimizers/custom_graph_optimizer_registry.cc:114] Plugin optimizer for device_type GPU is enabled.\n"
     ]
    },
    {
     "name": "stdout",
     "output_type": "stream",
     "text": [
      "1719/1719 [==============================] - ETA: 0s - loss: 0.7260 - accuracy: 0.7606"
     ]
    },
    {
     "name": "stderr",
     "output_type": "stream",
     "text": [
      "2022-11-15 20:56:07.680733: I tensorflow/core/grappler/optimizers/custom_graph_optimizer_registry.cc:114] Plugin optimizer for device_type GPU is enabled.\n"
     ]
    },
    {
     "name": "stdout",
     "output_type": "stream",
     "text": [
      "1719/1719 [==============================] - 13s 6ms/step - loss: 0.7260 - accuracy: 0.7606 - val_loss: 0.5219 - val_accuracy: 0.8212\n",
      "Epoch 2/25\n",
      "1719/1719 [==============================] - 10s 6ms/step - loss: 0.4909 - accuracy: 0.8282 - val_loss: 0.4413 - val_accuracy: 0.8506\n",
      "Epoch 3/25\n",
      "1719/1719 [==============================] - 10s 6ms/step - loss: 0.4458 - accuracy: 0.8436 - val_loss: 0.5438 - val_accuracy: 0.7954\n",
      "Epoch 4/25\n",
      "1719/1719 [==============================] - 10s 6ms/step - loss: 0.4194 - accuracy: 0.8539 - val_loss: 0.3995 - val_accuracy: 0.8642\n",
      "Epoch 5/25\n",
      "1719/1719 [==============================] - 10s 6ms/step - loss: 0.4010 - accuracy: 0.8606 - val_loss: 0.3854 - val_accuracy: 0.8648\n",
      "Epoch 6/25\n",
      "1719/1719 [==============================] - 10s 6ms/step - loss: 0.3822 - accuracy: 0.8651 - val_loss: 0.3772 - val_accuracy: 0.8700\n",
      "Epoch 7/25\n",
      "1719/1719 [==============================] - 10s 6ms/step - loss: 0.3695 - accuracy: 0.8693 - val_loss: 0.3714 - val_accuracy: 0.8714\n",
      "Epoch 8/25\n",
      "1719/1719 [==============================] - 10s 6ms/step - loss: 0.3578 - accuracy: 0.8722 - val_loss: 0.4062 - val_accuracy: 0.8526\n",
      "Epoch 9/25\n",
      "1719/1719 [==============================] - 10s 6ms/step - loss: 0.3472 - accuracy: 0.8773 - val_loss: 0.3559 - val_accuracy: 0.8722\n",
      "Epoch 10/25\n",
      "1719/1719 [==============================] - 10s 6ms/step - loss: 0.3379 - accuracy: 0.8799 - val_loss: 0.3557 - val_accuracy: 0.8700\n",
      "Epoch 11/25\n",
      "1719/1719 [==============================] - 10s 6ms/step - loss: 0.3293 - accuracy: 0.8821 - val_loss: 0.3431 - val_accuracy: 0.8780\n",
      "Epoch 12/25\n",
      "1719/1719 [==============================] - 10s 6ms/step - loss: 0.3203 - accuracy: 0.8845 - val_loss: 0.3337 - val_accuracy: 0.8786\n",
      "Epoch 13/25\n",
      "1719/1719 [==============================] - 10s 6ms/step - loss: 0.3132 - accuracy: 0.8875 - val_loss: 0.3339 - val_accuracy: 0.8852\n",
      "Epoch 14/25\n",
      "1719/1719 [==============================] - 10s 6ms/step - loss: 0.3071 - accuracy: 0.8894 - val_loss: 0.3445 - val_accuracy: 0.8746\n",
      "Epoch 15/25\n",
      "1719/1719 [==============================] - 10s 6ms/step - loss: 0.2991 - accuracy: 0.8928 - val_loss: 0.3274 - val_accuracy: 0.8834\n",
      "Epoch 16/25\n",
      "1719/1719 [==============================] - 10s 6ms/step - loss: 0.2942 - accuracy: 0.8942 - val_loss: 0.3119 - val_accuracy: 0.8880\n",
      "Epoch 17/25\n",
      "1719/1719 [==============================] - 10s 6ms/step - loss: 0.2883 - accuracy: 0.8957 - val_loss: 0.3623 - val_accuracy: 0.8674\n",
      "Epoch 18/25\n",
      "1719/1719 [==============================] - 10s 6ms/step - loss: 0.2825 - accuracy: 0.8976 - val_loss: 0.3190 - val_accuracy: 0.8880\n",
      "Epoch 19/25\n",
      "1719/1719 [==============================] - 10s 6ms/step - loss: 0.2771 - accuracy: 0.8997 - val_loss: 0.3076 - val_accuracy: 0.8904\n",
      "Epoch 20/25\n",
      "1719/1719 [==============================] - 10s 6ms/step - loss: 0.2721 - accuracy: 0.9017 - val_loss: 0.3322 - val_accuracy: 0.8808\n",
      "Epoch 21/25\n",
      "1719/1719 [==============================] - 10s 6ms/step - loss: 0.2665 - accuracy: 0.9033 - val_loss: 0.3041 - val_accuracy: 0.8900\n",
      "Epoch 22/25\n",
      "1719/1719 [==============================] - 10s 6ms/step - loss: 0.2616 - accuracy: 0.9058 - val_loss: 0.2977 - val_accuracy: 0.8938\n",
      "Epoch 23/25\n",
      "1719/1719 [==============================] - 10s 6ms/step - loss: 0.2571 - accuracy: 0.9072 - val_loss: 0.3030 - val_accuracy: 0.8892\n",
      "Epoch 24/25\n",
      "1719/1719 [==============================] - 10s 6ms/step - loss: 0.2531 - accuracy: 0.9083 - val_loss: 0.3060 - val_accuracy: 0.8856\n",
      "Epoch 25/25\n",
      "1719/1719 [==============================] - 10s 6ms/step - loss: 0.2485 - accuracy: 0.9096 - val_loss: 0.2979 - val_accuracy: 0.8940\n"
     ]
    }
   ],
   "source": [
    "history = model.fit(X_train, y_train, epochs=25,\n",
    "                    validation_data=(X_valid, y_valid))"
   ]
  },
  {
   "cell_type": "markdown",
   "metadata": {
    "slideshow": {
     "slide_type": "slide"
    }
   },
   "source": [
    "Comment on what is happening with loss, val_loss, and accuracy."
   ]
  },
  {
   "cell_type": "markdown",
   "metadata": {
    "slideshow": {
     "slide_type": "slide"
    }
   },
   "source": [
    "Our metrics of interest were printed at each epoch (each pass through the neural network to update the weights), but it is easier to just look at a plot!"
   ]
  },
  {
   "cell_type": "code",
   "execution_count": 34,
   "metadata": {
    "slideshow": {
     "slide_type": "slide"
    }
   },
   "outputs": [
    {
     "data": {
      "image/png": "[encoded data removed]",
      "text/plain": [
       "<Figure size 864x576 with 1 Axes>"
      ]
     },
     "metadata": {
      "needs_background": "light"
     },
     "output_type": "display_data"
    }
   ],
   "source": [
    "import pandas as pd\n",
    "\n",
    "pd.DataFrame(history.history).plot(figsize=(12, 8))\n",
    "plt.grid(True)\n",
    "plt.gca().set_ylim(0, 1)\n",
    "plt.gca().set_xlabel(\"Epoch\")\n",
    "plt.show()"
   ]
  },
  {
   "cell_type": "markdown",
   "metadata": {
    "slideshow": {
     "slide_type": "slide"
    }
   },
   "source": [
    "As was the case for model training before, we want to make sure that we aren't overtraining, which would be indicated by the training loss diverging from the validation loss.  Note that, instead of creating a specific validation set, we can also pass `validation_split=0.1` as a parameter during the fitting step to split off 10% of the data for validation.\n",
    "\n",
    "Now we will `evaluate` the model using the test set to determine the expected level of error on unknown data.    The usual `predict` method then can be used to make predictions.  [GTR: I'm not sure the reason for this structure.  In regular ML we would `predict` on the test set and the compute metrics with the output values.]"
   ]
  },
  {
   "cell_type": "code",
   "execution_count": 35,
   "metadata": {
    "slideshow": {
     "slide_type": "slide"
    }
   },
   "outputs": [
    {
     "name": "stdout",
     "output_type": "stream",
     "text": [
      "313/313 [==============================] - 2s 5ms/step - loss: 0.3327 - accuracy: 0.8847\n"
     ]
    },
    {
     "data": {
      "text/plain": [
       "[0.3326593041419983, 0.8847000598907471]"
      ]
     },
     "execution_count": 35,
     "metadata": {},
     "output_type": "execute_result"
    }
   ],
   "source": [
    "#Evaluate the test set\n",
    "model.evaluate(X_test, y_test)"
   ]
  },
  {
   "cell_type": "code",
   "execution_count": 36,
   "metadata": {
    "slideshow": {
     "slide_type": "slide"
    }
   },
   "outputs": [
    {
     "name": "stdout",
     "output_type": "stream",
     "text": [
      "1/1 [==============================] - 0s 160ms/step\n",
      "[[0.   0.   0.   0.   0.   0.02 0.   0.01 0.   0.97]\n",
      " [0.   0.   1.   0.   0.   0.   0.   0.   0.   0.  ]\n",
      " [0.   1.   0.   0.   0.   0.   0.   0.   0.   0.  ]]\n"
     ]
    },
    {
     "name": "stderr",
     "output_type": "stream",
     "text": [
      "2022-11-15 21:01:53.364859: I tensorflow/core/grappler/optimizers/custom_graph_optimizer_registry.cc:114] Plugin optimizer for device_type GPU is enabled.\n"
     ]
    }
   ],
   "source": [
    "#Predict values for first 3 test objects\n",
    "X_new = X_test[:3]\n",
    "y_proba = model.predict(X_new).round(2)\n",
    "print(y_proba)"
   ]
  },
  {
   "cell_type": "markdown",
   "metadata": {
    "slideshow": {
     "slide_type": "slide"
    }
   },
   "source": [
    "So, you can see that the output is a probability that the object belongs to each class (which has to sum to 1 across all the classes).  If we just want an \"answer\", we assign it to the class with the highest probability (done here with `predict_classes`)."
   ]
  },
  {
   "cell_type": "code",
   "execution_count": 37,
   "metadata": {
    "slideshow": {
     "slide_type": "slide"
    }
   },
   "outputs": [
    {
     "name": "stdout",
     "output_type": "stream",
     "text": [
      "1/1 [==============================] - 0s 13ms/step\n",
      "[9 2 1]\n",
      "['Ankle boot' 'Pullover' 'Trouser']\n"
     ]
    }
   ],
   "source": [
    "#y_pred = model.predict_classes(X_new) #Old way\n",
    "y_pred = np.argmax(model.predict(X_new), axis=-1) #New way\n",
    "print(y_pred)\n",
    "print(np.array(class_names)[y_pred])"
   ]
  },
  {
   "cell_type": "code",
   "execution_count": 38,
   "metadata": {
    "slideshow": {
     "slide_type": "slide"
    }
   },
   "outputs": [
    {
     "data": {
      "image/png": "[encoded data removed]",
      "text/plain": [
       "<Figure size 518.4x172.8 with 3 Axes>"
      ]
     },
     "metadata": {
      "needs_background": "light"
     },
     "output_type": "display_data"
    }
   ],
   "source": [
    "#Let's plot those and see if the predictions make sense.\n",
    "plt.figure(figsize=(7.2, 2.4))\n",
    "for index, image in enumerate(X_new):\n",
    "    plt.subplot(1, 3, index + 1)\n",
    "    plt.imshow(image, cmap=\"binary\", interpolation=\"nearest\", origin='upper')\n",
    "    plt.axis('off')\n",
    "    plt.title(class_names[y_test[index]], fontsize=12)\n",
    "plt.subplots_adjust(wspace=0.2, hspace=0.5)\n",
    "#save_fig('fashion_mnist_images_plot', tight_layout=False)\n",
    "plt.show()"
   ]
  },
  {
   "cell_type": "markdown",
   "metadata": {
    "slideshow": {
     "slide_type": "slide"
    }
   },
   "source": [
    "Note that after you fit your model, you can save it and reload it at some later time (which is good because some models might take hours to train!)"
   ]
  },
  {
   "cell_type": "code",
   "execution_count": 39,
   "metadata": {
    "slideshow": {
     "slide_type": "slide"
    }
   },
   "outputs": [],
   "source": [
    "#Save model\n",
    "model.save(\"my_keras_model.h5\")\n",
    "\n",
    "#Reload model\n",
    "model = keras.models.load_model(\"my_keras_model.h5\")"
   ]
  },
  {
   "cell_type": "markdown",
   "metadata": {
    "slideshow": {
     "slide_type": "slide"
    }
   },
   "source": [
    "Let's predict the values for 10 random objects.  Display them with their actual labels first, then predict and display the predictions."
   ]
  },
  {
   "cell_type": "code",
   "execution_count": 40,
   "metadata": {
    "slideshow": {
     "slide_type": "slide"
    }
   },
   "outputs": [
    {
     "name": "stdout",
     "output_type": "stream",
     "text": [
      "1/1 [==============================] - 0s 142ms/step\n"
     ]
    },
    {
     "name": "stderr",
     "output_type": "stream",
     "text": [
      "2022-11-15 21:02:11.595728: I tensorflow/core/grappler/optimizers/custom_graph_optimizer_registry.cc:114] Plugin optimizer for device_type GPU is enabled.\n"
     ]
    }
   ],
   "source": [
    "idx10 = np.random.choice(np.arange(len(y_test)), size=10, replace=False)\n",
    "X_new = X_test[idx10]\n",
    "#y_pred = model.predict_classes(X_new)\n",
    "y_pred = np.argmax(model.predict(X_new), axis=-1)"
   ]
  },
  {
   "cell_type": "code",
   "execution_count": 41,
   "metadata": {
    "slideshow": {
     "slide_type": "slide"
    }
   },
   "outputs": [
    {
     "data": {
      "image/png": "[encoded data removed]",
      "text/plain": [
       "<Figure size 1080x360 with 10 Axes>"
      ]
     },
     "metadata": {
      "needs_background": "light"
     },
     "output_type": "display_data"
    }
   ],
   "source": [
    "#Correct answers (y_test)\n",
    "plt.figure(figsize=(15, 5))\n",
    "for index, image in enumerate(X_new):\n",
    "    plt.subplot(1, 10, index + 1)\n",
    "    plt.imshow(image, cmap=\"binary\", interpolation=\"nearest\", origin='upper')\n",
    "    plt.axis('off')\n",
    "    plt.title(class_names[y_test[idx10[index]]], fontsize=12)\n",
    "plt.subplots_adjust(wspace=0.2, hspace=0.5)\n",
    "plt.show()"
   ]
  },
  {
   "cell_type": "code",
   "execution_count": 42,
   "metadata": {
    "slideshow": {
     "slide_type": "slide"
    }
   },
   "outputs": [
    {
     "data": {
      "image/png": "[encoded data removed]",
      "text/plain": [
       "<Figure size 1080x360 with 10 Axes>"
      ]
     },
     "metadata": {
      "needs_background": "light"
     },
     "output_type": "display_data"
    }
   ],
   "source": [
    "#Predicted answers (y_pred)\n",
    "plt.figure(figsize=(15, 5))\n",
    "for index, image in enumerate(X_new):\n",
    "    plt.subplot(1, 10, index + 1)\n",
    "    plt.imshow(image, cmap=\"binary\", interpolation=\"nearest\", origin='upper')\n",
    "    plt.axis('off')\n",
    "    plt.title(class_names[y_pred[index]], fontsize=12)\n",
    "plt.subplots_adjust(wspace=0.2, hspace=0.5)\n",
    "plt.show()"
   ]
  },
  {
   "cell_type": "markdown",
   "metadata": {
    "slideshow": {
     "slide_type": "-"
    }
   },
   "source": [
    "---"
   ]
  },
  {
   "cell_type": "markdown",
   "metadata": {
    "slideshow": {
     "slide_type": "slide"
    }
   },
   "source": [
    "Here's a regression example instead of classification"
   ]
  },
  {
   "cell_type": "code",
   "execution_count": 43,
   "metadata": {
    "slideshow": {
     "slide_type": "slide"
    }
   },
   "outputs": [
    {
     "name": "stdout",
     "output_type": "stream",
     "text": [
      "(11610, 8)\n",
      "(11610,)\n"
     ]
    }
   ],
   "source": [
    "from sklearn.datasets import fetch_california_housing\n",
    "from sklearn.model_selection import train_test_split\n",
    "from sklearn.preprocessing import StandardScaler\n",
    "\n",
    "housing = fetch_california_housing()\n",
    "\n",
    "X_train_full, X_test, y_train_full, y_test = train_test_split(housing.data, housing.target, random_state=42)\n",
    "X_train, X_valid, y_train, y_valid = train_test_split(X_train_full, y_train_full, random_state=42)\n",
    "\n",
    "scaler = StandardScaler()\n",
    "X_train = scaler.fit_transform(X_train)\n",
    "X_valid = scaler.transform(X_valid)\n",
    "X_test = scaler.transform(X_test)\n",
    "\n",
    "print(X_train.shape)\n",
    "print(y_train.shape)"
   ]
  },
  {
   "cell_type": "code",
   "execution_count": 44,
   "metadata": {
    "slideshow": {
     "slide_type": "slide"
    }
   },
   "outputs": [
    {
     "name": "stdout",
     "output_type": "stream",
     "text": [
      "Epoch 1/20\n"
     ]
    },
    {
     "name": "stderr",
     "output_type": "stream",
     "text": [
      "/Users/gtr/opt/anaconda3/lib/python3.9/site-packages/keras/optimizers/optimizer_v2/gradient_descent.py:111: UserWarning: The `lr` argument is deprecated, use `learning_rate` instead.\n",
      "  super().__init__(name, **kwargs)\n",
      "2022-11-15 21:03:56.095451: I tensorflow/core/grappler/optimizers/custom_graph_optimizer_registry.cc:114] Plugin optimizer for device_type GPU is enabled.\n"
     ]
    },
    {
     "name": "stdout",
     "output_type": "stream",
     "text": [
      "363/363 [==============================] - ETA: 0s - loss: 2.9387"
     ]
    },
    {
     "name": "stderr",
     "output_type": "stream",
     "text": [
      "2022-11-15 21:03:58.289708: I tensorflow/core/grappler/optimizers/custom_graph_optimizer_registry.cc:114] Plugin optimizer for device_type GPU is enabled.\n"
     ]
    },
    {
     "name": "stdout",
     "output_type": "stream",
     "text": [
      "363/363 [==============================] - 3s 5ms/step - loss: 2.9387 - val_loss: 1.2561\n",
      "Epoch 2/20\n",
      "363/363 [==============================] - 2s 5ms/step - loss: 0.9369 - val_loss: 1.0182\n",
      "Epoch 3/20\n",
      "363/363 [==============================] - 2s 4ms/step - loss: 0.7700 - val_loss: 0.8218\n",
      "Epoch 4/20\n",
      "363/363 [==============================] - 2s 4ms/step - loss: 0.7108 - val_loss: 0.6630\n",
      "Epoch 5/20\n",
      "363/363 [==============================] - 2s 4ms/step - loss: 0.6699 - val_loss: 0.6254\n",
      "Epoch 6/20\n",
      "363/363 [==============================] - 2s 4ms/step - loss: 0.6345 - val_loss: 0.6662\n",
      "Epoch 7/20\n",
      "363/363 [==============================] - 2s 5ms/step - loss: 0.6060 - val_loss: 0.7325\n",
      "Epoch 8/20\n",
      "363/363 [==============================] - 2s 5ms/step - loss: 0.5821 - val_loss: 0.5522\n",
      "Epoch 9/20\n",
      "363/363 [==============================] - 2s 4ms/step - loss: 0.5571 - val_loss: 0.5961\n",
      "Epoch 10/20\n",
      "363/363 [==============================] - 2s 4ms/step - loss: 0.5374 - val_loss: 0.6455\n",
      "Epoch 11/20\n",
      "363/363 [==============================] - 2s 4ms/step - loss: 0.5218 - val_loss: 0.5576\n",
      "Epoch 12/20\n",
      "363/363 [==============================] - 2s 5ms/step - loss: 0.5053 - val_loss: 0.7246\n",
      "Epoch 13/20\n",
      "363/363 [==============================] - 2s 5ms/step - loss: 0.4950 - val_loss: 0.4754\n",
      "Epoch 14/20\n",
      "363/363 [==============================] - 2s 4ms/step - loss: 0.4824 - val_loss: 0.4592\n",
      "Epoch 15/20\n",
      "363/363 [==============================] - 2s 4ms/step - loss: 0.4730 - val_loss: 0.4503\n",
      "Epoch 16/20\n",
      "363/363 [==============================] - 2s 4ms/step - loss: 0.4648 - val_loss: 0.4506\n",
      "Epoch 17/20\n",
      "363/363 [==============================] - 2s 4ms/step - loss: 0.4584 - val_loss: 0.4268\n",
      "Epoch 18/20\n",
      "363/363 [==============================] - 2s 4ms/step - loss: 0.4523 - val_loss: 0.4209\n",
      "Epoch 19/20\n",
      "363/363 [==============================] - 2s 4ms/step - loss: 0.4471 - val_loss: 0.4297\n",
      "Epoch 20/20\n",
      "363/363 [==============================] - 2s 4ms/step - loss: 0.4429 - val_loss: 0.4124\n",
      "162/162 [==============================] - 0s 3ms/step - loss: 0.4344\n",
      "1/1 [==============================] - 0s 42ms/step\n"
     ]
    },
    {
     "name": "stderr",
     "output_type": "stream",
     "text": [
      "2022-11-15 21:04:29.622184: I tensorflow/core/grappler/optimizers/custom_graph_optimizer_registry.cc:114] Plugin optimizer for device_type GPU is enabled.\n"
     ]
    }
   ],
   "source": [
    "np.random.seed(42)\n",
    "tf.random.set_seed(42)\n",
    "\n",
    "model = keras.models.Sequential([\n",
    "    keras.layers.Dense(30, activation=\"relu\", input_shape=X_train.shape[1:]),\n",
    "    keras.layers.Dense(1)\n",
    "])\n",
    "model.compile(loss=\"mean_squared_error\", optimizer=keras.optimizers.SGD(lr=1e-3))\n",
    "\n",
    "history = model.fit(X_train, y_train, epochs=20, validation_data=(X_valid, y_valid))\n",
    "\n",
    "mse_test = model.evaluate(X_test, y_test)\n",
    "\n",
    "X_new = X_test[:3]\n",
    "y_pred = model.predict(X_new)"
   ]
  },
  {
   "cell_type": "markdown",
   "metadata": {
    "slideshow": {
     "slide_type": "slide"
    }
   },
   "source": [
    "### Activation Functions\n",
    "\n",
    "[Activation function](https://en.wikipedia.org/wiki/Activation_function) control how much \"signal\" it takes for a neuron to \"fire\".  The more signal, the more likely the neuron will fire.\n",
    "\n",
    "See\n",
    "https://mlfromscratch.com/activation-functions-explained/#/\n",
    "\n",
    "The cells below show different activation functions, using the same visualization as we used for loss functions.  It is important to understand the differences between them and when you can and cannot use certain activation functions.  For example, the activation function of your output layer depends on your output (specifically regression, binary classification, or multi-class classification)."
   ]
  },
  {
   "cell_type": "code",
   "execution_count": 45,
   "metadata": {
    "slideshow": {
     "slide_type": "slide"
    }
   },
   "outputs": [],
   "source": [
    "# Mathematical formulas for activation functions\n",
    "\n",
    "def binary(raw_model_output):\n",
    "   return np.where(raw_model_output < 0, 0, 1)  \n",
    "\n",
    "def sigmoid(raw_model_output):\n",
    "   return 1.0/(1+np.exp(-raw_model_output))\n",
    "\n",
    "def ReLU(raw_model_output):\n",
    "   return np.where(raw_model_output < 0, 0, raw_model_output)\n",
    "\n",
    "def LReLU(raw_model_output):\n",
    "   alpha=0.1\n",
    "   return np.where(raw_model_output < 0, alpha*raw_model_output, raw_model_output)"
   ]
  },
  {
   "cell_type": "code",
   "execution_count": 47,
   "metadata": {
    "slideshow": {
     "slide_type": "slide"
    }
   },
   "outputs": [
    {
     "data": {
      "image/png": "[encoded data removed]",
      "text/plain": [
       "<Figure size 432x288 with 1 Axes>"
      ]
     },
     "metadata": {
      "needs_background": "light"
     },
     "output_type": "display_data"
    }
   ],
   "source": [
    "import numpy as np\n",
    "import matplotlib.pyplot as plt\n",
    "\n",
    "# Create a grid of values and plot\n",
    "grid = np.linspace(-3,3,1000)\n",
    "#plt.plot(grid, log_loss(grid), label='logistic')\n",
    "plt.plot(grid, binary(grid), \"k\", label='binary')\n",
    "plt.plot(grid, sigmoid(grid), \"b\", label='sigmoid')\n",
    "#plt.plot(grid, ReLU(grid), label='ReLU')\n",
    "#plt.plot(grid, LReLU(grid), label='LReLU')\n",
    "#plt.plot(grid, l2(grid), label='l2')\n",
    "#plt.plot(grid, l1(grid), label='l1')\n",
    "\n",
    "plt.fill_between([0,3],-1,3,color=\"b\",alpha=0.4)\n",
    "plt.fill_between([-3,0],-1,3,color=\"r\",alpha=0.5)\n",
    "plt.xlim([-3,3])\n",
    "plt.ylim([-1,3])\n",
    "plt.xlabel(\"z\",fontsize=12)\n",
    "#plt.ylabel(\"probability\",fontsize=12)\n",
    "plt.title(\"don't fire                 fire\",fontsize=12)\n",
    "plt.legend()\n",
    "\n",
    "plt.show()"
   ]
  },
  {
   "cell_type": "markdown",
   "metadata": {
    "slideshow": {
     "slide_type": "slide"
    }
   },
   "source": [
    "Until the paper describing backpropagation, a step (binary) function was used for activation: that is either *on* or *off*, which makes sense as neurons either fire or they don't.  However, the step function doesn't have gradients, so backpropagation won't work with them.  \n",
    "\n",
    "Moreover on vs. off actually isn't quite true.  The way your eyes work is that you need 1-10 photons to trigger a rod, but several rods must be triggered to send a signal to the brain.  The sigmoid activation function captures the probabilistic nature of neuron firing.  More importantly it is differentiable, so can be used for backpropagation.\n",
    "\n",
    "Another important aspect of non-linear activation function is that they are what allow neural networks to solve non-linear problems.  If we used a strictly linear activation function, then we could only solve linear problems.  That is, you could fit a straight line, but not an exponential."
   ]
  },
  {
   "cell_type": "markdown",
   "metadata": {
    "slideshow": {
     "slide_type": "slide"
    }
   },
   "source": [
    "#### Vanishing and Exploding Gradients\n",
    "\n",
    "However, neural networks suffered their 2nd death at the hands of the [vanishing and exploding gradients](https://en.wikipedia.org/wiki/Vanishing_gradient_problem) problem.  We won't go into detail there except to say that life #3 began around 2010 when suggestions for different activation functions were published.  \n",
    "\n",
    "For example, the Rectified Linear Unit (ReLU) activation function is another commonly used activation function as it solves the vanishing gradient problem (since the gradient is only 0 or 1).\n",
    "\n",
    "$${\\rm ReLU}(z) = max(0,z)$$\n",
    "\n",
    "It isn't ideal both because the derivative is 0 for $z<0$ and it can end up producing dead nodes.  However, it is fast and the resulting sparsity can be good (sort of like regularization).\n",
    "\n",
    "A number of papers since 2015 describe various improvements, including the Leaky RELU, the exponential linear unit (ELU) and scaled exponential linear unit (SELU).\n",
    "\n",
    "Note that the activation functions can be different in different layers.  For example, for regression, one typically doesn't use any activation function in the output layer as including one would restriction the range of possible outputs."
   ]
  },
  {
   "cell_type": "code",
   "execution_count": 49,
   "metadata": {
    "slideshow": {
     "slide_type": "slide"
    }
   },
   "outputs": [
    {
     "data": {
      "image/png": "[encoded data removed]",
      "text/plain": [
       "<Figure size 432x288 with 1 Axes>"
      ]
     },
     "metadata": {
      "needs_background": "light"
     },
     "output_type": "display_data"
    }
   ],
   "source": [
    "import numpy as np\n",
    "import matplotlib.pyplot as plt\n",
    "\n",
    "# Create a grid of values and plot\n",
    "grid = np.linspace(-3,3,1000)\n",
    "#plt.plot(grid, log_loss(grid), label='logistic')\n",
    "#plt.plot(grid, binary(grid), \"k\", label='binary')\n",
    "#plt.plot(grid, sigmoid(grid), \"b\", label='sigmoid')\n",
    "plt.plot(grid, ReLU(grid), \"b--\", label='ReLU')\n",
    "plt.plot(grid, LReLU(grid), \"orange\", label='LReLU')\n",
    "#plt.plot(grid, l2(grid), label='l2')\n",
    "#plt.plot(grid, l1(grid), label='l1')\n",
    "\n",
    "plt.fill_between([0,3],-1,3,color=\"b\",alpha=0.4)\n",
    "plt.fill_between([-3,0],-1,3,color=\"r\",alpha=0.5)\n",
    "plt.xlim([-3,3])\n",
    "plt.ylim([-1,3])\n",
    "plt.xlabel(\"z\",fontsize=12)\n",
    "#plt.ylabel(\"probability\",fontsize=12)\n",
    "plt.title(\"don't fire                 fire\",fontsize=12)\n",
    "plt.legend()\n",
    "\n",
    "plt.show()"
   ]
  },
  {
   "cell_type": "markdown",
   "metadata": {
    "slideshow": {
     "slide_type": "slide"
    }
   },
   "source": [
    "Some general guidance on activation functions (more on this later):\n",
    "    \n",
    "* Use sigmoid for output of binary classification (with binary cross entropy loss)\n",
    "* Use ReLU for layers other than output (at least to start with because it is faster)\n",
    "* Use softmax for output with more than 2 classes (with categorical cross entropy loss)"
   ]
  },
  {
   "cell_type": "markdown",
   "metadata": {
    "slideshow": {
     "slide_type": "slide"
    }
   },
   "source": [
    "If you wanted to make the activation function a parameter, here's how to find out what your options are"
   ]
  },
  {
   "cell_type": "code",
   "execution_count": 50,
   "metadata": {
    "slideshow": {
     "slide_type": "slide"
    }
   },
   "outputs": [
    {
     "data": {
      "text/plain": [
       "['deserialize',\n",
       " 'elu',\n",
       " 'exponential',\n",
       " 'gelu',\n",
       " 'get',\n",
       " 'hard_sigmoid',\n",
       " 'linear',\n",
       " 'relu',\n",
       " 'selu',\n",
       " 'serialize',\n",
       " 'sigmoid',\n",
       " 'softmax',\n",
       " 'softplus',\n",
       " 'softsign',\n",
       " 'swish',\n",
       " 'tanh']"
      ]
     },
     "execution_count": 50,
     "metadata": {},
     "output_type": "execute_result"
    }
   ],
   "source": [
    "#Different activation functions that are available\n",
    "[m for m in dir(keras.activations) if not m.startswith(\"_\")]"
   ]
  },
  {
   "cell_type": "markdown",
   "metadata": {
    "slideshow": {
     "slide_type": "-"
    }
   },
   "source": [
    "---"
   ]
  },
  {
   "cell_type": "markdown",
   "metadata": {
    "slideshow": {
     "slide_type": "slide"
    }
   },
   "source": [
    "### Regularization\n",
    "\n",
    "Just as we can use regularization for standard regression and classification task, so too can we with neural networks.  \n",
    "\n",
    "Not only can we apply the usual $l1$ or $l2$ regularization techniques, but we can also use *dropout* which, as the name indicates, causes some neurons to be temporarily \"dropped out\" during training (usually by setting some probability for that to happen, typically 10-50%).  After training, all of the neurons are used.\n",
    "\n",
    "Geron explains this as a company needing to try to figure out how to adapt to a crucial employee being out sick for a period of time.  In the end, it can make the company stronger as more people (neurons) are able to handle certain parts of the process.\n",
    "\n",
    "We'll do an example of this next time."
   ]
  },
  {
   "cell_type": "markdown",
   "metadata": {
    "slideshow": {
     "slide_type": "slide"
    }
   },
   "source": [
    "One form of regularization is  \"early stopping\".  This will determine when there hasn't been any improvement in the validation set for `patience` epochs and stop the fitting.  It also uses the \"best\" weights and just the \"last\" weights."
   ]
  },
  {
   "cell_type": "code",
   "execution_count": 51,
   "metadata": {
    "slideshow": {
     "slide_type": "slide"
    }
   },
   "outputs": [
    {
     "name": "stdout",
     "output_type": "stream",
     "text": [
      "Epoch 1/100\n",
      "363/363 [==============================] - 2s 5ms/step - loss: 0.4387 - val_loss: 0.4142\n",
      "Epoch 2/100\n",
      "363/363 [==============================] - 2s 5ms/step - loss: 0.4353 - val_loss: 0.4062\n",
      "Epoch 3/100\n",
      "363/363 [==============================] - 2s 5ms/step - loss: 0.4322 - val_loss: 0.4020\n",
      "Epoch 4/100\n",
      "363/363 [==============================] - 2s 4ms/step - loss: 0.4289 - val_loss: 0.4017\n",
      "Epoch 5/100\n",
      "363/363 [==============================] - 2s 4ms/step - loss: 0.4267 - val_loss: 0.4002\n",
      "Epoch 6/100\n",
      "363/363 [==============================] - 2s 5ms/step - loss: 0.4239 - val_loss: 0.4000\n",
      "Epoch 7/100\n",
      "363/363 [==============================] - 2s 5ms/step - loss: 0.4219 - val_loss: 0.3946\n",
      "Epoch 8/100\n",
      "363/363 [==============================] - 2s 5ms/step - loss: 0.4196 - val_loss: 0.3952\n",
      "Epoch 9/100\n",
      "363/363 [==============================] - 2s 5ms/step - loss: 0.4175 - val_loss: 0.3890\n",
      "Epoch 10/100\n",
      "363/363 [==============================] - 2s 4ms/step - loss: 0.4156 - val_loss: 0.3870\n",
      "Epoch 11/100\n",
      "363/363 [==============================] - 2s 4ms/step - loss: 0.4137 - val_loss: 0.3852\n",
      "Epoch 12/100\n",
      "363/363 [==============================] - 2s 4ms/step - loss: 0.4120 - val_loss: 0.3848\n",
      "Epoch 13/100\n",
      "363/363 [==============================] - 2s 4ms/step - loss: 0.4103 - val_loss: 0.3824\n",
      "Epoch 14/100\n",
      "363/363 [==============================] - 2s 5ms/step - loss: 0.4087 - val_loss: 0.3819\n",
      "Epoch 15/100\n",
      "363/363 [==============================] - 2s 4ms/step - loss: 0.4073 - val_loss: 0.3799\n",
      "Epoch 16/100\n",
      "363/363 [==============================] - 2s 5ms/step - loss: 0.4058 - val_loss: 0.3799\n",
      "Epoch 17/100\n",
      "363/363 [==============================] - 2s 5ms/step - loss: 0.4043 - val_loss: 0.3827\n",
      "Epoch 18/100\n",
      "363/363 [==============================] - 2s 5ms/step - loss: 0.4032 - val_loss: 0.3769\n",
      "Epoch 19/100\n",
      "363/363 [==============================] - 2s 5ms/step - loss: 0.4018 - val_loss: 0.3757\n",
      "Epoch 20/100\n",
      "363/363 [==============================] - 2s 5ms/step - loss: 0.4005 - val_loss: 0.3913\n",
      "Epoch 21/100\n",
      "363/363 [==============================] - 2s 5ms/step - loss: 0.3994 - val_loss: 0.3770\n",
      "Epoch 22/100\n",
      "363/363 [==============================] - 2s 4ms/step - loss: 0.3982 - val_loss: 0.3842\n",
      "Epoch 23/100\n",
      "363/363 [==============================] - 1s 4ms/step - loss: 0.3969 - val_loss: 0.3729\n",
      "Epoch 24/100\n",
      "363/363 [==============================] - 2s 4ms/step - loss: 0.3958 - val_loss: 0.3747\n",
      "Epoch 25/100\n",
      "363/363 [==============================] - 2s 4ms/step - loss: 0.3946 - val_loss: 0.3853\n",
      "Epoch 26/100\n",
      "363/363 [==============================] - 2s 4ms/step - loss: 0.3938 - val_loss: 0.3726\n",
      "Epoch 27/100\n",
      "363/363 [==============================] - 2s 4ms/step - loss: 0.3929 - val_loss: 0.3692\n",
      "Epoch 28/100\n",
      "363/363 [==============================] - 1s 4ms/step - loss: 0.3918 - val_loss: 0.3756\n",
      "Epoch 29/100\n",
      "363/363 [==============================] - 2s 4ms/step - loss: 0.3911 - val_loss: 0.3668\n",
      "Epoch 30/100\n",
      "363/363 [==============================] - 2s 4ms/step - loss: 0.3901 - val_loss: 0.3700\n",
      "Epoch 31/100\n",
      "363/363 [==============================] - 2s 4ms/step - loss: 0.3891 - val_loss: 0.3653\n",
      "Epoch 32/100\n",
      "363/363 [==============================] - 2s 4ms/step - loss: 0.3883 - val_loss: 0.3736\n",
      "Epoch 33/100\n",
      "363/363 [==============================] - 1s 4ms/step - loss: 0.3878 - val_loss: 0.3638\n",
      "Epoch 34/100\n",
      "363/363 [==============================] - 2s 4ms/step - loss: 0.3868 - val_loss: 0.3631\n",
      "Epoch 35/100\n",
      "363/363 [==============================] - 2s 4ms/step - loss: 0.3859 - val_loss: 0.3832\n",
      "Epoch 36/100\n",
      "363/363 [==============================] - 2s 4ms/step - loss: 0.3853 - val_loss: 0.3654\n",
      "Epoch 37/100\n",
      "363/363 [==============================] - 2s 4ms/step - loss: 0.3846 - val_loss: 0.3656\n",
      "Epoch 38/100\n",
      "363/363 [==============================] - 2s 4ms/step - loss: 0.3839 - val_loss: 0.3614\n",
      "Epoch 39/100\n",
      "363/363 [==============================] - 2s 4ms/step - loss: 0.3831 - val_loss: 0.3602\n",
      "Epoch 40/100\n",
      "363/363 [==============================] - 2s 4ms/step - loss: 0.3824 - val_loss: 0.3599\n",
      "Epoch 41/100\n",
      "363/363 [==============================] - 2s 4ms/step - loss: 0.3818 - val_loss: 0.3629\n",
      "Epoch 42/100\n",
      "363/363 [==============================] - 2s 4ms/step - loss: 0.3812 - val_loss: 0.3708\n",
      "Epoch 43/100\n",
      "363/363 [==============================] - 1s 4ms/step - loss: 0.3807 - val_loss: 0.3593\n",
      "Epoch 44/100\n",
      "363/363 [==============================] - 2s 4ms/step - loss: 0.3798 - val_loss: 0.3611\n",
      "Epoch 45/100\n",
      "363/363 [==============================] - 2s 4ms/step - loss: 0.3795 - val_loss: 0.3584\n",
      "Epoch 46/100\n",
      "363/363 [==============================] - 2s 4ms/step - loss: 0.3787 - val_loss: 0.3614\n",
      "Epoch 47/100\n",
      "363/363 [==============================] - 2s 4ms/step - loss: 0.3783 - val_loss: 0.3572\n",
      "Epoch 48/100\n",
      "363/363 [==============================] - 1s 4ms/step - loss: 0.3777 - val_loss: 0.3597\n",
      "Epoch 49/100\n",
      "363/363 [==============================] - 2s 4ms/step - loss: 0.3773 - val_loss: 0.3550\n",
      "Epoch 50/100\n",
      "363/363 [==============================] - 2s 4ms/step - loss: 0.3767 - val_loss: 0.3584\n",
      "Epoch 51/100\n",
      "363/363 [==============================] - 2s 4ms/step - loss: 0.3761 - val_loss: 0.3626\n",
      "Epoch 52/100\n",
      "363/363 [==============================] - 2s 4ms/step - loss: 0.3758 - val_loss: 0.3680\n",
      "Epoch 53/100\n",
      "363/363 [==============================] - 1s 4ms/step - loss: 0.3752 - val_loss: 0.3648\n",
      "Epoch 54/100\n",
      "363/363 [==============================] - 2s 4ms/step - loss: 0.3749 - val_loss: 0.3574\n",
      "Epoch 55/100\n",
      "363/363 [==============================] - 2s 4ms/step - loss: 0.3743 - val_loss: 0.3540\n",
      "Epoch 56/100\n",
      "363/363 [==============================] - 2s 4ms/step - loss: 0.3739 - val_loss: 0.3531\n",
      "Epoch 57/100\n",
      "363/363 [==============================] - 2s 4ms/step - loss: 0.3735 - val_loss: 0.3531\n",
      "Epoch 58/100\n",
      "363/363 [==============================] - 1s 4ms/step - loss: 0.3730 - val_loss: 0.3522\n",
      "Epoch 59/100\n",
      "363/363 [==============================] - 2s 4ms/step - loss: 0.3727 - val_loss: 0.3521\n",
      "Epoch 60/100\n",
      "363/363 [==============================] - 2s 5ms/step - loss: 0.3723 - val_loss: 0.3534\n",
      "Epoch 61/100\n",
      "363/363 [==============================] - 2s 5ms/step - loss: 0.3716 - val_loss: 0.3525\n",
      "Epoch 62/100\n",
      "363/363 [==============================] - 2s 4ms/step - loss: 0.3714 - val_loss: 0.3509\n",
      "Epoch 63/100\n",
      "363/363 [==============================] - 2s 4ms/step - loss: 0.3707 - val_loss: 0.3511\n",
      "Epoch 64/100\n",
      "363/363 [==============================] - 2s 5ms/step - loss: 0.3707 - val_loss: 0.3547\n",
      "Epoch 65/100\n",
      "363/363 [==============================] - 2s 5ms/step - loss: 0.3702 - val_loss: 0.3505\n",
      "Epoch 66/100\n",
      "363/363 [==============================] - 2s 4ms/step - loss: 0.3698 - val_loss: 0.3490\n",
      "Epoch 67/100\n",
      "363/363 [==============================] - 2s 5ms/step - loss: 0.3693 - val_loss: 0.3487\n",
      "Epoch 68/100\n",
      "363/363 [==============================] - 2s 5ms/step - loss: 0.3690 - val_loss: 0.3481\n",
      "Epoch 69/100\n",
      "363/363 [==============================] - 2s 4ms/step - loss: 0.3687 - val_loss: 0.3483\n",
      "Epoch 70/100\n",
      "363/363 [==============================] - 2s 4ms/step - loss: 0.3682 - val_loss: 0.3517\n",
      "Epoch 71/100\n",
      "363/363 [==============================] - 2s 4ms/step - loss: 0.3681 - val_loss: 0.3523\n",
      "Epoch 72/100\n",
      "363/363 [==============================] - 2s 4ms/step - loss: 0.3677 - val_loss: 0.3477\n",
      "Epoch 73/100\n",
      "363/363 [==============================] - 2s 4ms/step - loss: 0.3672 - val_loss: 0.3536\n",
      "Epoch 74/100\n",
      "363/363 [==============================] - 2s 4ms/step - loss: 0.3671 - val_loss: 0.3487\n",
      "Epoch 75/100\n",
      "363/363 [==============================] - 2s 4ms/step - loss: 0.3667 - val_loss: 0.3483\n",
      "Epoch 76/100\n",
      "363/363 [==============================] - 2s 4ms/step - loss: 0.3664 - val_loss: 0.3473\n",
      "Epoch 77/100\n",
      "363/363 [==============================] - 2s 4ms/step - loss: 0.3659 - val_loss: 0.3534\n",
      "Epoch 78/100\n",
      "363/363 [==============================] - 2s 4ms/step - loss: 0.3658 - val_loss: 0.3453\n",
      "Epoch 79/100\n",
      "363/363 [==============================] - 2s 4ms/step - loss: 0.3654 - val_loss: 0.3454\n",
      "Epoch 80/100\n",
      "363/363 [==============================] - 2s 4ms/step - loss: 0.3652 - val_loss: 0.3446\n",
      "Epoch 81/100\n"
     ]
    },
    {
     "name": "stdout",
     "output_type": "stream",
     "text": [
      "363/363 [==============================] - 1s 4ms/step - loss: 0.3649 - val_loss: 0.3461\n",
      "Epoch 82/100\n",
      "363/363 [==============================] - 2s 4ms/step - loss: 0.3646 - val_loss: 0.3578\n",
      "Epoch 83/100\n",
      "363/363 [==============================] - 2s 4ms/step - loss: 0.3643 - val_loss: 0.3442\n",
      "Epoch 84/100\n",
      "363/363 [==============================] - 2s 4ms/step - loss: 0.3639 - val_loss: 0.3453\n",
      "Epoch 85/100\n",
      "363/363 [==============================] - 1s 4ms/step - loss: 0.3638 - val_loss: 0.3433\n",
      "Epoch 86/100\n",
      "363/363 [==============================] - 1s 4ms/step - loss: 0.3635 - val_loss: 0.3710\n",
      "Epoch 87/100\n",
      "363/363 [==============================] - 2s 4ms/step - loss: 0.3632 - val_loss: 0.3435\n",
      "Epoch 88/100\n",
      "363/363 [==============================] - 2s 4ms/step - loss: 0.3628 - val_loss: 0.3436\n",
      "Epoch 89/100\n",
      "363/363 [==============================] - 2s 4ms/step - loss: 0.3626 - val_loss: 0.3454\n",
      "Epoch 90/100\n",
      "363/363 [==============================] - 2s 4ms/step - loss: 0.3625 - val_loss: 0.3428\n",
      "Epoch 91/100\n",
      "363/363 [==============================] - 1s 4ms/step - loss: 0.3621 - val_loss: 0.3442\n",
      "Epoch 92/100\n",
      "363/363 [==============================] - 2s 4ms/step - loss: 0.3619 - val_loss: 0.3414\n",
      "Epoch 93/100\n",
      "363/363 [==============================] - 2s 4ms/step - loss: 0.3617 - val_loss: 0.3412\n",
      "Epoch 94/100\n",
      "363/363 [==============================] - 2s 4ms/step - loss: 0.3615 - val_loss: 0.3422\n",
      "Epoch 95/100\n",
      "363/363 [==============================] - 2s 4ms/step - loss: 0.3611 - val_loss: 0.3442\n",
      "Epoch 96/100\n",
      "363/363 [==============================] - 1s 4ms/step - loss: 0.3609 - val_loss: 0.3402\n",
      "Epoch 97/100\n",
      "363/363 [==============================] - 2s 4ms/step - loss: 0.3608 - val_loss: 0.3403\n",
      "Epoch 98/100\n",
      "363/363 [==============================] - 2s 4ms/step - loss: 0.3605 - val_loss: 0.3443\n",
      "Epoch 99/100\n",
      "363/363 [==============================] - 2s 4ms/step - loss: 0.3603 - val_loss: 0.3491\n",
      "Epoch 100/100\n",
      "363/363 [==============================] - 2s 4ms/step - loss: 0.3599 - val_loss: 0.3411\n",
      "162/162 [==============================] - 0s 3ms/step - loss: 0.3587\n"
     ]
    }
   ],
   "source": [
    "early_stopping_cb = keras.callbacks.EarlyStopping(patience=10,\n",
    "                                                  restore_best_weights=True)\n",
    "history = model.fit(X_train, y_train, epochs=100,\n",
    "                    validation_data=(X_valid, y_valid),\n",
    "                    callbacks=[early_stopping_cb])\n",
    "mse_test = model.evaluate(X_test, y_test)"
   ]
  },
  {
   "cell_type": "markdown",
   "metadata": {
    "slideshow": {
     "slide_type": "slide"
    }
   },
   "source": [
    "Note that we told it that it could run for as many as 100 epochs if it wanted to, but it stopped after 74.\n",
    "\n",
    "Now we can plot the results."
   ]
  },
  {
   "cell_type": "code",
   "execution_count": 52,
   "metadata": {
    "slideshow": {
     "slide_type": "slide"
    }
   },
   "outputs": [
    {
     "data": {
      "image/png": "[encoded data removed]",
      "text/plain": [
       "<Figure size 864x576 with 1 Axes>"
      ]
     },
     "metadata": {
      "needs_background": "light"
     },
     "output_type": "display_data"
    }
   ],
   "source": [
    "pd.DataFrame(history.history).plot(figsize=(12, 8))\n",
    "plt.grid(True)\n",
    "#plt.gca().set_ylim(0, 1)\n",
    "plt.gca().set_xlabel(\"Epoch\")\n",
    "plt.show()"
   ]
  },
  {
   "cell_type": "markdown",
   "metadata": {
    "slideshow": {
     "slide_type": "slide"
    }
   },
   "source": [
    "Here's an example of how to do regularization with [dropout](https://en.wikipedia.org/wiki/Dilution_(neural_networks)).\n",
    "\n",
    "![DropoutDiagram](https://miro.medium.com/max/1400/1*tvcv2PT3cBAmUtZzQTmjeQ.png)"
   ]
  },
  {
   "cell_type": "code",
   "execution_count": 53,
   "metadata": {
    "slideshow": {
     "slide_type": "slide"
    }
   },
   "outputs": [],
   "source": [
    "#Back to the fashion MNIST data\n",
    "fashion_mnist = keras.datasets.fashion_mnist\n",
    "(X_train_full, y_train_full), (X_test, y_test) = fashion_mnist.load_data()\n",
    "\n",
    "X_valid, X_train = X_train_full[:5000] / 255., X_train_full[5000:] / 255.\n",
    "y_valid, y_train = y_train_full[:5000], y_train_full[5000:]\n",
    "X_test = X_test / 255."
   ]
  },
  {
   "cell_type": "code",
   "execution_count": 54,
   "metadata": {
    "slideshow": {
     "slide_type": "slide"
    }
   },
   "outputs": [
    {
     "name": "stdout",
     "output_type": "stream",
     "text": [
      "Epoch 1/2\n"
     ]
    },
    {
     "name": "stderr",
     "output_type": "stream",
     "text": [
      "2022-11-15 21:10:45.763264: I tensorflow/core/grappler/optimizers/custom_graph_optimizer_registry.cc:114] Plugin optimizer for device_type GPU is enabled.\n"
     ]
    },
    {
     "name": "stdout",
     "output_type": "stream",
     "text": [
      "1719/1719 [==============================] - ETA: 0s - loss: 0.5454 - accuracy: 0.8021"
     ]
    },
    {
     "name": "stderr",
     "output_type": "stream",
     "text": [
      "2022-11-15 21:11:08.057229: I tensorflow/core/grappler/optimizers/custom_graph_optimizer_registry.cc:114] Plugin optimizer for device_type GPU is enabled.\n"
     ]
    },
    {
     "name": "stdout",
     "output_type": "stream",
     "text": [
      "1719/1719 [==============================] - 24s 13ms/step - loss: 0.5454 - accuracy: 0.8021 - val_loss: 0.4133 - val_accuracy: 0.8508\n",
      "Epoch 2/2\n",
      "1719/1719 [==============================] - 22s 13ms/step - loss: 0.4178 - accuracy: 0.8467 - val_loss: 0.3548 - val_accuracy: 0.8694\n"
     ]
    }
   ],
   "source": [
    "#Dropout example\n",
    "model = keras.models.Sequential([\n",
    "    keras.layers.Flatten(input_shape=[28, 28]),\n",
    "    keras.layers.Dropout(rate=0.2), #20% chance of neuron stuck in off position\n",
    "    keras.layers.Dense(300, activation=\"elu\", kernel_initializer=\"he_normal\"),\n",
    "    keras.layers.Dropout(rate=0.2),\n",
    "    keras.layers.Dense(100, activation=\"elu\", kernel_initializer=\"he_normal\"),\n",
    "    keras.layers.Dropout(rate=0.2),\n",
    "    keras.layers.Dense(10, activation=\"softmax\")\n",
    "])\n",
    "model.compile(loss=\"sparse_categorical_crossentropy\", optimizer=\"nadam\", metrics=[\"accuracy\"])\n",
    "n_epochs = 2\n",
    "history = model.fit(X_train, y_train, epochs=n_epochs,\n",
    "                    validation_data=(X_valid, y_valid))"
   ]
  },
  {
   "cell_type": "markdown",
   "metadata": {
    "slideshow": {
     "slide_type": "-"
    }
   },
   "source": [
    "---"
   ]
  },
  {
   "cell_type": "markdown",
   "metadata": {
    "slideshow": {
     "slide_type": "slide"
    }
   },
   "source": [
    "Just as it is often necessary to normalize or standardize our features, sometimes it is helpful to do the same to the output of the hidden layers.  This is called [batch normalization](https://en.wikipedia.org/wiki/Batch_normalization) and is done before passing the data to the activation function.  It make the process more stable and can also make it faster. \n",
    "\n",
    "Here's an example using batch normalization.\n",
    "\n",
    "[GTR: Not sure where to put this.]"
   ]
  },
  {
   "cell_type": "code",
   "execution_count": 55,
   "metadata": {
    "slideshow": {
     "slide_type": "slide"
    }
   },
   "outputs": [],
   "source": [
    "\n",
    "model = keras.models.Sequential([\n",
    "    keras.layers.Flatten(input_shape=[28, 28]),\n",
    "    keras.layers.BatchNormalization(),\n",
    "    keras.layers.Dense(300, activation=\"relu\"),\n",
    "    keras.layers.BatchNormalization(),\n",
    "    keras.layers.Dense(100, activation=\"relu\"),\n",
    "    keras.layers.BatchNormalization(),\n",
    "    keras.layers.Dense(10, activation=\"softmax\")\n",
    "])"
   ]
  },
  {
   "cell_type": "code",
   "execution_count": 56,
   "metadata": {
    "slideshow": {
     "slide_type": "slide"
    }
   },
   "outputs": [
    {
     "name": "stdout",
     "output_type": "stream",
     "text": [
      "Model: \"sequential_3\"\n",
      "_________________________________________________________________\n",
      " Layer (type)                Output Shape              Param #   \n",
      "=================================================================\n",
      " flatten_2 (Flatten)         (None, 784)               0         \n",
      "                                                                 \n",
      " batch_normalization (BatchN  (None, 784)              3136      \n",
      " ormalization)                                                   \n",
      "                                                                 \n",
      " dense_8 (Dense)             (None, 300)               235500    \n",
      "                                                                 \n",
      " batch_normalization_1 (Batc  (None, 300)              1200      \n",
      " hNormalization)                                                 \n",
      "                                                                 \n",
      " dense_9 (Dense)             (None, 100)               30100     \n",
      "                                                                 \n",
      " batch_normalization_2 (Batc  (None, 100)              400       \n",
      " hNormalization)                                                 \n",
      "                                                                 \n",
      " dense_10 (Dense)            (None, 10)                1010      \n",
      "                                                                 \n",
      "=================================================================\n",
      "Total params: 271,346\n",
      "Trainable params: 268,978\n",
      "Non-trainable params: 2,368\n",
      "_________________________________________________________________\n"
     ]
    }
   ],
   "source": [
    "model.summary()"
   ]
  },
  {
   "cell_type": "markdown",
   "metadata": {
    "slideshow": {
     "slide_type": "slide"
    }
   },
   "source": [
    "In some cases you might want to do the batch normalization before applying the activation function.  Here we also turn off the bias parameter because it ends up not being needed and just wastes a parameter."
   ]
  },
  {
   "cell_type": "code",
   "execution_count": 57,
   "metadata": {
    "slideshow": {
     "slide_type": "slide"
    }
   },
   "outputs": [],
   "source": [
    "model = keras.models.Sequential([\n",
    "    keras.layers.Flatten(input_shape=[28, 28]),\n",
    "    keras.layers.BatchNormalization(),\n",
    "    keras.layers.Dense(300, use_bias=False),\n",
    "    keras.layers.BatchNormalization(),\n",
    "    keras.layers.Activation(\"relu\"),\n",
    "    keras.layers.Dense(100, use_bias=False),\n",
    "    keras.layers.BatchNormalization(),\n",
    "    keras.layers.Activation(\"relu\"),\n",
    "    keras.layers.Dense(10, activation=\"softmax\")\n",
    "])"
   ]
  },
  {
   "cell_type": "code",
   "execution_count": 59,
   "metadata": {
    "slideshow": {
     "slide_type": "slide"
    }
   },
   "outputs": [],
   "source": [
    "model.compile(loss=\"sparse_categorical_crossentropy\",\n",
    "              optimizer=keras.optimizers.SGD(learning_rate=1e-3),\n",
    "              metrics=[\"accuracy\"])"
   ]
  },
  {
   "cell_type": "code",
   "execution_count": 60,
   "metadata": {
    "slideshow": {
     "slide_type": "slide"
    }
   },
   "outputs": [
    {
     "name": "stdout",
     "output_type": "stream",
     "text": [
      "Epoch 1/10\n"
     ]
    },
    {
     "name": "stderr",
     "output_type": "stream",
     "text": [
      "2022-11-15 21:11:59.523168: I tensorflow/core/grappler/optimizers/custom_graph_optimizer_registry.cc:114] Plugin optimizer for device_type GPU is enabled.\n"
     ]
    },
    {
     "name": "stdout",
     "output_type": "stream",
     "text": [
      "1719/1719 [==============================] - ETA: 0s - loss: 1.0529 - accuracy: 0.6795"
     ]
    },
    {
     "name": "stderr",
     "output_type": "stream",
     "text": [
      "2022-11-15 21:12:14.735481: I tensorflow/core/grappler/optimizers/custom_graph_optimizer_registry.cc:114] Plugin optimizer for device_type GPU is enabled.\n"
     ]
    },
    {
     "name": "stdout",
     "output_type": "stream",
     "text": [
      "1719/1719 [==============================] - 16s 9ms/step - loss: 1.0529 - accuracy: 0.6795 - val_loss: 0.6736 - val_accuracy: 0.7918\n",
      "Epoch 2/10\n",
      "1719/1719 [==============================] - 15s 9ms/step - loss: 0.6705 - accuracy: 0.7874 - val_loss: 0.5523 - val_accuracy: 0.8228\n",
      "Epoch 3/10\n",
      "1719/1719 [==============================] - 15s 9ms/step - loss: 0.5868 - accuracy: 0.8080 - val_loss: 0.4991 - val_accuracy: 0.8348\n",
      "Epoch 4/10\n",
      "1719/1719 [==============================] - 15s 8ms/step - loss: 0.5370 - accuracy: 0.8220 - val_loss: 0.4676 - val_accuracy: 0.8438\n",
      "Epoch 5/10\n",
      "1719/1719 [==============================] - 15s 9ms/step - loss: 0.5058 - accuracy: 0.8301 - val_loss: 0.4454 - val_accuracy: 0.8520\n",
      "Epoch 6/10\n",
      "1719/1719 [==============================] - 15s 9ms/step - loss: 0.4848 - accuracy: 0.8345 - val_loss: 0.4283 - val_accuracy: 0.8550\n",
      "Epoch 7/10\n",
      "1719/1719 [==============================] - 15s 9ms/step - loss: 0.4685 - accuracy: 0.8401 - val_loss: 0.4159 - val_accuracy: 0.8582\n",
      "Epoch 8/10\n",
      "1719/1719 [==============================] - 15s 9ms/step - loss: 0.4547 - accuracy: 0.8434 - val_loss: 0.4062 - val_accuracy: 0.8628\n",
      "Epoch 9/10\n",
      "1719/1719 [==============================] - 15s 9ms/step - loss: 0.4409 - accuracy: 0.8489 - val_loss: 0.3974 - val_accuracy: 0.8642\n",
      "Epoch 10/10\n",
      "1719/1719 [==============================] - 15s 9ms/step - loss: 0.4283 - accuracy: 0.8532 - val_loss: 0.3903 - val_accuracy: 0.8658\n"
     ]
    }
   ],
   "source": [
    "history = model.fit(X_train, y_train, epochs=10,\n",
    "                    validation_data=(X_valid, y_valid))"
   ]
  },
  {
   "cell_type": "markdown",
   "metadata": {
    "slideshow": {
     "slide_type": "-"
    }
   },
   "source": [
    "---"
   ]
  },
  {
   "cell_type": "markdown",
   "metadata": {
    "slideshow": {
     "slide_type": "slide"
    }
   },
   "source": [
    "We have a number of hyperparameters that can be tuned when building the architecture of our neural network (such as the number of hidden layers and the number of neurons in those layers).  But also the activation functions, learning rates, etc.\n",
    "\n",
    "Just as with other model hyperparameters, we can use cross-validation to determine the optimal number of layers, neurons per layer, etc.  We'll do that in detail later.  For now, let's talk about some guidelines."
   ]
  },
  {
   "cell_type": "markdown",
   "metadata": {
    "slideshow": {
     "slide_type": "slide"
    }
   },
   "source": [
    "### Number of Layers\n",
    "\n",
    "Ivezic: \n",
    "> \"For data that can be represented by a linear model, no layers are required (McCullagh & Nelder 1989).  A single layer network can approximate any continuous function.  Two layers can represent arbitrary decision boundaries for smooth functions (Lippmann 1987).  More layers can represent non-continuous or complex structure within the data.\"  \n",
    "\n",
    "\n",
    "Think about why no layers are needed for linear regression.  We just connect our input to output where they synapses are the weights (slopes) and the output neurons add the constant (intecept).\n",
    "\n",
    "So you might start with a single layer, then add more layers and use cross-validation to determine when you are overfitting."
   ]
  },
  {
   "cell_type": "markdown",
   "metadata": {
    "slideshow": {
     "slide_type": "slide"
    }
   },
   "source": [
    "Geron has a good example of what adding layers does.  Say you had to draw a whole forest, but you couldn't cut and paste anything.  That would be very tedious.  But if you could draw just one leaf and copy that to make a small branch, then scale up a small branch to a big branch and copy that, then attach the branches to a tree trunk and then make copies of the full tree, you wouldn't have to draw all that much.  Each of the layers in a neural network handles  more and more detailed aspects of the problem.  We saw this in the opening pre-lecture experiments.\n",
    "\n",
    "For image recognition, you might need dozens of layers, but also a huge training set to populate those layers."
   ]
  },
  {
   "cell_type": "markdown",
   "metadata": {
    "slideshow": {
     "slide_type": "slide"
    }
   },
   "source": [
    "### Number of Neurons\n",
    "\n",
    "The number of neurons in each layer is also a free parameter.  Typically choose somewhere between twice the number of input nodes and a number between the number of input and output nodes.\n",
    "\n",
    "If there are lots of hidden layers (where \"lots\" is not clearly defined) then we call that a deep neural network or [deep learning](https://en.wikipedia.org/wiki/Deep_learning).  More on that later.\n",
    "\n",
    "\n",
    "Sometimes the number of neurons in each layer goes down.  But it can also be useful to have the same number in each layer so that there is only one hyperparameter (the number of neurons) and not one per layer.\n",
    "\n",
    "In practice a reasonable approach is to simply specify many more layers and neurons than you need and perform regularization.  This can be as simple as just stopping the training when the cross-validation error reaches a minimum, which appropriately (for once) is called [early stopping](https://en.wikipedia.org/wiki/Early_stopping).  Basically, you put your `fit` method into a loop and instantiate with `max_iter=1` and `warm_start=True`.  See Geron (page 141) for an example.  Indeed the examples from the start of class where we had to stop the process is a good illustration of this."
   ]
  },
  {
   "cell_type": "markdown",
   "metadata": {
    "slideshow": {
     "slide_type": "slide"
    }
   },
   "source": [
    "While the number of neurons in the hidden layers are free parameters the number of input and output nodes are constrained by the data and the desired output.  For example, the MNIST digits data requires 784 input neurons (one for each pixel in the 28x28 images) and 10 output neurons (one for each class [digit]).  \n"
   ]
  },
  {
   "cell_type": "markdown",
   "metadata": {
    "slideshow": {
     "slide_type": "slide"
    }
   },
   "source": [
    "#### Faster Optimizers\n",
    "\n",
    "We aren't going to talk about optimizers, but it might be useful for you to have some options to feed into a search for the best parameter using cross validation.  For example `['mse', 'adam', 'sgd', 'adagrad']`."
   ]
  },
  {
   "cell_type": "markdown",
   "metadata": {
    "slideshow": {
     "slide_type": "slide"
    }
   },
   "source": [
    "Now let's use cross validation to determine the best options.  Here we have so many that we'll use [RandomizedSearchCV](https://scikit-learn.org/stable/modules/generated/sklearn.model_selection.RandomizedSearchCV.html) instead of `GridSearchCV`.\n",
    "\n",
    "First we need to do some preprocessing to get sklearn and keras to talk nicely to each other.\n",
    "\n",
    "Start by building the model in a way that the hyperparameters are themselves parameters, then wrap that model in a way that we can use it within sklearn.\n",
    "\n",
    "See\n",
    "https://github.com/ageron/handson-ml2/blob/master/10_neural_nets_with_keras.ipynb"
   ]
  },
  {
   "cell_type": "code",
   "execution_count": 61,
   "metadata": {
    "slideshow": {
     "slide_type": "slide"
    }
   },
   "outputs": [],
   "source": [
    "def build_model(n_hidden=1, n_neurons=10, learning_rate=3e-3, input_shape=[28,28]):\n",
    "    model = keras.models.Sequential()\n",
    "    model.add(keras.layers.Flatten(input_shape=input_shape))\n",
    "    for layer in range(n_hidden): #Because the number of hidden layers is a parameter\n",
    "        model.add(keras.layers.Dense(n_neurons, activation=\"relu\"))\n",
    "    model.add(keras.layers.Dense(10, activation=\"softmax\")) #Output layer\n",
    "    optimizer = keras.optimizers.SGD(lr=learning_rate)\n",
    "    model.compile(loss=\"sparse_categorical_crossentropy\", optimizer=optimizer, metrics=[\"accuracy\"])\n",
    "    return model"
   ]
  },
  {
   "cell_type": "code",
   "execution_count": 62,
   "metadata": {
    "slideshow": {
     "slide_type": "slide"
    }
   },
   "outputs": [
    {
     "name": "stderr",
     "output_type": "stream",
     "text": [
      "/var/folders/d9/ztmb815958bg4d_70wjt822w0000gp/T/ipykernel_70003/244028791.py:1: DeprecationWarning: KerasClassifier is deprecated, use Sci-Keras (https://github.com/adriangb/scikeras) instead. See https://www.adriangb.com/scikeras/stable/migration.html for help migrating.\n",
      "  keras_class = keras.wrappers.scikit_learn.KerasClassifier(build_model)\n"
     ]
    }
   ],
   "source": [
    "keras_class = keras.wrappers.scikit_learn.KerasClassifier(build_model)\n",
    "#Note that there is also a KerasRegressor for regression problems."
   ]
  },
  {
   "cell_type": "markdown",
   "metadata": {
    "slideshow": {
     "slide_type": "slide"
    }
   },
   "source": [
    "`keras_class` can now be used with in sklearn in the same way as any other classifier.  For example:"
   ]
  },
  {
   "cell_type": "code",
   "execution_count": 63,
   "metadata": {
    "slideshow": {
     "slide_type": "slide"
    }
   },
   "outputs": [],
   "source": [
    "from scipy.stats import reciprocal\n",
    "from sklearn.model_selection import RandomizedSearchCV\n",
    "\n",
    "param_distribs = {\n",
    "    #\"n_hidden\": [0, 1, 2, 3],\n",
    "    \"n_hidden\": (0, 1),\n",
    "    #\"n_neurons\": np.arange(1, 30), #This would take too long for class!\n",
    "    \"n_neurons\": (5,10),\n",
    "    #\"learning_rate\": reciprocal(3e-4, 3e-2) #Not quite sure what this does, but it makes it take forever!\n",
    "}\n",
    "\n",
    "rnd_search_cv = RandomizedSearchCV(keras_class, param_distribs, n_iter=10, cv=3, verbose=2)"
   ]
  },
  {
   "cell_type": "markdown",
   "metadata": {
    "slideshow": {
     "slide_type": "slide"
    }
   },
   "source": [
    "We'll try this on the MNIST digits data."
   ]
  },
  {
   "cell_type": "code",
   "execution_count": 64,
   "metadata": {
    "slideshow": {
     "slide_type": "slide"
    }
   },
   "outputs": [],
   "source": [
    "(X_train_full, y_train_full), (X_test, y_test) = keras.datasets.mnist.load_data()\n",
    "X_valid, X_train = X_train_full[:5000] / 255., X_train_full[5000:] / 255.\n",
    "y_valid, y_train = y_train_full[:5000], y_train_full[5000:]\n",
    "X_test = X_test / 255.\n",
    "X_new = X_test[:10]\n",
    "y_new = y_test[:10]"
   ]
  },
  {
   "cell_type": "code",
   "execution_count": 65,
   "metadata": {
    "slideshow": {
     "slide_type": "slide"
    }
   },
   "outputs": [
    {
     "data": {
      "image/png": "[encoded data removed]",
      "text/plain": [
       "<Figure size 432x288 with 1 Axes>"
      ]
     },
     "metadata": {
      "needs_background": "light"
     },
     "output_type": "display_data"
    }
   ],
   "source": [
    "plt.imshow(X_train[0], cmap=\"binary\", origin=\"upper\")\n",
    "plt.axis('off')\n",
    "plt.show()"
   ]
  },
  {
   "cell_type": "markdown",
   "metadata": {
    "slideshow": {
     "slide_type": "slide"
    }
   },
   "source": [
    "Note that we are doing 3-fold cross validation, so the validation set isn't being used for training, just for early stopping."
   ]
  },
  {
   "cell_type": "code",
   "execution_count": 66,
   "metadata": {
    "slideshow": {
     "slide_type": "slide"
    }
   },
   "outputs": [
    {
     "name": "stderr",
     "output_type": "stream",
     "text": [
      "/Users/gtr/opt/anaconda3/lib/python3.9/site-packages/sklearn/model_selection/_search.py:292: UserWarning: The total space of parameters 4 is smaller than n_iter=10. Running 4 iterations. For exhaustive searches, use GridSearchCV.\n",
      "  warnings.warn(\n",
      "/Users/gtr/opt/anaconda3/lib/python3.9/site-packages/keras/optimizers/optimizer_v2/gradient_descent.py:111: UserWarning: The `lr` argument is deprecated, use `learning_rate` instead.\n",
      "  super().__init__(name, **kwargs)\n"
     ]
    },
    {
     "name": "stdout",
     "output_type": "stream",
     "text": [
      "Fitting 3 folds for each of 4 candidates, totalling 12 fits\n",
      "Epoch 1/100\n",
      "  21/1146 [..............................] - ETA: 5s - loss: 2.2988 - accuracy: 0.1131"
     ]
    },
    {
     "name": "stderr",
     "output_type": "stream",
     "text": [
      "2022-11-15 21:19:47.963742: I tensorflow/core/grappler/optimizers/custom_graph_optimizer_registry.cc:114] Plugin optimizer for device_type GPU is enabled.\n"
     ]
    },
    {
     "name": "stdout",
     "output_type": "stream",
     "text": [
      "1146/1146 [==============================] - ETA: 0s - loss: 1.3967 - accuracy: 0.6671"
     ]
    },
    {
     "name": "stderr",
     "output_type": "stream",
     "text": [
      "2022-11-15 21:19:53.348600: I tensorflow/core/grappler/optimizers/custom_graph_optimizer_registry.cc:114] Plugin optimizer for device_type GPU is enabled.\n"
     ]
    },
    {
     "name": "stdout",
     "output_type": "stream",
     "text": [
      "1146/1146 [==============================] - 6s 5ms/step - loss: 1.3967 - accuracy: 0.6671 - val_loss: 0.9403 - val_accuracy: 0.8138\n",
      "Epoch 2/100\n",
      "1146/1146 [==============================] - 6s 5ms/step - loss: 0.8106 - accuracy: 0.8281 - val_loss: 0.6945 - val_accuracy: 0.8496\n",
      "Epoch 3/100\n",
      "1146/1146 [==============================] - 6s 5ms/step - loss: 0.6551 - accuracy: 0.8501 - val_loss: 0.5930 - val_accuracy: 0.8652\n",
      "Epoch 4/100\n",
      "1146/1146 [==============================] - 6s 5ms/step - loss: 0.5800 - accuracy: 0.8605 - val_loss: 0.5354 - val_accuracy: 0.8738\n",
      "Epoch 5/100\n",
      "1146/1146 [==============================] - 6s 5ms/step - loss: 0.5342 - accuracy: 0.8675 - val_loss: 0.4980 - val_accuracy: 0.8788\n",
      "Epoch 6/100\n",
      "1146/1146 [==============================] - 6s 5ms/step - loss: 0.5029 - accuracy: 0.8731 - val_loss: 0.4711 - val_accuracy: 0.8838\n",
      "Epoch 7/100\n",
      "1146/1146 [==============================] - 6s 5ms/step - loss: 0.4798 - accuracy: 0.8773 - val_loss: 0.4508 - val_accuracy: 0.8870\n",
      "Epoch 8/100\n",
      "1146/1146 [==============================] - 6s 5ms/step - loss: 0.4618 - accuracy: 0.8798 - val_loss: 0.4347 - val_accuracy: 0.8894\n",
      "Epoch 9/100\n",
      "1146/1146 [==============================] - 6s 5ms/step - loss: 0.4473 - accuracy: 0.8825 - val_loss: 0.4214 - val_accuracy: 0.8912\n",
      "Epoch 10/100\n",
      "1146/1146 [==============================] - 5s 5ms/step - loss: 0.4353 - accuracy: 0.8849 - val_loss: 0.4105 - val_accuracy: 0.8934\n",
      "Epoch 11/100\n",
      "1146/1146 [==============================] - 5s 5ms/step - loss: 0.4252 - accuracy: 0.8871 - val_loss: 0.4011 - val_accuracy: 0.8960\n",
      "Epoch 12/100\n",
      "1146/1146 [==============================] - 5s 5ms/step - loss: 0.4165 - accuracy: 0.8888 - val_loss: 0.3931 - val_accuracy: 0.8972\n",
      "Epoch 13/100\n",
      "1146/1146 [==============================] - 5s 5ms/step - loss: 0.4088 - accuracy: 0.8900 - val_loss: 0.3861 - val_accuracy: 0.8976\n",
      "Epoch 14/100\n",
      "1146/1146 [==============================] - 5s 5ms/step - loss: 0.4021 - accuracy: 0.8916 - val_loss: 0.3798 - val_accuracy: 0.8990\n",
      "Epoch 15/100\n",
      "1146/1146 [==============================] - 6s 5ms/step - loss: 0.3961 - accuracy: 0.8930 - val_loss: 0.3742 - val_accuracy: 0.9006\n",
      "Epoch 16/100\n",
      "1146/1146 [==============================] - 6s 5ms/step - loss: 0.3907 - accuracy: 0.8941 - val_loss: 0.3692 - val_accuracy: 0.9022\n",
      "Epoch 17/100\n",
      "1146/1146 [==============================] - 5s 5ms/step - loss: 0.3857 - accuracy: 0.8954 - val_loss: 0.3648 - val_accuracy: 0.9042\n",
      "Epoch 18/100\n",
      "1146/1146 [==============================] - 5s 5ms/step - loss: 0.3813 - accuracy: 0.8959 - val_loss: 0.3606 - val_accuracy: 0.9052\n",
      "Epoch 19/100\n",
      "1146/1146 [==============================] - 6s 5ms/step - loss: 0.3772 - accuracy: 0.8967 - val_loss: 0.3570 - val_accuracy: 0.9058\n",
      "Epoch 20/100\n",
      "1146/1146 [==============================] - 5s 5ms/step - loss: 0.3735 - accuracy: 0.8981 - val_loss: 0.3534 - val_accuracy: 0.9070\n",
      "Epoch 21/100\n",
      "1146/1146 [==============================] - 6s 5ms/step - loss: 0.3699 - accuracy: 0.8984 - val_loss: 0.3503 - val_accuracy: 0.9076\n",
      "Epoch 22/100\n",
      "1146/1146 [==============================] - 5s 5ms/step - loss: 0.3667 - accuracy: 0.8995 - val_loss: 0.3474 - val_accuracy: 0.9080\n",
      "Epoch 23/100\n",
      "1146/1146 [==============================] - 5s 5ms/step - loss: 0.3637 - accuracy: 0.9001 - val_loss: 0.3445 - val_accuracy: 0.9090\n",
      "Epoch 24/100\n",
      "1146/1146 [==============================] - 5s 5ms/step - loss: 0.3608 - accuracy: 0.9008 - val_loss: 0.3419 - val_accuracy: 0.9094\n",
      "Epoch 25/100\n",
      "1146/1146 [==============================] - 5s 5ms/step - loss: 0.3581 - accuracy: 0.9012 - val_loss: 0.3395 - val_accuracy: 0.9096\n",
      "Epoch 26/100\n",
      "1146/1146 [==============================] - 5s 4ms/step - loss: 0.3556 - accuracy: 0.9017 - val_loss: 0.3373 - val_accuracy: 0.9102\n",
      "Epoch 27/100\n",
      "1146/1146 [==============================] - 5s 4ms/step - loss: 0.3533 - accuracy: 0.9022 - val_loss: 0.3352 - val_accuracy: 0.9108\n",
      "Epoch 28/100\n",
      "1146/1146 [==============================] - 5s 5ms/step - loss: 0.3510 - accuracy: 0.9028 - val_loss: 0.3332 - val_accuracy: 0.9102\n",
      "Epoch 29/100\n",
      "1146/1146 [==============================] - 5s 5ms/step - loss: 0.3489 - accuracy: 0.9025 - val_loss: 0.3313 - val_accuracy: 0.9108\n",
      "Epoch 30/100\n",
      "1146/1146 [==============================] - 6s 5ms/step - loss: 0.3469 - accuracy: 0.9036 - val_loss: 0.3295 - val_accuracy: 0.9112\n",
      "Epoch 31/100\n",
      "1146/1146 [==============================] - 5s 5ms/step - loss: 0.3450 - accuracy: 0.9036 - val_loss: 0.3277 - val_accuracy: 0.9120\n",
      "Epoch 32/100\n",
      "1146/1146 [==============================] - 5s 5ms/step - loss: 0.3431 - accuracy: 0.9042 - val_loss: 0.3262 - val_accuracy: 0.9120\n",
      "Epoch 33/100\n",
      "1146/1146 [==============================] - 5s 5ms/step - loss: 0.3414 - accuracy: 0.9041 - val_loss: 0.3246 - val_accuracy: 0.9124\n",
      "Epoch 34/100\n",
      "1146/1146 [==============================] - 6s 5ms/step - loss: 0.3397 - accuracy: 0.9053 - val_loss: 0.3232 - val_accuracy: 0.9140\n",
      "Epoch 35/100\n",
      "1146/1146 [==============================] - 6s 5ms/step - loss: 0.3381 - accuracy: 0.9054 - val_loss: 0.3217 - val_accuracy: 0.9136\n",
      "Epoch 36/100\n",
      "1146/1146 [==============================] - 5s 5ms/step - loss: 0.3366 - accuracy: 0.9058 - val_loss: 0.3205 - val_accuracy: 0.9138\n",
      "Epoch 37/100\n",
      "1146/1146 [==============================] - 5s 5ms/step - loss: 0.3352 - accuracy: 0.9060 - val_loss: 0.3191 - val_accuracy: 0.9146\n",
      "Epoch 38/100\n",
      "1146/1146 [==============================] - 5s 5ms/step - loss: 0.3337 - accuracy: 0.9064 - val_loss: 0.3180 - val_accuracy: 0.9148\n",
      "Epoch 39/100\n",
      "1146/1146 [==============================] - 5s 4ms/step - loss: 0.3324 - accuracy: 0.9071 - val_loss: 0.3169 - val_accuracy: 0.9148\n",
      "Epoch 40/100\n",
      "1146/1146 [==============================] - 5s 4ms/step - loss: 0.3311 - accuracy: 0.9074 - val_loss: 0.3157 - val_accuracy: 0.9154\n",
      "Epoch 41/100\n",
      "1146/1146 [==============================] - 6s 5ms/step - loss: 0.3298 - accuracy: 0.9079 - val_loss: 0.3146 - val_accuracy: 0.9152\n",
      "Epoch 42/100\n",
      "1146/1146 [==============================] - 6s 5ms/step - loss: 0.3286 - accuracy: 0.9081 - val_loss: 0.3136 - val_accuracy: 0.9160\n",
      "Epoch 43/100\n",
      "1146/1146 [==============================] - 5s 5ms/step - loss: 0.3274 - accuracy: 0.9088 - val_loss: 0.3126 - val_accuracy: 0.9156\n",
      "Epoch 44/100\n",
      "1146/1146 [==============================] - 5s 5ms/step - loss: 0.3263 - accuracy: 0.9088 - val_loss: 0.3118 - val_accuracy: 0.9160\n",
      "Epoch 45/100\n",
      "1146/1146 [==============================] - 5s 5ms/step - loss: 0.3252 - accuracy: 0.9090 - val_loss: 0.3108 - val_accuracy: 0.9166\n",
      "Epoch 46/100\n",
      "1146/1146 [==============================] - 5s 5ms/step - loss: 0.3242 - accuracy: 0.9095 - val_loss: 0.3099 - val_accuracy: 0.9162\n",
      "Epoch 47/100\n",
      "1146/1146 [==============================] - 5s 5ms/step - loss: 0.3231 - accuracy: 0.9097 - val_loss: 0.3091 - val_accuracy: 0.9166\n",
      "Epoch 48/100\n",
      "1146/1146 [==============================] - 5s 5ms/step - loss: 0.3221 - accuracy: 0.9105 - val_loss: 0.3082 - val_accuracy: 0.9170\n",
      "Epoch 49/100\n",
      "1146/1146 [==============================] - 5s 5ms/step - loss: 0.3211 - accuracy: 0.9103 - val_loss: 0.3074 - val_accuracy: 0.9166\n",
      "Epoch 50/100\n",
      "1146/1146 [==============================] - 5s 5ms/step - loss: 0.3202 - accuracy: 0.9105 - val_loss: 0.3066 - val_accuracy: 0.9166\n",
      "Epoch 51/100\n",
      "1146/1146 [==============================] - 5s 5ms/step - loss: 0.3193 - accuracy: 0.9108 - val_loss: 0.3058 - val_accuracy: 0.9170\n",
      "Epoch 52/100\n",
      "1146/1146 [==============================] - 5s 5ms/step - loss: 0.3184 - accuracy: 0.9107 - val_loss: 0.3052 - val_accuracy: 0.9170\n",
      "Epoch 53/100\n",
      "1146/1146 [==============================] - 5s 5ms/step - loss: 0.3175 - accuracy: 0.9114 - val_loss: 0.3045 - val_accuracy: 0.9176\n",
      "Epoch 54/100\n",
      "1146/1146 [==============================] - 5s 5ms/step - loss: 0.3167 - accuracy: 0.9113 - val_loss: 0.3037 - val_accuracy: 0.9180\n",
      "Epoch 55/100\n",
      "1146/1146 [==============================] - 5s 5ms/step - loss: 0.3159 - accuracy: 0.9116 - val_loss: 0.3030 - val_accuracy: 0.9178\n",
      "Epoch 56/100\n",
      "1146/1146 [==============================] - 5s 5ms/step - loss: 0.3151 - accuracy: 0.9119 - val_loss: 0.3026 - val_accuracy: 0.9190\n",
      "Epoch 57/100\n"
     ]
    },
    {
     "name": "stdout",
     "output_type": "stream",
     "text": [
      "1146/1146 [==============================] - 5s 5ms/step - loss: 0.3143 - accuracy: 0.9123 - val_loss: 0.3019 - val_accuracy: 0.9186\n",
      "Epoch 58/100\n",
      "1146/1146 [==============================] - 5s 5ms/step - loss: 0.3135 - accuracy: 0.9122 - val_loss: 0.3012 - val_accuracy: 0.9188\n",
      "Epoch 59/100\n",
      "1146/1146 [==============================] - 5s 5ms/step - loss: 0.3128 - accuracy: 0.9126 - val_loss: 0.3007 - val_accuracy: 0.9192\n",
      "Epoch 60/100\n",
      "1146/1146 [==============================] - 5s 5ms/step - loss: 0.3121 - accuracy: 0.9129 - val_loss: 0.3000 - val_accuracy: 0.9194\n",
      "Epoch 61/100\n",
      "1146/1146 [==============================] - 5s 5ms/step - loss: 0.3114 - accuracy: 0.9132 - val_loss: 0.2996 - val_accuracy: 0.9200\n",
      "Epoch 62/100\n",
      "1146/1146 [==============================] - 5s 5ms/step - loss: 0.3107 - accuracy: 0.9134 - val_loss: 0.2989 - val_accuracy: 0.9194\n",
      "Epoch 63/100\n",
      "1146/1146 [==============================] - 5s 5ms/step - loss: 0.3100 - accuracy: 0.9132 - val_loss: 0.2984 - val_accuracy: 0.9196\n",
      "Epoch 64/100\n",
      "1146/1146 [==============================] - 5s 5ms/step - loss: 0.3093 - accuracy: 0.9135 - val_loss: 0.2978 - val_accuracy: 0.9200\n",
      "Epoch 65/100\n",
      "1146/1146 [==============================] - 5s 5ms/step - loss: 0.3087 - accuracy: 0.9139 - val_loss: 0.2973 - val_accuracy: 0.9196\n",
      "Epoch 66/100\n",
      "1146/1146 [==============================] - 5s 5ms/step - loss: 0.3081 - accuracy: 0.9138 - val_loss: 0.2969 - val_accuracy: 0.9194\n",
      "Epoch 67/100\n",
      "1146/1146 [==============================] - 5s 5ms/step - loss: 0.3075 - accuracy: 0.9141 - val_loss: 0.2965 - val_accuracy: 0.9208\n",
      "Epoch 68/100\n",
      "1146/1146 [==============================] - 5s 5ms/step - loss: 0.3069 - accuracy: 0.9144 - val_loss: 0.2959 - val_accuracy: 0.9208\n",
      "Epoch 69/100\n",
      "1146/1146 [==============================] - 5s 5ms/step - loss: 0.3063 - accuracy: 0.9143 - val_loss: 0.2957 - val_accuracy: 0.9200\n",
      "Epoch 70/100\n",
      "1146/1146 [==============================] - 5s 5ms/step - loss: 0.3057 - accuracy: 0.9146 - val_loss: 0.2950 - val_accuracy: 0.9202\n",
      "Epoch 71/100\n",
      "1146/1146 [==============================] - 5s 5ms/step - loss: 0.3052 - accuracy: 0.9144 - val_loss: 0.2946 - val_accuracy: 0.9210\n",
      "Epoch 72/100\n",
      "1146/1146 [==============================] - 5s 5ms/step - loss: 0.3046 - accuracy: 0.9147 - val_loss: 0.2944 - val_accuracy: 0.9218\n",
      "Epoch 73/100\n",
      "1146/1146 [==============================] - 5s 5ms/step - loss: 0.3041 - accuracy: 0.9147 - val_loss: 0.2938 - val_accuracy: 0.9212\n",
      "Epoch 74/100\n",
      "1146/1146 [==============================] - 5s 5ms/step - loss: 0.3035 - accuracy: 0.9150 - val_loss: 0.2934 - val_accuracy: 0.9214\n",
      "Epoch 75/100\n",
      "1146/1146 [==============================] - 5s 5ms/step - loss: 0.3030 - accuracy: 0.9152 - val_loss: 0.2930 - val_accuracy: 0.9214\n",
      "Epoch 76/100\n",
      "1146/1146 [==============================] - 5s 5ms/step - loss: 0.3025 - accuracy: 0.9152 - val_loss: 0.2926 - val_accuracy: 0.9216\n",
      "Epoch 77/100\n",
      "1146/1146 [==============================] - 5s 5ms/step - loss: 0.3020 - accuracy: 0.9155 - val_loss: 0.2923 - val_accuracy: 0.9218\n",
      "Epoch 78/100\n",
      "1146/1146 [==============================] - 5s 5ms/step - loss: 0.3014 - accuracy: 0.9155 - val_loss: 0.2920 - val_accuracy: 0.9218\n",
      "Epoch 79/100\n",
      "1146/1146 [==============================] - 5s 5ms/step - loss: 0.3010 - accuracy: 0.9155 - val_loss: 0.2914 - val_accuracy: 0.9214\n",
      "Epoch 80/100\n",
      "1146/1146 [==============================] - 5s 5ms/step - loss: 0.3005 - accuracy: 0.9156 - val_loss: 0.2911 - val_accuracy: 0.9214\n",
      "Epoch 81/100\n",
      "1146/1146 [==============================] - 5s 5ms/step - loss: 0.3000 - accuracy: 0.9158 - val_loss: 0.2908 - val_accuracy: 0.9216\n",
      "Epoch 82/100\n",
      "1146/1146 [==============================] - 5s 5ms/step - loss: 0.2996 - accuracy: 0.9161 - val_loss: 0.2904 - val_accuracy: 0.9216\n",
      "Epoch 83/100\n",
      "1146/1146 [==============================] - 5s 5ms/step - loss: 0.2991 - accuracy: 0.9162 - val_loss: 0.2901 - val_accuracy: 0.9216\n",
      "Epoch 84/100\n",
      "1146/1146 [==============================] - 5s 5ms/step - loss: 0.2987 - accuracy: 0.9165 - val_loss: 0.2898 - val_accuracy: 0.9222\n",
      "Epoch 85/100\n",
      "1146/1146 [==============================] - 5s 5ms/step - loss: 0.2982 - accuracy: 0.9164 - val_loss: 0.2894 - val_accuracy: 0.9216\n",
      "Epoch 86/100\n",
      "1146/1146 [==============================] - 5s 5ms/step - loss: 0.2978 - accuracy: 0.9162 - val_loss: 0.2892 - val_accuracy: 0.9218\n",
      "Epoch 87/100\n",
      "1146/1146 [==============================] - 5s 5ms/step - loss: 0.2974 - accuracy: 0.9167 - val_loss: 0.2888 - val_accuracy: 0.9218\n",
      "Epoch 88/100\n",
      "1146/1146 [==============================] - 5s 5ms/step - loss: 0.2970 - accuracy: 0.9168 - val_loss: 0.2886 - val_accuracy: 0.9220\n",
      "Epoch 89/100\n",
      "1146/1146 [==============================] - 5s 5ms/step - loss: 0.2966 - accuracy: 0.9168 - val_loss: 0.2883 - val_accuracy: 0.9220\n",
      "Epoch 90/100\n",
      "1146/1146 [==============================] - 5s 5ms/step - loss: 0.2962 - accuracy: 0.9171 - val_loss: 0.2879 - val_accuracy: 0.9220\n",
      "Epoch 91/100\n",
      "1146/1146 [==============================] - 5s 5ms/step - loss: 0.2958 - accuracy: 0.9170 - val_loss: 0.2877 - val_accuracy: 0.9216\n",
      "Epoch 92/100\n",
      "1146/1146 [==============================] - 5s 5ms/step - loss: 0.2954 - accuracy: 0.9174 - val_loss: 0.2874 - val_accuracy: 0.9220\n",
      "Epoch 93/100\n",
      "1146/1146 [==============================] - 5s 5ms/step - loss: 0.2949 - accuracy: 0.9174 - val_loss: 0.2871 - val_accuracy: 0.9220\n",
      "Epoch 94/100\n",
      "1146/1146 [==============================] - 5s 5ms/step - loss: 0.2946 - accuracy: 0.9173 - val_loss: 0.2868 - val_accuracy: 0.9222\n",
      "Epoch 95/100\n",
      "1146/1146 [==============================] - 5s 5ms/step - loss: 0.2942 - accuracy: 0.9177 - val_loss: 0.2866 - val_accuracy: 0.9218\n",
      "Epoch 96/100\n",
      "1146/1146 [==============================] - 5s 5ms/step - loss: 0.2938 - accuracy: 0.9176 - val_loss: 0.2865 - val_accuracy: 0.9222\n",
      "Epoch 97/100\n",
      "1146/1146 [==============================] - 5s 5ms/step - loss: 0.2935 - accuracy: 0.9181 - val_loss: 0.2861 - val_accuracy: 0.9216\n",
      "Epoch 98/100\n",
      "1146/1146 [==============================] - 5s 5ms/step - loss: 0.2931 - accuracy: 0.9176 - val_loss: 0.2858 - val_accuracy: 0.9220\n",
      "Epoch 99/100\n",
      "1146/1146 [==============================] - 5s 5ms/step - loss: 0.2928 - accuracy: 0.9176 - val_loss: 0.2855 - val_accuracy: 0.9222\n",
      "Epoch 100/100\n",
      "1146/1146 [==============================] - 5s 5ms/step - loss: 0.2924 - accuracy: 0.9182 - val_loss: 0.2853 - val_accuracy: 0.9222\n",
      " 26/573 [>.............................] - ETA: 2s - loss: 0.2953 - accuracy: 0.9159"
     ]
    },
    {
     "name": "stderr",
     "output_type": "stream",
     "text": [
      "2022-11-15 21:28:48.600068: I tensorflow/core/grappler/optimizers/custom_graph_optimizer_registry.cc:114] Plugin optimizer for device_type GPU is enabled.\n"
     ]
    },
    {
     "name": "stdout",
     "output_type": "stream",
     "text": [
      "573/573 [==============================] - 2s 4ms/step - loss: 0.3142 - accuracy: 0.9123\n",
      "[CV] END ............................n_hidden=0, n_neurons=5; total time= 9.1min\n",
      "Epoch 1/100\n"
     ]
    },
    {
     "name": "stderr",
     "output_type": "stream",
     "text": [
      "/Users/gtr/opt/anaconda3/lib/python3.9/site-packages/keras/optimizers/optimizer_v2/gradient_descent.py:111: UserWarning: The `lr` argument is deprecated, use `learning_rate` instead.\n",
      "  super().__init__(name, **kwargs)\n"
     ]
    },
    {
     "name": "stdout",
     "output_type": "stream",
     "text": [
      "  24/1146 [..............................] - ETA: 5s - loss: 2.4476 - accuracy: 0.0742"
     ]
    },
    {
     "name": "stderr",
     "output_type": "stream",
     "text": [
      "2022-11-15 21:28:51.156980: I tensorflow/core/grappler/optimizers/custom_graph_optimizer_registry.cc:114] Plugin optimizer for device_type GPU is enabled.\n"
     ]
    },
    {
     "name": "stdout",
     "output_type": "stream",
     "text": [
      "1146/1146 [==============================] - ETA: 0s - loss: 1.4497 - accuracy: 0.6399"
     ]
    },
    {
     "name": "stderr",
     "output_type": "stream",
     "text": [
      "2022-11-15 21:28:56.143366: I tensorflow/core/grappler/optimizers/custom_graph_optimizer_registry.cc:114] Plugin optimizer for device_type GPU is enabled.\n"
     ]
    },
    {
     "name": "stdout",
     "output_type": "stream",
     "text": [
      "1146/1146 [==============================] - 6s 5ms/step - loss: 1.4497 - accuracy: 0.6399 - val_loss: 0.9596 - val_accuracy: 0.7946\n",
      "Epoch 2/100\n",
      "1146/1146 [==============================] - 5s 5ms/step - loss: 0.8180 - accuracy: 0.8231 - val_loss: 0.7037 - val_accuracy: 0.8442\n",
      "Epoch 3/100\n",
      "1146/1146 [==============================] - 5s 5ms/step - loss: 0.6571 - accuracy: 0.8479 - val_loss: 0.5994 - val_accuracy: 0.8618\n",
      "Epoch 4/100\n",
      "1146/1146 [==============================] - 5s 5ms/step - loss: 0.5802 - accuracy: 0.8601 - val_loss: 0.5407 - val_accuracy: 0.8682\n",
      "Epoch 5/100\n",
      "1146/1146 [==============================] - 5s 5ms/step - loss: 0.5336 - accuracy: 0.8673 - val_loss: 0.5030 - val_accuracy: 0.8726\n",
      "Epoch 6/100\n",
      "1146/1146 [==============================] - 5s 5ms/step - loss: 0.5017 - accuracy: 0.8731 - val_loss: 0.4750 - val_accuracy: 0.8778\n",
      "Epoch 7/100\n",
      "1146/1146 [==============================] - 5s 5ms/step - loss: 0.4783 - accuracy: 0.8762 - val_loss: 0.4543 - val_accuracy: 0.8828\n",
      "Epoch 8/100\n",
      "1146/1146 [==============================] - 5s 5ms/step - loss: 0.4602 - accuracy: 0.8798 - val_loss: 0.4382 - val_accuracy: 0.8858\n",
      "Epoch 9/100\n",
      "1146/1146 [==============================] - 5s 5ms/step - loss: 0.4456 - accuracy: 0.8831 - val_loss: 0.4247 - val_accuracy: 0.8876\n",
      "Epoch 10/100\n",
      "1146/1146 [==============================] - 5s 5ms/step - loss: 0.4335 - accuracy: 0.8856 - val_loss: 0.4135 - val_accuracy: 0.8900\n",
      "Epoch 11/100\n",
      "1146/1146 [==============================] - 5s 5ms/step - loss: 0.4233 - accuracy: 0.8880 - val_loss: 0.4038 - val_accuracy: 0.8928\n",
      "Epoch 12/100\n",
      "1146/1146 [==============================] - 5s 5ms/step - loss: 0.4146 - accuracy: 0.8895 - val_loss: 0.3956 - val_accuracy: 0.8942\n",
      "Epoch 13/100\n",
      "1146/1146 [==============================] - 5s 5ms/step - loss: 0.4069 - accuracy: 0.8910 - val_loss: 0.3889 - val_accuracy: 0.8948\n",
      "Epoch 14/100\n",
      "1146/1146 [==============================] - 5s 5ms/step - loss: 0.4002 - accuracy: 0.8930 - val_loss: 0.3825 - val_accuracy: 0.8956\n",
      "Epoch 15/100\n",
      "1146/1146 [==============================] - 6s 5ms/step - loss: 0.3942 - accuracy: 0.8939 - val_loss: 0.3767 - val_accuracy: 0.8976\n",
      "Epoch 16/100\n",
      "1146/1146 [==============================] - 6s 5ms/step - loss: 0.3888 - accuracy: 0.8955 - val_loss: 0.3717 - val_accuracy: 0.8984\n",
      "Epoch 17/100\n",
      "1146/1146 [==============================] - 6s 5ms/step - loss: 0.3839 - accuracy: 0.8962 - val_loss: 0.3671 - val_accuracy: 0.9002\n",
      "Epoch 18/100\n",
      "1146/1146 [==============================] - 6s 5ms/step - loss: 0.3794 - accuracy: 0.8975 - val_loss: 0.3631 - val_accuracy: 0.9006\n",
      "Epoch 19/100\n",
      "1146/1146 [==============================] - 6s 5ms/step - loss: 0.3754 - accuracy: 0.8985 - val_loss: 0.3591 - val_accuracy: 0.9020\n",
      "Epoch 20/100\n",
      "1146/1146 [==============================] - 6s 5ms/step - loss: 0.3716 - accuracy: 0.8997 - val_loss: 0.3555 - val_accuracy: 0.9042\n",
      "Epoch 21/100\n",
      "1146/1146 [==============================] - 6s 5ms/step - loss: 0.3681 - accuracy: 0.9007 - val_loss: 0.3525 - val_accuracy: 0.9046\n",
      "Epoch 22/100\n",
      "1146/1146 [==============================] - 5s 5ms/step - loss: 0.3649 - accuracy: 0.9011 - val_loss: 0.3495 - val_accuracy: 0.9046\n",
      "Epoch 23/100\n",
      "1146/1146 [==============================] - 6s 5ms/step - loss: 0.3618 - accuracy: 0.9022 - val_loss: 0.3466 - val_accuracy: 0.9060\n",
      "Epoch 24/100\n",
      "1146/1146 [==============================] - 5s 5ms/step - loss: 0.3590 - accuracy: 0.9028 - val_loss: 0.3440 - val_accuracy: 0.9052\n",
      "Epoch 25/100\n",
      "1146/1146 [==============================] - 5s 5ms/step - loss: 0.3564 - accuracy: 0.9035 - val_loss: 0.3415 - val_accuracy: 0.9074\n",
      "Epoch 26/100\n",
      "1146/1146 [==============================] - 6s 5ms/step - loss: 0.3538 - accuracy: 0.9044 - val_loss: 0.3394 - val_accuracy: 0.9070\n",
      "Epoch 27/100\n",
      "1146/1146 [==============================] - 6s 5ms/step - loss: 0.3515 - accuracy: 0.9048 - val_loss: 0.3372 - val_accuracy: 0.9074\n",
      "Epoch 28/100\n",
      "1146/1146 [==============================] - 6s 5ms/step - loss: 0.3493 - accuracy: 0.9052 - val_loss: 0.3350 - val_accuracy: 0.9082\n",
      "Epoch 29/100\n",
      "1146/1146 [==============================] - 6s 5ms/step - loss: 0.3472 - accuracy: 0.9056 - val_loss: 0.3332 - val_accuracy: 0.9088\n",
      "Epoch 30/100\n",
      "1146/1146 [==============================] - 5s 5ms/step - loss: 0.3451 - accuracy: 0.9062 - val_loss: 0.3314 - val_accuracy: 0.9106\n",
      "Epoch 31/100\n",
      "1146/1146 [==============================] - 5s 5ms/step - loss: 0.3432 - accuracy: 0.9069 - val_loss: 0.3297 - val_accuracy: 0.9092\n",
      "Epoch 32/100\n",
      "1146/1146 [==============================] - 5s 5ms/step - loss: 0.3414 - accuracy: 0.9070 - val_loss: 0.3281 - val_accuracy: 0.9108\n",
      "Epoch 33/100\n",
      "1146/1146 [==============================] - 6s 5ms/step - loss: 0.3397 - accuracy: 0.9077 - val_loss: 0.3264 - val_accuracy: 0.9108\n",
      "Epoch 34/100\n",
      "1146/1146 [==============================] - 6s 5ms/step - loss: 0.3380 - accuracy: 0.9080 - val_loss: 0.3249 - val_accuracy: 0.9102\n",
      "Epoch 35/100\n",
      "1146/1146 [==============================] - 6s 5ms/step - loss: 0.3364 - accuracy: 0.9087 - val_loss: 0.3235 - val_accuracy: 0.9104\n",
      "Epoch 36/100\n",
      "1146/1146 [==============================] - 6s 5ms/step - loss: 0.3349 - accuracy: 0.9085 - val_loss: 0.3221 - val_accuracy: 0.9108\n",
      "Epoch 37/100\n",
      "1146/1146 [==============================] - 6s 5ms/step - loss: 0.3334 - accuracy: 0.9090 - val_loss: 0.3208 - val_accuracy: 0.9118\n",
      "Epoch 38/100\n",
      "1146/1146 [==============================] - 6s 5ms/step - loss: 0.3320 - accuracy: 0.9096 - val_loss: 0.3195 - val_accuracy: 0.9124\n",
      "Epoch 39/100\n",
      "1146/1146 [==============================] - 5s 5ms/step - loss: 0.3307 - accuracy: 0.9094 - val_loss: 0.3185 - val_accuracy: 0.9116\n",
      "Epoch 40/100\n",
      "1146/1146 [==============================] - 6s 5ms/step - loss: 0.3294 - accuracy: 0.9102 - val_loss: 0.3174 - val_accuracy: 0.9122\n",
      "Epoch 41/100\n",
      "1146/1146 [==============================] - 6s 5ms/step - loss: 0.3281 - accuracy: 0.9106 - val_loss: 0.3165 - val_accuracy: 0.9130\n",
      "Epoch 42/100\n",
      "1146/1146 [==============================] - 6s 5ms/step - loss: 0.3269 - accuracy: 0.9108 - val_loss: 0.3151 - val_accuracy: 0.9130\n",
      "Epoch 43/100\n",
      "1146/1146 [==============================] - 6s 5ms/step - loss: 0.3257 - accuracy: 0.9110 - val_loss: 0.3142 - val_accuracy: 0.9136\n",
      "Epoch 44/100\n",
      "1146/1146 [==============================] - 6s 5ms/step - loss: 0.3245 - accuracy: 0.9118 - val_loss: 0.3132 - val_accuracy: 0.9138\n",
      "Epoch 45/100\n",
      "1146/1146 [==============================] - 6s 5ms/step - loss: 0.3235 - accuracy: 0.9115 - val_loss: 0.3125 - val_accuracy: 0.9140\n",
      "Epoch 46/100\n",
      "1146/1146 [==============================] - 6s 5ms/step - loss: 0.3224 - accuracy: 0.9120 - val_loss: 0.3114 - val_accuracy: 0.9148\n",
      "Epoch 47/100\n",
      "1146/1146 [==============================] - 6s 5ms/step - loss: 0.3214 - accuracy: 0.9121 - val_loss: 0.3105 - val_accuracy: 0.9144\n",
      "Epoch 48/100\n",
      "1146/1146 [==============================] - 5s 5ms/step - loss: 0.3204 - accuracy: 0.9127 - val_loss: 0.3097 - val_accuracy: 0.9144\n",
      "Epoch 49/100\n",
      "1146/1146 [==============================] - 6s 5ms/step - loss: 0.3194 - accuracy: 0.9128 - val_loss: 0.3088 - val_accuracy: 0.9158\n",
      "Epoch 50/100\n",
      "1146/1146 [==============================] - 5s 5ms/step - loss: 0.3184 - accuracy: 0.9133 - val_loss: 0.3081 - val_accuracy: 0.9154\n",
      "Epoch 51/100\n",
      "1146/1146 [==============================] - 5s 5ms/step - loss: 0.3176 - accuracy: 0.9133 - val_loss: 0.3072 - val_accuracy: 0.9160\n",
      "Epoch 52/100\n",
      "1146/1146 [==============================] - 6s 5ms/step - loss: 0.3167 - accuracy: 0.9135 - val_loss: 0.3065 - val_accuracy: 0.9162\n",
      "Epoch 53/100\n",
      "1146/1146 [==============================] - 6s 5ms/step - loss: 0.3158 - accuracy: 0.9137 - val_loss: 0.3059 - val_accuracy: 0.9164\n",
      "Epoch 54/100\n",
      "1146/1146 [==============================] - 6s 5ms/step - loss: 0.3150 - accuracy: 0.9141 - val_loss: 0.3052 - val_accuracy: 0.9178\n",
      "Epoch 55/100\n",
      "1146/1146 [==============================] - 6s 5ms/step - loss: 0.3141 - accuracy: 0.9146 - val_loss: 0.3045 - val_accuracy: 0.9172\n",
      "Epoch 56/100\n",
      "1146/1146 [==============================] - 6s 5ms/step - loss: 0.3133 - accuracy: 0.9142 - val_loss: 0.3037 - val_accuracy: 0.9176\n",
      "Epoch 57/100\n"
     ]
    },
    {
     "name": "stdout",
     "output_type": "stream",
     "text": [
      "1146/1146 [==============================] - 5s 5ms/step - loss: 0.3126 - accuracy: 0.9148 - val_loss: 0.3032 - val_accuracy: 0.9176\n",
      "Epoch 58/100\n",
      "1146/1146 [==============================] - 5s 5ms/step - loss: 0.3118 - accuracy: 0.9147 - val_loss: 0.3026 - val_accuracy: 0.9172\n",
      "Epoch 59/100\n",
      "1146/1146 [==============================] - 6s 5ms/step - loss: 0.3111 - accuracy: 0.9148 - val_loss: 0.3020 - val_accuracy: 0.9178\n",
      "Epoch 60/100\n",
      "1146/1146 [==============================] - 5s 5ms/step - loss: 0.3104 - accuracy: 0.9149 - val_loss: 0.3012 - val_accuracy: 0.9182\n",
      "Epoch 61/100\n",
      "1146/1146 [==============================] - 5s 5ms/step - loss: 0.3096 - accuracy: 0.9150 - val_loss: 0.3008 - val_accuracy: 0.9178\n",
      "Epoch 62/100\n",
      "1146/1146 [==============================] - 6s 5ms/step - loss: 0.3089 - accuracy: 0.9154 - val_loss: 0.3003 - val_accuracy: 0.9182\n",
      "Epoch 63/100\n",
      "1146/1146 [==============================] - 5s 5ms/step - loss: 0.3083 - accuracy: 0.9155 - val_loss: 0.2998 - val_accuracy: 0.9186\n",
      "Epoch 64/100\n",
      "1146/1146 [==============================] - 6s 5ms/step - loss: 0.3076 - accuracy: 0.9158 - val_loss: 0.2992 - val_accuracy: 0.9186\n",
      "Epoch 65/100\n",
      "1146/1146 [==============================] - 6s 5ms/step - loss: 0.3070 - accuracy: 0.9159 - val_loss: 0.2987 - val_accuracy: 0.9182\n",
      "Epoch 66/100\n",
      "1146/1146 [==============================] - 5s 5ms/step - loss: 0.3063 - accuracy: 0.9158 - val_loss: 0.2983 - val_accuracy: 0.9180\n",
      "Epoch 67/100\n",
      "1146/1146 [==============================] - 6s 5ms/step - loss: 0.3057 - accuracy: 0.9163 - val_loss: 0.2977 - val_accuracy: 0.9184\n",
      "Epoch 68/100\n",
      "1146/1146 [==============================] - 6s 5ms/step - loss: 0.3051 - accuracy: 0.9162 - val_loss: 0.2973 - val_accuracy: 0.9188\n",
      "Epoch 69/100\n",
      "1146/1146 [==============================] - 6s 5ms/step - loss: 0.3045 - accuracy: 0.9164 - val_loss: 0.2967 - val_accuracy: 0.9196\n",
      "Epoch 70/100\n",
      "1146/1146 [==============================] - 5s 5ms/step - loss: 0.3040 - accuracy: 0.9168 - val_loss: 0.2962 - val_accuracy: 0.9198\n",
      "Epoch 71/100\n",
      "1146/1146 [==============================] - 5s 5ms/step - loss: 0.3034 - accuracy: 0.9168 - val_loss: 0.2958 - val_accuracy: 0.9194\n",
      "Epoch 72/100\n",
      "1146/1146 [==============================] - 5s 5ms/step - loss: 0.3028 - accuracy: 0.9171 - val_loss: 0.2952 - val_accuracy: 0.9196\n",
      "Epoch 73/100\n",
      "1146/1146 [==============================] - 5s 5ms/step - loss: 0.3023 - accuracy: 0.9170 - val_loss: 0.2949 - val_accuracy: 0.9196\n",
      "Epoch 74/100\n",
      "1146/1146 [==============================] - 5s 5ms/step - loss: 0.3018 - accuracy: 0.9175 - val_loss: 0.2946 - val_accuracy: 0.9190\n",
      "Epoch 75/100\n",
      "1146/1146 [==============================] - 5s 5ms/step - loss: 0.3012 - accuracy: 0.9177 - val_loss: 0.2941 - val_accuracy: 0.9194\n",
      "Epoch 76/100\n",
      "1146/1146 [==============================] - 5s 5ms/step - loss: 0.3007 - accuracy: 0.9177 - val_loss: 0.2938 - val_accuracy: 0.9198\n",
      "Epoch 77/100\n",
      "1146/1146 [==============================] - 5s 5ms/step - loss: 0.3002 - accuracy: 0.9183 - val_loss: 0.2933 - val_accuracy: 0.9202\n",
      "Epoch 78/100\n",
      "1146/1146 [==============================] - 5s 5ms/step - loss: 0.2997 - accuracy: 0.9186 - val_loss: 0.2931 - val_accuracy: 0.9204\n",
      "Epoch 79/100\n",
      "1146/1146 [==============================] - 5s 5ms/step - loss: 0.2992 - accuracy: 0.9182 - val_loss: 0.2927 - val_accuracy: 0.9196\n",
      "Epoch 80/100\n",
      "1146/1146 [==============================] - 5s 5ms/step - loss: 0.2987 - accuracy: 0.9186 - val_loss: 0.2922 - val_accuracy: 0.9204\n",
      "Epoch 81/100\n",
      "1146/1146 [==============================] - 5s 5ms/step - loss: 0.2983 - accuracy: 0.9185 - val_loss: 0.2919 - val_accuracy: 0.9206\n",
      "Epoch 82/100\n",
      "1146/1146 [==============================] - 5s 5ms/step - loss: 0.2978 - accuracy: 0.9189 - val_loss: 0.2916 - val_accuracy: 0.9198\n",
      "Epoch 83/100\n",
      "1146/1146 [==============================] - 6s 5ms/step - loss: 0.2974 - accuracy: 0.9186 - val_loss: 0.2912 - val_accuracy: 0.9210\n",
      "Epoch 84/100\n",
      "1146/1146 [==============================] - 6s 5ms/step - loss: 0.2969 - accuracy: 0.9190 - val_loss: 0.2909 - val_accuracy: 0.9206\n",
      "Epoch 85/100\n",
      "1146/1146 [==============================] - 6s 5ms/step - loss: 0.2965 - accuracy: 0.9191 - val_loss: 0.2906 - val_accuracy: 0.9204\n",
      "Epoch 86/100\n",
      "1146/1146 [==============================] - 6s 5ms/step - loss: 0.2960 - accuracy: 0.9194 - val_loss: 0.2902 - val_accuracy: 0.9214\n",
      "Epoch 87/100\n",
      "1146/1146 [==============================] - 6s 5ms/step - loss: 0.2956 - accuracy: 0.9194 - val_loss: 0.2898 - val_accuracy: 0.9218\n",
      "Epoch 88/100\n",
      "1146/1146 [==============================] - 6s 5ms/step - loss: 0.2952 - accuracy: 0.9197 - val_loss: 0.2895 - val_accuracy: 0.9218\n",
      "Epoch 89/100\n",
      "1146/1146 [==============================] - 6s 5ms/step - loss: 0.2948 - accuracy: 0.9197 - val_loss: 0.2893 - val_accuracy: 0.9214\n",
      "Epoch 90/100\n",
      "1146/1146 [==============================] - 6s 5ms/step - loss: 0.2944 - accuracy: 0.9198 - val_loss: 0.2890 - val_accuracy: 0.9218\n",
      "Epoch 91/100\n",
      "1146/1146 [==============================] - 5s 5ms/step - loss: 0.2939 - accuracy: 0.9202 - val_loss: 0.2887 - val_accuracy: 0.9212\n",
      "Epoch 92/100\n",
      "1146/1146 [==============================] - 5s 5ms/step - loss: 0.2936 - accuracy: 0.9202 - val_loss: 0.2884 - val_accuracy: 0.9216\n",
      "Epoch 93/100\n",
      "1146/1146 [==============================] - 6s 5ms/step - loss: 0.2932 - accuracy: 0.9200 - val_loss: 0.2881 - val_accuracy: 0.9224\n",
      "Epoch 94/100\n",
      "1146/1146 [==============================] - 6s 5ms/step - loss: 0.2928 - accuracy: 0.9202 - val_loss: 0.2878 - val_accuracy: 0.9220\n",
      "Epoch 95/100\n",
      "1146/1146 [==============================] - 6s 5ms/step - loss: 0.2925 - accuracy: 0.9204 - val_loss: 0.2876 - val_accuracy: 0.9220\n",
      "Epoch 96/100\n",
      "1146/1146 [==============================] - 6s 5ms/step - loss: 0.2921 - accuracy: 0.9206 - val_loss: 0.2874 - val_accuracy: 0.9228\n",
      "Epoch 97/100\n",
      "1146/1146 [==============================] - 5s 5ms/step - loss: 0.2917 - accuracy: 0.9206 - val_loss: 0.2870 - val_accuracy: 0.9230\n",
      "Epoch 98/100\n",
      "1146/1146 [==============================] - 6s 5ms/step - loss: 0.2914 - accuracy: 0.9211 - val_loss: 0.2868 - val_accuracy: 0.9218\n",
      "Epoch 99/100\n",
      "1146/1146 [==============================] - 6s 5ms/step - loss: 0.2910 - accuracy: 0.9210 - val_loss: 0.2865 - val_accuracy: 0.9230\n",
      "Epoch 100/100\n",
      "1146/1146 [==============================] - 6s 5ms/step - loss: 0.2906 - accuracy: 0.9213 - val_loss: 0.2866 - val_accuracy: 0.9226\n",
      " 24/573 [>.............................] - ETA: 2s - loss: 0.3130 - accuracy: 0.9115"
     ]
    },
    {
     "name": "stderr",
     "output_type": "stream",
     "text": [
      "2022-11-15 21:38:00.514396: I tensorflow/core/grappler/optimizers/custom_graph_optimizer_registry.cc:114] Plugin optimizer for device_type GPU is enabled.\n"
     ]
    },
    {
     "name": "stdout",
     "output_type": "stream",
     "text": [
      "573/573 [==============================] - 2s 4ms/step - loss: 0.3207 - accuracy: 0.9086\n",
      "[CV] END ............................n_hidden=0, n_neurons=5; total time= 9.2min\n",
      "Epoch 1/100\n"
     ]
    },
    {
     "name": "stderr",
     "output_type": "stream",
     "text": [
      "/Users/gtr/opt/anaconda3/lib/python3.9/site-packages/keras/optimizers/optimizer_v2/gradient_descent.py:111: UserWarning: The `lr` argument is deprecated, use `learning_rate` instead.\n",
      "  super().__init__(name, **kwargs)\n"
     ]
    },
    {
     "name": "stdout",
     "output_type": "stream",
     "text": [
      "  20/1146 [..............................] - ETA: 6s - loss: 2.3253 - accuracy: 0.0922"
     ]
    },
    {
     "name": "stderr",
     "output_type": "stream",
     "text": [
      "2022-11-15 21:38:03.289402: I tensorflow/core/grappler/optimizers/custom_graph_optimizer_registry.cc:114] Plugin optimizer for device_type GPU is enabled.\n"
     ]
    },
    {
     "name": "stdout",
     "output_type": "stream",
     "text": [
      "1143/1146 [============================>.] - ETA: 0s - loss: 1.4106 - accuracy: 0.6621"
     ]
    },
    {
     "name": "stderr",
     "output_type": "stream",
     "text": [
      "2022-11-15 21:38:08.696962: I tensorflow/core/grappler/optimizers/custom_graph_optimizer_registry.cc:114] Plugin optimizer for device_type GPU is enabled.\n"
     ]
    },
    {
     "name": "stdout",
     "output_type": "stream",
     "text": [
      "1146/1146 [==============================] - 6s 5ms/step - loss: 1.4094 - accuracy: 0.6624 - val_loss: 0.9390 - val_accuracy: 0.8158\n",
      "Epoch 2/100\n",
      "1146/1146 [==============================] - 5s 5ms/step - loss: 0.8158 - accuracy: 0.8301 - val_loss: 0.6913 - val_accuracy: 0.8532\n",
      "Epoch 3/100\n",
      "1146/1146 [==============================] - 6s 5ms/step - loss: 0.6596 - accuracy: 0.8500 - val_loss: 0.5895 - val_accuracy: 0.8666\n",
      "Epoch 4/100\n",
      "1146/1146 [==============================] - 5s 5ms/step - loss: 0.5842 - accuracy: 0.8615 - val_loss: 0.5328 - val_accuracy: 0.8734\n",
      "Epoch 5/100\n",
      "1146/1146 [==============================] - 5s 5ms/step - loss: 0.5383 - accuracy: 0.8677 - val_loss: 0.4955 - val_accuracy: 0.8772\n",
      "Epoch 6/100\n",
      "1146/1146 [==============================] - 6s 5ms/step - loss: 0.5067 - accuracy: 0.8733 - val_loss: 0.4688 - val_accuracy: 0.8830\n",
      "Epoch 7/100\n",
      "1146/1146 [==============================] - 6s 5ms/step - loss: 0.4836 - accuracy: 0.8769 - val_loss: 0.4487 - val_accuracy: 0.8860\n",
      "Epoch 8/100\n",
      "1146/1146 [==============================] - 5s 5ms/step - loss: 0.4655 - accuracy: 0.8794 - val_loss: 0.4332 - val_accuracy: 0.8878\n",
      "Epoch 9/100\n",
      "1146/1146 [==============================] - 5s 5ms/step - loss: 0.4510 - accuracy: 0.8819 - val_loss: 0.4198 - val_accuracy: 0.8908\n",
      "Epoch 10/100\n",
      "1146/1146 [==============================] - 6s 5ms/step - loss: 0.4389 - accuracy: 0.8835 - val_loss: 0.4090 - val_accuracy: 0.8936\n",
      "Epoch 11/100\n",
      "1146/1146 [==============================] - 6s 5ms/step - loss: 0.4288 - accuracy: 0.8864 - val_loss: 0.3998 - val_accuracy: 0.8958\n",
      "Epoch 12/100\n",
      "1146/1146 [==============================] - 5s 5ms/step - loss: 0.4200 - accuracy: 0.8874 - val_loss: 0.3920 - val_accuracy: 0.8976\n",
      "Epoch 13/100\n",
      "1146/1146 [==============================] - 6s 5ms/step - loss: 0.4123 - accuracy: 0.8891 - val_loss: 0.3854 - val_accuracy: 0.8990\n",
      "Epoch 14/100\n",
      "1146/1146 [==============================] - 6s 5ms/step - loss: 0.4056 - accuracy: 0.8908 - val_loss: 0.3791 - val_accuracy: 0.8996\n",
      "Epoch 15/100\n",
      "1146/1146 [==============================] - 6s 5ms/step - loss: 0.3996 - accuracy: 0.8918 - val_loss: 0.3735 - val_accuracy: 0.9026\n",
      "Epoch 16/100\n",
      "1146/1146 [==============================] - 5s 5ms/step - loss: 0.3942 - accuracy: 0.8933 - val_loss: 0.3688 - val_accuracy: 0.9030\n",
      "Epoch 17/100\n",
      "1146/1146 [==============================] - 5s 5ms/step - loss: 0.3893 - accuracy: 0.8940 - val_loss: 0.3643 - val_accuracy: 0.9040\n",
      "Epoch 18/100\n",
      "1146/1146 [==============================] - 5s 5ms/step - loss: 0.3848 - accuracy: 0.8951 - val_loss: 0.3605 - val_accuracy: 0.9048\n",
      "Epoch 19/100\n",
      "1146/1146 [==============================] - 5s 5ms/step - loss: 0.3807 - accuracy: 0.8958 - val_loss: 0.3567 - val_accuracy: 0.9064\n",
      "Epoch 20/100\n",
      "1146/1146 [==============================] - 5s 5ms/step - loss: 0.3770 - accuracy: 0.8969 - val_loss: 0.3533 - val_accuracy: 0.9060\n",
      "Epoch 21/100\n",
      "1146/1146 [==============================] - 5s 5ms/step - loss: 0.3735 - accuracy: 0.8973 - val_loss: 0.3501 - val_accuracy: 0.9064\n",
      "Epoch 22/100\n",
      "1146/1146 [==============================] - 6s 5ms/step - loss: 0.3702 - accuracy: 0.8980 - val_loss: 0.3473 - val_accuracy: 0.9058\n",
      "Epoch 23/100\n",
      "1146/1146 [==============================] - 5s 5ms/step - loss: 0.3672 - accuracy: 0.8986 - val_loss: 0.3448 - val_accuracy: 0.9086\n",
      "Epoch 24/100\n",
      "1146/1146 [==============================] - 5s 5ms/step - loss: 0.3644 - accuracy: 0.8996 - val_loss: 0.3420 - val_accuracy: 0.9072\n",
      "Epoch 25/100\n",
      "1146/1146 [==============================] - 6s 5ms/step - loss: 0.3617 - accuracy: 0.9001 - val_loss: 0.3400 - val_accuracy: 0.9098\n",
      "Epoch 26/100\n",
      "1146/1146 [==============================] - 5s 5ms/step - loss: 0.3592 - accuracy: 0.9003 - val_loss: 0.3377 - val_accuracy: 0.9094\n",
      "Epoch 27/100\n",
      "1146/1146 [==============================] - 5s 5ms/step - loss: 0.3568 - accuracy: 0.9012 - val_loss: 0.3355 - val_accuracy: 0.9098\n",
      "Epoch 28/100\n",
      "1146/1146 [==============================] - 6s 5ms/step - loss: 0.3546 - accuracy: 0.9019 - val_loss: 0.3336 - val_accuracy: 0.9098\n",
      "Epoch 29/100\n",
      "1146/1146 [==============================] - 6s 5ms/step - loss: 0.3525 - accuracy: 0.9024 - val_loss: 0.3318 - val_accuracy: 0.9110\n",
      "Epoch 30/100\n",
      "1146/1146 [==============================] - 6s 5ms/step - loss: 0.3505 - accuracy: 0.9026 - val_loss: 0.3301 - val_accuracy: 0.9114\n",
      "Epoch 31/100\n",
      "1146/1146 [==============================] - 6s 5ms/step - loss: 0.3486 - accuracy: 0.9031 - val_loss: 0.3284 - val_accuracy: 0.9114\n",
      "Epoch 32/100\n",
      "1146/1146 [==============================] - 6s 5ms/step - loss: 0.3467 - accuracy: 0.9039 - val_loss: 0.3269 - val_accuracy: 0.9120\n",
      "Epoch 33/100\n",
      "1146/1146 [==============================] - 6s 5ms/step - loss: 0.3450 - accuracy: 0.9041 - val_loss: 0.3251 - val_accuracy: 0.9120\n",
      "Epoch 34/100\n",
      "1146/1146 [==============================] - 6s 5ms/step - loss: 0.3434 - accuracy: 0.9044 - val_loss: 0.3238 - val_accuracy: 0.9120\n",
      "Epoch 35/100\n",
      "1146/1146 [==============================] - 6s 5ms/step - loss: 0.3417 - accuracy: 0.9051 - val_loss: 0.3227 - val_accuracy: 0.9140\n",
      "Epoch 36/100\n",
      "1146/1146 [==============================] - 6s 5ms/step - loss: 0.3402 - accuracy: 0.9052 - val_loss: 0.3210 - val_accuracy: 0.9124\n",
      "Epoch 37/100\n",
      "1146/1146 [==============================] - 6s 5ms/step - loss: 0.3388 - accuracy: 0.9059 - val_loss: 0.3198 - val_accuracy: 0.9134\n",
      "Epoch 38/100\n",
      "1146/1146 [==============================] - 6s 5ms/step - loss: 0.3374 - accuracy: 0.9062 - val_loss: 0.3187 - val_accuracy: 0.9124\n",
      "Epoch 39/100\n",
      "1146/1146 [==============================] - 6s 5ms/step - loss: 0.3360 - accuracy: 0.9064 - val_loss: 0.3176 - val_accuracy: 0.9130\n",
      "Epoch 40/100\n",
      "1146/1146 [==============================] - 6s 5ms/step - loss: 0.3347 - accuracy: 0.9070 - val_loss: 0.3165 - val_accuracy: 0.9142\n",
      "Epoch 41/100\n",
      "1146/1146 [==============================] - 6s 5ms/step - loss: 0.3334 - accuracy: 0.9071 - val_loss: 0.3157 - val_accuracy: 0.9146\n",
      "Epoch 42/100\n",
      "1146/1146 [==============================] - 6s 5ms/step - loss: 0.3322 - accuracy: 0.9073 - val_loss: 0.3142 - val_accuracy: 0.9144\n",
      "Epoch 43/100\n",
      "1146/1146 [==============================] - 6s 5ms/step - loss: 0.3311 - accuracy: 0.9078 - val_loss: 0.3134 - val_accuracy: 0.9148\n",
      "Epoch 44/100\n",
      "1146/1146 [==============================] - 6s 5ms/step - loss: 0.3299 - accuracy: 0.9082 - val_loss: 0.3124 - val_accuracy: 0.9152\n",
      "Epoch 45/100\n",
      "1146/1146 [==============================] - 6s 5ms/step - loss: 0.3288 - accuracy: 0.9082 - val_loss: 0.3118 - val_accuracy: 0.9154\n",
      "Epoch 46/100\n",
      "1146/1146 [==============================] - 6s 5ms/step - loss: 0.3277 - accuracy: 0.9088 - val_loss: 0.3108 - val_accuracy: 0.9150\n",
      "Epoch 47/100\n",
      "1146/1146 [==============================] - 6s 5ms/step - loss: 0.3267 - accuracy: 0.9092 - val_loss: 0.3099 - val_accuracy: 0.9158\n",
      "Epoch 48/100\n",
      "1146/1146 [==============================] - 5s 5ms/step - loss: 0.3257 - accuracy: 0.9092 - val_loss: 0.3092 - val_accuracy: 0.9152\n",
      "Epoch 49/100\n",
      "1146/1146 [==============================] - 5s 5ms/step - loss: 0.3248 - accuracy: 0.9093 - val_loss: 0.3083 - val_accuracy: 0.9170\n",
      "Epoch 50/100\n",
      "1146/1146 [==============================] - 5s 5ms/step - loss: 0.3238 - accuracy: 0.9095 - val_loss: 0.3076 - val_accuracy: 0.9164\n",
      "Epoch 51/100\n",
      "1146/1146 [==============================] - 6s 5ms/step - loss: 0.3229 - accuracy: 0.9096 - val_loss: 0.3068 - val_accuracy: 0.9164\n",
      "Epoch 52/100\n",
      "1146/1146 [==============================] - 6s 6ms/step - loss: 0.3220 - accuracy: 0.9099 - val_loss: 0.3060 - val_accuracy: 0.9172\n",
      "Epoch 53/100\n",
      "1146/1146 [==============================] - 6s 6ms/step - loss: 0.3212 - accuracy: 0.9102 - val_loss: 0.3054 - val_accuracy: 0.9174\n",
      "Epoch 54/100\n",
      "1146/1146 [==============================] - 6s 5ms/step - loss: 0.3203 - accuracy: 0.9108 - val_loss: 0.3049 - val_accuracy: 0.9188\n",
      "Epoch 55/100\n",
      "1146/1146 [==============================] - 5s 5ms/step - loss: 0.3195 - accuracy: 0.9107 - val_loss: 0.3041 - val_accuracy: 0.9182\n",
      "Epoch 56/100\n",
      "1146/1146 [==============================] - 6s 5ms/step - loss: 0.3187 - accuracy: 0.9108 - val_loss: 0.3034 - val_accuracy: 0.9176\n",
      "Epoch 57/100\n"
     ]
    },
    {
     "name": "stdout",
     "output_type": "stream",
     "text": [
      "1146/1146 [==============================] - 6s 5ms/step - loss: 0.3179 - accuracy: 0.9107 - val_loss: 0.3029 - val_accuracy: 0.9192\n",
      "Epoch 58/100\n",
      "1146/1146 [==============================] - 6s 5ms/step - loss: 0.3171 - accuracy: 0.9111 - val_loss: 0.3022 - val_accuracy: 0.9182\n",
      "Epoch 59/100\n",
      "1146/1146 [==============================] - 6s 5ms/step - loss: 0.3164 - accuracy: 0.9117 - val_loss: 0.3016 - val_accuracy: 0.9194\n",
      "Epoch 60/100\n",
      "1146/1146 [==============================] - 5s 5ms/step - loss: 0.3157 - accuracy: 0.9116 - val_loss: 0.3009 - val_accuracy: 0.9194\n",
      "Epoch 61/100\n",
      "1146/1146 [==============================] - 5s 5ms/step - loss: 0.3150 - accuracy: 0.9119 - val_loss: 0.3006 - val_accuracy: 0.9194\n",
      "Epoch 62/100\n",
      "1146/1146 [==============================] - 6s 5ms/step - loss: 0.3143 - accuracy: 0.9116 - val_loss: 0.3001 - val_accuracy: 0.9202\n",
      "Epoch 63/100\n",
      "1146/1146 [==============================] - 6s 5ms/step - loss: 0.3136 - accuracy: 0.9121 - val_loss: 0.2996 - val_accuracy: 0.9192\n",
      "Epoch 64/100\n",
      "1146/1146 [==============================] - 6s 5ms/step - loss: 0.3130 - accuracy: 0.9121 - val_loss: 0.2990 - val_accuracy: 0.9208\n",
      "Epoch 65/100\n",
      "1146/1146 [==============================] - 6s 5ms/step - loss: 0.3123 - accuracy: 0.9124 - val_loss: 0.2984 - val_accuracy: 0.9200\n",
      "Epoch 66/100\n",
      "1146/1146 [==============================] - 5s 5ms/step - loss: 0.3117 - accuracy: 0.9126 - val_loss: 0.2981 - val_accuracy: 0.9204\n",
      "Epoch 67/100\n",
      "1146/1146 [==============================] - 6s 5ms/step - loss: 0.3111 - accuracy: 0.9128 - val_loss: 0.2976 - val_accuracy: 0.9212\n",
      "Epoch 68/100\n",
      "1146/1146 [==============================] - 6s 5ms/step - loss: 0.3105 - accuracy: 0.9130 - val_loss: 0.2970 - val_accuracy: 0.9202\n",
      "Epoch 69/100\n",
      "1146/1146 [==============================] - 6s 5ms/step - loss: 0.3099 - accuracy: 0.9131 - val_loss: 0.2966 - val_accuracy: 0.9200\n",
      "Epoch 70/100\n",
      "1146/1146 [==============================] - 6s 5ms/step - loss: 0.3093 - accuracy: 0.9133 - val_loss: 0.2964 - val_accuracy: 0.9208\n",
      "Epoch 71/100\n",
      "1146/1146 [==============================] - 5s 5ms/step - loss: 0.3088 - accuracy: 0.9131 - val_loss: 0.2957 - val_accuracy: 0.9206\n",
      "Epoch 72/100\n",
      "1146/1146 [==============================] - 5s 5ms/step - loss: 0.3082 - accuracy: 0.9134 - val_loss: 0.2953 - val_accuracy: 0.9208\n",
      "Epoch 73/100\n",
      "1146/1146 [==============================] - 6s 5ms/step - loss: 0.3076 - accuracy: 0.9136 - val_loss: 0.2948 - val_accuracy: 0.9208\n",
      "Epoch 74/100\n",
      "1146/1146 [==============================] - 6s 5ms/step - loss: 0.3071 - accuracy: 0.9136 - val_loss: 0.2946 - val_accuracy: 0.9202\n",
      "Epoch 75/100\n",
      "1146/1146 [==============================] - 6s 5ms/step - loss: 0.3066 - accuracy: 0.9138 - val_loss: 0.2941 - val_accuracy: 0.9210\n",
      "Epoch 76/100\n",
      "1146/1146 [==============================] - 5s 5ms/step - loss: 0.3061 - accuracy: 0.9144 - val_loss: 0.2937 - val_accuracy: 0.9218\n",
      "Epoch 77/100\n",
      "1146/1146 [==============================] - 5s 5ms/step - loss: 0.3056 - accuracy: 0.9143 - val_loss: 0.2933 - val_accuracy: 0.9216\n",
      "Epoch 78/100\n",
      "1146/1146 [==============================] - 6s 5ms/step - loss: 0.3051 - accuracy: 0.9143 - val_loss: 0.2930 - val_accuracy: 0.9218\n",
      "Epoch 79/100\n",
      "1146/1146 [==============================] - 6s 5ms/step - loss: 0.3046 - accuracy: 0.9142 - val_loss: 0.2927 - val_accuracy: 0.9216\n",
      "Epoch 80/100\n",
      "1146/1146 [==============================] - 6s 5ms/step - loss: 0.3041 - accuracy: 0.9147 - val_loss: 0.2922 - val_accuracy: 0.9218\n",
      "Epoch 81/100\n",
      "1146/1146 [==============================] - 6s 5ms/step - loss: 0.3037 - accuracy: 0.9147 - val_loss: 0.2919 - val_accuracy: 0.9222\n",
      "Epoch 82/100\n",
      "1146/1146 [==============================] - 6s 5ms/step - loss: 0.3032 - accuracy: 0.9149 - val_loss: 0.2917 - val_accuracy: 0.9220\n",
      "Epoch 83/100\n",
      "1146/1146 [==============================] - 5s 5ms/step - loss: 0.3027 - accuracy: 0.9148 - val_loss: 0.2912 - val_accuracy: 0.9222\n",
      "Epoch 84/100\n",
      "1146/1146 [==============================] - 5s 5ms/step - loss: 0.3022 - accuracy: 0.9152 - val_loss: 0.2912 - val_accuracy: 0.9226\n",
      "Epoch 85/100\n",
      "1146/1146 [==============================] - 5s 5ms/step - loss: 0.3019 - accuracy: 0.9151 - val_loss: 0.2907 - val_accuracy: 0.9226\n",
      "Epoch 86/100\n",
      "1146/1146 [==============================] - 5s 5ms/step - loss: 0.3014 - accuracy: 0.9152 - val_loss: 0.2904 - val_accuracy: 0.9224\n",
      "Epoch 87/100\n",
      "1146/1146 [==============================] - 5s 5ms/step - loss: 0.3010 - accuracy: 0.9156 - val_loss: 0.2900 - val_accuracy: 0.9224\n",
      "Epoch 88/100\n",
      "1146/1146 [==============================] - 5s 5ms/step - loss: 0.3005 - accuracy: 0.9150 - val_loss: 0.2896 - val_accuracy: 0.9222\n",
      "Epoch 89/100\n",
      "1146/1146 [==============================] - 5s 5ms/step - loss: 0.3001 - accuracy: 0.9158 - val_loss: 0.2896 - val_accuracy: 0.9214\n",
      "Epoch 90/100\n",
      "1146/1146 [==============================] - 5s 5ms/step - loss: 0.2998 - accuracy: 0.9156 - val_loss: 0.2892 - val_accuracy: 0.9220\n",
      "Epoch 91/100\n",
      "1146/1146 [==============================] - 5s 5ms/step - loss: 0.2993 - accuracy: 0.9157 - val_loss: 0.2890 - val_accuracy: 0.9224\n",
      "Epoch 92/100\n",
      "1146/1146 [==============================] - 5s 5ms/step - loss: 0.2990 - accuracy: 0.9157 - val_loss: 0.2888 - val_accuracy: 0.9226\n",
      "Epoch 93/100\n",
      "1146/1146 [==============================] - 5s 5ms/step - loss: 0.2986 - accuracy: 0.9158 - val_loss: 0.2883 - val_accuracy: 0.9222\n",
      "Epoch 94/100\n",
      "1146/1146 [==============================] - 5s 5ms/step - loss: 0.2982 - accuracy: 0.9161 - val_loss: 0.2880 - val_accuracy: 0.9226\n",
      "Epoch 95/100\n",
      "1146/1146 [==============================] - 5s 5ms/step - loss: 0.2978 - accuracy: 0.9161 - val_loss: 0.2878 - val_accuracy: 0.9226\n",
      "Epoch 96/100\n",
      "1146/1146 [==============================] - 5s 5ms/step - loss: 0.2974 - accuracy: 0.9163 - val_loss: 0.2875 - val_accuracy: 0.9224\n",
      "Epoch 97/100\n",
      "1146/1146 [==============================] - 5s 5ms/step - loss: 0.2971 - accuracy: 0.9166 - val_loss: 0.2872 - val_accuracy: 0.9226\n",
      "Epoch 98/100\n",
      "1146/1146 [==============================] - 5s 5ms/step - loss: 0.2967 - accuracy: 0.9165 - val_loss: 0.2871 - val_accuracy: 0.9224\n",
      "Epoch 99/100\n",
      "1146/1146 [==============================] - 5s 5ms/step - loss: 0.2964 - accuracy: 0.9167 - val_loss: 0.2867 - val_accuracy: 0.9222\n",
      "Epoch 100/100\n",
      "1146/1146 [==============================] - 5s 5ms/step - loss: 0.2960 - accuracy: 0.9168 - val_loss: 0.2868 - val_accuracy: 0.9224\n",
      " 26/573 [>.............................] - ETA: 2s - loss: 0.3586 - accuracy: 0.8954"
     ]
    },
    {
     "name": "stderr",
     "output_type": "stream",
     "text": [
      "2022-11-15 21:47:15.465549: I tensorflow/core/grappler/optimizers/custom_graph_optimizer_registry.cc:114] Plugin optimizer for device_type GPU is enabled.\n"
     ]
    },
    {
     "name": "stdout",
     "output_type": "stream",
     "text": [
      "573/573 [==============================] - 2s 4ms/step - loss: 0.3051 - accuracy: 0.9150\n",
      "[CV] END ............................n_hidden=0, n_neurons=5; total time= 9.2min\n",
      "Epoch 1/100\n"
     ]
    },
    {
     "name": "stderr",
     "output_type": "stream",
     "text": [
      "/Users/gtr/opt/anaconda3/lib/python3.9/site-packages/keras/optimizers/optimizer_v2/gradient_descent.py:111: UserWarning: The `lr` argument is deprecated, use `learning_rate` instead.\n",
      "  super().__init__(name, **kwargs)\n"
     ]
    },
    {
     "name": "stdout",
     "output_type": "stream",
     "text": [
      "  25/1146 [..............................] - ETA: 5s - loss: 2.4197 - accuracy: 0.1000 "
     ]
    },
    {
     "name": "stderr",
     "output_type": "stream",
     "text": [
      "2022-11-15 21:47:18.622395: I tensorflow/core/grappler/optimizers/custom_graph_optimizer_registry.cc:114] Plugin optimizer for device_type GPU is enabled.\n"
     ]
    },
    {
     "name": "stdout",
     "output_type": "stream",
     "text": [
      "1143/1146 [============================>.] - ETA: 0s - loss: 1.4409 - accuracy: 0.6510"
     ]
    },
    {
     "name": "stderr",
     "output_type": "stream",
     "text": [
      "2022-11-15 21:47:23.481500: I tensorflow/core/grappler/optimizers/custom_graph_optimizer_registry.cc:114] Plugin optimizer for device_type GPU is enabled.\n"
     ]
    },
    {
     "name": "stdout",
     "output_type": "stream",
     "text": [
      "1146/1146 [==============================] - 6s 5ms/step - loss: 1.4398 - accuracy: 0.6514 - val_loss: 0.9554 - val_accuracy: 0.8060\n",
      "Epoch 2/100\n",
      "1146/1146 [==============================] - 5s 5ms/step - loss: 0.8182 - accuracy: 0.8256 - val_loss: 0.7018 - val_accuracy: 0.8440\n",
      "Epoch 3/100\n",
      "1146/1146 [==============================] - 5s 5ms/step - loss: 0.6586 - accuracy: 0.8483 - val_loss: 0.5980 - val_accuracy: 0.8622\n",
      "Epoch 4/100\n",
      "1146/1146 [==============================] - 5s 5ms/step - loss: 0.5821 - accuracy: 0.8607 - val_loss: 0.5394 - val_accuracy: 0.8712\n",
      "Epoch 5/100\n",
      "1146/1146 [==============================] - 5s 5ms/step - loss: 0.5356 - accuracy: 0.8674 - val_loss: 0.5012 - val_accuracy: 0.8788\n",
      "Epoch 6/100\n",
      "1146/1146 [==============================] - 5s 5ms/step - loss: 0.5040 - accuracy: 0.8725 - val_loss: 0.4737 - val_accuracy: 0.8824\n",
      "Epoch 7/100\n",
      "1146/1146 [==============================] - 5s 5ms/step - loss: 0.4806 - accuracy: 0.8764 - val_loss: 0.4531 - val_accuracy: 0.8854\n",
      "Epoch 8/100\n",
      "1146/1146 [==============================] - 5s 5ms/step - loss: 0.4625 - accuracy: 0.8801 - val_loss: 0.4368 - val_accuracy: 0.8884\n",
      "Epoch 9/100\n",
      "1146/1146 [==============================] - 5s 5ms/step - loss: 0.4479 - accuracy: 0.8829 - val_loss: 0.4233 - val_accuracy: 0.8904\n",
      "Epoch 10/100\n",
      "1146/1146 [==============================] - 5s 5ms/step - loss: 0.4359 - accuracy: 0.8849 - val_loss: 0.4122 - val_accuracy: 0.8912\n",
      "Epoch 11/100\n",
      "1146/1146 [==============================] - 5s 5ms/step - loss: 0.4258 - accuracy: 0.8867 - val_loss: 0.4026 - val_accuracy: 0.8936\n",
      "Epoch 12/100\n",
      "1146/1146 [==============================] - 5s 5ms/step - loss: 0.4170 - accuracy: 0.8882 - val_loss: 0.3946 - val_accuracy: 0.8946\n",
      "Epoch 13/100\n",
      "1146/1146 [==============================] - 5s 5ms/step - loss: 0.4093 - accuracy: 0.8899 - val_loss: 0.3875 - val_accuracy: 0.8982\n",
      "Epoch 14/100\n",
      "1146/1146 [==============================] - 5s 5ms/step - loss: 0.4026 - accuracy: 0.8908 - val_loss: 0.3812 - val_accuracy: 0.8978\n",
      "Epoch 15/100\n",
      "1146/1146 [==============================] - 5s 5ms/step - loss: 0.3966 - accuracy: 0.8922 - val_loss: 0.3755 - val_accuracy: 0.8998\n",
      "Epoch 16/100\n",
      "1146/1146 [==============================] - 5s 5ms/step - loss: 0.3911 - accuracy: 0.8932 - val_loss: 0.3704 - val_accuracy: 0.9012\n",
      "Epoch 17/100\n",
      "1146/1146 [==============================] - 5s 5ms/step - loss: 0.3861 - accuracy: 0.8946 - val_loss: 0.3660 - val_accuracy: 0.9022\n",
      "Epoch 18/100\n",
      "1146/1146 [==============================] - 5s 5ms/step - loss: 0.3818 - accuracy: 0.8952 - val_loss: 0.3618 - val_accuracy: 0.9028\n",
      "Epoch 19/100\n",
      "1146/1146 [==============================] - 5s 5ms/step - loss: 0.3776 - accuracy: 0.8961 - val_loss: 0.3582 - val_accuracy: 0.9040\n",
      "Epoch 20/100\n",
      "1146/1146 [==============================] - 5s 5ms/step - loss: 0.3739 - accuracy: 0.8974 - val_loss: 0.3545 - val_accuracy: 0.9048\n",
      "Epoch 21/100\n",
      "1146/1146 [==============================] - 5s 5ms/step - loss: 0.3704 - accuracy: 0.8981 - val_loss: 0.3513 - val_accuracy: 0.9060\n",
      "Epoch 22/100\n",
      "1146/1146 [==============================] - 5s 5ms/step - loss: 0.3672 - accuracy: 0.8989 - val_loss: 0.3484 - val_accuracy: 0.9052\n",
      "Epoch 23/100\n",
      "1146/1146 [==============================] - 5s 5ms/step - loss: 0.3641 - accuracy: 0.8998 - val_loss: 0.3455 - val_accuracy: 0.9070\n",
      "Epoch 24/100\n",
      "1146/1146 [==============================] - 5s 5ms/step - loss: 0.3613 - accuracy: 0.9004 - val_loss: 0.3428 - val_accuracy: 0.9070\n",
      "Epoch 25/100\n",
      "1146/1146 [==============================] - 5s 5ms/step - loss: 0.3586 - accuracy: 0.9013 - val_loss: 0.3404 - val_accuracy: 0.9078\n",
      "Epoch 26/100\n",
      "1146/1146 [==============================] - 5s 5ms/step - loss: 0.3561 - accuracy: 0.9013 - val_loss: 0.3382 - val_accuracy: 0.9092\n",
      "Epoch 27/100\n",
      "1146/1146 [==============================] - 5s 5ms/step - loss: 0.3537 - accuracy: 0.9019 - val_loss: 0.3361 - val_accuracy: 0.9096\n",
      "Epoch 28/100\n",
      "1146/1146 [==============================] - 5s 5ms/step - loss: 0.3515 - accuracy: 0.9025 - val_loss: 0.3340 - val_accuracy: 0.9096\n",
      "Epoch 29/100\n",
      "1146/1146 [==============================] - 5s 5ms/step - loss: 0.3494 - accuracy: 0.9028 - val_loss: 0.3321 - val_accuracy: 0.9108\n",
      "Epoch 30/100\n",
      "1146/1146 [==============================] - 5s 5ms/step - loss: 0.3474 - accuracy: 0.9033 - val_loss: 0.3303 - val_accuracy: 0.9106\n",
      "Epoch 31/100\n",
      "1146/1146 [==============================] - 5s 5ms/step - loss: 0.3454 - accuracy: 0.9038 - val_loss: 0.3286 - val_accuracy: 0.9114\n",
      "Epoch 32/100\n",
      "1146/1146 [==============================] - 5s 5ms/step - loss: 0.3435 - accuracy: 0.9042 - val_loss: 0.3271 - val_accuracy: 0.9122\n",
      "Epoch 33/100\n",
      "1146/1146 [==============================] - 5s 5ms/step - loss: 0.3419 - accuracy: 0.9045 - val_loss: 0.3254 - val_accuracy: 0.9126\n",
      "Epoch 34/100\n",
      "1146/1146 [==============================] - 5s 5ms/step - loss: 0.3401 - accuracy: 0.9051 - val_loss: 0.3240 - val_accuracy: 0.9130\n",
      "Epoch 35/100\n",
      "1146/1146 [==============================] - 5s 5ms/step - loss: 0.3386 - accuracy: 0.9057 - val_loss: 0.3225 - val_accuracy: 0.9126\n",
      "Epoch 36/100\n",
      "1146/1146 [==============================] - 5s 5ms/step - loss: 0.3370 - accuracy: 0.9061 - val_loss: 0.3213 - val_accuracy: 0.9132\n",
      "Epoch 37/100\n",
      "1146/1146 [==============================] - 5s 5ms/step - loss: 0.3356 - accuracy: 0.9062 - val_loss: 0.3199 - val_accuracy: 0.9140\n",
      "Epoch 38/100\n",
      "1146/1146 [==============================] - 5s 5ms/step - loss: 0.3341 - accuracy: 0.9065 - val_loss: 0.3187 - val_accuracy: 0.9138\n",
      "Epoch 39/100\n",
      "1146/1146 [==============================] - 6s 5ms/step - loss: 0.3328 - accuracy: 0.9071 - val_loss: 0.3176 - val_accuracy: 0.9132\n",
      "Epoch 40/100\n",
      "1146/1146 [==============================] - 6s 5ms/step - loss: 0.3315 - accuracy: 0.9071 - val_loss: 0.3164 - val_accuracy: 0.9148\n",
      "Epoch 41/100\n",
      "1146/1146 [==============================] - 6s 5ms/step - loss: 0.3302 - accuracy: 0.9079 - val_loss: 0.3152 - val_accuracy: 0.9150\n",
      "Epoch 42/100\n",
      "1146/1146 [==============================] - 6s 5ms/step - loss: 0.3290 - accuracy: 0.9081 - val_loss: 0.3143 - val_accuracy: 0.9140\n",
      "Epoch 43/100\n",
      "1146/1146 [==============================] - 6s 5ms/step - loss: 0.3278 - accuracy: 0.9081 - val_loss: 0.3132 - val_accuracy: 0.9156\n",
      "Epoch 44/100\n",
      "1146/1146 [==============================] - 6s 5ms/step - loss: 0.3267 - accuracy: 0.9085 - val_loss: 0.3124 - val_accuracy: 0.9142\n",
      "Epoch 45/100\n",
      "1146/1146 [==============================] - 6s 5ms/step - loss: 0.3256 - accuracy: 0.9089 - val_loss: 0.3114 - val_accuracy: 0.9160\n",
      "Epoch 46/100\n",
      "1146/1146 [==============================] - 6s 5ms/step - loss: 0.3245 - accuracy: 0.9091 - val_loss: 0.3105 - val_accuracy: 0.9158\n",
      "Epoch 47/100\n",
      "1146/1146 [==============================] - 6s 5ms/step - loss: 0.3235 - accuracy: 0.9092 - val_loss: 0.3097 - val_accuracy: 0.9154\n",
      "Epoch 48/100\n",
      "1146/1146 [==============================] - 6s 5ms/step - loss: 0.3225 - accuracy: 0.9100 - val_loss: 0.3088 - val_accuracy: 0.9156\n",
      "Epoch 49/100\n",
      "1146/1146 [==============================] - 6s 5ms/step - loss: 0.3215 - accuracy: 0.9101 - val_loss: 0.3080 - val_accuracy: 0.9164\n",
      "Epoch 50/100\n",
      "1146/1146 [==============================] - 6s 5ms/step - loss: 0.3206 - accuracy: 0.9100 - val_loss: 0.3072 - val_accuracy: 0.9164\n",
      "Epoch 51/100\n",
      "1146/1146 [==============================] - 6s 5ms/step - loss: 0.3197 - accuracy: 0.9104 - val_loss: 0.3064 - val_accuracy: 0.9164\n",
      "Epoch 52/100\n",
      "1146/1146 [==============================] - 6s 5ms/step - loss: 0.3187 - accuracy: 0.9108 - val_loss: 0.3058 - val_accuracy: 0.9168\n",
      "Epoch 53/100\n",
      "1146/1146 [==============================] - 6s 5ms/step - loss: 0.3179 - accuracy: 0.9108 - val_loss: 0.3050 - val_accuracy: 0.9170\n",
      "Epoch 54/100\n",
      "1146/1146 [==============================] - 6s 5ms/step - loss: 0.3170 - accuracy: 0.9116 - val_loss: 0.3043 - val_accuracy: 0.9182\n",
      "Epoch 55/100\n",
      "1146/1146 [==============================] - 6s 5ms/step - loss: 0.3162 - accuracy: 0.9114 - val_loss: 0.3036 - val_accuracy: 0.9180\n",
      "Epoch 56/100\n",
      "1146/1146 [==============================] - 6s 5ms/step - loss: 0.3154 - accuracy: 0.9121 - val_loss: 0.3031 - val_accuracy: 0.9186\n",
      "Epoch 57/100\n"
     ]
    },
    {
     "name": "stdout",
     "output_type": "stream",
     "text": [
      "1146/1146 [==============================] - 5s 5ms/step - loss: 0.3147 - accuracy: 0.9121 - val_loss: 0.3024 - val_accuracy: 0.9186\n",
      "Epoch 58/100\n",
      "1146/1146 [==============================] - 6s 5ms/step - loss: 0.3139 - accuracy: 0.9122 - val_loss: 0.3017 - val_accuracy: 0.9188\n",
      "Epoch 59/100\n",
      "1146/1146 [==============================] - 6s 5ms/step - loss: 0.3131 - accuracy: 0.9126 - val_loss: 0.3012 - val_accuracy: 0.9188\n",
      "Epoch 60/100\n",
      "1146/1146 [==============================] - 5s 5ms/step - loss: 0.3124 - accuracy: 0.9129 - val_loss: 0.3005 - val_accuracy: 0.9188\n",
      "Epoch 61/100\n",
      "1146/1146 [==============================] - 6s 5ms/step - loss: 0.3117 - accuracy: 0.9124 - val_loss: 0.3001 - val_accuracy: 0.9178\n",
      "Epoch 62/100\n",
      "1146/1146 [==============================] - 6s 5ms/step - loss: 0.3110 - accuracy: 0.9131 - val_loss: 0.2994 - val_accuracy: 0.9182\n",
      "Epoch 63/100\n",
      "1146/1146 [==============================] - 6s 5ms/step - loss: 0.3103 - accuracy: 0.9133 - val_loss: 0.2989 - val_accuracy: 0.9186\n",
      "Epoch 64/100\n",
      "1146/1146 [==============================] - 6s 5ms/step - loss: 0.3097 - accuracy: 0.9137 - val_loss: 0.2983 - val_accuracy: 0.9188\n",
      "Epoch 65/100\n",
      "1146/1146 [==============================] - 6s 5ms/step - loss: 0.3091 - accuracy: 0.9135 - val_loss: 0.2978 - val_accuracy: 0.9190\n",
      "Epoch 66/100\n",
      "1146/1146 [==============================] - 5s 5ms/step - loss: 0.3084 - accuracy: 0.9136 - val_loss: 0.2973 - val_accuracy: 0.9190\n",
      "Epoch 67/100\n",
      "1146/1146 [==============================] - 6s 5ms/step - loss: 0.3078 - accuracy: 0.9141 - val_loss: 0.2969 - val_accuracy: 0.9192\n",
      "Epoch 68/100\n",
      "1146/1146 [==============================] - 6s 5ms/step - loss: 0.3072 - accuracy: 0.9143 - val_loss: 0.2963 - val_accuracy: 0.9190\n",
      "Epoch 69/100\n",
      "1146/1146 [==============================] - 6s 5ms/step - loss: 0.3066 - accuracy: 0.9143 - val_loss: 0.2961 - val_accuracy: 0.9190\n",
      "Epoch 70/100\n",
      "1146/1146 [==============================] - 6s 5ms/step - loss: 0.3060 - accuracy: 0.9145 - val_loss: 0.2954 - val_accuracy: 0.9190\n",
      "Epoch 71/100\n",
      "1146/1146 [==============================] - 6s 5ms/step - loss: 0.3055 - accuracy: 0.9145 - val_loss: 0.2950 - val_accuracy: 0.9192\n",
      "Epoch 72/100\n",
      "1146/1146 [==============================] - 6s 5ms/step - loss: 0.3048 - accuracy: 0.9145 - val_loss: 0.2948 - val_accuracy: 0.9198\n",
      "Epoch 73/100\n",
      "1146/1146 [==============================] - 6s 5ms/step - loss: 0.3044 - accuracy: 0.9151 - val_loss: 0.2942 - val_accuracy: 0.9202\n",
      "Epoch 74/100\n",
      "1146/1146 [==============================] - 6s 5ms/step - loss: 0.3038 - accuracy: 0.9152 - val_loss: 0.2938 - val_accuracy: 0.9200\n",
      "Epoch 75/100\n",
      "1146/1146 [==============================] - 6s 5ms/step - loss: 0.3033 - accuracy: 0.9153 - val_loss: 0.2934 - val_accuracy: 0.9204\n",
      "Epoch 76/100\n",
      "1146/1146 [==============================] - 6s 5ms/step - loss: 0.3027 - accuracy: 0.9152 - val_loss: 0.2930 - val_accuracy: 0.9198\n",
      "Epoch 77/100\n",
      "1146/1146 [==============================] - 6s 5ms/step - loss: 0.3022 - accuracy: 0.9157 - val_loss: 0.2927 - val_accuracy: 0.9204\n",
      "Epoch 78/100\n",
      "1146/1146 [==============================] - 6s 5ms/step - loss: 0.3017 - accuracy: 0.9153 - val_loss: 0.2923 - val_accuracy: 0.9202\n",
      "Epoch 79/100\n",
      "1146/1146 [==============================] - 6s 5ms/step - loss: 0.3013 - accuracy: 0.9158 - val_loss: 0.2918 - val_accuracy: 0.9208\n",
      "Epoch 80/100\n",
      "1146/1146 [==============================] - 6s 5ms/step - loss: 0.3007 - accuracy: 0.9158 - val_loss: 0.2914 - val_accuracy: 0.9202\n",
      "Epoch 81/100\n",
      "1146/1146 [==============================] - 6s 5ms/step - loss: 0.3003 - accuracy: 0.9159 - val_loss: 0.2912 - val_accuracy: 0.9210\n",
      "Epoch 82/100\n",
      "1146/1146 [==============================] - 6s 5ms/step - loss: 0.2999 - accuracy: 0.9162 - val_loss: 0.2908 - val_accuracy: 0.9202\n",
      "Epoch 83/100\n",
      "1146/1146 [==============================] - 5s 5ms/step - loss: 0.2994 - accuracy: 0.9164 - val_loss: 0.2905 - val_accuracy: 0.9202\n",
      "Epoch 84/100\n",
      "1146/1146 [==============================] - 5s 5ms/step - loss: 0.2989 - accuracy: 0.9164 - val_loss: 0.2901 - val_accuracy: 0.9206\n",
      "Epoch 85/100\n",
      "1146/1146 [==============================] - 6s 5ms/step - loss: 0.2985 - accuracy: 0.9162 - val_loss: 0.2898 - val_accuracy: 0.9204\n",
      "Epoch 86/100\n",
      "1146/1146 [==============================] - 6s 5ms/step - loss: 0.2981 - accuracy: 0.9165 - val_loss: 0.2895 - val_accuracy: 0.9202\n",
      "Epoch 87/100\n",
      "1146/1146 [==============================] - 5s 5ms/step - loss: 0.2976 - accuracy: 0.9165 - val_loss: 0.2891 - val_accuracy: 0.9208\n",
      "Epoch 88/100\n",
      "1146/1146 [==============================] - 6s 5ms/step - loss: 0.2972 - accuracy: 0.9170 - val_loss: 0.2889 - val_accuracy: 0.9206\n",
      "Epoch 89/100\n",
      "1146/1146 [==============================] - 6s 5ms/step - loss: 0.2968 - accuracy: 0.9169 - val_loss: 0.2886 - val_accuracy: 0.9202\n",
      "Epoch 90/100\n",
      "1146/1146 [==============================] - 6s 5ms/step - loss: 0.2964 - accuracy: 0.9173 - val_loss: 0.2882 - val_accuracy: 0.9210\n",
      "Epoch 91/100\n",
      "1146/1146 [==============================] - 6s 5ms/step - loss: 0.2960 - accuracy: 0.9175 - val_loss: 0.2880 - val_accuracy: 0.9202\n",
      "Epoch 92/100\n",
      "1146/1146 [==============================] - 5s 5ms/step - loss: 0.2956 - accuracy: 0.9170 - val_loss: 0.2877 - val_accuracy: 0.9210\n",
      "Epoch 93/100\n",
      "1146/1146 [==============================] - 6s 5ms/step - loss: 0.2952 - accuracy: 0.9176 - val_loss: 0.2874 - val_accuracy: 0.9212\n",
      "Epoch 94/100\n",
      "1146/1146 [==============================] - 6s 5ms/step - loss: 0.2948 - accuracy: 0.9174 - val_loss: 0.2871 - val_accuracy: 0.9212\n",
      "Epoch 95/100\n",
      "1146/1146 [==============================] - 6s 5ms/step - loss: 0.2945 - accuracy: 0.9180 - val_loss: 0.2869 - val_accuracy: 0.9216\n",
      "Epoch 96/100\n",
      "1146/1146 [==============================] - 6s 5ms/step - loss: 0.2940 - accuracy: 0.9178 - val_loss: 0.2868 - val_accuracy: 0.9210\n",
      "Epoch 97/100\n",
      "1146/1146 [==============================] - 6s 5ms/step - loss: 0.2937 - accuracy: 0.9178 - val_loss: 0.2864 - val_accuracy: 0.9214\n",
      "Epoch 98/100\n",
      "1146/1146 [==============================] - 6s 5ms/step - loss: 0.2934 - accuracy: 0.9178 - val_loss: 0.2861 - val_accuracy: 0.9216\n",
      "Epoch 99/100\n",
      "1146/1146 [==============================] - 6s 5ms/step - loss: 0.2930 - accuracy: 0.9179 - val_loss: 0.2858 - val_accuracy: 0.9214\n",
      "Epoch 100/100\n",
      "1146/1146 [==============================] - 6s 5ms/step - loss: 0.2926 - accuracy: 0.9183 - val_loss: 0.2856 - val_accuracy: 0.9216\n",
      " 23/573 [>.............................] - ETA: 2s - loss: 0.3009 - accuracy: 0.9158"
     ]
    },
    {
     "name": "stderr",
     "output_type": "stream",
     "text": [
      "2022-11-15 21:56:20.740987: I tensorflow/core/grappler/optimizers/custom_graph_optimizer_registry.cc:114] Plugin optimizer for device_type GPU is enabled.\n"
     ]
    },
    {
     "name": "stdout",
     "output_type": "stream",
     "text": [
      "573/573 [==============================] - 2s 4ms/step - loss: 0.3151 - accuracy: 0.9119\n",
      "[CV] END ...........................n_hidden=0, n_neurons=10; total time= 9.1min\n",
      "Epoch 1/100\n"
     ]
    },
    {
     "name": "stderr",
     "output_type": "stream",
     "text": [
      "/Users/gtr/opt/anaconda3/lib/python3.9/site-packages/keras/optimizers/optimizer_v2/gradient_descent.py:111: UserWarning: The `lr` argument is deprecated, use `learning_rate` instead.\n",
      "  super().__init__(name, **kwargs)\n"
     ]
    },
    {
     "name": "stdout",
     "output_type": "stream",
     "text": [
      "1143/1146 [============================>.] - ETA: 0s - loss: 1.3841 - accuracy: 0.6730"
     ]
    },
    {
     "name": "stderr",
     "output_type": "stream",
     "text": [
      "2022-11-15 21:56:23.392085: I tensorflow/core/grappler/optimizers/custom_graph_optimizer_registry.cc:114] Plugin optimizer for device_type GPU is enabled.\n",
      "2022-11-15 21:56:28.513626: I tensorflow/core/grappler/optimizers/custom_graph_optimizer_registry.cc:114] Plugin optimizer for device_type GPU is enabled.\n"
     ]
    },
    {
     "name": "stdout",
     "output_type": "stream",
     "text": [
      "1146/1146 [==============================] - 6s 5ms/step - loss: 1.3830 - accuracy: 0.6733 - val_loss: 0.9320 - val_accuracy: 0.8132\n",
      "Epoch 2/100\n",
      "1146/1146 [==============================] - 5s 5ms/step - loss: 0.8021 - accuracy: 0.8298 - val_loss: 0.6881 - val_accuracy: 0.8528\n",
      "Epoch 3/100\n",
      "1146/1146 [==============================] - 6s 5ms/step - loss: 0.6469 - accuracy: 0.8517 - val_loss: 0.5874 - val_accuracy: 0.8666\n",
      "Epoch 4/100\n",
      "1146/1146 [==============================] - 6s 5ms/step - loss: 0.5721 - accuracy: 0.8623 - val_loss: 0.5303 - val_accuracy: 0.8758\n",
      "Epoch 5/100\n",
      "1146/1146 [==============================] - 6s 5ms/step - loss: 0.5267 - accuracy: 0.8693 - val_loss: 0.4938 - val_accuracy: 0.8820\n",
      "Epoch 6/100\n",
      "1146/1146 [==============================] - 5s 5ms/step - loss: 0.4957 - accuracy: 0.8739 - val_loss: 0.4667 - val_accuracy: 0.8874\n",
      "Epoch 7/100\n",
      "1146/1146 [==============================] - 6s 5ms/step - loss: 0.4728 - accuracy: 0.8783 - val_loss: 0.4467 - val_accuracy: 0.8902\n",
      "Epoch 8/100\n",
      "1146/1146 [==============================] - 6s 5ms/step - loss: 0.4551 - accuracy: 0.8814 - val_loss: 0.4310 - val_accuracy: 0.8928\n",
      "Epoch 9/100\n",
      "1146/1146 [==============================] - 6s 5ms/step - loss: 0.4408 - accuracy: 0.8845 - val_loss: 0.4179 - val_accuracy: 0.8942\n",
      "Epoch 10/100\n",
      "1146/1146 [==============================] - 5s 5ms/step - loss: 0.4290 - accuracy: 0.8871 - val_loss: 0.4072 - val_accuracy: 0.8972\n",
      "Epoch 11/100\n",
      "1146/1146 [==============================] - 5s 5ms/step - loss: 0.4191 - accuracy: 0.8893 - val_loss: 0.3978 - val_accuracy: 0.8984\n",
      "Epoch 12/100\n",
      "1146/1146 [==============================] - 6s 5ms/step - loss: 0.4105 - accuracy: 0.8914 - val_loss: 0.3898 - val_accuracy: 0.9002\n",
      "Epoch 13/100\n",
      "1146/1146 [==============================] - 6s 5ms/step - loss: 0.4030 - accuracy: 0.8930 - val_loss: 0.3833 - val_accuracy: 0.9010\n",
      "Epoch 14/100\n",
      "1146/1146 [==============================] - 5s 5ms/step - loss: 0.3964 - accuracy: 0.8942 - val_loss: 0.3771 - val_accuracy: 0.9018\n",
      "Epoch 15/100\n",
      "1146/1146 [==============================] - 5s 5ms/step - loss: 0.3906 - accuracy: 0.8955 - val_loss: 0.3715 - val_accuracy: 0.9030\n",
      "Epoch 16/100\n",
      "1146/1146 [==============================] - 6s 5ms/step - loss: 0.3853 - accuracy: 0.8971 - val_loss: 0.3667 - val_accuracy: 0.9042\n",
      "Epoch 17/100\n",
      "1146/1146 [==============================] - 6s 5ms/step - loss: 0.3805 - accuracy: 0.8977 - val_loss: 0.3623 - val_accuracy: 0.9042\n",
      "Epoch 18/100\n",
      "1146/1146 [==============================] - 6s 5ms/step - loss: 0.3762 - accuracy: 0.8986 - val_loss: 0.3584 - val_accuracy: 0.9046\n",
      "Epoch 19/100\n",
      "1146/1146 [==============================] - 5s 5ms/step - loss: 0.3722 - accuracy: 0.9001 - val_loss: 0.3546 - val_accuracy: 0.9064\n",
      "Epoch 20/100\n",
      "1146/1146 [==============================] - 6s 5ms/step - loss: 0.3685 - accuracy: 0.9008 - val_loss: 0.3511 - val_accuracy: 0.9072\n",
      "Epoch 21/100\n",
      "1146/1146 [==============================] - 6s 5ms/step - loss: 0.3651 - accuracy: 0.9016 - val_loss: 0.3481 - val_accuracy: 0.9080\n",
      "Epoch 22/100\n",
      "1146/1146 [==============================] - 6s 5ms/step - loss: 0.3619 - accuracy: 0.9024 - val_loss: 0.3452 - val_accuracy: 0.9084\n",
      "Epoch 23/100\n",
      "1146/1146 [==============================] - 5s 5ms/step - loss: 0.3590 - accuracy: 0.9029 - val_loss: 0.3425 - val_accuracy: 0.9088\n",
      "Epoch 24/100\n",
      "1146/1146 [==============================] - 6s 5ms/step - loss: 0.3562 - accuracy: 0.9033 - val_loss: 0.3400 - val_accuracy: 0.9090\n",
      "Epoch 25/100\n",
      "1146/1146 [==============================] - 6s 5ms/step - loss: 0.3536 - accuracy: 0.9044 - val_loss: 0.3376 - val_accuracy: 0.9108\n",
      "Epoch 26/100\n",
      "1146/1146 [==============================] - 6s 5ms/step - loss: 0.3512 - accuracy: 0.9044 - val_loss: 0.3356 - val_accuracy: 0.9108\n",
      "Epoch 27/100\n",
      "1146/1146 [==============================] - 5s 5ms/step - loss: 0.3489 - accuracy: 0.9053 - val_loss: 0.3334 - val_accuracy: 0.9120\n",
      "Epoch 28/100\n",
      "1146/1146 [==============================] - 6s 5ms/step - loss: 0.3467 - accuracy: 0.9057 - val_loss: 0.3314 - val_accuracy: 0.9114\n",
      "Epoch 29/100\n",
      "1146/1146 [==============================] - 6s 5ms/step - loss: 0.3446 - accuracy: 0.9062 - val_loss: 0.3296 - val_accuracy: 0.9120\n",
      "Epoch 30/100\n",
      "1146/1146 [==============================] - 6s 5ms/step - loss: 0.3427 - accuracy: 0.9066 - val_loss: 0.3279 - val_accuracy: 0.9126\n",
      "Epoch 31/100\n",
      "1146/1146 [==============================] - 5s 5ms/step - loss: 0.3408 - accuracy: 0.9072 - val_loss: 0.3263 - val_accuracy: 0.9116\n",
      "Epoch 32/100\n",
      "1146/1146 [==============================] - 6s 5ms/step - loss: 0.3390 - accuracy: 0.9077 - val_loss: 0.3248 - val_accuracy: 0.9126\n",
      "Epoch 33/100\n",
      "1146/1146 [==============================] - 6s 5ms/step - loss: 0.3373 - accuracy: 0.9081 - val_loss: 0.3231 - val_accuracy: 0.9120\n",
      "Epoch 34/100\n",
      "1146/1146 [==============================] - 6s 5ms/step - loss: 0.3357 - accuracy: 0.9085 - val_loss: 0.3217 - val_accuracy: 0.9130\n",
      "Epoch 35/100\n",
      "1146/1146 [==============================] - 5s 5ms/step - loss: 0.3342 - accuracy: 0.9091 - val_loss: 0.3204 - val_accuracy: 0.9132\n",
      "Epoch 36/100\n",
      "1146/1146 [==============================] - 5s 5ms/step - loss: 0.3327 - accuracy: 0.9093 - val_loss: 0.3190 - val_accuracy: 0.9128\n",
      "Epoch 37/100\n",
      "1146/1146 [==============================] - 6s 5ms/step - loss: 0.3313 - accuracy: 0.9097 - val_loss: 0.3178 - val_accuracy: 0.9132\n",
      "Epoch 38/100\n",
      "1146/1146 [==============================] - 6s 5ms/step - loss: 0.3299 - accuracy: 0.9101 - val_loss: 0.3165 - val_accuracy: 0.9140\n",
      "Epoch 39/100\n",
      "1146/1146 [==============================] - 5s 5ms/step - loss: 0.3286 - accuracy: 0.9109 - val_loss: 0.3156 - val_accuracy: 0.9136\n",
      "Epoch 40/100\n",
      "1146/1146 [==============================] - 6s 5ms/step - loss: 0.3273 - accuracy: 0.9108 - val_loss: 0.3145 - val_accuracy: 0.9148\n",
      "Epoch 41/100\n",
      "1146/1146 [==============================] - 6s 5ms/step - loss: 0.3260 - accuracy: 0.9111 - val_loss: 0.3136 - val_accuracy: 0.9150\n",
      "Epoch 42/100\n",
      "1146/1146 [==============================] - 6s 5ms/step - loss: 0.3249 - accuracy: 0.9114 - val_loss: 0.3123 - val_accuracy: 0.9144\n",
      "Epoch 43/100\n",
      "1146/1146 [==============================] - 5s 5ms/step - loss: 0.3238 - accuracy: 0.9114 - val_loss: 0.3115 - val_accuracy: 0.9150\n",
      "Epoch 44/100\n",
      "1146/1146 [==============================] - 5s 5ms/step - loss: 0.3226 - accuracy: 0.9123 - val_loss: 0.3106 - val_accuracy: 0.9156\n",
      "Epoch 45/100\n",
      "1146/1146 [==============================] - 6s 5ms/step - loss: 0.3216 - accuracy: 0.9129 - val_loss: 0.3098 - val_accuracy: 0.9156\n",
      "Epoch 46/100\n",
      "1146/1146 [==============================] - 665s 581ms/step - loss: 0.3205 - accuracy: 0.9129 - val_loss: 0.3088 - val_accuracy: 0.9156\n",
      "Epoch 47/100\n",
      "1146/1146 [==============================] - 5s 5ms/step - loss: 0.3195 - accuracy: 0.9131 - val_loss: 0.3079 - val_accuracy: 0.9158\n",
      "Epoch 48/100\n",
      "1146/1146 [==============================] - 6s 5ms/step - loss: 0.3186 - accuracy: 0.9134 - val_loss: 0.3071 - val_accuracy: 0.9160\n",
      "Epoch 49/100\n",
      "1146/1146 [==============================] - 6s 5ms/step - loss: 0.3176 - accuracy: 0.9136 - val_loss: 0.3063 - val_accuracy: 0.9168\n",
      "Epoch 50/100\n",
      "1146/1146 [==============================] - 6s 5ms/step - loss: 0.3167 - accuracy: 0.9140 - val_loss: 0.3057 - val_accuracy: 0.9164\n",
      "Epoch 51/100\n",
      "1146/1146 [==============================] - 6s 5ms/step - loss: 0.3158 - accuracy: 0.9139 - val_loss: 0.3048 - val_accuracy: 0.9174\n",
      "Epoch 52/100\n",
      "1146/1146 [==============================] - 6s 5ms/step - loss: 0.3149 - accuracy: 0.9140 - val_loss: 0.3041 - val_accuracy: 0.9170\n",
      "Epoch 53/100\n",
      "1146/1146 [==============================] - 6s 5ms/step - loss: 0.3141 - accuracy: 0.9145 - val_loss: 0.3036 - val_accuracy: 0.9174\n",
      "Epoch 54/100\n",
      "1146/1146 [==============================] - 6s 5ms/step - loss: 0.3133 - accuracy: 0.9149 - val_loss: 0.3029 - val_accuracy: 0.9170\n",
      "Epoch 55/100\n",
      "1146/1146 [==============================] - 6s 5ms/step - loss: 0.3125 - accuracy: 0.9152 - val_loss: 0.3023 - val_accuracy: 0.9172\n",
      "Epoch 56/100\n",
      "1146/1146 [==============================] - 6s 5ms/step - loss: 0.3117 - accuracy: 0.9155 - val_loss: 0.3015 - val_accuracy: 0.9172\n",
      "Epoch 57/100\n"
     ]
    },
    {
     "name": "stdout",
     "output_type": "stream",
     "text": [
      "1146/1146 [==============================] - 6s 5ms/step - loss: 0.3110 - accuracy: 0.9156 - val_loss: 0.3010 - val_accuracy: 0.9180\n",
      "Epoch 58/100\n",
      "1146/1146 [==============================] - 5s 5ms/step - loss: 0.3102 - accuracy: 0.9156 - val_loss: 0.3004 - val_accuracy: 0.9176\n",
      "Epoch 59/100\n",
      "1146/1146 [==============================] - 6s 5ms/step - loss: 0.3095 - accuracy: 0.9162 - val_loss: 0.2998 - val_accuracy: 0.9176\n",
      "Epoch 60/100\n",
      "1146/1146 [==============================] - 5s 5ms/step - loss: 0.3088 - accuracy: 0.9162 - val_loss: 0.2991 - val_accuracy: 0.9178\n",
      "Epoch 61/100\n",
      "1146/1146 [==============================] - 6s 5ms/step - loss: 0.3081 - accuracy: 0.9163 - val_loss: 0.2987 - val_accuracy: 0.9174\n",
      "Epoch 62/100\n",
      "1146/1146 [==============================] - 6s 5ms/step - loss: 0.3074 - accuracy: 0.9162 - val_loss: 0.2982 - val_accuracy: 0.9178\n",
      "Epoch 63/100\n",
      "1146/1146 [==============================] - 5s 5ms/step - loss: 0.3067 - accuracy: 0.9161 - val_loss: 0.2978 - val_accuracy: 0.9176\n",
      "Epoch 64/100\n",
      "1146/1146 [==============================] - 5s 5ms/step - loss: 0.3061 - accuracy: 0.9166 - val_loss: 0.2972 - val_accuracy: 0.9174\n",
      "Epoch 65/100\n",
      "1146/1146 [==============================] - 6s 5ms/step - loss: 0.3055 - accuracy: 0.9168 - val_loss: 0.2967 - val_accuracy: 0.9182\n",
      "Epoch 66/100\n",
      "1146/1146 [==============================] - 6s 5ms/step - loss: 0.3049 - accuracy: 0.9168 - val_loss: 0.2964 - val_accuracy: 0.9180\n",
      "Epoch 67/100\n",
      "1146/1146 [==============================] - 5s 5ms/step - loss: 0.3043 - accuracy: 0.9173 - val_loss: 0.2958 - val_accuracy: 0.9182\n",
      "Epoch 68/100\n",
      "1146/1146 [==============================] - 5s 5ms/step - loss: 0.3037 - accuracy: 0.9174 - val_loss: 0.2954 - val_accuracy: 0.9182\n",
      "Epoch 69/100\n",
      "1146/1146 [==============================] - 5s 5ms/step - loss: 0.3031 - accuracy: 0.9172 - val_loss: 0.2948 - val_accuracy: 0.9174\n",
      "Epoch 70/100\n",
      "1146/1146 [==============================] - 5s 5ms/step - loss: 0.3026 - accuracy: 0.9178 - val_loss: 0.2943 - val_accuracy: 0.9184\n",
      "Epoch 71/100\n",
      "1146/1146 [==============================] - 6s 5ms/step - loss: 0.3020 - accuracy: 0.9180 - val_loss: 0.2939 - val_accuracy: 0.9186\n",
      "Epoch 72/100\n",
      "1146/1146 [==============================] - 5s 5ms/step - loss: 0.3015 - accuracy: 0.9179 - val_loss: 0.2934 - val_accuracy: 0.9194\n",
      "Epoch 73/100\n",
      "1146/1146 [==============================] - 5s 5ms/step - loss: 0.3009 - accuracy: 0.9177 - val_loss: 0.2931 - val_accuracy: 0.9192\n",
      "Epoch 74/100\n",
      "1146/1146 [==============================] - 5s 5ms/step - loss: 0.3004 - accuracy: 0.9182 - val_loss: 0.2929 - val_accuracy: 0.9190\n",
      "Epoch 75/100\n",
      "1146/1146 [==============================] - 6s 5ms/step - loss: 0.2999 - accuracy: 0.9180 - val_loss: 0.2924 - val_accuracy: 0.9190\n",
      "Epoch 76/100\n",
      "1146/1146 [==============================] - 5s 5ms/step - loss: 0.2994 - accuracy: 0.9181 - val_loss: 0.2920 - val_accuracy: 0.9198\n",
      "Epoch 77/100\n",
      "1146/1146 [==============================] - 6s 5ms/step - loss: 0.2989 - accuracy: 0.9185 - val_loss: 0.2916 - val_accuracy: 0.9200\n",
      "Epoch 78/100\n",
      "1146/1146 [==============================] - 5s 5ms/step - loss: 0.2984 - accuracy: 0.9191 - val_loss: 0.2914 - val_accuracy: 0.9194\n",
      "Epoch 79/100\n",
      "1146/1146 [==============================] - 6s 5ms/step - loss: 0.2980 - accuracy: 0.9189 - val_loss: 0.2910 - val_accuracy: 0.9196\n",
      "Epoch 80/100\n",
      "1146/1146 [==============================] - 6s 5ms/step - loss: 0.2975 - accuracy: 0.9192 - val_loss: 0.2905 - val_accuracy: 0.9210\n",
      "Epoch 81/100\n",
      "1146/1146 [==============================] - 6s 5ms/step - loss: 0.2970 - accuracy: 0.9191 - val_loss: 0.2903 - val_accuracy: 0.9196\n",
      "Epoch 82/100\n",
      "1146/1146 [==============================] - 6s 5ms/step - loss: 0.2966 - accuracy: 0.9194 - val_loss: 0.2900 - val_accuracy: 0.9194\n",
      "Epoch 83/100\n",
      "1146/1146 [==============================] - 6s 5ms/step - loss: 0.2961 - accuracy: 0.9194 - val_loss: 0.2896 - val_accuracy: 0.9202\n",
      "Epoch 84/100\n",
      "1146/1146 [==============================] - 6s 5ms/step - loss: 0.2957 - accuracy: 0.9198 - val_loss: 0.2893 - val_accuracy: 0.9212\n",
      "Epoch 85/100\n",
      "1146/1146 [==============================] - 6s 5ms/step - loss: 0.2953 - accuracy: 0.9197 - val_loss: 0.2890 - val_accuracy: 0.9206\n",
      "Epoch 86/100\n",
      "1146/1146 [==============================] - 6s 5ms/step - loss: 0.2948 - accuracy: 0.9195 - val_loss: 0.2886 - val_accuracy: 0.9212\n",
      "Epoch 87/100\n",
      "1146/1146 [==============================] - 6s 5ms/step - loss: 0.2944 - accuracy: 0.9199 - val_loss: 0.2883 - val_accuracy: 0.9210\n",
      "Epoch 88/100\n",
      "1146/1146 [==============================] - 6s 5ms/step - loss: 0.2940 - accuracy: 0.9200 - val_loss: 0.2879 - val_accuracy: 0.9214\n",
      "Epoch 89/100\n",
      "1146/1146 [==============================] - 6s 5ms/step - loss: 0.2936 - accuracy: 0.9203 - val_loss: 0.2878 - val_accuracy: 0.9208\n",
      "Epoch 90/100\n",
      "1146/1146 [==============================] - 6s 5ms/step - loss: 0.2932 - accuracy: 0.9202 - val_loss: 0.2875 - val_accuracy: 0.9212\n",
      "Epoch 91/100\n",
      "1146/1146 [==============================] - 6s 5ms/step - loss: 0.2928 - accuracy: 0.9203 - val_loss: 0.2873 - val_accuracy: 0.9208\n",
      "Epoch 92/100\n",
      "1146/1146 [==============================] - 6s 5ms/step - loss: 0.2925 - accuracy: 0.9206 - val_loss: 0.2869 - val_accuracy: 0.9212\n",
      "Epoch 93/100\n",
      "1146/1146 [==============================] - 6s 5ms/step - loss: 0.2921 - accuracy: 0.9204 - val_loss: 0.2867 - val_accuracy: 0.9212\n",
      "Epoch 94/100\n",
      "1146/1146 [==============================] - 6s 5ms/step - loss: 0.2917 - accuracy: 0.9206 - val_loss: 0.2864 - val_accuracy: 0.9216\n",
      "Epoch 95/100\n",
      "1146/1146 [==============================] - 6s 5ms/step - loss: 0.2914 - accuracy: 0.9205 - val_loss: 0.2861 - val_accuracy: 0.9220\n",
      "Epoch 96/100\n",
      "1146/1146 [==============================] - 6s 5ms/step - loss: 0.2910 - accuracy: 0.9206 - val_loss: 0.2860 - val_accuracy: 0.9214\n",
      "Epoch 97/100\n",
      "1146/1146 [==============================] - 6s 5ms/step - loss: 0.2906 - accuracy: 0.9209 - val_loss: 0.2856 - val_accuracy: 0.9218\n",
      "Epoch 98/100\n",
      "1146/1146 [==============================] - 6s 5ms/step - loss: 0.2903 - accuracy: 0.9210 - val_loss: 0.2854 - val_accuracy: 0.9216\n",
      "Epoch 99/100\n",
      "1146/1146 [==============================] - 6s 5ms/step - loss: 0.2899 - accuracy: 0.9208 - val_loss: 0.2851 - val_accuracy: 0.9222\n",
      "Epoch 100/100\n",
      "1146/1146 [==============================] - 6s 5ms/step - loss: 0.2895 - accuracy: 0.9210 - val_loss: 0.2852 - val_accuracy: 0.9222\n",
      " 23/573 [>.............................] - ETA: 2s - loss: 0.3176 - accuracy: 0.9062"
     ]
    },
    {
     "name": "stderr",
     "output_type": "stream",
     "text": [
      "2022-11-15 22:16:37.601863: I tensorflow/core/grappler/optimizers/custom_graph_optimizer_registry.cc:114] Plugin optimizer for device_type GPU is enabled.\n"
     ]
    },
    {
     "name": "stdout",
     "output_type": "stream",
     "text": [
      "573/573 [==============================] - 2s 4ms/step - loss: 0.3206 - accuracy: 0.9078\n",
      "[CV] END ...........................n_hidden=0, n_neurons=10; total time=20.3min\n",
      "Epoch 1/100\n"
     ]
    },
    {
     "name": "stderr",
     "output_type": "stream",
     "text": [
      "/Users/gtr/opt/anaconda3/lib/python3.9/site-packages/keras/optimizers/optimizer_v2/gradient_descent.py:111: UserWarning: The `lr` argument is deprecated, use `learning_rate` instead.\n",
      "  super().__init__(name, **kwargs)\n"
     ]
    },
    {
     "name": "stdout",
     "output_type": "stream",
     "text": [
      "  23/1146 [..............................] - ETA: 5s - loss: 2.3272 - accuracy: 0.1087"
     ]
    },
    {
     "name": "stderr",
     "output_type": "stream",
     "text": [
      "2022-11-15 22:16:40.334596: I tensorflow/core/grappler/optimizers/custom_graph_optimizer_registry.cc:114] Plugin optimizer for device_type GPU is enabled.\n"
     ]
    },
    {
     "name": "stdout",
     "output_type": "stream",
     "text": [
      "1146/1146 [==============================] - ETA: 0s - loss: 1.4191 - accuracy: 0.6535"
     ]
    },
    {
     "name": "stderr",
     "output_type": "stream",
     "text": [
      "2022-11-15 22:16:45.473489: I tensorflow/core/grappler/optimizers/custom_graph_optimizer_registry.cc:114] Plugin optimizer for device_type GPU is enabled.\n"
     ]
    },
    {
     "name": "stdout",
     "output_type": "stream",
     "text": [
      "1146/1146 [==============================] - 6s 5ms/step - loss: 1.4191 - accuracy: 0.6535 - val_loss: 0.9419 - val_accuracy: 0.8104\n",
      "Epoch 2/100\n",
      "1146/1146 [==============================] - 6s 5ms/step - loss: 0.8214 - accuracy: 0.8238 - val_loss: 0.6940 - val_accuracy: 0.8500\n",
      "Epoch 3/100\n",
      "1146/1146 [==============================] - 5s 5ms/step - loss: 0.6634 - accuracy: 0.8474 - val_loss: 0.5919 - val_accuracy: 0.8666\n",
      "Epoch 4/100\n",
      "1146/1146 [==============================] - 6s 5ms/step - loss: 0.5870 - accuracy: 0.8589 - val_loss: 0.5347 - val_accuracy: 0.8736\n",
      "Epoch 5/100\n",
      "1146/1146 [==============================] - 5s 5ms/step - loss: 0.5405 - accuracy: 0.8667 - val_loss: 0.4971 - val_accuracy: 0.8774\n",
      "Epoch 6/100\n",
      "1146/1146 [==============================] - 6s 5ms/step - loss: 0.5084 - accuracy: 0.8717 - val_loss: 0.4702 - val_accuracy: 0.8822\n",
      "Epoch 7/100\n",
      "1146/1146 [==============================] - 6s 5ms/step - loss: 0.4849 - accuracy: 0.8759 - val_loss: 0.4499 - val_accuracy: 0.8842\n",
      "Epoch 8/100\n",
      "1146/1146 [==============================] - 5s 5ms/step - loss: 0.4666 - accuracy: 0.8795 - val_loss: 0.4341 - val_accuracy: 0.8854\n",
      "Epoch 9/100\n",
      "1146/1146 [==============================] - 5s 5ms/step - loss: 0.4519 - accuracy: 0.8826 - val_loss: 0.4208 - val_accuracy: 0.8898\n",
      "Epoch 10/100\n",
      "1146/1146 [==============================] - 6s 5ms/step - loss: 0.4396 - accuracy: 0.8849 - val_loss: 0.4099 - val_accuracy: 0.8922\n",
      "Epoch 11/100\n",
      "1146/1146 [==============================] - 6s 5ms/step - loss: 0.4294 - accuracy: 0.8864 - val_loss: 0.4006 - val_accuracy: 0.8938\n",
      "Epoch 12/100\n",
      "1146/1146 [==============================] - 5s 5ms/step - loss: 0.4205 - accuracy: 0.8880 - val_loss: 0.3927 - val_accuracy: 0.8960\n",
      "Epoch 13/100\n",
      "1146/1146 [==============================] - 5s 5ms/step - loss: 0.4127 - accuracy: 0.8901 - val_loss: 0.3861 - val_accuracy: 0.8968\n",
      "Epoch 14/100\n",
      "1146/1146 [==============================] - 5s 5ms/step - loss: 0.4059 - accuracy: 0.8916 - val_loss: 0.3797 - val_accuracy: 0.8992\n",
      "Epoch 15/100\n",
      "1146/1146 [==============================] - 6s 5ms/step - loss: 0.3999 - accuracy: 0.8928 - val_loss: 0.3741 - val_accuracy: 0.9012\n",
      "Epoch 16/100\n",
      "1146/1146 [==============================] - 6s 5ms/step - loss: 0.3944 - accuracy: 0.8937 - val_loss: 0.3693 - val_accuracy: 0.9022\n",
      "Epoch 17/100\n",
      "1146/1146 [==============================] - 6s 5ms/step - loss: 0.3895 - accuracy: 0.8943 - val_loss: 0.3648 - val_accuracy: 0.9028\n",
      "Epoch 18/100\n",
      "1146/1146 [==============================] - 5s 5ms/step - loss: 0.3850 - accuracy: 0.8951 - val_loss: 0.3610 - val_accuracy: 0.9038\n",
      "Epoch 19/100\n",
      "1146/1146 [==============================] - 5s 5ms/step - loss: 0.3808 - accuracy: 0.8961 - val_loss: 0.3571 - val_accuracy: 0.9048\n",
      "Epoch 20/100\n",
      "1146/1146 [==============================] - 5s 5ms/step - loss: 0.3771 - accuracy: 0.8969 - val_loss: 0.3538 - val_accuracy: 0.9052\n",
      "Epoch 21/100\n",
      "1146/1146 [==============================] - 6s 5ms/step - loss: 0.3736 - accuracy: 0.8977 - val_loss: 0.3505 - val_accuracy: 0.9056\n",
      "Epoch 22/100\n",
      "1146/1146 [==============================] - 5s 5ms/step - loss: 0.3703 - accuracy: 0.8988 - val_loss: 0.3477 - val_accuracy: 0.9058\n",
      "Epoch 23/100\n",
      "1146/1146 [==============================] - 5s 5ms/step - loss: 0.3673 - accuracy: 0.8997 - val_loss: 0.3452 - val_accuracy: 0.9072\n",
      "Epoch 24/100\n",
      "1146/1146 [==============================] - 5s 5ms/step - loss: 0.3644 - accuracy: 0.9008 - val_loss: 0.3423 - val_accuracy: 0.9068\n",
      "Epoch 25/100\n",
      "1146/1146 [==============================] - 6s 5ms/step - loss: 0.3617 - accuracy: 0.9011 - val_loss: 0.3403 - val_accuracy: 0.9086\n",
      "Epoch 26/100\n",
      "1146/1146 [==============================] - 6s 5ms/step - loss: 0.3593 - accuracy: 0.9017 - val_loss: 0.3380 - val_accuracy: 0.9084\n",
      "Epoch 27/100\n",
      "1146/1146 [==============================] - 6s 5ms/step - loss: 0.3568 - accuracy: 0.9021 - val_loss: 0.3359 - val_accuracy: 0.9090\n",
      "Epoch 28/100\n",
      "1146/1146 [==============================] - 5s 5ms/step - loss: 0.3546 - accuracy: 0.9031 - val_loss: 0.3339 - val_accuracy: 0.9090\n",
      "Epoch 29/100\n",
      "1146/1146 [==============================] - 5s 5ms/step - loss: 0.3525 - accuracy: 0.9033 - val_loss: 0.3322 - val_accuracy: 0.9106\n",
      "Epoch 30/100\n",
      "1146/1146 [==============================] - 6s 5ms/step - loss: 0.3505 - accuracy: 0.9037 - val_loss: 0.3304 - val_accuracy: 0.9102\n",
      "Epoch 31/100\n",
      "1146/1146 [==============================] - 6s 5ms/step - loss: 0.3486 - accuracy: 0.9040 - val_loss: 0.3287 - val_accuracy: 0.9112\n",
      "Epoch 32/100\n",
      "1146/1146 [==============================] - 6s 5ms/step - loss: 0.3467 - accuracy: 0.9043 - val_loss: 0.3272 - val_accuracy: 0.9118\n",
      "Epoch 33/100\n",
      "1146/1146 [==============================] - 6s 5ms/step - loss: 0.3450 - accuracy: 0.9047 - val_loss: 0.3254 - val_accuracy: 0.9120\n",
      "Epoch 34/100\n",
      "1146/1146 [==============================] - 6s 5ms/step - loss: 0.3433 - accuracy: 0.9047 - val_loss: 0.3240 - val_accuracy: 0.9128\n",
      "Epoch 35/100\n",
      "1146/1146 [==============================] - 6s 5ms/step - loss: 0.3417 - accuracy: 0.9052 - val_loss: 0.3229 - val_accuracy: 0.9140\n",
      "Epoch 36/100\n",
      "1146/1146 [==============================] - 6s 5ms/step - loss: 0.3402 - accuracy: 0.9054 - val_loss: 0.3213 - val_accuracy: 0.9128\n",
      "Epoch 37/100\n",
      "1146/1146 [==============================] - 6s 5ms/step - loss: 0.3388 - accuracy: 0.9060 - val_loss: 0.3201 - val_accuracy: 0.9134\n",
      "Epoch 38/100\n",
      "1146/1146 [==============================] - 6s 5ms/step - loss: 0.3373 - accuracy: 0.9065 - val_loss: 0.3190 - val_accuracy: 0.9132\n",
      "Epoch 39/100\n",
      "1146/1146 [==============================] - 6s 5ms/step - loss: 0.3360 - accuracy: 0.9064 - val_loss: 0.3178 - val_accuracy: 0.9140\n",
      "Epoch 40/100\n",
      "1146/1146 [==============================] - 6s 5ms/step - loss: 0.3347 - accuracy: 0.9069 - val_loss: 0.3167 - val_accuracy: 0.9144\n",
      "Epoch 41/100\n",
      "1146/1146 [==============================] - 6s 5ms/step - loss: 0.3333 - accuracy: 0.9077 - val_loss: 0.3159 - val_accuracy: 0.9148\n",
      "Epoch 42/100\n",
      "1146/1146 [==============================] - 6s 5ms/step - loss: 0.3322 - accuracy: 0.9074 - val_loss: 0.3145 - val_accuracy: 0.9150\n",
      "Epoch 43/100\n",
      "1146/1146 [==============================] - 6s 5ms/step - loss: 0.3310 - accuracy: 0.9078 - val_loss: 0.3136 - val_accuracy: 0.9162\n",
      "Epoch 44/100\n",
      "1146/1146 [==============================] - 6s 5ms/step - loss: 0.3298 - accuracy: 0.9080 - val_loss: 0.3127 - val_accuracy: 0.9156\n",
      "Epoch 45/100\n",
      "1146/1146 [==============================] - 6s 5ms/step - loss: 0.3288 - accuracy: 0.9083 - val_loss: 0.3120 - val_accuracy: 0.9166\n",
      "Epoch 46/100\n",
      "1146/1146 [==============================] - 6s 5ms/step - loss: 0.3277 - accuracy: 0.9083 - val_loss: 0.3110 - val_accuracy: 0.9154\n",
      "Epoch 47/100\n",
      "1146/1146 [==============================] - 6s 5ms/step - loss: 0.3267 - accuracy: 0.9087 - val_loss: 0.3101 - val_accuracy: 0.9162\n",
      "Epoch 48/100\n",
      "1146/1146 [==============================] - 6s 5ms/step - loss: 0.3257 - accuracy: 0.9093 - val_loss: 0.3094 - val_accuracy: 0.9174\n",
      "Epoch 49/100\n",
      "1146/1146 [==============================] - 6s 5ms/step - loss: 0.3247 - accuracy: 0.9094 - val_loss: 0.3085 - val_accuracy: 0.9182\n",
      "Epoch 50/100\n",
      "1146/1146 [==============================] - 6s 5ms/step - loss: 0.3238 - accuracy: 0.9098 - val_loss: 0.3078 - val_accuracy: 0.9172\n",
      "Epoch 51/100\n",
      "1146/1146 [==============================] - 6s 5ms/step - loss: 0.3229 - accuracy: 0.9101 - val_loss: 0.3070 - val_accuracy: 0.9182\n",
      "Epoch 52/100\n",
      "1146/1146 [==============================] - 6s 5ms/step - loss: 0.3220 - accuracy: 0.9102 - val_loss: 0.3062 - val_accuracy: 0.9182\n",
      "Epoch 53/100\n",
      "1146/1146 [==============================] - 6s 5ms/step - loss: 0.3212 - accuracy: 0.9101 - val_loss: 0.3055 - val_accuracy: 0.9176\n",
      "Epoch 54/100\n",
      "1146/1146 [==============================] - 6s 5ms/step - loss: 0.3203 - accuracy: 0.9105 - val_loss: 0.3050 - val_accuracy: 0.9186\n",
      "Epoch 55/100\n",
      "1146/1146 [==============================] - 6s 5ms/step - loss: 0.3195 - accuracy: 0.9106 - val_loss: 0.3042 - val_accuracy: 0.9192\n",
      "Epoch 56/100\n",
      "1146/1146 [==============================] - 6s 5ms/step - loss: 0.3187 - accuracy: 0.9109 - val_loss: 0.3035 - val_accuracy: 0.9190\n",
      "Epoch 57/100\n"
     ]
    },
    {
     "name": "stdout",
     "output_type": "stream",
     "text": [
      "1146/1146 [==============================] - 6s 5ms/step - loss: 0.3179 - accuracy: 0.9108 - val_loss: 0.3030 - val_accuracy: 0.9198\n",
      "Epoch 58/100\n",
      "1146/1146 [==============================] - 6s 5ms/step - loss: 0.3172 - accuracy: 0.9114 - val_loss: 0.3024 - val_accuracy: 0.9192\n",
      "Epoch 59/100\n",
      "1146/1146 [==============================] - 5s 5ms/step - loss: 0.3164 - accuracy: 0.9118 - val_loss: 0.3017 - val_accuracy: 0.9192\n",
      "Epoch 60/100\n",
      "1146/1146 [==============================] - 5s 5ms/step - loss: 0.3157 - accuracy: 0.9118 - val_loss: 0.3010 - val_accuracy: 0.9198\n",
      "Epoch 61/100\n",
      "1146/1146 [==============================] - 6s 5ms/step - loss: 0.3150 - accuracy: 0.9118 - val_loss: 0.3007 - val_accuracy: 0.9192\n",
      "Epoch 62/100\n",
      "1146/1146 [==============================] - 6s 5ms/step - loss: 0.3143 - accuracy: 0.9120 - val_loss: 0.3001 - val_accuracy: 0.9196\n",
      "Epoch 63/100\n",
      "1146/1146 [==============================] - 6s 5ms/step - loss: 0.3137 - accuracy: 0.9120 - val_loss: 0.2997 - val_accuracy: 0.9196\n",
      "Epoch 64/100\n",
      "1146/1146 [==============================] - 5s 5ms/step - loss: 0.3130 - accuracy: 0.9128 - val_loss: 0.2991 - val_accuracy: 0.9196\n",
      "Epoch 65/100\n",
      "1146/1146 [==============================] - 5s 5ms/step - loss: 0.3123 - accuracy: 0.9123 - val_loss: 0.2985 - val_accuracy: 0.9198\n",
      "Epoch 66/100\n",
      "1146/1146 [==============================] - 6s 5ms/step - loss: 0.3117 - accuracy: 0.9125 - val_loss: 0.2982 - val_accuracy: 0.9202\n",
      "Epoch 67/100\n",
      "1146/1146 [==============================] - 6s 5ms/step - loss: 0.3111 - accuracy: 0.9130 - val_loss: 0.2976 - val_accuracy: 0.9210\n",
      "Epoch 68/100\n",
      "1146/1146 [==============================] - 6s 5ms/step - loss: 0.3105 - accuracy: 0.9129 - val_loss: 0.2971 - val_accuracy: 0.9204\n",
      "Epoch 69/100\n",
      "1146/1146 [==============================] - 5s 5ms/step - loss: 0.3099 - accuracy: 0.9132 - val_loss: 0.2966 - val_accuracy: 0.9200\n",
      "Epoch 70/100\n",
      "1146/1146 [==============================] - 6s 5ms/step - loss: 0.3093 - accuracy: 0.9136 - val_loss: 0.2964 - val_accuracy: 0.9216\n",
      "Epoch 71/100\n",
      "1146/1146 [==============================] - 6s 5ms/step - loss: 0.3088 - accuracy: 0.9137 - val_loss: 0.2957 - val_accuracy: 0.9206\n",
      "Epoch 72/100\n",
      "1146/1146 [==============================] - 6s 5ms/step - loss: 0.3082 - accuracy: 0.9136 - val_loss: 0.2953 - val_accuracy: 0.9204\n",
      "Epoch 73/100\n",
      "1146/1146 [==============================] - 6s 5ms/step - loss: 0.3077 - accuracy: 0.9137 - val_loss: 0.2948 - val_accuracy: 0.9210\n",
      "Epoch 74/100\n",
      "1146/1146 [==============================] - 5s 5ms/step - loss: 0.3071 - accuracy: 0.9139 - val_loss: 0.2947 - val_accuracy: 0.9204\n",
      "Epoch 75/100\n",
      "1146/1146 [==============================] - 5s 5ms/step - loss: 0.3066 - accuracy: 0.9139 - val_loss: 0.2941 - val_accuracy: 0.9208\n",
      "Epoch 76/100\n",
      "1146/1146 [==============================] - 5s 5ms/step - loss: 0.3061 - accuracy: 0.9142 - val_loss: 0.2937 - val_accuracy: 0.9206\n",
      "Epoch 77/100\n",
      "1146/1146 [==============================] - 6s 5ms/step - loss: 0.3056 - accuracy: 0.9140 - val_loss: 0.2933 - val_accuracy: 0.9206\n",
      "Epoch 78/100\n",
      "1146/1146 [==============================] - 6s 5ms/step - loss: 0.3051 - accuracy: 0.9146 - val_loss: 0.2930 - val_accuracy: 0.9206\n",
      "Epoch 79/100\n",
      "1146/1146 [==============================] - 5s 5ms/step - loss: 0.3046 - accuracy: 0.9147 - val_loss: 0.2927 - val_accuracy: 0.9208\n",
      "Epoch 80/100\n",
      "1146/1146 [==============================] - 5s 5ms/step - loss: 0.3042 - accuracy: 0.9146 - val_loss: 0.2922 - val_accuracy: 0.9212\n",
      "Epoch 81/100\n",
      "1146/1146 [==============================] - 6s 5ms/step - loss: 0.3037 - accuracy: 0.9146 - val_loss: 0.2919 - val_accuracy: 0.9208\n",
      "Epoch 82/100\n",
      "1146/1146 [==============================] - 6s 5ms/step - loss: 0.3032 - accuracy: 0.9150 - val_loss: 0.2916 - val_accuracy: 0.9210\n",
      "Epoch 83/100\n",
      "1146/1146 [==============================] - 6s 5ms/step - loss: 0.3028 - accuracy: 0.9150 - val_loss: 0.2912 - val_accuracy: 0.9212\n",
      "Epoch 84/100\n",
      "1146/1146 [==============================] - 5s 5ms/step - loss: 0.3023 - accuracy: 0.9152 - val_loss: 0.2912 - val_accuracy: 0.9216\n",
      "Epoch 85/100\n",
      "1146/1146 [==============================] - 5s 5ms/step - loss: 0.3019 - accuracy: 0.9151 - val_loss: 0.2906 - val_accuracy: 0.9210\n",
      "Epoch 86/100\n",
      "1146/1146 [==============================] - 6s 5ms/step - loss: 0.3014 - accuracy: 0.9156 - val_loss: 0.2904 - val_accuracy: 0.9218\n",
      "Epoch 87/100\n",
      "1146/1146 [==============================] - 6s 5ms/step - loss: 0.3011 - accuracy: 0.9154 - val_loss: 0.2899 - val_accuracy: 0.9214\n",
      "Epoch 88/100\n",
      "1146/1146 [==============================] - 6s 5ms/step - loss: 0.3006 - accuracy: 0.9154 - val_loss: 0.2896 - val_accuracy: 0.9218\n",
      "Epoch 89/100\n",
      "1146/1146 [==============================] - 5s 5ms/step - loss: 0.3002 - accuracy: 0.9156 - val_loss: 0.2896 - val_accuracy: 0.9220\n",
      "Epoch 90/100\n",
      "1146/1146 [==============================] - 5s 5ms/step - loss: 0.2998 - accuracy: 0.9159 - val_loss: 0.2891 - val_accuracy: 0.9212\n",
      "Epoch 91/100\n",
      "1146/1146 [==============================] - 6s 5ms/step - loss: 0.2994 - accuracy: 0.9162 - val_loss: 0.2889 - val_accuracy: 0.9220\n",
      "Epoch 92/100\n",
      "1146/1146 [==============================] - 6s 5ms/step - loss: 0.2990 - accuracy: 0.9161 - val_loss: 0.2887 - val_accuracy: 0.9216\n",
      "Epoch 93/100\n",
      "1146/1146 [==============================] - 5s 5ms/step - loss: 0.2987 - accuracy: 0.9159 - val_loss: 0.2883 - val_accuracy: 0.9222\n",
      "Epoch 94/100\n",
      "1146/1146 [==============================] - 6s 5ms/step - loss: 0.2983 - accuracy: 0.9167 - val_loss: 0.2879 - val_accuracy: 0.9222\n",
      "Epoch 95/100\n",
      "1146/1146 [==============================] - 6s 5ms/step - loss: 0.2979 - accuracy: 0.9165 - val_loss: 0.2878 - val_accuracy: 0.9224\n",
      "Epoch 96/100\n",
      "1146/1146 [==============================] - 5s 5ms/step - loss: 0.2975 - accuracy: 0.9169 - val_loss: 0.2874 - val_accuracy: 0.9220\n",
      "Epoch 97/100\n",
      "1146/1146 [==============================] - 5s 5ms/step - loss: 0.2972 - accuracy: 0.9170 - val_loss: 0.2871 - val_accuracy: 0.9220\n",
      "Epoch 98/100\n",
      "1146/1146 [==============================] - 6s 5ms/step - loss: 0.2968 - accuracy: 0.9169 - val_loss: 0.2870 - val_accuracy: 0.9216\n",
      "Epoch 99/100\n",
      "1146/1146 [==============================] - 6s 5ms/step - loss: 0.2964 - accuracy: 0.9168 - val_loss: 0.2867 - val_accuracy: 0.9218\n",
      "Epoch 100/100\n",
      "1146/1146 [==============================] - 5s 5ms/step - loss: 0.2961 - accuracy: 0.9171 - val_loss: 0.2867 - val_accuracy: 0.9214\n",
      " 22/573 [>.............................] - ETA: 2s - loss: 0.3473 - accuracy: 0.8977"
     ]
    },
    {
     "name": "stderr",
     "output_type": "stream",
     "text": [
      "2022-11-15 22:25:52.944195: I tensorflow/core/grappler/optimizers/custom_graph_optimizer_registry.cc:114] Plugin optimizer for device_type GPU is enabled.\n"
     ]
    },
    {
     "name": "stdout",
     "output_type": "stream",
     "text": [
      "573/573 [==============================] - 2s 4ms/step - loss: 0.3044 - accuracy: 0.9156\n",
      "[CV] END ...........................n_hidden=0, n_neurons=10; total time= 9.3min\n",
      "Epoch 1/100\n"
     ]
    },
    {
     "name": "stderr",
     "output_type": "stream",
     "text": [
      "/Users/gtr/opt/anaconda3/lib/python3.9/site-packages/keras/optimizers/optimizer_v2/gradient_descent.py:111: UserWarning: The `lr` argument is deprecated, use `learning_rate` instead.\n",
      "  super().__init__(name, **kwargs)\n",
      "2022-11-15 22:25:55.636742: I tensorflow/core/grappler/optimizers/custom_graph_optimizer_registry.cc:114] Plugin optimizer for device_type GPU is enabled.\n"
     ]
    },
    {
     "name": "stdout",
     "output_type": "stream",
     "text": [
      "1146/1146 [==============================] - ETA: 0s - loss: 1.9887 - accuracy: 0.3176"
     ]
    },
    {
     "name": "stderr",
     "output_type": "stream",
     "text": [
      "2022-11-15 22:26:01.531899: I tensorflow/core/grappler/optimizers/custom_graph_optimizer_registry.cc:114] Plugin optimizer for device_type GPU is enabled.\n"
     ]
    },
    {
     "name": "stdout",
     "output_type": "stream",
     "text": [
      "1146/1146 [==============================] - 7s 5ms/step - loss: 1.9887 - accuracy: 0.3176 - val_loss: 1.6971 - val_accuracy: 0.4564\n",
      "Epoch 2/100\n",
      "1146/1146 [==============================] - 6s 5ms/step - loss: 1.5217 - accuracy: 0.4975 - val_loss: 1.3435 - val_accuracy: 0.5642\n",
      "Epoch 3/100\n",
      "1146/1146 [==============================] - 6s 5ms/step - loss: 1.2569 - accuracy: 0.5920 - val_loss: 1.1406 - val_accuracy: 0.6498\n",
      "Epoch 4/100\n",
      "1146/1146 [==============================] - 6s 5ms/step - loss: 1.0988 - accuracy: 0.6592 - val_loss: 1.0114 - val_accuracy: 0.6942\n",
      "Epoch 5/100\n",
      "1146/1146 [==============================] - 6s 5ms/step - loss: 0.9897 - accuracy: 0.6999 - val_loss: 0.9189 - val_accuracy: 0.7304\n",
      "Epoch 6/100\n",
      "1146/1146 [==============================] - 6s 5ms/step - loss: 0.9096 - accuracy: 0.7292 - val_loss: 0.8472 - val_accuracy: 0.7528\n",
      "Epoch 7/100\n",
      "1146/1146 [==============================] - 6s 5ms/step - loss: 0.8322 - accuracy: 0.7536 - val_loss: 0.7714 - val_accuracy: 0.7774\n",
      "Epoch 8/100\n",
      "1146/1146 [==============================] - 6s 5ms/step - loss: 0.7680 - accuracy: 0.7734 - val_loss: 0.7164 - val_accuracy: 0.7936\n",
      "Epoch 9/100\n",
      "1146/1146 [==============================] - 6s 5ms/step - loss: 0.7213 - accuracy: 0.7862 - val_loss: 0.6776 - val_accuracy: 0.8020\n",
      "Epoch 10/100\n",
      "1146/1146 [==============================] - 6s 5ms/step - loss: 0.6839 - accuracy: 0.7978 - val_loss: 0.6452 - val_accuracy: 0.8106\n",
      "Epoch 11/100\n",
      "1146/1146 [==============================] - 6s 5ms/step - loss: 0.6524 - accuracy: 0.8059 - val_loss: 0.6176 - val_accuracy: 0.8218\n",
      "Epoch 12/100\n",
      "1146/1146 [==============================] - 6s 5ms/step - loss: 0.6252 - accuracy: 0.8148 - val_loss: 0.5960 - val_accuracy: 0.8274\n",
      "Epoch 13/100\n",
      "1146/1146 [==============================] - 6s 5ms/step - loss: 0.6020 - accuracy: 0.8232 - val_loss: 0.5766 - val_accuracy: 0.8352\n",
      "Epoch 14/100\n",
      "1146/1146 [==============================] - 6s 5ms/step - loss: 0.5818 - accuracy: 0.8294 - val_loss: 0.5595 - val_accuracy: 0.8406\n",
      "Epoch 15/100\n",
      "1146/1146 [==============================] - 6s 5ms/step - loss: 0.5646 - accuracy: 0.8347 - val_loss: 0.5455 - val_accuracy: 0.8474\n",
      "Epoch 16/100\n",
      "1146/1146 [==============================] - 6s 5ms/step - loss: 0.5492 - accuracy: 0.8409 - val_loss: 0.5327 - val_accuracy: 0.8508\n",
      "Epoch 17/100\n",
      "1146/1146 [==============================] - 6s 5ms/step - loss: 0.5354 - accuracy: 0.8454 - val_loss: 0.5214 - val_accuracy: 0.8550\n",
      "Epoch 18/100\n",
      "1146/1146 [==============================] - 6s 5ms/step - loss: 0.5234 - accuracy: 0.8497 - val_loss: 0.5108 - val_accuracy: 0.8590\n",
      "Epoch 19/100\n",
      "1146/1146 [==============================] - 5s 5ms/step - loss: 0.5127 - accuracy: 0.8539 - val_loss: 0.5013 - val_accuracy: 0.8624\n",
      "Epoch 20/100\n",
      "1146/1146 [==============================] - 5s 5ms/step - loss: 0.5030 - accuracy: 0.8565 - val_loss: 0.4920 - val_accuracy: 0.8646\n",
      "Epoch 21/100\n",
      "1146/1146 [==============================] - 5s 4ms/step - loss: 0.4940 - accuracy: 0.8597 - val_loss: 0.4851 - val_accuracy: 0.8674\n",
      "Epoch 22/100\n",
      "1146/1146 [==============================] - 5s 5ms/step - loss: 0.4863 - accuracy: 0.8625 - val_loss: 0.4782 - val_accuracy: 0.8684\n",
      "Epoch 23/100\n",
      "1146/1146 [==============================] - 5s 4ms/step - loss: 0.4791 - accuracy: 0.8650 - val_loss: 0.4701 - val_accuracy: 0.8710\n",
      "Epoch 24/100\n",
      "1146/1146 [==============================] - 5s 4ms/step - loss: 0.4724 - accuracy: 0.8663 - val_loss: 0.4650 - val_accuracy: 0.8704\n",
      "Epoch 25/100\n",
      "1146/1146 [==============================] - 5s 4ms/step - loss: 0.4662 - accuracy: 0.8679 - val_loss: 0.4597 - val_accuracy: 0.8746\n",
      "Epoch 26/100\n",
      "1146/1146 [==============================] - 5s 4ms/step - loss: 0.4609 - accuracy: 0.8693 - val_loss: 0.4537 - val_accuracy: 0.8740\n",
      "Epoch 27/100\n",
      "1146/1146 [==============================] - 5s 4ms/step - loss: 0.4559 - accuracy: 0.8700 - val_loss: 0.4500 - val_accuracy: 0.8746\n",
      "Epoch 28/100\n",
      "1146/1146 [==============================] - 5s 4ms/step - loss: 0.4512 - accuracy: 0.8723 - val_loss: 0.4434 - val_accuracy: 0.8782\n",
      "Epoch 29/100\n",
      "1146/1146 [==============================] - 5s 4ms/step - loss: 0.4468 - accuracy: 0.8733 - val_loss: 0.4390 - val_accuracy: 0.8780\n",
      "Epoch 30/100\n",
      "1146/1146 [==============================] - 5s 4ms/step - loss: 0.4428 - accuracy: 0.8741 - val_loss: 0.4357 - val_accuracy: 0.8802\n",
      "Epoch 31/100\n",
      "1146/1146 [==============================] - 5s 4ms/step - loss: 0.4390 - accuracy: 0.8750 - val_loss: 0.4313 - val_accuracy: 0.8808\n",
      "Epoch 32/100\n",
      "1146/1146 [==============================] - 5s 4ms/step - loss: 0.4353 - accuracy: 0.8756 - val_loss: 0.4284 - val_accuracy: 0.8806\n",
      "Epoch 33/100\n",
      "1146/1146 [==============================] - 5s 4ms/step - loss: 0.4321 - accuracy: 0.8757 - val_loss: 0.4251 - val_accuracy: 0.8828\n",
      "Epoch 34/100\n",
      "1146/1146 [==============================] - 5s 4ms/step - loss: 0.4288 - accuracy: 0.8778 - val_loss: 0.4213 - val_accuracy: 0.8838\n",
      "Epoch 35/100\n",
      "1146/1146 [==============================] - 5s 4ms/step - loss: 0.4260 - accuracy: 0.8784 - val_loss: 0.4180 - val_accuracy: 0.8850\n",
      "Epoch 36/100\n",
      "1146/1146 [==============================] - 5s 4ms/step - loss: 0.4230 - accuracy: 0.8793 - val_loss: 0.4154 - val_accuracy: 0.8870\n",
      "Epoch 37/100\n",
      "1146/1146 [==============================] - 5s 4ms/step - loss: 0.4205 - accuracy: 0.8796 - val_loss: 0.4126 - val_accuracy: 0.8872\n",
      "Epoch 38/100\n",
      "1146/1146 [==============================] - 5s 4ms/step - loss: 0.4178 - accuracy: 0.8804 - val_loss: 0.4100 - val_accuracy: 0.8886\n",
      "Epoch 39/100\n",
      "1146/1146 [==============================] - 5s 4ms/step - loss: 0.4156 - accuracy: 0.8811 - val_loss: 0.4074 - val_accuracy: 0.8880\n",
      "Epoch 40/100\n",
      "1146/1146 [==============================] - 5s 4ms/step - loss: 0.4132 - accuracy: 0.8817 - val_loss: 0.4049 - val_accuracy: 0.8872\n",
      "Epoch 41/100\n",
      "1146/1146 [==============================] - 5s 4ms/step - loss: 0.4109 - accuracy: 0.8821 - val_loss: 0.4039 - val_accuracy: 0.8880\n",
      "Epoch 42/100\n",
      "1146/1146 [==============================] - 5s 4ms/step - loss: 0.4089 - accuracy: 0.8825 - val_loss: 0.4007 - val_accuracy: 0.8896\n",
      "Epoch 43/100\n",
      "1146/1146 [==============================] - 5s 4ms/step - loss: 0.4067 - accuracy: 0.8832 - val_loss: 0.3991 - val_accuracy: 0.8904\n",
      "Epoch 44/100\n",
      "1146/1146 [==============================] - 5s 4ms/step - loss: 0.4049 - accuracy: 0.8839 - val_loss: 0.3976 - val_accuracy: 0.8892\n",
      "Epoch 45/100\n",
      "1146/1146 [==============================] - 5s 4ms/step - loss: 0.4030 - accuracy: 0.8836 - val_loss: 0.3956 - val_accuracy: 0.8894\n",
      "Epoch 46/100\n",
      "1146/1146 [==============================] - 5s 4ms/step - loss: 0.4013 - accuracy: 0.8846 - val_loss: 0.3931 - val_accuracy: 0.8912\n",
      "Epoch 47/100\n",
      "1146/1146 [==============================] - 5s 4ms/step - loss: 0.3996 - accuracy: 0.8847 - val_loss: 0.3923 - val_accuracy: 0.8910\n",
      "Epoch 48/100\n",
      "1146/1146 [==============================] - 5s 4ms/step - loss: 0.3978 - accuracy: 0.8856 - val_loss: 0.3897 - val_accuracy: 0.8920\n",
      "Epoch 49/100\n",
      "1146/1146 [==============================] - 5s 4ms/step - loss: 0.3962 - accuracy: 0.8861 - val_loss: 0.3889 - val_accuracy: 0.8924\n",
      "Epoch 50/100\n",
      "1146/1146 [==============================] - 5s 4ms/step - loss: 0.3949 - accuracy: 0.8860 - val_loss: 0.3863 - val_accuracy: 0.8934\n",
      "Epoch 51/100\n",
      "1146/1146 [==============================] - 5s 4ms/step - loss: 0.3934 - accuracy: 0.8863 - val_loss: 0.3856 - val_accuracy: 0.8930\n",
      "Epoch 52/100\n",
      "1146/1146 [==============================] - 5s 4ms/step - loss: 0.3918 - accuracy: 0.8873 - val_loss: 0.3842 - val_accuracy: 0.8930\n",
      "Epoch 53/100\n",
      "1146/1146 [==============================] - 5s 4ms/step - loss: 0.3904 - accuracy: 0.8875 - val_loss: 0.3823 - val_accuracy: 0.8944\n",
      "Epoch 54/100\n",
      "1146/1146 [==============================] - 5s 4ms/step - loss: 0.3893 - accuracy: 0.8876 - val_loss: 0.3817 - val_accuracy: 0.8948\n",
      "Epoch 55/100\n",
      "1146/1146 [==============================] - 5s 4ms/step - loss: 0.3879 - accuracy: 0.8885 - val_loss: 0.3800 - val_accuracy: 0.8952\n",
      "Epoch 56/100\n",
      "1146/1146 [==============================] - 5s 4ms/step - loss: 0.3867 - accuracy: 0.8890 - val_loss: 0.3789 - val_accuracy: 0.8936\n",
      "Epoch 57/100\n"
     ]
    },
    {
     "name": "stdout",
     "output_type": "stream",
     "text": [
      "1146/1146 [==============================] - 5s 4ms/step - loss: 0.3857 - accuracy: 0.8897 - val_loss: 0.3784 - val_accuracy: 0.8930\n",
      "Epoch 58/100\n",
      "1146/1146 [==============================] - 5s 5ms/step - loss: 0.3843 - accuracy: 0.8898 - val_loss: 0.3766 - val_accuracy: 0.8958\n",
      "Epoch 59/100\n",
      "1146/1146 [==============================] - 5s 5ms/step - loss: 0.3832 - accuracy: 0.8898 - val_loss: 0.3763 - val_accuracy: 0.8954\n",
      "Epoch 60/100\n",
      "1146/1146 [==============================] - 5s 5ms/step - loss: 0.3821 - accuracy: 0.8903 - val_loss: 0.3746 - val_accuracy: 0.8970\n",
      "Epoch 61/100\n",
      "1146/1146 [==============================] - 5s 5ms/step - loss: 0.3810 - accuracy: 0.8912 - val_loss: 0.3740 - val_accuracy: 0.8972\n",
      "Epoch 62/100\n",
      "1146/1146 [==============================] - 5s 4ms/step - loss: 0.3798 - accuracy: 0.8915 - val_loss: 0.3721 - val_accuracy: 0.8974\n",
      "Epoch 63/100\n",
      "1146/1146 [==============================] - 5s 5ms/step - loss: 0.3790 - accuracy: 0.8916 - val_loss: 0.3721 - val_accuracy: 0.8984\n",
      "Epoch 64/100\n",
      "1146/1146 [==============================] - 5s 4ms/step - loss: 0.3778 - accuracy: 0.8916 - val_loss: 0.3699 - val_accuracy: 0.8970\n",
      "Epoch 65/100\n",
      "1146/1146 [==============================] - 5s 5ms/step - loss: 0.3771 - accuracy: 0.8923 - val_loss: 0.3698 - val_accuracy: 0.8988\n",
      "Epoch 66/100\n",
      "1146/1146 [==============================] - 5s 5ms/step - loss: 0.3760 - accuracy: 0.8923 - val_loss: 0.3690 - val_accuracy: 0.8984\n",
      "Epoch 67/100\n",
      "1146/1146 [==============================] - 5s 4ms/step - loss: 0.3750 - accuracy: 0.8925 - val_loss: 0.3690 - val_accuracy: 0.8984\n",
      "Epoch 68/100\n",
      "1146/1146 [==============================] - 5s 5ms/step - loss: 0.3741 - accuracy: 0.8933 - val_loss: 0.3676 - val_accuracy: 0.8990\n",
      "Epoch 69/100\n",
      "1146/1146 [==============================] - 5s 5ms/step - loss: 0.3733 - accuracy: 0.8932 - val_loss: 0.3688 - val_accuracy: 0.8960\n",
      "Epoch 70/100\n",
      "1146/1146 [==============================] - 5s 4ms/step - loss: 0.3725 - accuracy: 0.8933 - val_loss: 0.3663 - val_accuracy: 0.8990\n",
      "Epoch 71/100\n",
      "1146/1146 [==============================] - 5s 5ms/step - loss: 0.3717 - accuracy: 0.8935 - val_loss: 0.3664 - val_accuracy: 0.8976\n",
      "Epoch 72/100\n",
      "1146/1146 [==============================] - 5s 4ms/step - loss: 0.3708 - accuracy: 0.8941 - val_loss: 0.3649 - val_accuracy: 0.8976\n",
      "Epoch 73/100\n",
      "1146/1146 [==============================] - 5s 5ms/step - loss: 0.3702 - accuracy: 0.8945 - val_loss: 0.3641 - val_accuracy: 0.8986\n",
      "Epoch 74/100\n",
      "1146/1146 [==============================] - 5s 4ms/step - loss: 0.3694 - accuracy: 0.8943 - val_loss: 0.3651 - val_accuracy: 0.8994\n",
      "Epoch 75/100\n",
      "1146/1146 [==============================] - 5s 4ms/step - loss: 0.3685 - accuracy: 0.8948 - val_loss: 0.3630 - val_accuracy: 0.8968\n",
      "Epoch 76/100\n",
      "1146/1146 [==============================] - 5s 5ms/step - loss: 0.3680 - accuracy: 0.8949 - val_loss: 0.3624 - val_accuracy: 0.8996\n",
      "Epoch 77/100\n",
      "1146/1146 [==============================] - 5s 4ms/step - loss: 0.3671 - accuracy: 0.8957 - val_loss: 0.3617 - val_accuracy: 0.8992\n",
      "Epoch 78/100\n",
      "1146/1146 [==============================] - 5s 5ms/step - loss: 0.3663 - accuracy: 0.8952 - val_loss: 0.3615 - val_accuracy: 0.8990\n",
      "Epoch 79/100\n",
      "1146/1146 [==============================] - 5s 5ms/step - loss: 0.3657 - accuracy: 0.8954 - val_loss: 0.3601 - val_accuracy: 0.8992\n",
      "Epoch 80/100\n",
      "1146/1146 [==============================] - 5s 4ms/step - loss: 0.3650 - accuracy: 0.8954 - val_loss: 0.3598 - val_accuracy: 0.9000\n",
      "Epoch 81/100\n",
      "1146/1146 [==============================] - 5s 5ms/step - loss: 0.3644 - accuracy: 0.8955 - val_loss: 0.3594 - val_accuracy: 0.8982\n",
      "Epoch 82/100\n",
      "1146/1146 [==============================] - 5s 4ms/step - loss: 0.3639 - accuracy: 0.8961 - val_loss: 0.3591 - val_accuracy: 0.8984\n",
      "Epoch 83/100\n",
      "1146/1146 [==============================] - 5s 5ms/step - loss: 0.3630 - accuracy: 0.8960 - val_loss: 0.3603 - val_accuracy: 0.8982\n",
      "Epoch 84/100\n",
      "1146/1146 [==============================] - 5s 5ms/step - loss: 0.3626 - accuracy: 0.8965 - val_loss: 0.3584 - val_accuracy: 0.8986\n",
      "Epoch 85/100\n",
      "1146/1146 [==============================] - 5s 4ms/step - loss: 0.3621 - accuracy: 0.8965 - val_loss: 0.3571 - val_accuracy: 0.8992\n",
      "Epoch 86/100\n",
      "1146/1146 [==============================] - 5s 5ms/step - loss: 0.3613 - accuracy: 0.8963 - val_loss: 0.3573 - val_accuracy: 0.8994\n",
      "Epoch 87/100\n",
      "1146/1146 [==============================] - 5s 4ms/step - loss: 0.3609 - accuracy: 0.8970 - val_loss: 0.3563 - val_accuracy: 0.8990\n",
      "Epoch 88/100\n",
      "1146/1146 [==============================] - 5s 4ms/step - loss: 0.3603 - accuracy: 0.8964 - val_loss: 0.3573 - val_accuracy: 0.8980\n",
      "Epoch 89/100\n",
      "1146/1146 [==============================] - 5s 4ms/step - loss: 0.3596 - accuracy: 0.8971 - val_loss: 0.3562 - val_accuracy: 0.8992\n",
      "Epoch 90/100\n",
      "1146/1146 [==============================] - 5s 4ms/step - loss: 0.3592 - accuracy: 0.8969 - val_loss: 0.3567 - val_accuracy: 0.8992\n",
      "Epoch 91/100\n",
      "1146/1146 [==============================] - 5s 5ms/step - loss: 0.3587 - accuracy: 0.8975 - val_loss: 0.3561 - val_accuracy: 0.9010\n",
      "Epoch 92/100\n",
      "1146/1146 [==============================] - 5s 4ms/step - loss: 0.3582 - accuracy: 0.8974 - val_loss: 0.3549 - val_accuracy: 0.8994\n",
      "Epoch 93/100\n",
      "1146/1146 [==============================] - 5s 5ms/step - loss: 0.3574 - accuracy: 0.8981 - val_loss: 0.3552 - val_accuracy: 0.8988\n",
      "Epoch 94/100\n",
      "1146/1146 [==============================] - 5s 5ms/step - loss: 0.3571 - accuracy: 0.8977 - val_loss: 0.3551 - val_accuracy: 0.8992\n",
      "Epoch 95/100\n",
      "1146/1146 [==============================] - 5s 5ms/step - loss: 0.3565 - accuracy: 0.8983 - val_loss: 0.3552 - val_accuracy: 0.9004\n",
      "Epoch 96/100\n",
      "1146/1146 [==============================] - 5s 5ms/step - loss: 0.3562 - accuracy: 0.8979 - val_loss: 0.3534 - val_accuracy: 0.9012\n",
      "Epoch 97/100\n",
      "1146/1146 [==============================] - 5s 4ms/step - loss: 0.3556 - accuracy: 0.8983 - val_loss: 0.3528 - val_accuracy: 0.9006\n",
      "Epoch 98/100\n",
      "1146/1146 [==============================] - 5s 5ms/step - loss: 0.3553 - accuracy: 0.8988 - val_loss: 0.3526 - val_accuracy: 0.9016\n",
      "Epoch 99/100\n",
      "1146/1146 [==============================] - 5s 5ms/step - loss: 0.3547 - accuracy: 0.8984 - val_loss: 0.3525 - val_accuracy: 0.9010\n",
      "Epoch 100/100\n",
      "1146/1146 [==============================] - 5s 4ms/step - loss: 0.3544 - accuracy: 0.8990 - val_loss: 0.3517 - val_accuracy: 0.9010\n",
      " 30/573 [>.............................] - ETA: 1s - loss: 0.3729 - accuracy: 0.9010"
     ]
    },
    {
     "name": "stderr",
     "output_type": "stream",
     "text": [
      "2022-11-15 22:34:36.418091: I tensorflow/core/grappler/optimizers/custom_graph_optimizer_registry.cc:114] Plugin optimizer for device_type GPU is enabled.\n"
     ]
    },
    {
     "name": "stdout",
     "output_type": "stream",
     "text": [
      "573/573 [==============================] - 2s 4ms/step - loss: 0.3887 - accuracy: 0.8925\n",
      "[CV] END ............................n_hidden=1, n_neurons=5; total time= 8.7min\n",
      "Epoch 1/100\n"
     ]
    },
    {
     "name": "stderr",
     "output_type": "stream",
     "text": [
      "/Users/gtr/opt/anaconda3/lib/python3.9/site-packages/keras/optimizers/optimizer_v2/gradient_descent.py:111: UserWarning: The `lr` argument is deprecated, use `learning_rate` instead.\n",
      "  super().__init__(name, **kwargs)\n",
      "2022-11-15 22:34:38.897477: I tensorflow/core/grappler/optimizers/custom_graph_optimizer_registry.cc:114] Plugin optimizer for device_type GPU is enabled.\n"
     ]
    },
    {
     "name": "stdout",
     "output_type": "stream",
     "text": [
      "1143/1146 [============================>.] - ETA: 0s - loss: 2.0879 - accuracy: 0.2561"
     ]
    },
    {
     "name": "stderr",
     "output_type": "stream",
     "text": [
      "2022-11-15 22:34:43.714458: I tensorflow/core/grappler/optimizers/custom_graph_optimizer_registry.cc:114] Plugin optimizer for device_type GPU is enabled.\n"
     ]
    },
    {
     "name": "stdout",
     "output_type": "stream",
     "text": [
      "1146/1146 [==============================] - 5s 5ms/step - loss: 2.0869 - accuracy: 0.2567 - val_loss: 1.7831 - val_accuracy: 0.4392\n",
      "Epoch 2/100\n",
      "1146/1146 [==============================] - 5s 5ms/step - loss: 1.5303 - accuracy: 0.5137 - val_loss: 1.3164 - val_accuracy: 0.5608\n",
      "Epoch 3/100\n",
      "1146/1146 [==============================] - 5s 4ms/step - loss: 1.1593 - accuracy: 0.6218 - val_loss: 1.0241 - val_accuracy: 0.6810\n",
      "Epoch 4/100\n",
      "1146/1146 [==============================] - 5s 5ms/step - loss: 0.9286 - accuracy: 0.7138 - val_loss: 0.8458 - val_accuracy: 0.7484\n",
      "Epoch 5/100\n",
      "1146/1146 [==============================] - 5s 4ms/step - loss: 0.7859 - accuracy: 0.7643 - val_loss: 0.7371 - val_accuracy: 0.7796\n",
      "Epoch 6/100\n",
      "1146/1146 [==============================] - 5s 4ms/step - loss: 0.6973 - accuracy: 0.7910 - val_loss: 0.6654 - val_accuracy: 0.8076\n",
      "Epoch 7/100\n",
      "1146/1146 [==============================] - 5s 5ms/step - loss: 0.6391 - accuracy: 0.8098 - val_loss: 0.6184 - val_accuracy: 0.8246\n",
      "Epoch 8/100\n",
      "1146/1146 [==============================] - 5s 4ms/step - loss: 0.5977 - accuracy: 0.8228 - val_loss: 0.5815 - val_accuracy: 0.8336\n",
      "Epoch 9/100\n",
      "1146/1146 [==============================] - 5s 5ms/step - loss: 0.5672 - accuracy: 0.8338 - val_loss: 0.5550 - val_accuracy: 0.8418\n",
      "Epoch 10/100\n",
      "1146/1146 [==============================] - 5s 4ms/step - loss: 0.5432 - accuracy: 0.8415 - val_loss: 0.5341 - val_accuracy: 0.8488\n",
      "Epoch 11/100\n",
      "1146/1146 [==============================] - 5s 5ms/step - loss: 0.5247 - accuracy: 0.8474 - val_loss: 0.5170 - val_accuracy: 0.8524\n",
      "Epoch 12/100\n",
      "1146/1146 [==============================] - 5s 5ms/step - loss: 0.5098 - accuracy: 0.8516 - val_loss: 0.5027 - val_accuracy: 0.8570\n",
      "Epoch 13/100\n",
      "1146/1146 [==============================] - 5s 4ms/step - loss: 0.4972 - accuracy: 0.8565 - val_loss: 0.4940 - val_accuracy: 0.8602\n",
      "Epoch 14/100\n",
      "1146/1146 [==============================] - 5s 5ms/step - loss: 0.4870 - accuracy: 0.8587 - val_loss: 0.4848 - val_accuracy: 0.8630\n",
      "Epoch 15/100\n",
      "1146/1146 [==============================] - 5s 4ms/step - loss: 0.4783 - accuracy: 0.8615 - val_loss: 0.4732 - val_accuracy: 0.8648\n",
      "Epoch 16/100\n",
      "1146/1146 [==============================] - 5s 5ms/step - loss: 0.4704 - accuracy: 0.8639 - val_loss: 0.4664 - val_accuracy: 0.8666\n",
      "Epoch 17/100\n",
      "1146/1146 [==============================] - 5s 5ms/step - loss: 0.4636 - accuracy: 0.8659 - val_loss: 0.4598 - val_accuracy: 0.8702\n",
      "Epoch 18/100\n",
      "1146/1146 [==============================] - 5s 4ms/step - loss: 0.4576 - accuracy: 0.8682 - val_loss: 0.4566 - val_accuracy: 0.8710\n",
      "Epoch 19/100\n",
      "1146/1146 [==============================] - 5s 5ms/step - loss: 0.4525 - accuracy: 0.8684 - val_loss: 0.4490 - val_accuracy: 0.8708\n",
      "Epoch 20/100\n",
      "1146/1146 [==============================] - 5s 4ms/step - loss: 0.4476 - accuracy: 0.8712 - val_loss: 0.4444 - val_accuracy: 0.8742\n",
      "Epoch 21/100\n",
      "1146/1146 [==============================] - 5s 5ms/step - loss: 0.4433 - accuracy: 0.8716 - val_loss: 0.4399 - val_accuracy: 0.8760\n",
      "Epoch 22/100\n",
      "1146/1146 [==============================] - 5s 4ms/step - loss: 0.4391 - accuracy: 0.8735 - val_loss: 0.4355 - val_accuracy: 0.8760\n",
      "Epoch 23/100\n",
      "1146/1146 [==============================] - 5s 5ms/step - loss: 0.4353 - accuracy: 0.8744 - val_loss: 0.4321 - val_accuracy: 0.8758\n",
      "Epoch 24/100\n",
      "1146/1146 [==============================] - 5s 4ms/step - loss: 0.4318 - accuracy: 0.8754 - val_loss: 0.4285 - val_accuracy: 0.8804\n",
      "Epoch 25/100\n",
      "1146/1146 [==============================] - 5s 4ms/step - loss: 0.4287 - accuracy: 0.8767 - val_loss: 0.4261 - val_accuracy: 0.8784\n",
      "Epoch 26/100\n",
      "1146/1146 [==============================] - 5s 4ms/step - loss: 0.4255 - accuracy: 0.8776 - val_loss: 0.4229 - val_accuracy: 0.8800\n",
      "Epoch 27/100\n",
      "1146/1146 [==============================] - 5s 5ms/step - loss: 0.4227 - accuracy: 0.8783 - val_loss: 0.4199 - val_accuracy: 0.8806\n",
      "Epoch 28/100\n",
      "1146/1146 [==============================] - 5s 4ms/step - loss: 0.4200 - accuracy: 0.8786 - val_loss: 0.4170 - val_accuracy: 0.8808\n",
      "Epoch 29/100\n",
      "1146/1146 [==============================] - 5s 4ms/step - loss: 0.4175 - accuracy: 0.8793 - val_loss: 0.4140 - val_accuracy: 0.8818\n",
      "Epoch 30/100\n",
      "1146/1146 [==============================] - 5s 4ms/step - loss: 0.4150 - accuracy: 0.8805 - val_loss: 0.4127 - val_accuracy: 0.8844\n",
      "Epoch 31/100\n",
      "1146/1146 [==============================] - 5s 4ms/step - loss: 0.4129 - accuracy: 0.8811 - val_loss: 0.4110 - val_accuracy: 0.8850\n",
      "Epoch 32/100\n",
      "1146/1146 [==============================] - 5s 4ms/step - loss: 0.4107 - accuracy: 0.8815 - val_loss: 0.4076 - val_accuracy: 0.8832\n",
      "Epoch 33/100\n",
      "1146/1146 [==============================] - 5s 4ms/step - loss: 0.4087 - accuracy: 0.8816 - val_loss: 0.4053 - val_accuracy: 0.8870\n",
      "Epoch 34/100\n",
      "1146/1146 [==============================] - 5s 4ms/step - loss: 0.4068 - accuracy: 0.8821 - val_loss: 0.4036 - val_accuracy: 0.8856\n",
      "Epoch 35/100\n",
      "1146/1146 [==============================] - 5s 4ms/step - loss: 0.4048 - accuracy: 0.8830 - val_loss: 0.4022 - val_accuracy: 0.8856\n",
      "Epoch 36/100\n",
      "1146/1146 [==============================] - 5s 4ms/step - loss: 0.4030 - accuracy: 0.8830 - val_loss: 0.4006 - val_accuracy: 0.8872\n",
      "Epoch 37/100\n",
      "1146/1146 [==============================] - 5s 4ms/step - loss: 0.4011 - accuracy: 0.8843 - val_loss: 0.4000 - val_accuracy: 0.8858\n",
      "Epoch 38/100\n",
      "1146/1146 [==============================] - 5s 5ms/step - loss: 0.3998 - accuracy: 0.8846 - val_loss: 0.3979 - val_accuracy: 0.8872\n",
      "Epoch 39/100\n",
      "1146/1146 [==============================] - 5s 4ms/step - loss: 0.3980 - accuracy: 0.8850 - val_loss: 0.3982 - val_accuracy: 0.8872\n",
      "Epoch 40/100\n",
      "1146/1146 [==============================] - 5s 5ms/step - loss: 0.3968 - accuracy: 0.8860 - val_loss: 0.3953 - val_accuracy: 0.8872\n",
      "Epoch 41/100\n",
      "1146/1146 [==============================] - 5s 4ms/step - loss: 0.3951 - accuracy: 0.8864 - val_loss: 0.3946 - val_accuracy: 0.8882\n",
      "Epoch 42/100\n",
      "1146/1146 [==============================] - 5s 5ms/step - loss: 0.3937 - accuracy: 0.8871 - val_loss: 0.3929 - val_accuracy: 0.8872\n",
      "Epoch 43/100\n",
      "1146/1146 [==============================] - 5s 4ms/step - loss: 0.3928 - accuracy: 0.8871 - val_loss: 0.3911 - val_accuracy: 0.8894\n",
      "Epoch 44/100\n",
      "1146/1146 [==============================] - 5s 5ms/step - loss: 0.3912 - accuracy: 0.8871 - val_loss: 0.3898 - val_accuracy: 0.8886\n",
      "Epoch 45/100\n",
      "1146/1146 [==============================] - 5s 4ms/step - loss: 0.3901 - accuracy: 0.8885 - val_loss: 0.3919 - val_accuracy: 0.8900\n",
      "Epoch 46/100\n",
      "1146/1146 [==============================] - 5s 5ms/step - loss: 0.3890 - accuracy: 0.8880 - val_loss: 0.3874 - val_accuracy: 0.8910\n",
      "Epoch 47/100\n",
      "1146/1146 [==============================] - 5s 4ms/step - loss: 0.3877 - accuracy: 0.8882 - val_loss: 0.3890 - val_accuracy: 0.8902\n",
      "Epoch 48/100\n",
      "1146/1146 [==============================] - 5s 5ms/step - loss: 0.3867 - accuracy: 0.8891 - val_loss: 0.3877 - val_accuracy: 0.8900\n",
      "Epoch 49/100\n",
      "1146/1146 [==============================] - 5s 4ms/step - loss: 0.3854 - accuracy: 0.8888 - val_loss: 0.3863 - val_accuracy: 0.8922\n",
      "Epoch 50/100\n",
      "1146/1146 [==============================] - 5s 5ms/step - loss: 0.3843 - accuracy: 0.8900 - val_loss: 0.3858 - val_accuracy: 0.8914\n",
      "Epoch 51/100\n",
      "1146/1146 [==============================] - 5s 5ms/step - loss: 0.3836 - accuracy: 0.8898 - val_loss: 0.3839 - val_accuracy: 0.8902\n",
      "Epoch 52/100\n",
      "1146/1146 [==============================] - 5s 5ms/step - loss: 0.3824 - accuracy: 0.8895 - val_loss: 0.3837 - val_accuracy: 0.8922\n",
      "Epoch 53/100\n",
      "1146/1146 [==============================] - 5s 5ms/step - loss: 0.3817 - accuracy: 0.8899 - val_loss: 0.3828 - val_accuracy: 0.8912\n",
      "Epoch 54/100\n",
      "1146/1146 [==============================] - 5s 4ms/step - loss: 0.3806 - accuracy: 0.8901 - val_loss: 0.3809 - val_accuracy: 0.8918\n",
      "Epoch 55/100\n",
      "1146/1146 [==============================] - 5s 4ms/step - loss: 0.3798 - accuracy: 0.8911 - val_loss: 0.3819 - val_accuracy: 0.8924\n",
      "Epoch 56/100\n",
      "1146/1146 [==============================] - 5s 4ms/step - loss: 0.3788 - accuracy: 0.8906 - val_loss: 0.3803 - val_accuracy: 0.8926\n",
      "Epoch 57/100\n"
     ]
    },
    {
     "name": "stdout",
     "output_type": "stream",
     "text": [
      "1146/1146 [==============================] - 5s 4ms/step - loss: 0.3781 - accuracy: 0.8912 - val_loss: 0.3797 - val_accuracy: 0.8916\n",
      "Epoch 58/100\n",
      "1146/1146 [==============================] - 5s 4ms/step - loss: 0.3772 - accuracy: 0.8916 - val_loss: 0.3791 - val_accuracy: 0.8938\n",
      "Epoch 59/100\n",
      "1146/1146 [==============================] - 5s 4ms/step - loss: 0.3765 - accuracy: 0.8921 - val_loss: 0.3779 - val_accuracy: 0.8926\n",
      "Epoch 60/100\n",
      "1146/1146 [==============================] - 5s 4ms/step - loss: 0.3754 - accuracy: 0.8923 - val_loss: 0.3783 - val_accuracy: 0.8950\n",
      "Epoch 61/100\n",
      "1146/1146 [==============================] - 5s 4ms/step - loss: 0.3747 - accuracy: 0.8922 - val_loss: 0.3775 - val_accuracy: 0.8938\n",
      "Epoch 62/100\n",
      "1146/1146 [==============================] - 5s 4ms/step - loss: 0.3742 - accuracy: 0.8922 - val_loss: 0.3754 - val_accuracy: 0.8940\n",
      "Epoch 63/100\n",
      "1146/1146 [==============================] - 5s 4ms/step - loss: 0.3733 - accuracy: 0.8932 - val_loss: 0.3762 - val_accuracy: 0.8938\n",
      "Epoch 64/100\n",
      "1146/1146 [==============================] - 5s 4ms/step - loss: 0.3727 - accuracy: 0.8925 - val_loss: 0.3746 - val_accuracy: 0.8950\n",
      "Epoch 65/100\n",
      "1146/1146 [==============================] - 5s 4ms/step - loss: 0.3719 - accuracy: 0.8931 - val_loss: 0.3745 - val_accuracy: 0.8948\n",
      "Epoch 66/100\n",
      "1146/1146 [==============================] - 5s 4ms/step - loss: 0.3712 - accuracy: 0.8933 - val_loss: 0.3739 - val_accuracy: 0.8930\n",
      "Epoch 67/100\n",
      "1146/1146 [==============================] - 5s 4ms/step - loss: 0.3706 - accuracy: 0.8937 - val_loss: 0.3745 - val_accuracy: 0.8946\n",
      "Epoch 68/100\n",
      "1146/1146 [==============================] - 5s 4ms/step - loss: 0.3700 - accuracy: 0.8933 - val_loss: 0.3727 - val_accuracy: 0.8944\n",
      "Epoch 69/100\n",
      "1146/1146 [==============================] - 5s 4ms/step - loss: 0.3693 - accuracy: 0.8937 - val_loss: 0.3729 - val_accuracy: 0.8936\n",
      "Epoch 70/100\n",
      "1146/1146 [==============================] - 5s 4ms/step - loss: 0.3686 - accuracy: 0.8944 - val_loss: 0.3721 - val_accuracy: 0.8962\n",
      "Epoch 71/100\n",
      "1146/1146 [==============================] - 5s 4ms/step - loss: 0.3681 - accuracy: 0.8944 - val_loss: 0.3716 - val_accuracy: 0.8948\n",
      "Epoch 72/100\n",
      "1146/1146 [==============================] - 5s 4ms/step - loss: 0.3674 - accuracy: 0.8949 - val_loss: 0.3702 - val_accuracy: 0.8962\n",
      "Epoch 73/100\n",
      "1146/1146 [==============================] - 5s 4ms/step - loss: 0.3669 - accuracy: 0.8947 - val_loss: 0.3709 - val_accuracy: 0.8948\n",
      "Epoch 74/100\n",
      "1146/1146 [==============================] - 5s 4ms/step - loss: 0.3664 - accuracy: 0.8951 - val_loss: 0.3709 - val_accuracy: 0.8958\n",
      "Epoch 75/100\n",
      "1146/1146 [==============================] - 5s 4ms/step - loss: 0.3657 - accuracy: 0.8951 - val_loss: 0.3690 - val_accuracy: 0.8950\n",
      "Epoch 76/100\n",
      "1146/1146 [==============================] - 5s 4ms/step - loss: 0.3650 - accuracy: 0.8955 - val_loss: 0.3695 - val_accuracy: 0.8960\n",
      "Epoch 77/100\n",
      "1146/1146 [==============================] - 5s 4ms/step - loss: 0.3646 - accuracy: 0.8952 - val_loss: 0.3680 - val_accuracy: 0.8972\n",
      "Epoch 78/100\n",
      "1146/1146 [==============================] - 5s 4ms/step - loss: 0.3639 - accuracy: 0.8952 - val_loss: 0.3684 - val_accuracy: 0.8952\n",
      "Epoch 79/100\n",
      "1146/1146 [==============================] - 5s 4ms/step - loss: 0.3637 - accuracy: 0.8955 - val_loss: 0.3685 - val_accuracy: 0.8968\n",
      "Epoch 80/100\n",
      "1146/1146 [==============================] - 5s 4ms/step - loss: 0.3630 - accuracy: 0.8957 - val_loss: 0.3684 - val_accuracy: 0.8972\n",
      "Epoch 81/100\n",
      "1146/1146 [==============================] - 5s 4ms/step - loss: 0.3625 - accuracy: 0.8953 - val_loss: 0.3676 - val_accuracy: 0.8972\n",
      "Epoch 82/100\n",
      "1146/1146 [==============================] - 5s 4ms/step - loss: 0.3619 - accuracy: 0.8962 - val_loss: 0.3678 - val_accuracy: 0.8978\n",
      "Epoch 83/100\n",
      "1146/1146 [==============================] - 5s 4ms/step - loss: 0.3615 - accuracy: 0.8962 - val_loss: 0.3672 - val_accuracy: 0.8952\n",
      "Epoch 84/100\n",
      "1146/1146 [==============================] - 5s 4ms/step - loss: 0.3610 - accuracy: 0.8966 - val_loss: 0.3665 - val_accuracy: 0.8952\n",
      "Epoch 85/100\n",
      "1146/1146 [==============================] - 5s 4ms/step - loss: 0.3605 - accuracy: 0.8966 - val_loss: 0.3667 - val_accuracy: 0.8964\n",
      "Epoch 86/100\n",
      "1146/1146 [==============================] - 5s 4ms/step - loss: 0.3601 - accuracy: 0.8967 - val_loss: 0.3654 - val_accuracy: 0.8960\n",
      "Epoch 87/100\n",
      "1146/1146 [==============================] - 5s 4ms/step - loss: 0.3594 - accuracy: 0.8967 - val_loss: 0.3666 - val_accuracy: 0.8954\n",
      "Epoch 88/100\n",
      "1146/1146 [==============================] - 5s 4ms/step - loss: 0.3592 - accuracy: 0.8970 - val_loss: 0.3648 - val_accuracy: 0.8976\n",
      "Epoch 89/100\n",
      "1146/1146 [==============================] - 5s 4ms/step - loss: 0.3585 - accuracy: 0.8971 - val_loss: 0.3656 - val_accuracy: 0.8978\n",
      "Epoch 90/100\n",
      "1146/1146 [==============================] - 5s 4ms/step - loss: 0.3581 - accuracy: 0.8968 - val_loss: 0.3639 - val_accuracy: 0.8976\n",
      "Epoch 91/100\n",
      "1146/1146 [==============================] - 5s 4ms/step - loss: 0.3576 - accuracy: 0.8975 - val_loss: 0.3639 - val_accuracy: 0.8970\n",
      "Epoch 92/100\n",
      "1146/1146 [==============================] - 5s 4ms/step - loss: 0.3573 - accuracy: 0.8967 - val_loss: 0.3639 - val_accuracy: 0.8980\n",
      "Epoch 93/100\n",
      "1146/1146 [==============================] - 5s 5ms/step - loss: 0.3567 - accuracy: 0.8970 - val_loss: 0.3650 - val_accuracy: 0.8976\n",
      "Epoch 94/100\n",
      "1146/1146 [==============================] - 5s 4ms/step - loss: 0.3565 - accuracy: 0.8978 - val_loss: 0.3632 - val_accuracy: 0.8974\n",
      "Epoch 95/100\n",
      "1146/1146 [==============================] - 5s 5ms/step - loss: 0.3560 - accuracy: 0.8975 - val_loss: 0.3629 - val_accuracy: 0.8976\n",
      "Epoch 96/100\n",
      "1146/1146 [==============================] - 5s 4ms/step - loss: 0.3555 - accuracy: 0.8974 - val_loss: 0.3649 - val_accuracy: 0.8976\n",
      "Epoch 97/100\n",
      "1146/1146 [==============================] - 5s 4ms/step - loss: 0.3552 - accuracy: 0.8984 - val_loss: 0.3637 - val_accuracy: 0.8986\n",
      "Epoch 98/100\n",
      "1146/1146 [==============================] - 5s 4ms/step - loss: 0.3549 - accuracy: 0.8986 - val_loss: 0.3632 - val_accuracy: 0.8984\n",
      "Epoch 99/100\n",
      "1146/1146 [==============================] - 5s 4ms/step - loss: 0.3542 - accuracy: 0.8976 - val_loss: 0.3622 - val_accuracy: 0.8992\n",
      "Epoch 100/100\n",
      "1146/1146 [==============================] - 5s 4ms/step - loss: 0.3539 - accuracy: 0.8985 - val_loss: 0.3624 - val_accuracy: 0.8984\n",
      " 25/573 [>.............................] - ETA: 2s - loss: 0.3837 - accuracy: 0.8937"
     ]
    },
    {
     "name": "stderr",
     "output_type": "stream",
     "text": [
      "2022-11-15 22:43:08.728222: I tensorflow/core/grappler/optimizers/custom_graph_optimizer_registry.cc:114] Plugin optimizer for device_type GPU is enabled.\n"
     ]
    },
    {
     "name": "stdout",
     "output_type": "stream",
     "text": [
      "573/573 [==============================] - 2s 4ms/step - loss: 0.4020 - accuracy: 0.8882\n",
      "[CV] END ............................n_hidden=1, n_neurons=5; total time= 8.5min\n",
      "Epoch 1/100\n"
     ]
    },
    {
     "name": "stderr",
     "output_type": "stream",
     "text": [
      "/Users/gtr/opt/anaconda3/lib/python3.9/site-packages/keras/optimizers/optimizer_v2/gradient_descent.py:111: UserWarning: The `lr` argument is deprecated, use `learning_rate` instead.\n",
      "  super().__init__(name, **kwargs)\n",
      "2022-11-15 22:43:11.173744: I tensorflow/core/grappler/optimizers/custom_graph_optimizer_registry.cc:114] Plugin optimizer for device_type GPU is enabled.\n"
     ]
    },
    {
     "name": "stdout",
     "output_type": "stream",
     "text": [
      "1145/1146 [============================>.] - ETA: 0s - loss: 2.0624 - accuracy: 0.2898"
     ]
    },
    {
     "name": "stderr",
     "output_type": "stream",
     "text": [
      "2022-11-15 22:43:15.974417: I tensorflow/core/grappler/optimizers/custom_graph_optimizer_registry.cc:114] Plugin optimizer for device_type GPU is enabled.\n"
     ]
    },
    {
     "name": "stdout",
     "output_type": "stream",
     "text": [
      "1146/1146 [==============================] - 5s 5ms/step - loss: 2.0622 - accuracy: 0.2901 - val_loss: 1.8253 - val_accuracy: 0.4056\n",
      "Epoch 2/100\n",
      "1146/1146 [==============================] - 5s 4ms/step - loss: 1.6524 - accuracy: 0.4926 - val_loss: 1.4559 - val_accuracy: 0.5478\n",
      "Epoch 3/100\n",
      "1146/1146 [==============================] - 5s 4ms/step - loss: 1.3223 - accuracy: 0.6053 - val_loss: 1.1328 - val_accuracy: 0.6768\n",
      "Epoch 4/100\n",
      "1146/1146 [==============================] - 5s 4ms/step - loss: 1.0400 - accuracy: 0.6876 - val_loss: 0.9023 - val_accuracy: 0.7348\n",
      "Epoch 5/100\n",
      "1146/1146 [==============================] - 5s 4ms/step - loss: 0.8763 - accuracy: 0.7391 - val_loss: 0.7831 - val_accuracy: 0.7760\n",
      "Epoch 6/100\n",
      "1146/1146 [==============================] - 5s 4ms/step - loss: 0.7826 - accuracy: 0.7656 - val_loss: 0.7086 - val_accuracy: 0.7934\n",
      "Epoch 7/100\n",
      "1146/1146 [==============================] - 5s 4ms/step - loss: 0.7213 - accuracy: 0.7826 - val_loss: 0.6604 - val_accuracy: 0.8026\n",
      "Epoch 8/100\n",
      "1146/1146 [==============================] - 5s 4ms/step - loss: 0.6795 - accuracy: 0.7925 - val_loss: 0.6281 - val_accuracy: 0.8132\n",
      "Epoch 9/100\n",
      "1146/1146 [==============================] - 5s 4ms/step - loss: 0.6499 - accuracy: 0.8030 - val_loss: 0.6016 - val_accuracy: 0.8222\n",
      "Epoch 10/100\n",
      "1146/1146 [==============================] - 5s 4ms/step - loss: 0.6271 - accuracy: 0.8094 - val_loss: 0.5849 - val_accuracy: 0.8284\n",
      "Epoch 11/100\n",
      "1146/1146 [==============================] - 5s 4ms/step - loss: 0.6097 - accuracy: 0.8163 - val_loss: 0.5686 - val_accuracy: 0.8350\n",
      "Epoch 12/100\n",
      "1146/1146 [==============================] - 5s 4ms/step - loss: 0.5953 - accuracy: 0.8207 - val_loss: 0.5568 - val_accuracy: 0.8370\n",
      "Epoch 13/100\n",
      "1146/1146 [==============================] - 5s 4ms/step - loss: 0.5831 - accuracy: 0.8252 - val_loss: 0.5474 - val_accuracy: 0.8392\n",
      "Epoch 14/100\n",
      "1146/1146 [==============================] - 5s 4ms/step - loss: 0.5727 - accuracy: 0.8293 - val_loss: 0.5377 - val_accuracy: 0.8412\n",
      "Epoch 15/100\n",
      "1146/1146 [==============================] - 5s 4ms/step - loss: 0.5639 - accuracy: 0.8330 - val_loss: 0.5301 - val_accuracy: 0.8430\n",
      "Epoch 16/100\n",
      "1146/1146 [==============================] - 5s 4ms/step - loss: 0.5561 - accuracy: 0.8354 - val_loss: 0.5259 - val_accuracy: 0.8456\n",
      "Epoch 17/100\n",
      "1146/1146 [==============================] - 5s 4ms/step - loss: 0.5490 - accuracy: 0.8367 - val_loss: 0.5190 - val_accuracy: 0.8476\n",
      "Epoch 18/100\n",
      "1146/1146 [==============================] - 5s 4ms/step - loss: 0.5429 - accuracy: 0.8389 - val_loss: 0.5156 - val_accuracy: 0.8494\n",
      "Epoch 19/100\n",
      "1146/1146 [==============================] - 5s 4ms/step - loss: 0.5372 - accuracy: 0.8394 - val_loss: 0.5087 - val_accuracy: 0.8480\n",
      "Epoch 20/100\n",
      "1146/1146 [==============================] - 5s 4ms/step - loss: 0.5322 - accuracy: 0.8417 - val_loss: 0.5057 - val_accuracy: 0.8510\n",
      "Epoch 21/100\n",
      "1146/1146 [==============================] - 5s 4ms/step - loss: 0.5272 - accuracy: 0.8438 - val_loss: 0.5022 - val_accuracy: 0.8536\n",
      "Epoch 22/100\n",
      "1146/1146 [==============================] - 5s 4ms/step - loss: 0.5228 - accuracy: 0.8442 - val_loss: 0.4979 - val_accuracy: 0.8558\n",
      "Epoch 23/100\n",
      "1146/1146 [==============================] - 5s 4ms/step - loss: 0.5186 - accuracy: 0.8450 - val_loss: 0.4947 - val_accuracy: 0.8572\n",
      "Epoch 24/100\n",
      "1146/1146 [==============================] - 5s 4ms/step - loss: 0.5147 - accuracy: 0.8471 - val_loss: 0.4915 - val_accuracy: 0.8582\n",
      "Epoch 25/100\n",
      "1146/1146 [==============================] - 5s 4ms/step - loss: 0.5110 - accuracy: 0.8481 - val_loss: 0.4905 - val_accuracy: 0.8582\n",
      "Epoch 26/100\n",
      "1146/1146 [==============================] - 5s 4ms/step - loss: 0.5073 - accuracy: 0.8494 - val_loss: 0.4873 - val_accuracy: 0.8598\n",
      "Epoch 27/100\n",
      "1146/1146 [==============================] - 5s 4ms/step - loss: 0.5040 - accuracy: 0.8502 - val_loss: 0.4822 - val_accuracy: 0.8612\n",
      "Epoch 28/100\n",
      "1146/1146 [==============================] - 5s 4ms/step - loss: 0.5008 - accuracy: 0.8515 - val_loss: 0.4812 - val_accuracy: 0.8608\n",
      "Epoch 29/100\n",
      "1146/1146 [==============================] - 5s 4ms/step - loss: 0.4978 - accuracy: 0.8517 - val_loss: 0.4793 - val_accuracy: 0.8616\n",
      "Epoch 30/100\n",
      "1146/1146 [==============================] - 5s 4ms/step - loss: 0.4948 - accuracy: 0.8532 - val_loss: 0.4774 - val_accuracy: 0.8606\n",
      "Epoch 31/100\n",
      "1146/1146 [==============================] - 5s 4ms/step - loss: 0.4921 - accuracy: 0.8549 - val_loss: 0.4732 - val_accuracy: 0.8624\n",
      "Epoch 32/100\n",
      "1146/1146 [==============================] - 5s 4ms/step - loss: 0.4892 - accuracy: 0.8543 - val_loss: 0.4714 - val_accuracy: 0.8648\n",
      "Epoch 33/100\n",
      "1146/1146 [==============================] - 5s 4ms/step - loss: 0.4865 - accuracy: 0.8560 - val_loss: 0.4689 - val_accuracy: 0.8662\n",
      "Epoch 34/100\n",
      "1146/1146 [==============================] - 5s 4ms/step - loss: 0.4839 - accuracy: 0.8563 - val_loss: 0.4667 - val_accuracy: 0.8664\n",
      "Epoch 35/100\n",
      "1146/1146 [==============================] - 5s 4ms/step - loss: 0.4814 - accuracy: 0.8571 - val_loss: 0.4656 - val_accuracy: 0.8660\n",
      "Epoch 36/100\n",
      "1146/1146 [==============================] - 5s 5ms/step - loss: 0.4791 - accuracy: 0.8581 - val_loss: 0.4629 - val_accuracy: 0.8684\n",
      "Epoch 37/100\n",
      "1146/1146 [==============================] - 5s 4ms/step - loss: 0.4767 - accuracy: 0.8589 - val_loss: 0.4606 - val_accuracy: 0.8674\n",
      "Epoch 38/100\n",
      "1146/1146 [==============================] - 5s 5ms/step - loss: 0.4743 - accuracy: 0.8594 - val_loss: 0.4605 - val_accuracy: 0.8672\n",
      "Epoch 39/100\n",
      "1146/1146 [==============================] - 5s 4ms/step - loss: 0.4720 - accuracy: 0.8608 - val_loss: 0.4580 - val_accuracy: 0.8702\n",
      "Epoch 40/100\n",
      "1146/1146 [==============================] - 5s 5ms/step - loss: 0.4698 - accuracy: 0.8608 - val_loss: 0.4555 - val_accuracy: 0.8700\n",
      "Epoch 41/100\n",
      "1146/1146 [==============================] - 5s 4ms/step - loss: 0.4676 - accuracy: 0.8615 - val_loss: 0.4549 - val_accuracy: 0.8716\n",
      "Epoch 42/100\n",
      "1146/1146 [==============================] - 5s 4ms/step - loss: 0.4655 - accuracy: 0.8624 - val_loss: 0.4513 - val_accuracy: 0.8718\n",
      "Epoch 43/100\n",
      "1146/1146 [==============================] - 5s 4ms/step - loss: 0.4635 - accuracy: 0.8626 - val_loss: 0.4501 - val_accuracy: 0.8724\n",
      "Epoch 44/100\n",
      "1146/1146 [==============================] - 5s 4ms/step - loss: 0.4614 - accuracy: 0.8634 - val_loss: 0.4487 - val_accuracy: 0.8726\n",
      "Epoch 45/100\n",
      "1146/1146 [==============================] - 5s 4ms/step - loss: 0.4593 - accuracy: 0.8640 - val_loss: 0.4494 - val_accuracy: 0.8734\n",
      "Epoch 46/100\n",
      "1146/1146 [==============================] - 5s 4ms/step - loss: 0.4574 - accuracy: 0.8650 - val_loss: 0.4457 - val_accuracy: 0.8732\n",
      "Epoch 47/100\n",
      "1146/1146 [==============================] - 5s 4ms/step - loss: 0.4556 - accuracy: 0.8655 - val_loss: 0.4450 - val_accuracy: 0.8732\n",
      "Epoch 48/100\n",
      "1146/1146 [==============================] - 5s 4ms/step - loss: 0.4536 - accuracy: 0.8656 - val_loss: 0.4454 - val_accuracy: 0.8748\n",
      "Epoch 49/100\n",
      "1146/1146 [==============================] - 5s 4ms/step - loss: 0.4518 - accuracy: 0.8658 - val_loss: 0.4426 - val_accuracy: 0.8750\n",
      "Epoch 50/100\n",
      "1146/1146 [==============================] - 5s 4ms/step - loss: 0.4501 - accuracy: 0.8669 - val_loss: 0.4418 - val_accuracy: 0.8752\n",
      "Epoch 51/100\n",
      "1146/1146 [==============================] - 5s 4ms/step - loss: 0.4484 - accuracy: 0.8672 - val_loss: 0.4392 - val_accuracy: 0.8762\n",
      "Epoch 52/100\n",
      "1146/1146 [==============================] - 5s 4ms/step - loss: 0.4465 - accuracy: 0.8682 - val_loss: 0.4373 - val_accuracy: 0.8756\n",
      "Epoch 53/100\n",
      "1146/1146 [==============================] - 5s 4ms/step - loss: 0.4450 - accuracy: 0.8685 - val_loss: 0.4364 - val_accuracy: 0.8754\n",
      "Epoch 54/100\n",
      "1146/1146 [==============================] - 5s 5ms/step - loss: 0.4431 - accuracy: 0.8696 - val_loss: 0.4382 - val_accuracy: 0.8738\n",
      "Epoch 55/100\n",
      "1146/1146 [==============================] - 5s 4ms/step - loss: 0.4416 - accuracy: 0.8701 - val_loss: 0.4360 - val_accuracy: 0.8750\n",
      "Epoch 56/100\n",
      "1146/1146 [==============================] - 5s 5ms/step - loss: 0.4402 - accuracy: 0.8702 - val_loss: 0.4329 - val_accuracy: 0.8754\n",
      "Epoch 57/100\n"
     ]
    },
    {
     "name": "stdout",
     "output_type": "stream",
     "text": [
      "1146/1146 [==============================] - 5s 4ms/step - loss: 0.4383 - accuracy: 0.8707 - val_loss: 0.4330 - val_accuracy: 0.8764\n",
      "Epoch 58/100\n",
      "1146/1146 [==============================] - 5s 5ms/step - loss: 0.4369 - accuracy: 0.8718 - val_loss: 0.4320 - val_accuracy: 0.8770\n",
      "Epoch 59/100\n",
      "1146/1146 [==============================] - 5s 4ms/step - loss: 0.4355 - accuracy: 0.8720 - val_loss: 0.4293 - val_accuracy: 0.8764\n",
      "Epoch 60/100\n",
      "1146/1146 [==============================] - 5s 4ms/step - loss: 0.4337 - accuracy: 0.8726 - val_loss: 0.4278 - val_accuracy: 0.8748\n",
      "Epoch 61/100\n",
      "1146/1146 [==============================] - 5s 4ms/step - loss: 0.4324 - accuracy: 0.8737 - val_loss: 0.4280 - val_accuracy: 0.8760\n",
      "Epoch 62/100\n",
      "1146/1146 [==============================] - 5s 5ms/step - loss: 0.4310 - accuracy: 0.8740 - val_loss: 0.4266 - val_accuracy: 0.8776\n",
      "Epoch 63/100\n",
      "1146/1146 [==============================] - 5s 4ms/step - loss: 0.4298 - accuracy: 0.8742 - val_loss: 0.4280 - val_accuracy: 0.8748\n",
      "Epoch 64/100\n",
      "1146/1146 [==============================] - 5s 4ms/step - loss: 0.4285 - accuracy: 0.8744 - val_loss: 0.4254 - val_accuracy: 0.8758\n",
      "Epoch 65/100\n",
      "1146/1146 [==============================] - 5s 4ms/step - loss: 0.4269 - accuracy: 0.8760 - val_loss: 0.4229 - val_accuracy: 0.8768\n",
      "Epoch 66/100\n",
      "1146/1146 [==============================] - 5s 4ms/step - loss: 0.4255 - accuracy: 0.8763 - val_loss: 0.4236 - val_accuracy: 0.8758\n",
      "Epoch 67/100\n",
      "1146/1146 [==============================] - 5s 4ms/step - loss: 0.4242 - accuracy: 0.8758 - val_loss: 0.4234 - val_accuracy: 0.8766\n",
      "Epoch 68/100\n",
      "1146/1146 [==============================] - 5s 4ms/step - loss: 0.4231 - accuracy: 0.8771 - val_loss: 0.4207 - val_accuracy: 0.8780\n",
      "Epoch 69/100\n",
      "1146/1146 [==============================] - 5s 5ms/step - loss: 0.4218 - accuracy: 0.8776 - val_loss: 0.4204 - val_accuracy: 0.8788\n",
      "Epoch 70/100\n",
      "1146/1146 [==============================] - 5s 5ms/step - loss: 0.4205 - accuracy: 0.8782 - val_loss: 0.4210 - val_accuracy: 0.8774\n",
      "Epoch 71/100\n",
      "1146/1146 [==============================] - 5s 4ms/step - loss: 0.4194 - accuracy: 0.8784 - val_loss: 0.4182 - val_accuracy: 0.8776\n",
      "Epoch 72/100\n",
      "1146/1146 [==============================] - 5s 5ms/step - loss: 0.4182 - accuracy: 0.8785 - val_loss: 0.4178 - val_accuracy: 0.8778\n",
      "Epoch 73/100\n",
      "1146/1146 [==============================] - 5s 4ms/step - loss: 0.4169 - accuracy: 0.8787 - val_loss: 0.4170 - val_accuracy: 0.8788\n",
      "Epoch 74/100\n",
      "1146/1146 [==============================] - 5s 4ms/step - loss: 0.4158 - accuracy: 0.8798 - val_loss: 0.4170 - val_accuracy: 0.8794\n",
      "Epoch 75/100\n",
      "1146/1146 [==============================] - 5s 4ms/step - loss: 0.4147 - accuracy: 0.8799 - val_loss: 0.4153 - val_accuracy: 0.8802\n",
      "Epoch 76/100\n",
      "1146/1146 [==============================] - 5s 4ms/step - loss: 0.4135 - accuracy: 0.8808 - val_loss: 0.4145 - val_accuracy: 0.8800\n",
      "Epoch 77/100\n",
      "1146/1146 [==============================] - 5s 4ms/step - loss: 0.4124 - accuracy: 0.8800 - val_loss: 0.4146 - val_accuracy: 0.8810\n",
      "Epoch 78/100\n",
      "1146/1146 [==============================] - 5s 5ms/step - loss: 0.4112 - accuracy: 0.8805 - val_loss: 0.4125 - val_accuracy: 0.8814\n",
      "Epoch 79/100\n",
      "1146/1146 [==============================] - 5s 4ms/step - loss: 0.4101 - accuracy: 0.8819 - val_loss: 0.4130 - val_accuracy: 0.8810\n",
      "Epoch 80/100\n",
      "1146/1146 [==============================] - 5s 4ms/step - loss: 0.4092 - accuracy: 0.8813 - val_loss: 0.4103 - val_accuracy: 0.8822\n",
      "Epoch 81/100\n",
      "1146/1146 [==============================] - 5s 4ms/step - loss: 0.4080 - accuracy: 0.8819 - val_loss: 0.4104 - val_accuracy: 0.8828\n",
      "Epoch 82/100\n",
      "1146/1146 [==============================] - 5s 5ms/step - loss: 0.4073 - accuracy: 0.8815 - val_loss: 0.4101 - val_accuracy: 0.8836\n",
      "Epoch 83/100\n",
      "1146/1146 [==============================] - 5s 4ms/step - loss: 0.4061 - accuracy: 0.8823 - val_loss: 0.4097 - val_accuracy: 0.8824\n",
      "Epoch 84/100\n",
      "1146/1146 [==============================] - 5s 5ms/step - loss: 0.4053 - accuracy: 0.8816 - val_loss: 0.4083 - val_accuracy: 0.8842\n",
      "Epoch 85/100\n",
      "1146/1146 [==============================] - 5s 4ms/step - loss: 0.4042 - accuracy: 0.8828 - val_loss: 0.4076 - val_accuracy: 0.8834\n",
      "Epoch 86/100\n",
      "1146/1146 [==============================] - 5s 5ms/step - loss: 0.4032 - accuracy: 0.8831 - val_loss: 0.4078 - val_accuracy: 0.8844\n",
      "Epoch 87/100\n",
      "1146/1146 [==============================] - 5s 4ms/step - loss: 0.4024 - accuracy: 0.8834 - val_loss: 0.4061 - val_accuracy: 0.8846\n",
      "Epoch 88/100\n",
      "1146/1146 [==============================] - 5s 5ms/step - loss: 0.4013 - accuracy: 0.8836 - val_loss: 0.4052 - val_accuracy: 0.8850\n",
      "Epoch 89/100\n",
      "1146/1146 [==============================] - 5s 4ms/step - loss: 0.4005 - accuracy: 0.8843 - val_loss: 0.4053 - val_accuracy: 0.8834\n",
      "Epoch 90/100\n",
      "1146/1146 [==============================] - 5s 5ms/step - loss: 0.3993 - accuracy: 0.8838 - val_loss: 0.4051 - val_accuracy: 0.8838\n",
      "Epoch 91/100\n",
      "1146/1146 [==============================] - 5s 4ms/step - loss: 0.3986 - accuracy: 0.8851 - val_loss: 0.4046 - val_accuracy: 0.8830\n",
      "Epoch 92/100\n",
      "1146/1146 [==============================] - 5s 5ms/step - loss: 0.3978 - accuracy: 0.8847 - val_loss: 0.4042 - val_accuracy: 0.8856\n",
      "Epoch 93/100\n",
      "1146/1146 [==============================] - 5s 4ms/step - loss: 0.3969 - accuracy: 0.8847 - val_loss: 0.4035 - val_accuracy: 0.8870\n",
      "Epoch 94/100\n",
      "1146/1146 [==============================] - 5s 5ms/step - loss: 0.3962 - accuracy: 0.8845 - val_loss: 0.4020 - val_accuracy: 0.8840\n",
      "Epoch 95/100\n",
      "1146/1146 [==============================] - 5s 4ms/step - loss: 0.3952 - accuracy: 0.8860 - val_loss: 0.4008 - val_accuracy: 0.8862\n",
      "Epoch 96/100\n",
      "1146/1146 [==============================] - 5s 5ms/step - loss: 0.3944 - accuracy: 0.8864 - val_loss: 0.4003 - val_accuracy: 0.8874\n",
      "Epoch 97/100\n",
      "1146/1146 [==============================] - 5s 4ms/step - loss: 0.3935 - accuracy: 0.8865 - val_loss: 0.4002 - val_accuracy: 0.8868\n",
      "Epoch 98/100\n",
      "1146/1146 [==============================] - 5s 5ms/step - loss: 0.3929 - accuracy: 0.8862 - val_loss: 0.3989 - val_accuracy: 0.8866\n",
      "Epoch 99/100\n",
      "1146/1146 [==============================] - 5s 4ms/step - loss: 0.3918 - accuracy: 0.8869 - val_loss: 0.3989 - val_accuracy: 0.8876\n",
      "Epoch 100/100\n",
      "1146/1146 [==============================] - 5s 5ms/step - loss: 0.3910 - accuracy: 0.8873 - val_loss: 0.3984 - val_accuracy: 0.8876\n",
      " 30/573 [>.............................] - ETA: 1s - loss: 0.4542 - accuracy: 0.8667"
     ]
    },
    {
     "name": "stderr",
     "output_type": "stream",
     "text": [
      "2022-11-15 22:51:39.843932: I tensorflow/core/grappler/optimizers/custom_graph_optimizer_registry.cc:114] Plugin optimizer for device_type GPU is enabled.\n"
     ]
    },
    {
     "name": "stdout",
     "output_type": "stream",
     "text": [
      "573/573 [==============================] - 2s 4ms/step - loss: 0.4024 - accuracy: 0.8844\n",
      "[CV] END ............................n_hidden=1, n_neurons=5; total time= 8.5min\n",
      "Epoch 1/100\n"
     ]
    },
    {
     "name": "stderr",
     "output_type": "stream",
     "text": [
      "/Users/gtr/opt/anaconda3/lib/python3.9/site-packages/keras/optimizers/optimizer_v2/gradient_descent.py:111: UserWarning: The `lr` argument is deprecated, use `learning_rate` instead.\n",
      "  super().__init__(name, **kwargs)\n",
      "2022-11-15 22:51:42.314417: I tensorflow/core/grappler/optimizers/custom_graph_optimizer_registry.cc:114] Plugin optimizer for device_type GPU is enabled.\n"
     ]
    },
    {
     "name": "stdout",
     "output_type": "stream",
     "text": [
      "1146/1146 [==============================] - ETA: 0s - loss: 1.7879 - accuracy: 0.4302"
     ]
    },
    {
     "name": "stderr",
     "output_type": "stream",
     "text": [
      "2022-11-15 22:51:47.262167: I tensorflow/core/grappler/optimizers/custom_graph_optimizer_registry.cc:114] Plugin optimizer for device_type GPU is enabled.\n"
     ]
    },
    {
     "name": "stdout",
     "output_type": "stream",
     "text": [
      "1146/1146 [==============================] - 6s 5ms/step - loss: 1.7879 - accuracy: 0.4302 - val_loss: 1.2952 - val_accuracy: 0.6526\n",
      "Epoch 2/100\n",
      "1146/1146 [==============================] - 5s 4ms/step - loss: 1.0191 - accuracy: 0.7389 - val_loss: 0.8074 - val_accuracy: 0.7950\n",
      "Epoch 3/100\n",
      "1146/1146 [==============================] - 5s 5ms/step - loss: 0.7059 - accuracy: 0.8172 - val_loss: 0.6175 - val_accuracy: 0.8398\n",
      "Epoch 4/100\n",
      "1146/1146 [==============================] - 5s 4ms/step - loss: 0.5737 - accuracy: 0.8467 - val_loss: 0.5253 - val_accuracy: 0.8640\n",
      "Epoch 5/100\n",
      "1146/1146 [==============================] - 5s 4ms/step - loss: 0.5046 - accuracy: 0.8631 - val_loss: 0.4719 - val_accuracy: 0.8776\n",
      "Epoch 6/100\n",
      "1146/1146 [==============================] - 5s 4ms/step - loss: 0.4617 - accuracy: 0.8733 - val_loss: 0.4349 - val_accuracy: 0.8836\n",
      "Epoch 7/100\n",
      "1146/1146 [==============================] - 5s 4ms/step - loss: 0.4324 - accuracy: 0.8811 - val_loss: 0.4099 - val_accuracy: 0.8906\n",
      "Epoch 8/100\n",
      "1146/1146 [==============================] - 5s 4ms/step - loss: 0.4107 - accuracy: 0.8863 - val_loss: 0.3900 - val_accuracy: 0.8948\n",
      "Epoch 9/100\n",
      "1146/1146 [==============================] - 5s 4ms/step - loss: 0.3938 - accuracy: 0.8898 - val_loss: 0.3744 - val_accuracy: 0.8980\n",
      "Epoch 10/100\n",
      "1146/1146 [==============================] - 5s 4ms/step - loss: 0.3804 - accuracy: 0.8936 - val_loss: 0.3625 - val_accuracy: 0.9016\n",
      "Epoch 11/100\n",
      "1146/1146 [==============================] - 5s 4ms/step - loss: 0.3693 - accuracy: 0.8962 - val_loss: 0.3513 - val_accuracy: 0.9048\n",
      "Epoch 12/100\n",
      "1146/1146 [==============================] - 5s 5ms/step - loss: 0.3596 - accuracy: 0.8993 - val_loss: 0.3428 - val_accuracy: 0.9066\n",
      "Epoch 13/100\n",
      "1146/1146 [==============================] - 5s 4ms/step - loss: 0.3513 - accuracy: 0.9014 - val_loss: 0.3349 - val_accuracy: 0.9084\n",
      "Epoch 14/100\n",
      "1146/1146 [==============================] - 5s 5ms/step - loss: 0.3439 - accuracy: 0.9026 - val_loss: 0.3285 - val_accuracy: 0.9112\n",
      "Epoch 15/100\n",
      "1146/1146 [==============================] - 5s 4ms/step - loss: 0.3374 - accuracy: 0.9043 - val_loss: 0.3221 - val_accuracy: 0.9108\n",
      "Epoch 16/100\n",
      "1146/1146 [==============================] - 5s 5ms/step - loss: 0.3314 - accuracy: 0.9059 - val_loss: 0.3167 - val_accuracy: 0.9144\n",
      "Epoch 17/100\n",
      "1146/1146 [==============================] - 5s 4ms/step - loss: 0.3258 - accuracy: 0.9072 - val_loss: 0.3127 - val_accuracy: 0.9140\n",
      "Epoch 18/100\n",
      "1146/1146 [==============================] - 5s 5ms/step - loss: 0.3210 - accuracy: 0.9096 - val_loss: 0.3080 - val_accuracy: 0.9144\n",
      "Epoch 19/100\n",
      "1146/1146 [==============================] - 5s 4ms/step - loss: 0.3167 - accuracy: 0.9101 - val_loss: 0.3044 - val_accuracy: 0.9166\n",
      "Epoch 20/100\n",
      "1146/1146 [==============================] - 5s 4ms/step - loss: 0.3127 - accuracy: 0.9110 - val_loss: 0.2999 - val_accuracy: 0.9184\n",
      "Epoch 21/100\n",
      "1146/1146 [==============================] - 5s 4ms/step - loss: 0.3088 - accuracy: 0.9125 - val_loss: 0.2974 - val_accuracy: 0.9204\n",
      "Epoch 22/100\n",
      "1146/1146 [==============================] - 5s 4ms/step - loss: 0.3055 - accuracy: 0.9133 - val_loss: 0.2951 - val_accuracy: 0.9202\n",
      "Epoch 23/100\n",
      "1146/1146 [==============================] - 5s 4ms/step - loss: 0.3022 - accuracy: 0.9139 - val_loss: 0.2919 - val_accuracy: 0.9216\n",
      "Epoch 24/100\n",
      "1146/1146 [==============================] - 5s 4ms/step - loss: 0.2994 - accuracy: 0.9146 - val_loss: 0.2889 - val_accuracy: 0.9230\n",
      "Epoch 25/100\n",
      "1146/1146 [==============================] - 5s 5ms/step - loss: 0.2963 - accuracy: 0.9156 - val_loss: 0.2870 - val_accuracy: 0.9226\n",
      "Epoch 26/100\n",
      "1146/1146 [==============================] - 5s 4ms/step - loss: 0.2940 - accuracy: 0.9161 - val_loss: 0.2847 - val_accuracy: 0.9246\n",
      "Epoch 27/100\n",
      "1146/1146 [==============================] - 5s 5ms/step - loss: 0.2917 - accuracy: 0.9168 - val_loss: 0.2836 - val_accuracy: 0.9242\n",
      "Epoch 28/100\n",
      "1146/1146 [==============================] - 5s 4ms/step - loss: 0.2894 - accuracy: 0.9173 - val_loss: 0.2807 - val_accuracy: 0.9246\n",
      "Epoch 29/100\n",
      "1146/1146 [==============================] - 5s 5ms/step - loss: 0.2871 - accuracy: 0.9186 - val_loss: 0.2791 - val_accuracy: 0.9248\n",
      "Epoch 30/100\n",
      "1146/1146 [==============================] - 5s 4ms/step - loss: 0.2851 - accuracy: 0.9185 - val_loss: 0.2778 - val_accuracy: 0.9238\n",
      "Epoch 31/100\n",
      "1146/1146 [==============================] - 5s 5ms/step - loss: 0.2833 - accuracy: 0.9194 - val_loss: 0.2755 - val_accuracy: 0.9246\n",
      "Epoch 32/100\n",
      "1146/1146 [==============================] - 5s 4ms/step - loss: 0.2813 - accuracy: 0.9204 - val_loss: 0.2753 - val_accuracy: 0.9262\n",
      "Epoch 33/100\n",
      "1146/1146 [==============================] - 5s 4ms/step - loss: 0.2798 - accuracy: 0.9204 - val_loss: 0.2729 - val_accuracy: 0.9264\n",
      "Epoch 34/100\n",
      "1146/1146 [==============================] - 5s 4ms/step - loss: 0.2780 - accuracy: 0.9207 - val_loss: 0.2720 - val_accuracy: 0.9276\n",
      "Epoch 35/100\n",
      "1146/1146 [==============================] - 5s 4ms/step - loss: 0.2764 - accuracy: 0.9219 - val_loss: 0.2704 - val_accuracy: 0.9268\n",
      "Epoch 36/100\n",
      "1146/1146 [==============================] - 5s 4ms/step - loss: 0.2750 - accuracy: 0.9223 - val_loss: 0.2695 - val_accuracy: 0.9276\n",
      "Epoch 37/100\n",
      "1146/1146 [==============================] - 5s 4ms/step - loss: 0.2736 - accuracy: 0.9225 - val_loss: 0.2688 - val_accuracy: 0.9264\n",
      "Epoch 38/100\n",
      "1146/1146 [==============================] - 5s 4ms/step - loss: 0.2721 - accuracy: 0.9229 - val_loss: 0.2676 - val_accuracy: 0.9280\n",
      "Epoch 39/100\n",
      "1146/1146 [==============================] - 5s 4ms/step - loss: 0.2709 - accuracy: 0.9230 - val_loss: 0.2668 - val_accuracy: 0.9268\n",
      "Epoch 40/100\n",
      "1146/1146 [==============================] - 5s 5ms/step - loss: 0.2696 - accuracy: 0.9231 - val_loss: 0.2656 - val_accuracy: 0.9270\n",
      "Epoch 41/100\n",
      "1146/1146 [==============================] - 5s 4ms/step - loss: 0.2682 - accuracy: 0.9237 - val_loss: 0.2651 - val_accuracy: 0.9274\n",
      "Epoch 42/100\n",
      "1146/1146 [==============================] - 5s 5ms/step - loss: 0.2671 - accuracy: 0.9241 - val_loss: 0.2639 - val_accuracy: 0.9274\n",
      "Epoch 43/100\n",
      "1146/1146 [==============================] - 5s 4ms/step - loss: 0.2659 - accuracy: 0.9245 - val_loss: 0.2633 - val_accuracy: 0.9278\n",
      "Epoch 44/100\n",
      "1146/1146 [==============================] - 5s 5ms/step - loss: 0.2648 - accuracy: 0.9249 - val_loss: 0.2628 - val_accuracy: 0.9284\n",
      "Epoch 45/100\n",
      "1146/1146 [==============================] - 5s 4ms/step - loss: 0.2638 - accuracy: 0.9251 - val_loss: 0.2615 - val_accuracy: 0.9268\n",
      "Epoch 46/100\n",
      "1146/1146 [==============================] - 5s 5ms/step - loss: 0.2629 - accuracy: 0.9256 - val_loss: 0.2605 - val_accuracy: 0.9278\n",
      "Epoch 47/100\n",
      "1146/1146 [==============================] - 5s 4ms/step - loss: 0.2617 - accuracy: 0.9260 - val_loss: 0.2601 - val_accuracy: 0.9282\n",
      "Epoch 48/100\n",
      "1146/1146 [==============================] - 5s 5ms/step - loss: 0.2607 - accuracy: 0.9257 - val_loss: 0.2593 - val_accuracy: 0.9280\n",
      "Epoch 49/100\n",
      "1146/1146 [==============================] - 5s 4ms/step - loss: 0.2598 - accuracy: 0.9261 - val_loss: 0.2595 - val_accuracy: 0.9292\n",
      "Epoch 50/100\n",
      "1146/1146 [==============================] - 5s 4ms/step - loss: 0.2590 - accuracy: 0.9267 - val_loss: 0.2578 - val_accuracy: 0.9278\n",
      "Epoch 51/100\n",
      "1146/1146 [==============================] - 5s 4ms/step - loss: 0.2580 - accuracy: 0.9268 - val_loss: 0.2575 - val_accuracy: 0.9276\n",
      "Epoch 52/100\n",
      "1146/1146 [==============================] - 5s 4ms/step - loss: 0.2570 - accuracy: 0.9276 - val_loss: 0.2570 - val_accuracy: 0.9284\n",
      "Epoch 53/100\n",
      "1146/1146 [==============================] - 5s 5ms/step - loss: 0.2562 - accuracy: 0.9274 - val_loss: 0.2565 - val_accuracy: 0.9284\n",
      "Epoch 54/100\n",
      "1146/1146 [==============================] - 5s 4ms/step - loss: 0.2554 - accuracy: 0.9273 - val_loss: 0.2556 - val_accuracy: 0.9290\n",
      "Epoch 55/100\n",
      "1146/1146 [==============================] - 5s 5ms/step - loss: 0.2545 - accuracy: 0.9277 - val_loss: 0.2549 - val_accuracy: 0.9292\n",
      "Epoch 56/100\n",
      "1146/1146 [==============================] - 5s 4ms/step - loss: 0.2539 - accuracy: 0.9276 - val_loss: 0.2547 - val_accuracy: 0.9286\n",
      "Epoch 57/100\n"
     ]
    },
    {
     "name": "stdout",
     "output_type": "stream",
     "text": [
      "1146/1146 [==============================] - 5s 5ms/step - loss: 0.2531 - accuracy: 0.9287 - val_loss: 0.2547 - val_accuracy: 0.9274\n",
      "Epoch 58/100\n",
      "1146/1146 [==============================] - 5s 4ms/step - loss: 0.2521 - accuracy: 0.9284 - val_loss: 0.2537 - val_accuracy: 0.9300\n",
      "Epoch 59/100\n",
      "1146/1146 [==============================] - 5s 5ms/step - loss: 0.2515 - accuracy: 0.9296 - val_loss: 0.2541 - val_accuracy: 0.9272\n",
      "Epoch 60/100\n",
      "1146/1146 [==============================] - 5s 4ms/step - loss: 0.2508 - accuracy: 0.9286 - val_loss: 0.2526 - val_accuracy: 0.9292\n",
      "Epoch 61/100\n",
      "1146/1146 [==============================] - 5s 5ms/step - loss: 0.2501 - accuracy: 0.9286 - val_loss: 0.2521 - val_accuracy: 0.9288\n",
      "Epoch 62/100\n",
      "1146/1146 [==============================] - 5s 4ms/step - loss: 0.2493 - accuracy: 0.9295 - val_loss: 0.2515 - val_accuracy: 0.9296\n",
      "Epoch 63/100\n",
      "1146/1146 [==============================] - 5s 5ms/step - loss: 0.2487 - accuracy: 0.9301 - val_loss: 0.2516 - val_accuracy: 0.9296\n",
      "Epoch 64/100\n",
      "1146/1146 [==============================] - 5s 4ms/step - loss: 0.2480 - accuracy: 0.9295 - val_loss: 0.2503 - val_accuracy: 0.9294\n",
      "Epoch 65/100\n",
      "1146/1146 [==============================] - 5s 5ms/step - loss: 0.2474 - accuracy: 0.9298 - val_loss: 0.2503 - val_accuracy: 0.9306\n",
      "Epoch 66/100\n",
      "1146/1146 [==============================] - 5s 4ms/step - loss: 0.2467 - accuracy: 0.9304 - val_loss: 0.2496 - val_accuracy: 0.9306\n",
      "Epoch 67/100\n",
      "1146/1146 [==============================] - 5s 5ms/step - loss: 0.2460 - accuracy: 0.9308 - val_loss: 0.2500 - val_accuracy: 0.9300\n",
      "Epoch 68/100\n",
      "1146/1146 [==============================] - 5s 4ms/step - loss: 0.2452 - accuracy: 0.9306 - val_loss: 0.2490 - val_accuracy: 0.9300\n",
      "Epoch 69/100\n",
      "1146/1146 [==============================] - 5s 4ms/step - loss: 0.2448 - accuracy: 0.9308 - val_loss: 0.2497 - val_accuracy: 0.9294\n",
      "Epoch 70/100\n",
      "1146/1146 [==============================] - 5s 4ms/step - loss: 0.2442 - accuracy: 0.9310 - val_loss: 0.2481 - val_accuracy: 0.9308\n",
      "Epoch 71/100\n",
      "1146/1146 [==============================] - 5s 4ms/step - loss: 0.2437 - accuracy: 0.9312 - val_loss: 0.2479 - val_accuracy: 0.9310\n",
      "Epoch 72/100\n",
      "1146/1146 [==============================] - 5s 5ms/step - loss: 0.2429 - accuracy: 0.9313 - val_loss: 0.2481 - val_accuracy: 0.9308\n",
      "Epoch 73/100\n",
      "1146/1146 [==============================] - 5s 4ms/step - loss: 0.2425 - accuracy: 0.9315 - val_loss: 0.2473 - val_accuracy: 0.9294\n",
      "Epoch 74/100\n",
      "1146/1146 [==============================] - 5s 5ms/step - loss: 0.2419 - accuracy: 0.9321 - val_loss: 0.2476 - val_accuracy: 0.9302\n",
      "Epoch 75/100\n",
      "1146/1146 [==============================] - 5s 4ms/step - loss: 0.2412 - accuracy: 0.9318 - val_loss: 0.2472 - val_accuracy: 0.9310\n",
      "Epoch 76/100\n",
      "1146/1146 [==============================] - 5s 5ms/step - loss: 0.2408 - accuracy: 0.9322 - val_loss: 0.2460 - val_accuracy: 0.9312\n",
      "Epoch 77/100\n",
      "1146/1146 [==============================] - 5s 4ms/step - loss: 0.2402 - accuracy: 0.9324 - val_loss: 0.2462 - val_accuracy: 0.9300\n",
      "Epoch 78/100\n",
      "1146/1146 [==============================] - 5s 5ms/step - loss: 0.2396 - accuracy: 0.9320 - val_loss: 0.2461 - val_accuracy: 0.9300\n",
      "Epoch 79/100\n",
      "1146/1146 [==============================] - 5s 4ms/step - loss: 0.2392 - accuracy: 0.9322 - val_loss: 0.2445 - val_accuracy: 0.9300\n",
      "Epoch 80/100\n",
      "1146/1146 [==============================] - 5s 4ms/step - loss: 0.2386 - accuracy: 0.9322 - val_loss: 0.2442 - val_accuracy: 0.9306\n",
      "Epoch 81/100\n",
      "1146/1146 [==============================] - 5s 4ms/step - loss: 0.2382 - accuracy: 0.9327 - val_loss: 0.2447 - val_accuracy: 0.9298\n",
      "Epoch 82/100\n",
      "1146/1146 [==============================] - 5s 4ms/step - loss: 0.2378 - accuracy: 0.9333 - val_loss: 0.2441 - val_accuracy: 0.9298\n",
      "Epoch 83/100\n",
      "1146/1146 [==============================] - 5s 4ms/step - loss: 0.2371 - accuracy: 0.9330 - val_loss: 0.2443 - val_accuracy: 0.9312\n",
      "Epoch 84/100\n",
      "1146/1146 [==============================] - 5s 4ms/step - loss: 0.2368 - accuracy: 0.9334 - val_loss: 0.2436 - val_accuracy: 0.9304\n",
      "Epoch 85/100\n",
      "1146/1146 [==============================] - 5s 4ms/step - loss: 0.2364 - accuracy: 0.9335 - val_loss: 0.2429 - val_accuracy: 0.9316\n",
      "Epoch 86/100\n",
      "1146/1146 [==============================] - 5s 4ms/step - loss: 0.2358 - accuracy: 0.9338 - val_loss: 0.2430 - val_accuracy: 0.9296\n",
      "Epoch 87/100\n",
      "1146/1146 [==============================] - 5s 4ms/step - loss: 0.2353 - accuracy: 0.9336 - val_loss: 0.2423 - val_accuracy: 0.9316\n",
      "Epoch 88/100\n",
      "1146/1146 [==============================] - 5s 4ms/step - loss: 0.2349 - accuracy: 0.9344 - val_loss: 0.2428 - val_accuracy: 0.9300\n",
      "Epoch 89/100\n",
      "1146/1146 [==============================] - 5s 5ms/step - loss: 0.2345 - accuracy: 0.9340 - val_loss: 0.2423 - val_accuracy: 0.9316\n",
      "Epoch 90/100\n",
      "1146/1146 [==============================] - 5s 4ms/step - loss: 0.2340 - accuracy: 0.9343 - val_loss: 0.2422 - val_accuracy: 0.9316\n",
      "Epoch 91/100\n",
      "1146/1146 [==============================] - 5s 4ms/step - loss: 0.2335 - accuracy: 0.9338 - val_loss: 0.2417 - val_accuracy: 0.9306\n",
      "Epoch 92/100\n",
      "1146/1146 [==============================] - 5s 4ms/step - loss: 0.2331 - accuracy: 0.9342 - val_loss: 0.2410 - val_accuracy: 0.9322\n",
      "Epoch 93/100\n",
      "1146/1146 [==============================] - 5s 4ms/step - loss: 0.2326 - accuracy: 0.9347 - val_loss: 0.2413 - val_accuracy: 0.9320\n",
      "Epoch 94/100\n",
      "1146/1146 [==============================] - 5s 4ms/step - loss: 0.2322 - accuracy: 0.9348 - val_loss: 0.2409 - val_accuracy: 0.9324\n",
      "Epoch 95/100\n",
      "1146/1146 [==============================] - 5s 4ms/step - loss: 0.2318 - accuracy: 0.9348 - val_loss: 0.2414 - val_accuracy: 0.9314\n",
      "Epoch 96/100\n",
      "1146/1146 [==============================] - 5s 4ms/step - loss: 0.2314 - accuracy: 0.9350 - val_loss: 0.2406 - val_accuracy: 0.9318\n",
      "Epoch 97/100\n",
      "1146/1146 [==============================] - 5s 4ms/step - loss: 0.2312 - accuracy: 0.9346 - val_loss: 0.2401 - val_accuracy: 0.9320\n",
      "Epoch 98/100\n",
      "1146/1146 [==============================] - 5s 5ms/step - loss: 0.2307 - accuracy: 0.9354 - val_loss: 0.2403 - val_accuracy: 0.9312\n",
      "Epoch 99/100\n",
      "1146/1146 [==============================] - 5s 4ms/step - loss: 0.2301 - accuracy: 0.9353 - val_loss: 0.2398 - val_accuracy: 0.9316\n",
      "Epoch 100/100\n",
      "1146/1146 [==============================] - 5s 5ms/step - loss: 0.2300 - accuracy: 0.9359 - val_loss: 0.2396 - val_accuracy: 0.9318\n",
      " 30/573 [>.............................] - ETA: 1s - loss: 0.2570 - accuracy: 0.9323"
     ]
    },
    {
     "name": "stderr",
     "output_type": "stream",
     "text": [
      "2022-11-15 23:00:15.545786: I tensorflow/core/grappler/optimizers/custom_graph_optimizer_registry.cc:114] Plugin optimizer for device_type GPU is enabled.\n"
     ]
    },
    {
     "name": "stdout",
     "output_type": "stream",
     "text": [
      "573/573 [==============================] - 3s 4ms/step - loss: 0.2675 - accuracy: 0.9241\n",
      "[CV] END ...........................n_hidden=1, n_neurons=10; total time= 8.6min\n",
      "Epoch 1/100\n"
     ]
    },
    {
     "name": "stderr",
     "output_type": "stream",
     "text": [
      "/Users/gtr/opt/anaconda3/lib/python3.9/site-packages/keras/optimizers/optimizer_v2/gradient_descent.py:111: UserWarning: The `lr` argument is deprecated, use `learning_rate` instead.\n",
      "  super().__init__(name, **kwargs)\n",
      "2022-11-15 23:00:18.038107: I tensorflow/core/grappler/optimizers/custom_graph_optimizer_registry.cc:114] Plugin optimizer for device_type GPU is enabled.\n"
     ]
    },
    {
     "name": "stdout",
     "output_type": "stream",
     "text": [
      "1146/1146 [==============================] - ETA: 0s - loss: 1.8457 - accuracy: 0.4015"
     ]
    },
    {
     "name": "stderr",
     "output_type": "stream",
     "text": [
      "2022-11-15 23:00:22.930948: I tensorflow/core/grappler/optimizers/custom_graph_optimizer_registry.cc:114] Plugin optimizer for device_type GPU is enabled.\n"
     ]
    },
    {
     "name": "stdout",
     "output_type": "stream",
     "text": [
      "1146/1146 [==============================] - 6s 5ms/step - loss: 1.8457 - accuracy: 0.4015 - val_loss: 1.4604 - val_accuracy: 0.5822\n",
      "Epoch 2/100\n",
      "1146/1146 [==============================] - 5s 4ms/step - loss: 1.1732 - accuracy: 0.6857 - val_loss: 0.9201 - val_accuracy: 0.7592\n",
      "Epoch 3/100\n",
      "1146/1146 [==============================] - 5s 5ms/step - loss: 0.7915 - accuracy: 0.8030 - val_loss: 0.6734 - val_accuracy: 0.8354\n",
      "Epoch 4/100\n",
      "1146/1146 [==============================] - 5s 4ms/step - loss: 0.6182 - accuracy: 0.8419 - val_loss: 0.5529 - val_accuracy: 0.8582\n",
      "Epoch 5/100\n",
      "1146/1146 [==============================] - 5s 5ms/step - loss: 0.5263 - accuracy: 0.8610 - val_loss: 0.4848 - val_accuracy: 0.8700\n",
      "Epoch 6/100\n",
      "1146/1146 [==============================] - 5s 4ms/step - loss: 0.4711 - accuracy: 0.8727 - val_loss: 0.4401 - val_accuracy: 0.8816\n",
      "Epoch 7/100\n",
      "1146/1146 [==============================] - 5s 5ms/step - loss: 0.4352 - accuracy: 0.8808 - val_loss: 0.4110 - val_accuracy: 0.8848\n",
      "Epoch 8/100\n",
      "1146/1146 [==============================] - 5s 4ms/step - loss: 0.4098 - accuracy: 0.8855 - val_loss: 0.3899 - val_accuracy: 0.8908\n",
      "Epoch 9/100\n",
      "1146/1146 [==============================] - 5s 5ms/step - loss: 0.3911 - accuracy: 0.8910 - val_loss: 0.3732 - val_accuracy: 0.8948\n",
      "Epoch 10/100\n",
      "1146/1146 [==============================] - 5s 4ms/step - loss: 0.3761 - accuracy: 0.8949 - val_loss: 0.3593 - val_accuracy: 0.9000\n",
      "Epoch 11/100\n",
      "1146/1146 [==============================] - 5s 5ms/step - loss: 0.3645 - accuracy: 0.8977 - val_loss: 0.3485 - val_accuracy: 0.9022\n",
      "Epoch 12/100\n",
      "1146/1146 [==============================] - 5s 4ms/step - loss: 0.3546 - accuracy: 0.9010 - val_loss: 0.3394 - val_accuracy: 0.9050\n",
      "Epoch 13/100\n",
      "1146/1146 [==============================] - 5s 5ms/step - loss: 0.3460 - accuracy: 0.9031 - val_loss: 0.3331 - val_accuracy: 0.9070\n",
      "Epoch 14/100\n",
      "1146/1146 [==============================] - 5s 4ms/step - loss: 0.3389 - accuracy: 0.9044 - val_loss: 0.3268 - val_accuracy: 0.9094\n",
      "Epoch 15/100\n",
      "1146/1146 [==============================] - 5s 5ms/step - loss: 0.3326 - accuracy: 0.9064 - val_loss: 0.3197 - val_accuracy: 0.9130\n",
      "Epoch 16/100\n",
      "1146/1146 [==============================] - 5s 4ms/step - loss: 0.3268 - accuracy: 0.9077 - val_loss: 0.3149 - val_accuracy: 0.9138\n",
      "Epoch 17/100\n",
      "1146/1146 [==============================] - 5s 5ms/step - loss: 0.3217 - accuracy: 0.9089 - val_loss: 0.3105 - val_accuracy: 0.9156\n",
      "Epoch 18/100\n",
      "1146/1146 [==============================] - 5s 5ms/step - loss: 0.3171 - accuracy: 0.9112 - val_loss: 0.3077 - val_accuracy: 0.9148\n",
      "Epoch 19/100\n",
      "1146/1146 [==============================] - 5s 4ms/step - loss: 0.3129 - accuracy: 0.9114 - val_loss: 0.3019 - val_accuracy: 0.9186\n",
      "Epoch 20/100\n",
      "1146/1146 [==============================] - 5s 5ms/step - loss: 0.3091 - accuracy: 0.9126 - val_loss: 0.2993 - val_accuracy: 0.9194\n",
      "Epoch 21/100\n",
      "1146/1146 [==============================] - 5s 4ms/step - loss: 0.3056 - accuracy: 0.9141 - val_loss: 0.2961 - val_accuracy: 0.9168\n",
      "Epoch 22/100\n",
      "1146/1146 [==============================] - 5s 5ms/step - loss: 0.3024 - accuracy: 0.9148 - val_loss: 0.2927 - val_accuracy: 0.9182\n",
      "Epoch 23/100\n",
      "1146/1146 [==============================] - 5s 4ms/step - loss: 0.2993 - accuracy: 0.9153 - val_loss: 0.2896 - val_accuracy: 0.9192\n",
      "Epoch 24/100\n",
      "1146/1146 [==============================] - 5s 5ms/step - loss: 0.2963 - accuracy: 0.9161 - val_loss: 0.2881 - val_accuracy: 0.9204\n",
      "Epoch 25/100\n",
      "1146/1146 [==============================] - 5s 4ms/step - loss: 0.2937 - accuracy: 0.9165 - val_loss: 0.2868 - val_accuracy: 0.9222\n",
      "Epoch 26/100\n",
      "1146/1146 [==============================] - 5s 5ms/step - loss: 0.2912 - accuracy: 0.9179 - val_loss: 0.2841 - val_accuracy: 0.9230\n",
      "Epoch 27/100\n",
      "1146/1146 [==============================] - 5s 4ms/step - loss: 0.2889 - accuracy: 0.9181 - val_loss: 0.2810 - val_accuracy: 0.9212\n",
      "Epoch 28/100\n",
      "1146/1146 [==============================] - 5s 5ms/step - loss: 0.2866 - accuracy: 0.9190 - val_loss: 0.2800 - val_accuracy: 0.9222\n",
      "Epoch 29/100\n",
      "1146/1146 [==============================] - 5s 4ms/step - loss: 0.2846 - accuracy: 0.9197 - val_loss: 0.2776 - val_accuracy: 0.9244\n",
      "Epoch 30/100\n",
      "1146/1146 [==============================] - 5s 5ms/step - loss: 0.2824 - accuracy: 0.9201 - val_loss: 0.2768 - val_accuracy: 0.9236\n",
      "Epoch 31/100\n",
      "1146/1146 [==============================] - 5s 4ms/step - loss: 0.2806 - accuracy: 0.9205 - val_loss: 0.2750 - val_accuracy: 0.9232\n",
      "Epoch 32/100\n",
      "1146/1146 [==============================] - 5s 5ms/step - loss: 0.2787 - accuracy: 0.9215 - val_loss: 0.2737 - val_accuracy: 0.9258\n",
      "Epoch 33/100\n",
      "1146/1146 [==============================] - 5s 4ms/step - loss: 0.2770 - accuracy: 0.9216 - val_loss: 0.2716 - val_accuracy: 0.9262\n",
      "Epoch 34/100\n",
      "1146/1146 [==============================] - 5s 5ms/step - loss: 0.2753 - accuracy: 0.9223 - val_loss: 0.2707 - val_accuracy: 0.9274\n",
      "Epoch 35/100\n",
      "1146/1146 [==============================] - 5s 4ms/step - loss: 0.2736 - accuracy: 0.9230 - val_loss: 0.2693 - val_accuracy: 0.9270\n",
      "Epoch 36/100\n",
      "1146/1146 [==============================] - 5s 4ms/step - loss: 0.2722 - accuracy: 0.9235 - val_loss: 0.2677 - val_accuracy: 0.9272\n",
      "Epoch 37/100\n",
      "1146/1146 [==============================] - 5s 5ms/step - loss: 0.2706 - accuracy: 0.9236 - val_loss: 0.2674 - val_accuracy: 0.9264\n",
      "Epoch 38/100\n",
      "1146/1146 [==============================] - 5s 4ms/step - loss: 0.2694 - accuracy: 0.9245 - val_loss: 0.2659 - val_accuracy: 0.9290\n",
      "Epoch 39/100\n",
      "1146/1146 [==============================] - 5s 4ms/step - loss: 0.2678 - accuracy: 0.9244 - val_loss: 0.2656 - val_accuracy: 0.9268\n",
      "Epoch 40/100\n",
      "1146/1146 [==============================] - 5s 4ms/step - loss: 0.2666 - accuracy: 0.9251 - val_loss: 0.2638 - val_accuracy: 0.9272\n",
      "Epoch 41/100\n",
      "1146/1146 [==============================] - 5s 5ms/step - loss: 0.2653 - accuracy: 0.9255 - val_loss: 0.2635 - val_accuracy: 0.9276\n",
      "Epoch 42/100\n",
      "1146/1146 [==============================] - 5s 4ms/step - loss: 0.2639 - accuracy: 0.9265 - val_loss: 0.2619 - val_accuracy: 0.9286\n",
      "Epoch 43/100\n",
      "1146/1146 [==============================] - 5s 5ms/step - loss: 0.2629 - accuracy: 0.9262 - val_loss: 0.2607 - val_accuracy: 0.9282\n",
      "Epoch 44/100\n",
      "1146/1146 [==============================] - 5s 4ms/step - loss: 0.2616 - accuracy: 0.9265 - val_loss: 0.2601 - val_accuracy: 0.9298\n",
      "Epoch 45/100\n",
      "1146/1146 [==============================] - 5s 5ms/step - loss: 0.2605 - accuracy: 0.9264 - val_loss: 0.2616 - val_accuracy: 0.9272\n",
      "Epoch 46/100\n",
      "1146/1146 [==============================] - 5s 4ms/step - loss: 0.2596 - accuracy: 0.9273 - val_loss: 0.2579 - val_accuracy: 0.9290\n",
      "Epoch 47/100\n",
      "1146/1146 [==============================] - 5s 5ms/step - loss: 0.2584 - accuracy: 0.9279 - val_loss: 0.2578 - val_accuracy: 0.9288\n",
      "Epoch 48/100\n",
      "1146/1146 [==============================] - 5s 4ms/step - loss: 0.2573 - accuracy: 0.9282 - val_loss: 0.2576 - val_accuracy: 0.9290\n",
      "Epoch 49/100\n",
      "1146/1146 [==============================] - 5s 4ms/step - loss: 0.2563 - accuracy: 0.9278 - val_loss: 0.2566 - val_accuracy: 0.9296\n",
      "Epoch 50/100\n",
      "1146/1146 [==============================] - 5s 4ms/step - loss: 0.2554 - accuracy: 0.9288 - val_loss: 0.2559 - val_accuracy: 0.9296\n",
      "Epoch 51/100\n",
      "1146/1146 [==============================] - 5s 4ms/step - loss: 0.2544 - accuracy: 0.9288 - val_loss: 0.2552 - val_accuracy: 0.9298\n",
      "Epoch 52/100\n",
      "1146/1146 [==============================] - 5s 4ms/step - loss: 0.2535 - accuracy: 0.9299 - val_loss: 0.2542 - val_accuracy: 0.9302\n",
      "Epoch 53/100\n",
      "1146/1146 [==============================] - 5s 4ms/step - loss: 0.2526 - accuracy: 0.9296 - val_loss: 0.2539 - val_accuracy: 0.9302\n",
      "Epoch 54/100\n",
      "1146/1146 [==============================] - 5s 5ms/step - loss: 0.2516 - accuracy: 0.9297 - val_loss: 0.2530 - val_accuracy: 0.9306\n",
      "Epoch 55/100\n",
      "1146/1146 [==============================] - 5s 4ms/step - loss: 0.2508 - accuracy: 0.9303 - val_loss: 0.2534 - val_accuracy: 0.9316\n",
      "Epoch 56/100\n",
      "1146/1146 [==============================] - 5s 5ms/step - loss: 0.2500 - accuracy: 0.9306 - val_loss: 0.2517 - val_accuracy: 0.9306\n",
      "Epoch 57/100\n"
     ]
    },
    {
     "name": "stdout",
     "output_type": "stream",
     "text": [
      "1146/1146 [==============================] - 5s 4ms/step - loss: 0.2492 - accuracy: 0.9311 - val_loss: 0.2516 - val_accuracy: 0.9306\n",
      "Epoch 58/100\n",
      "1146/1146 [==============================] - 5s 5ms/step - loss: 0.2483 - accuracy: 0.9312 - val_loss: 0.2510 - val_accuracy: 0.9312\n",
      "Epoch 59/100\n",
      "1146/1146 [==============================] - 5s 4ms/step - loss: 0.2476 - accuracy: 0.9314 - val_loss: 0.2504 - val_accuracy: 0.9306\n",
      "Epoch 60/100\n",
      "1146/1146 [==============================] - 5s 5ms/step - loss: 0.2467 - accuracy: 0.9313 - val_loss: 0.2498 - val_accuracy: 0.9308\n",
      "Epoch 61/100\n",
      "1146/1146 [==============================] - 5s 4ms/step - loss: 0.2459 - accuracy: 0.9321 - val_loss: 0.2491 - val_accuracy: 0.9312\n",
      "Epoch 62/100\n",
      "1146/1146 [==============================] - 5s 5ms/step - loss: 0.2453 - accuracy: 0.9322 - val_loss: 0.2488 - val_accuracy: 0.9314\n",
      "Epoch 63/100\n",
      "1146/1146 [==============================] - 5s 4ms/step - loss: 0.2445 - accuracy: 0.9322 - val_loss: 0.2493 - val_accuracy: 0.9322\n",
      "Epoch 64/100\n",
      "1146/1146 [==============================] - 5s 5ms/step - loss: 0.2437 - accuracy: 0.9325 - val_loss: 0.2476 - val_accuracy: 0.9318\n",
      "Epoch 65/100\n",
      "1146/1146 [==============================] - 5s 4ms/step - loss: 0.2430 - accuracy: 0.9331 - val_loss: 0.2472 - val_accuracy: 0.9322\n",
      "Epoch 66/100\n",
      "1146/1146 [==============================] - 5s 5ms/step - loss: 0.2423 - accuracy: 0.9333 - val_loss: 0.2471 - val_accuracy: 0.9316\n",
      "Epoch 67/100\n",
      "1146/1146 [==============================] - 5s 4ms/step - loss: 0.2417 - accuracy: 0.9331 - val_loss: 0.2461 - val_accuracy: 0.9310\n",
      "Epoch 68/100\n",
      "1146/1146 [==============================] - 5s 4ms/step - loss: 0.2411 - accuracy: 0.9335 - val_loss: 0.2462 - val_accuracy: 0.9310\n",
      "Epoch 69/100\n",
      "1146/1146 [==============================] - 5s 4ms/step - loss: 0.2404 - accuracy: 0.9339 - val_loss: 0.2454 - val_accuracy: 0.9324\n",
      "Epoch 70/100\n",
      "1146/1146 [==============================] - 5s 4ms/step - loss: 0.2397 - accuracy: 0.9342 - val_loss: 0.2448 - val_accuracy: 0.9334\n",
      "Epoch 71/100\n",
      "1146/1146 [==============================] - 5s 4ms/step - loss: 0.2391 - accuracy: 0.9345 - val_loss: 0.2442 - val_accuracy: 0.9312\n",
      "Epoch 72/100\n",
      "1146/1146 [==============================] - 5s 4ms/step - loss: 0.2385 - accuracy: 0.9348 - val_loss: 0.2440 - val_accuracy: 0.9330\n",
      "Epoch 73/100\n",
      "1146/1146 [==============================] - 5s 5ms/step - loss: 0.2379 - accuracy: 0.9347 - val_loss: 0.2436 - val_accuracy: 0.9320\n",
      "Epoch 74/100\n",
      "1146/1146 [==============================] - 5s 4ms/step - loss: 0.2375 - accuracy: 0.9354 - val_loss: 0.2438 - val_accuracy: 0.9320\n",
      "Epoch 75/100\n",
      "1146/1146 [==============================] - 5s 5ms/step - loss: 0.2368 - accuracy: 0.9356 - val_loss: 0.2433 - val_accuracy: 0.9338\n",
      "Epoch 76/100\n",
      "1146/1146 [==============================] - 5s 4ms/step - loss: 0.2360 - accuracy: 0.9351 - val_loss: 0.2423 - val_accuracy: 0.9336\n",
      "Epoch 77/100\n",
      "1146/1146 [==============================] - 5s 5ms/step - loss: 0.2355 - accuracy: 0.9352 - val_loss: 0.2419 - val_accuracy: 0.9346\n",
      "Epoch 78/100\n",
      "1146/1146 [==============================] - 5s 4ms/step - loss: 0.2348 - accuracy: 0.9362 - val_loss: 0.2420 - val_accuracy: 0.9322\n",
      "Epoch 79/100\n",
      "1146/1146 [==============================] - 5s 5ms/step - loss: 0.2344 - accuracy: 0.9354 - val_loss: 0.2413 - val_accuracy: 0.9326\n",
      "Epoch 80/100\n",
      "1146/1146 [==============================] - 5s 4ms/step - loss: 0.2338 - accuracy: 0.9359 - val_loss: 0.2407 - val_accuracy: 0.9342\n",
      "Epoch 81/100\n",
      "1146/1146 [==============================] - 5s 5ms/step - loss: 0.2332 - accuracy: 0.9359 - val_loss: 0.2398 - val_accuracy: 0.9326\n",
      "Epoch 82/100\n",
      "1146/1146 [==============================] - 5s 4ms/step - loss: 0.2327 - accuracy: 0.9365 - val_loss: 0.2401 - val_accuracy: 0.9340\n",
      "Epoch 83/100\n",
      "1146/1146 [==============================] - 5s 5ms/step - loss: 0.2321 - accuracy: 0.9369 - val_loss: 0.2403 - val_accuracy: 0.9334\n",
      "Epoch 84/100\n",
      "1146/1146 [==============================] - 5s 4ms/step - loss: 0.2315 - accuracy: 0.9365 - val_loss: 0.2389 - val_accuracy: 0.9346\n",
      "Epoch 85/100\n",
      "1146/1146 [==============================] - 5s 5ms/step - loss: 0.2311 - accuracy: 0.9366 - val_loss: 0.2390 - val_accuracy: 0.9328\n",
      "Epoch 86/100\n",
      "1146/1146 [==============================] - 5s 4ms/step - loss: 0.2306 - accuracy: 0.9370 - val_loss: 0.2384 - val_accuracy: 0.9340\n",
      "Epoch 87/100\n",
      "1146/1146 [==============================] - 5s 5ms/step - loss: 0.2300 - accuracy: 0.9371 - val_loss: 0.2378 - val_accuracy: 0.9338\n",
      "Epoch 88/100\n",
      "1146/1146 [==============================] - 5s 4ms/step - loss: 0.2295 - accuracy: 0.9370 - val_loss: 0.2372 - val_accuracy: 0.9336\n",
      "Epoch 89/100\n",
      "1146/1146 [==============================] - 5s 4ms/step - loss: 0.2290 - accuracy: 0.9374 - val_loss: 0.2372 - val_accuracy: 0.9336\n",
      "Epoch 90/100\n",
      "1146/1146 [==============================] - 5s 5ms/step - loss: 0.2284 - accuracy: 0.9371 - val_loss: 0.2372 - val_accuracy: 0.9326\n",
      "Epoch 91/100\n",
      "1146/1146 [==============================] - 5s 4ms/step - loss: 0.2278 - accuracy: 0.9378 - val_loss: 0.2362 - val_accuracy: 0.9336\n",
      "Epoch 92/100\n",
      "1146/1146 [==============================] - 5s 5ms/step - loss: 0.2274 - accuracy: 0.9372 - val_loss: 0.2354 - val_accuracy: 0.9342\n",
      "Epoch 93/100\n",
      "1146/1146 [==============================] - 5s 4ms/step - loss: 0.2270 - accuracy: 0.9377 - val_loss: 0.2358 - val_accuracy: 0.9342\n",
      "Epoch 94/100\n",
      "1146/1146 [==============================] - 5s 5ms/step - loss: 0.2263 - accuracy: 0.9381 - val_loss: 0.2356 - val_accuracy: 0.9330\n",
      "Epoch 95/100\n",
      "1146/1146 [==============================] - 5s 4ms/step - loss: 0.2261 - accuracy: 0.9381 - val_loss: 0.2351 - val_accuracy: 0.9344\n",
      "Epoch 96/100\n",
      "1146/1146 [==============================] - 5s 5ms/step - loss: 0.2254 - accuracy: 0.9381 - val_loss: 0.2352 - val_accuracy: 0.9352\n",
      "Epoch 97/100\n",
      "1146/1146 [==============================] - 5s 4ms/step - loss: 0.2249 - accuracy: 0.9380 - val_loss: 0.2343 - val_accuracy: 0.9352\n",
      "Epoch 98/100\n",
      "1146/1146 [==============================] - 5s 5ms/step - loss: 0.2245 - accuracy: 0.9387 - val_loss: 0.2338 - val_accuracy: 0.9350\n",
      "Epoch 99/100\n",
      "1146/1146 [==============================] - 5s 4ms/step - loss: 0.2239 - accuracy: 0.9388 - val_loss: 0.2339 - val_accuracy: 0.9342\n",
      "Epoch 100/100\n",
      "1146/1146 [==============================] - 5s 5ms/step - loss: 0.2235 - accuracy: 0.9390 - val_loss: 0.2338 - val_accuracy: 0.9342\n",
      " 29/573 [>.............................] - ETA: 1s - loss: 0.2694 - accuracy: 0.9181"
     ]
    },
    {
     "name": "stderr",
     "output_type": "stream",
     "text": [
      "2022-11-15 23:08:53.447373: I tensorflow/core/grappler/optimizers/custom_graph_optimizer_registry.cc:114] Plugin optimizer for device_type GPU is enabled.\n"
     ]
    },
    {
     "name": "stdout",
     "output_type": "stream",
     "text": [
      "573/573 [==============================] - 2s 4ms/step - loss: 0.2699 - accuracy: 0.9245\n",
      "[CV] END ...........................n_hidden=1, n_neurons=10; total time= 8.6min\n",
      "Epoch 1/100\n"
     ]
    },
    {
     "name": "stderr",
     "output_type": "stream",
     "text": [
      "/Users/gtr/opt/anaconda3/lib/python3.9/site-packages/keras/optimizers/optimizer_v2/gradient_descent.py:111: UserWarning: The `lr` argument is deprecated, use `learning_rate` instead.\n",
      "  super().__init__(name, **kwargs)\n",
      "2022-11-15 23:08:55.908072: I tensorflow/core/grappler/optimizers/custom_graph_optimizer_registry.cc:114] Plugin optimizer for device_type GPU is enabled.\n"
     ]
    },
    {
     "name": "stdout",
     "output_type": "stream",
     "text": [
      "1146/1146 [==============================] - ETA: 0s - loss: 1.7673 - accuracy: 0.4267"
     ]
    },
    {
     "name": "stderr",
     "output_type": "stream",
     "text": [
      "2022-11-15 23:09:00.696954: I tensorflow/core/grappler/optimizers/custom_graph_optimizer_registry.cc:114] Plugin optimizer for device_type GPU is enabled.\n"
     ]
    },
    {
     "name": "stdout",
     "output_type": "stream",
     "text": [
      "1146/1146 [==============================] - 6s 5ms/step - loss: 1.7673 - accuracy: 0.4267 - val_loss: 1.2487 - val_accuracy: 0.7006\n",
      "Epoch 2/100\n",
      "1146/1146 [==============================] - 5s 4ms/step - loss: 0.9842 - accuracy: 0.7676 - val_loss: 0.7615 - val_accuracy: 0.8218\n",
      "Epoch 3/100\n",
      "1146/1146 [==============================] - 5s 5ms/step - loss: 0.6851 - accuracy: 0.8277 - val_loss: 0.5841 - val_accuracy: 0.8522\n",
      "Epoch 4/100\n",
      "1146/1146 [==============================] - 5s 5ms/step - loss: 0.5627 - accuracy: 0.8529 - val_loss: 0.5008 - val_accuracy: 0.8702\n",
      "Epoch 5/100\n",
      "1146/1146 [==============================] - 5s 4ms/step - loss: 0.4977 - accuracy: 0.8669 - val_loss: 0.4490 - val_accuracy: 0.8822\n",
      "Epoch 6/100\n",
      "1146/1146 [==============================] - 5s 5ms/step - loss: 0.4563 - accuracy: 0.8757 - val_loss: 0.4148 - val_accuracy: 0.8898\n",
      "Epoch 7/100\n",
      "1146/1146 [==============================] - 5s 4ms/step - loss: 0.4281 - accuracy: 0.8819 - val_loss: 0.3906 - val_accuracy: 0.8944\n",
      "Epoch 8/100\n",
      "1146/1146 [==============================] - 5s 5ms/step - loss: 0.4069 - accuracy: 0.8869 - val_loss: 0.3742 - val_accuracy: 0.8970\n",
      "Epoch 9/100\n",
      "1146/1146 [==============================] - 5s 4ms/step - loss: 0.3910 - accuracy: 0.8904 - val_loss: 0.3586 - val_accuracy: 0.9008\n",
      "Epoch 10/100\n",
      "1146/1146 [==============================] - 5s 5ms/step - loss: 0.3779 - accuracy: 0.8942 - val_loss: 0.3478 - val_accuracy: 0.9042\n",
      "Epoch 11/100\n",
      "1146/1146 [==============================] - 5s 4ms/step - loss: 0.3676 - accuracy: 0.8963 - val_loss: 0.3376 - val_accuracy: 0.9078\n",
      "Epoch 12/100\n",
      "1146/1146 [==============================] - 5s 5ms/step - loss: 0.3588 - accuracy: 0.8983 - val_loss: 0.3308 - val_accuracy: 0.9100\n",
      "Epoch 13/100\n",
      "1146/1146 [==============================] - 5s 4ms/step - loss: 0.3512 - accuracy: 0.9001 - val_loss: 0.3243 - val_accuracy: 0.9106\n",
      "Epoch 14/100\n",
      "1146/1146 [==============================] - 5s 5ms/step - loss: 0.3448 - accuracy: 0.9021 - val_loss: 0.3181 - val_accuracy: 0.9134\n",
      "Epoch 15/100\n",
      "1146/1146 [==============================] - 5s 4ms/step - loss: 0.3391 - accuracy: 0.9041 - val_loss: 0.3131 - val_accuracy: 0.9152\n",
      "Epoch 16/100\n",
      "1146/1146 [==============================] - 5s 5ms/step - loss: 0.3340 - accuracy: 0.9055 - val_loss: 0.3094 - val_accuracy: 0.9170\n",
      "Epoch 17/100\n",
      "1146/1146 [==============================] - 5s 4ms/step - loss: 0.3295 - accuracy: 0.9057 - val_loss: 0.3050 - val_accuracy: 0.9176\n",
      "Epoch 18/100\n",
      "1146/1146 [==============================] - 5s 5ms/step - loss: 0.3254 - accuracy: 0.9074 - val_loss: 0.3024 - val_accuracy: 0.9182\n",
      "Epoch 19/100\n",
      "1146/1146 [==============================] - 5s 4ms/step - loss: 0.3216 - accuracy: 0.9085 - val_loss: 0.2978 - val_accuracy: 0.9194\n",
      "Epoch 20/100\n",
      "1146/1146 [==============================] - 5s 4ms/step - loss: 0.3182 - accuracy: 0.9094 - val_loss: 0.2953 - val_accuracy: 0.9190\n",
      "Epoch 21/100\n",
      "1146/1146 [==============================] - 5s 5ms/step - loss: 0.3149 - accuracy: 0.9100 - val_loss: 0.2925 - val_accuracy: 0.9208\n",
      "Epoch 22/100\n",
      "1146/1146 [==============================] - 5s 4ms/step - loss: 0.3120 - accuracy: 0.9112 - val_loss: 0.2903 - val_accuracy: 0.9210\n",
      "Epoch 23/100\n",
      "1146/1146 [==============================] - 5s 5ms/step - loss: 0.3091 - accuracy: 0.9121 - val_loss: 0.2881 - val_accuracy: 0.9196\n",
      "Epoch 24/100\n",
      "1146/1146 [==============================] - 5s 4ms/step - loss: 0.3065 - accuracy: 0.9128 - val_loss: 0.2854 - val_accuracy: 0.9212\n",
      "Epoch 25/100\n",
      "1146/1146 [==============================] - 5s 5ms/step - loss: 0.3039 - accuracy: 0.9133 - val_loss: 0.2849 - val_accuracy: 0.9212\n",
      "Epoch 26/100\n",
      "1146/1146 [==============================] - 5s 4ms/step - loss: 0.3016 - accuracy: 0.9141 - val_loss: 0.2820 - val_accuracy: 0.9222\n",
      "Epoch 27/100\n",
      "1146/1146 [==============================] - 5s 5ms/step - loss: 0.2992 - accuracy: 0.9144 - val_loss: 0.2799 - val_accuracy: 0.9224\n",
      "Epoch 28/100\n",
      "1146/1146 [==============================] - 5s 4ms/step - loss: 0.2973 - accuracy: 0.9144 - val_loss: 0.2789 - val_accuracy: 0.9224\n",
      "Epoch 29/100\n",
      "1146/1146 [==============================] - 5s 5ms/step - loss: 0.2951 - accuracy: 0.9164 - val_loss: 0.2774 - val_accuracy: 0.9248\n",
      "Epoch 30/100\n",
      "1146/1146 [==============================] - 5s 4ms/step - loss: 0.2931 - accuracy: 0.9162 - val_loss: 0.2770 - val_accuracy: 0.9236\n",
      "Epoch 31/100\n",
      "1146/1146 [==============================] - 5s 5ms/step - loss: 0.2915 - accuracy: 0.9166 - val_loss: 0.2740 - val_accuracy: 0.9244\n",
      "Epoch 32/100\n",
      "1146/1146 [==============================] - 5s 4ms/step - loss: 0.2893 - accuracy: 0.9176 - val_loss: 0.2728 - val_accuracy: 0.9254\n",
      "Epoch 33/100\n",
      "1146/1146 [==============================] - 5s 5ms/step - loss: 0.2877 - accuracy: 0.9187 - val_loss: 0.2712 - val_accuracy: 0.9256\n",
      "Epoch 34/100\n",
      "1146/1146 [==============================] - 5s 4ms/step - loss: 0.2859 - accuracy: 0.9187 - val_loss: 0.2705 - val_accuracy: 0.9266\n",
      "Epoch 35/100\n",
      "1146/1146 [==============================] - 5s 4ms/step - loss: 0.2841 - accuracy: 0.9192 - val_loss: 0.2700 - val_accuracy: 0.9266\n",
      "Epoch 36/100\n",
      "1146/1146 [==============================] - 5s 5ms/step - loss: 0.2825 - accuracy: 0.9195 - val_loss: 0.2676 - val_accuracy: 0.9262\n",
      "Epoch 37/100\n",
      "1146/1146 [==============================] - 5s 4ms/step - loss: 0.2811 - accuracy: 0.9201 - val_loss: 0.2664 - val_accuracy: 0.9278\n",
      "Epoch 38/100\n",
      "1146/1146 [==============================] - 5s 5ms/step - loss: 0.2796 - accuracy: 0.9204 - val_loss: 0.2659 - val_accuracy: 0.9268\n",
      "Epoch 39/100\n",
      "1146/1146 [==============================] - 5s 4ms/step - loss: 0.2778 - accuracy: 0.9209 - val_loss: 0.2644 - val_accuracy: 0.9274\n",
      "Epoch 40/100\n",
      "1146/1146 [==============================] - 5s 5ms/step - loss: 0.2765 - accuracy: 0.9217 - val_loss: 0.2636 - val_accuracy: 0.9282\n",
      "Epoch 41/100\n",
      "1146/1146 [==============================] - 5s 4ms/step - loss: 0.2748 - accuracy: 0.9219 - val_loss: 0.2632 - val_accuracy: 0.9278\n",
      "Epoch 42/100\n",
      "1146/1146 [==============================] - 5s 5ms/step - loss: 0.2737 - accuracy: 0.9221 - val_loss: 0.2607 - val_accuracy: 0.9288\n",
      "Epoch 43/100\n",
      "1146/1146 [==============================] - 5s 4ms/step - loss: 0.2721 - accuracy: 0.9217 - val_loss: 0.2600 - val_accuracy: 0.9286\n",
      "Epoch 44/100\n",
      "1146/1146 [==============================] - 5s 5ms/step - loss: 0.2706 - accuracy: 0.9228 - val_loss: 0.2591 - val_accuracy: 0.9292\n",
      "Epoch 45/100\n",
      "1146/1146 [==============================] - 5s 4ms/step - loss: 0.2695 - accuracy: 0.9230 - val_loss: 0.2585 - val_accuracy: 0.9292\n",
      "Epoch 46/100\n",
      "1146/1146 [==============================] - 5s 5ms/step - loss: 0.2682 - accuracy: 0.9232 - val_loss: 0.2572 - val_accuracy: 0.9298\n",
      "Epoch 47/100\n",
      "1146/1146 [==============================] - 5s 4ms/step - loss: 0.2670 - accuracy: 0.9236 - val_loss: 0.2563 - val_accuracy: 0.9294\n",
      "Epoch 48/100\n",
      "1146/1146 [==============================] - 5s 5ms/step - loss: 0.2656 - accuracy: 0.9240 - val_loss: 0.2562 - val_accuracy: 0.9314\n",
      "Epoch 49/100\n",
      "1146/1146 [==============================] - 5s 4ms/step - loss: 0.2645 - accuracy: 0.9244 - val_loss: 0.2552 - val_accuracy: 0.9300\n",
      "Epoch 50/100\n",
      "1146/1146 [==============================] - 5s 4ms/step - loss: 0.2633 - accuracy: 0.9248 - val_loss: 0.2547 - val_accuracy: 0.9302\n",
      "Epoch 51/100\n",
      "1146/1146 [==============================] - 5s 4ms/step - loss: 0.2620 - accuracy: 0.9254 - val_loss: 0.2535 - val_accuracy: 0.9308\n",
      "Epoch 52/100\n",
      "1146/1146 [==============================] - 5s 4ms/step - loss: 0.2610 - accuracy: 0.9253 - val_loss: 0.2522 - val_accuracy: 0.9302\n",
      "Epoch 53/100\n",
      "1146/1146 [==============================] - 5s 5ms/step - loss: 0.2600 - accuracy: 0.9254 - val_loss: 0.2516 - val_accuracy: 0.9298\n",
      "Epoch 54/100\n",
      "1146/1146 [==============================] - 5s 4ms/step - loss: 0.2587 - accuracy: 0.9262 - val_loss: 0.2521 - val_accuracy: 0.9306\n",
      "Epoch 55/100\n",
      "1146/1146 [==============================] - 5s 4ms/step - loss: 0.2578 - accuracy: 0.9264 - val_loss: 0.2501 - val_accuracy: 0.9314\n",
      "Epoch 56/100\n",
      "1146/1146 [==============================] - 5s 4ms/step - loss: 0.2568 - accuracy: 0.9272 - val_loss: 0.2491 - val_accuracy: 0.9310\n",
      "Epoch 57/100\n"
     ]
    },
    {
     "name": "stdout",
     "output_type": "stream",
     "text": [
      "1146/1146 [==============================] - 5s 5ms/step - loss: 0.2556 - accuracy: 0.9273 - val_loss: 0.2487 - val_accuracy: 0.9318\n",
      "Epoch 58/100\n",
      "1146/1146 [==============================] - 5s 4ms/step - loss: 0.2546 - accuracy: 0.9275 - val_loss: 0.2476 - val_accuracy: 0.9320\n",
      "Epoch 59/100\n",
      "1146/1146 [==============================] - 5s 5ms/step - loss: 0.2538 - accuracy: 0.9274 - val_loss: 0.2466 - val_accuracy: 0.9316\n",
      "Epoch 60/100\n",
      "1146/1146 [==============================] - 5s 4ms/step - loss: 0.2525 - accuracy: 0.9281 - val_loss: 0.2462 - val_accuracy: 0.9326\n",
      "Epoch 61/100\n",
      "1146/1146 [==============================] - 5s 5ms/step - loss: 0.2515 - accuracy: 0.9281 - val_loss: 0.2459 - val_accuracy: 0.9318\n",
      "Epoch 62/100\n",
      "1146/1146 [==============================] - 5s 4ms/step - loss: 0.2504 - accuracy: 0.9288 - val_loss: 0.2457 - val_accuracy: 0.9330\n",
      "Epoch 63/100\n",
      "1146/1146 [==============================] - 5s 4ms/step - loss: 0.2497 - accuracy: 0.9286 - val_loss: 0.2458 - val_accuracy: 0.9316\n",
      "Epoch 64/100\n",
      "1146/1146 [==============================] - 5s 5ms/step - loss: 0.2488 - accuracy: 0.9291 - val_loss: 0.2444 - val_accuracy: 0.9318\n",
      "Epoch 65/100\n",
      "1146/1146 [==============================] - 5s 4ms/step - loss: 0.2479 - accuracy: 0.9294 - val_loss: 0.2431 - val_accuracy: 0.9326\n",
      "Epoch 66/100\n",
      "1146/1146 [==============================] - 5s 5ms/step - loss: 0.2468 - accuracy: 0.9298 - val_loss: 0.2434 - val_accuracy: 0.9338\n",
      "Epoch 67/100\n",
      "1146/1146 [==============================] - 5s 4ms/step - loss: 0.2460 - accuracy: 0.9302 - val_loss: 0.2430 - val_accuracy: 0.9332\n",
      "Epoch 68/100\n",
      "1146/1146 [==============================] - 5s 5ms/step - loss: 0.2452 - accuracy: 0.9298 - val_loss: 0.2415 - val_accuracy: 0.9336\n",
      "Epoch 69/100\n",
      "1146/1146 [==============================] - 5s 4ms/step - loss: 0.2443 - accuracy: 0.9301 - val_loss: 0.2419 - val_accuracy: 0.9342\n",
      "Epoch 70/100\n",
      "1146/1146 [==============================] - 5s 5ms/step - loss: 0.2434 - accuracy: 0.9303 - val_loss: 0.2422 - val_accuracy: 0.9328\n",
      "Epoch 71/100\n",
      "1146/1146 [==============================] - 5s 4ms/step - loss: 0.2425 - accuracy: 0.9307 - val_loss: 0.2404 - val_accuracy: 0.9340\n",
      "Epoch 72/100\n",
      "1146/1146 [==============================] - 5s 5ms/step - loss: 0.2418 - accuracy: 0.9307 - val_loss: 0.2401 - val_accuracy: 0.9344\n",
      "Epoch 73/100\n",
      "1146/1146 [==============================] - 5s 4ms/step - loss: 0.2409 - accuracy: 0.9311 - val_loss: 0.2392 - val_accuracy: 0.9340\n",
      "Epoch 74/100\n",
      "1146/1146 [==============================] - 5s 5ms/step - loss: 0.2402 - accuracy: 0.9313 - val_loss: 0.2394 - val_accuracy: 0.9332\n",
      "Epoch 75/100\n",
      "1146/1146 [==============================] - 5s 4ms/step - loss: 0.2394 - accuracy: 0.9313 - val_loss: 0.2381 - val_accuracy: 0.9350\n",
      "Epoch 76/100\n",
      "1146/1146 [==============================] - 5s 4ms/step - loss: 0.2386 - accuracy: 0.9320 - val_loss: 0.2384 - val_accuracy: 0.9340\n",
      "Epoch 77/100\n",
      "1146/1146 [==============================] - 5s 5ms/step - loss: 0.2378 - accuracy: 0.9321 - val_loss: 0.2378 - val_accuracy: 0.9350\n",
      "Epoch 78/100\n",
      "1146/1146 [==============================] - 5s 4ms/step - loss: 0.2370 - accuracy: 0.9321 - val_loss: 0.2379 - val_accuracy: 0.9346\n",
      "Epoch 79/100\n",
      "1146/1146 [==============================] - 5s 5ms/step - loss: 0.2363 - accuracy: 0.9328 - val_loss: 0.2376 - val_accuracy: 0.9346\n",
      "Epoch 80/100\n",
      "1146/1146 [==============================] - 5s 4ms/step - loss: 0.2356 - accuracy: 0.9326 - val_loss: 0.2361 - val_accuracy: 0.9364\n",
      "Epoch 81/100\n",
      "1146/1146 [==============================] - 5s 5ms/step - loss: 0.2349 - accuracy: 0.9326 - val_loss: 0.2360 - val_accuracy: 0.9358\n",
      "Epoch 82/100\n",
      "1146/1146 [==============================] - 5s 4ms/step - loss: 0.2342 - accuracy: 0.9332 - val_loss: 0.2359 - val_accuracy: 0.9352\n",
      "Epoch 83/100\n",
      "1146/1146 [==============================] - 5s 5ms/step - loss: 0.2335 - accuracy: 0.9335 - val_loss: 0.2354 - val_accuracy: 0.9362\n",
      "Epoch 84/100\n",
      "1146/1146 [==============================] - 5s 4ms/step - loss: 0.2328 - accuracy: 0.9336 - val_loss: 0.2354 - val_accuracy: 0.9348\n",
      "Epoch 85/100\n",
      "1146/1146 [==============================] - 5s 5ms/step - loss: 0.2321 - accuracy: 0.9333 - val_loss: 0.2344 - val_accuracy: 0.9356\n",
      "Epoch 86/100\n",
      "1146/1146 [==============================] - 5s 4ms/step - loss: 0.2314 - accuracy: 0.9337 - val_loss: 0.2350 - val_accuracy: 0.9352\n",
      "Epoch 87/100\n",
      "1146/1146 [==============================] - 5s 5ms/step - loss: 0.2309 - accuracy: 0.9334 - val_loss: 0.2339 - val_accuracy: 0.9356\n",
      "Epoch 88/100\n",
      "1146/1146 [==============================] - 5s 4ms/step - loss: 0.2301 - accuracy: 0.9342 - val_loss: 0.2338 - val_accuracy: 0.9360\n",
      "Epoch 89/100\n",
      "1146/1146 [==============================] - 5s 4ms/step - loss: 0.2295 - accuracy: 0.9346 - val_loss: 0.2338 - val_accuracy: 0.9342\n",
      "Epoch 90/100\n",
      "1146/1146 [==============================] - 5s 4ms/step - loss: 0.2288 - accuracy: 0.9345 - val_loss: 0.2334 - val_accuracy: 0.9348\n",
      "Epoch 91/100\n",
      "1146/1146 [==============================] - 5s 4ms/step - loss: 0.2283 - accuracy: 0.9349 - val_loss: 0.2329 - val_accuracy: 0.9358\n",
      "Epoch 92/100\n",
      "1146/1146 [==============================] - 5s 5ms/step - loss: 0.2277 - accuracy: 0.9346 - val_loss: 0.2332 - val_accuracy: 0.9350\n",
      "Epoch 93/100\n",
      "1146/1146 [==============================] - 5s 4ms/step - loss: 0.2272 - accuracy: 0.9349 - val_loss: 0.2328 - val_accuracy: 0.9354\n",
      "Epoch 94/100\n",
      "1146/1146 [==============================] - 5s 5ms/step - loss: 0.2267 - accuracy: 0.9350 - val_loss: 0.2314 - val_accuracy: 0.9356\n",
      "Epoch 95/100\n",
      "1146/1146 [==============================] - 5s 4ms/step - loss: 0.2260 - accuracy: 0.9356 - val_loss: 0.2311 - val_accuracy: 0.9354\n",
      "Epoch 96/100\n",
      "1146/1146 [==============================] - 5s 5ms/step - loss: 0.2253 - accuracy: 0.9356 - val_loss: 0.2309 - val_accuracy: 0.9350\n",
      "Epoch 97/100\n",
      "1146/1146 [==============================] - 5s 4ms/step - loss: 0.2248 - accuracy: 0.9355 - val_loss: 0.2307 - val_accuracy: 0.9368\n",
      "Epoch 98/100\n",
      "1146/1146 [==============================] - 5s 5ms/step - loss: 0.2243 - accuracy: 0.9358 - val_loss: 0.2300 - val_accuracy: 0.9354\n",
      "Epoch 99/100\n",
      "1146/1146 [==============================] - 5s 4ms/step - loss: 0.2236 - accuracy: 0.9362 - val_loss: 0.2302 - val_accuracy: 0.9380\n",
      "Epoch 100/100\n",
      "1146/1146 [==============================] - 5s 5ms/step - loss: 0.2230 - accuracy: 0.9364 - val_loss: 0.2301 - val_accuracy: 0.9348\n",
      " 27/573 [>.............................] - ETA: 2s - loss: 0.2977 - accuracy: 0.9062"
     ]
    },
    {
     "name": "stderr",
     "output_type": "stream",
     "text": [
      "2022-11-15 23:17:30.857324: I tensorflow/core/grappler/optimizers/custom_graph_optimizer_registry.cc:114] Plugin optimizer for device_type GPU is enabled.\n"
     ]
    },
    {
     "name": "stdout",
     "output_type": "stream",
     "text": [
      "573/573 [==============================] - 2s 4ms/step - loss: 0.2441 - accuracy: 0.9312\n",
      "[CV] END ...........................n_hidden=1, n_neurons=10; total time= 8.6min\n",
      "Epoch 1/100\n",
      "  23/1719 [..............................] - ETA: 7s - loss: 2.3947 - accuracy: 0.1236"
     ]
    },
    {
     "name": "stderr",
     "output_type": "stream",
     "text": [
      "2022-11-15 23:17:33.337684: I tensorflow/core/grappler/optimizers/custom_graph_optimizer_registry.cc:114] Plugin optimizer for device_type GPU is enabled.\n"
     ]
    },
    {
     "name": "stdout",
     "output_type": "stream",
     "text": [
      "1714/1719 [============================>.] - ETA: 0s - loss: 1.6147 - accuracy: 0.5121"
     ]
    },
    {
     "name": "stderr",
     "output_type": "stream",
     "text": [
      "2022-11-15 23:17:40.431462: I tensorflow/core/grappler/optimizers/custom_graph_optimizer_registry.cc:114] Plugin optimizer for device_type GPU is enabled.\n"
     ]
    },
    {
     "name": "stdout",
     "output_type": "stream",
     "text": [
      "1719/1719 [==============================] - 8s 4ms/step - loss: 1.6129 - accuracy: 0.5129 - val_loss: 1.0416 - val_accuracy: 0.7604\n",
      "Epoch 2/100\n",
      "1719/1719 [==============================] - 7s 4ms/step - loss: 0.8009 - accuracy: 0.7983 - val_loss: 0.6408 - val_accuracy: 0.8332\n",
      "Epoch 3/100\n",
      "1719/1719 [==============================] - 8s 4ms/step - loss: 0.5750 - accuracy: 0.8441 - val_loss: 0.5124 - val_accuracy: 0.8630\n",
      "Epoch 4/100\n",
      "1719/1719 [==============================] - 7s 4ms/step - loss: 0.4885 - accuracy: 0.8645 - val_loss: 0.4525 - val_accuracy: 0.8788\n",
      "Epoch 5/100\n",
      "1719/1719 [==============================] - 8s 4ms/step - loss: 0.4441 - accuracy: 0.8761 - val_loss: 0.4179 - val_accuracy: 0.8846\n",
      "Epoch 6/100\n",
      "1719/1719 [==============================] - 7s 4ms/step - loss: 0.4164 - accuracy: 0.8833 - val_loss: 0.3955 - val_accuracy: 0.8908\n",
      "Epoch 7/100\n",
      "1719/1719 [==============================] - 7s 4ms/step - loss: 0.3971 - accuracy: 0.8879 - val_loss: 0.3780 - val_accuracy: 0.8950\n",
      "Epoch 8/100\n",
      "1719/1719 [==============================] - 7s 4ms/step - loss: 0.3826 - accuracy: 0.8923 - val_loss: 0.3646 - val_accuracy: 0.8978\n",
      "Epoch 9/100\n",
      "1719/1719 [==============================] - 7s 4ms/step - loss: 0.3709 - accuracy: 0.8955 - val_loss: 0.3562 - val_accuracy: 0.9014\n",
      "Epoch 10/100\n",
      "1719/1719 [==============================] - 8s 4ms/step - loss: 0.3618 - accuracy: 0.8983 - val_loss: 0.3467 - val_accuracy: 0.9058\n",
      "Epoch 11/100\n",
      "1719/1719 [==============================] - 7s 4ms/step - loss: 0.3538 - accuracy: 0.9006 - val_loss: 0.3384 - val_accuracy: 0.9060\n",
      "Epoch 12/100\n",
      "1719/1719 [==============================] - 8s 4ms/step - loss: 0.3469 - accuracy: 0.9022 - val_loss: 0.3321 - val_accuracy: 0.9080\n",
      "Epoch 13/100\n",
      "1719/1719 [==============================] - 7s 4ms/step - loss: 0.3409 - accuracy: 0.9041 - val_loss: 0.3267 - val_accuracy: 0.9104\n",
      "Epoch 14/100\n",
      "1719/1719 [==============================] - 7s 4ms/step - loss: 0.3356 - accuracy: 0.9052 - val_loss: 0.3221 - val_accuracy: 0.9110\n",
      "Epoch 15/100\n",
      "1719/1719 [==============================] - 7s 4ms/step - loss: 0.3307 - accuracy: 0.9069 - val_loss: 0.3172 - val_accuracy: 0.9122\n",
      "Epoch 16/100\n",
      "1719/1719 [==============================] - 7s 4ms/step - loss: 0.3261 - accuracy: 0.9079 - val_loss: 0.3131 - val_accuracy: 0.9140\n",
      "Epoch 17/100\n",
      "1719/1719 [==============================] - 8s 4ms/step - loss: 0.3223 - accuracy: 0.9098 - val_loss: 0.3085 - val_accuracy: 0.9152\n",
      "Epoch 18/100\n",
      "1719/1719 [==============================] - 7s 4ms/step - loss: 0.3185 - accuracy: 0.9105 - val_loss: 0.3054 - val_accuracy: 0.9136\n",
      "Epoch 19/100\n",
      "1719/1719 [==============================] - 8s 4ms/step - loss: 0.3149 - accuracy: 0.9113 - val_loss: 0.3023 - val_accuracy: 0.9186\n",
      "Epoch 20/100\n",
      "1719/1719 [==============================] - 7s 4ms/step - loss: 0.3114 - accuracy: 0.9125 - val_loss: 0.2998 - val_accuracy: 0.9180\n",
      "Epoch 21/100\n",
      "1719/1719 [==============================] - 7s 4ms/step - loss: 0.3084 - accuracy: 0.9135 - val_loss: 0.2960 - val_accuracy: 0.9188\n",
      "Epoch 22/100\n",
      "1719/1719 [==============================] - 7s 4ms/step - loss: 0.3056 - accuracy: 0.9135 - val_loss: 0.2935 - val_accuracy: 0.9198\n",
      "Epoch 23/100\n",
      "1719/1719 [==============================] - 7s 4ms/step - loss: 0.3028 - accuracy: 0.9149 - val_loss: 0.2907 - val_accuracy: 0.9216\n",
      "Epoch 24/100\n",
      "1719/1719 [==============================] - 8s 4ms/step - loss: 0.2999 - accuracy: 0.9158 - val_loss: 0.2885 - val_accuracy: 0.9222\n",
      "Epoch 25/100\n",
      "1719/1719 [==============================] - 7s 4ms/step - loss: 0.2977 - accuracy: 0.9166 - val_loss: 0.2858 - val_accuracy: 0.9220\n",
      "Epoch 26/100\n",
      "1719/1719 [==============================] - 8s 4ms/step - loss: 0.2953 - accuracy: 0.9167 - val_loss: 0.2850 - val_accuracy: 0.9228\n",
      "Epoch 27/100\n",
      "1719/1719 [==============================] - 7s 4ms/step - loss: 0.2931 - accuracy: 0.9182 - val_loss: 0.2816 - val_accuracy: 0.9234\n",
      "Epoch 28/100\n",
      "1719/1719 [==============================] - 7s 4ms/step - loss: 0.2909 - accuracy: 0.9189 - val_loss: 0.2802 - val_accuracy: 0.9230\n",
      "Epoch 29/100\n",
      "1719/1719 [==============================] - 8s 4ms/step - loss: 0.2889 - accuracy: 0.9191 - val_loss: 0.2777 - val_accuracy: 0.9238\n",
      "Epoch 30/100\n",
      "1719/1719 [==============================] - 7s 4ms/step - loss: 0.2871 - accuracy: 0.9194 - val_loss: 0.2770 - val_accuracy: 0.9232\n",
      "Epoch 31/100\n",
      "1719/1719 [==============================] - 8s 4ms/step - loss: 0.2852 - accuracy: 0.9204 - val_loss: 0.2749 - val_accuracy: 0.9240\n",
      "Epoch 32/100\n",
      "1719/1719 [==============================] - 7s 4ms/step - loss: 0.2833 - accuracy: 0.9213 - val_loss: 0.2735 - val_accuracy: 0.9238\n",
      "Epoch 33/100\n",
      "1719/1719 [==============================] - 8s 4ms/step - loss: 0.2817 - accuracy: 0.9217 - val_loss: 0.2722 - val_accuracy: 0.9260\n",
      "Epoch 34/100\n",
      "1719/1719 [==============================] - 7s 4ms/step - loss: 0.2801 - accuracy: 0.9222 - val_loss: 0.2702 - val_accuracy: 0.9256\n",
      "Epoch 35/100\n",
      "1719/1719 [==============================] - 7s 4ms/step - loss: 0.2783 - accuracy: 0.9223 - val_loss: 0.2688 - val_accuracy: 0.9256\n",
      "Epoch 36/100\n",
      "1719/1719 [==============================] - 8s 4ms/step - loss: 0.2772 - accuracy: 0.9227 - val_loss: 0.2673 - val_accuracy: 0.9260\n",
      "Epoch 37/100\n",
      "1719/1719 [==============================] - 7s 4ms/step - loss: 0.2757 - accuracy: 0.9236 - val_loss: 0.2659 - val_accuracy: 0.9252\n",
      "Epoch 38/100\n",
      "1719/1719 [==============================] - 8s 4ms/step - loss: 0.2743 - accuracy: 0.9233 - val_loss: 0.2644 - val_accuracy: 0.9262\n",
      "Epoch 39/100\n",
      "1719/1719 [==============================] - 7s 4ms/step - loss: 0.2731 - accuracy: 0.9238 - val_loss: 0.2635 - val_accuracy: 0.9256\n",
      "Epoch 40/100\n",
      "1719/1719 [==============================] - 8s 4ms/step - loss: 0.2719 - accuracy: 0.9243 - val_loss: 0.2622 - val_accuracy: 0.9250\n",
      "Epoch 41/100\n",
      "1719/1719 [==============================] - 7s 4ms/step - loss: 0.2706 - accuracy: 0.9245 - val_loss: 0.2622 - val_accuracy: 0.9252\n",
      "Epoch 42/100\n",
      "1719/1719 [==============================] - 7s 4ms/step - loss: 0.2696 - accuracy: 0.9252 - val_loss: 0.2603 - val_accuracy: 0.9256\n",
      "Epoch 43/100\n",
      "1719/1719 [==============================] - 8s 4ms/step - loss: 0.2682 - accuracy: 0.9251 - val_loss: 0.2600 - val_accuracy: 0.9260\n",
      "Epoch 44/100\n",
      "1719/1719 [==============================] - 7s 4ms/step - loss: 0.2673 - accuracy: 0.9258 - val_loss: 0.2589 - val_accuracy: 0.9258\n",
      "Epoch 45/100\n",
      "1719/1719 [==============================] - 8s 4ms/step - loss: 0.2661 - accuracy: 0.9258 - val_loss: 0.2578 - val_accuracy: 0.9258\n",
      "Epoch 46/100\n",
      "1719/1719 [==============================] - 7s 4ms/step - loss: 0.2652 - accuracy: 0.9257 - val_loss: 0.2566 - val_accuracy: 0.9258\n",
      "Epoch 47/100\n",
      "1719/1719 [==============================] - 7s 4ms/step - loss: 0.2642 - accuracy: 0.9265 - val_loss: 0.2568 - val_accuracy: 0.9272\n",
      "Epoch 48/100\n",
      "1719/1719 [==============================] - 7s 4ms/step - loss: 0.2633 - accuracy: 0.9269 - val_loss: 0.2551 - val_accuracy: 0.9254\n",
      "Epoch 49/100\n",
      "1719/1719 [==============================] - 7s 4ms/step - loss: 0.2622 - accuracy: 0.9268 - val_loss: 0.2553 - val_accuracy: 0.9270\n",
      "Epoch 50/100\n",
      "1719/1719 [==============================] - 8s 4ms/step - loss: 0.2613 - accuracy: 0.9272 - val_loss: 0.2539 - val_accuracy: 0.9264\n",
      "Epoch 51/100\n",
      "1719/1719 [==============================] - 7s 4ms/step - loss: 0.2604 - accuracy: 0.9273 - val_loss: 0.2529 - val_accuracy: 0.9272\n",
      "Epoch 52/100\n",
      "1719/1719 [==============================] - 8s 4ms/step - loss: 0.2595 - accuracy: 0.9278 - val_loss: 0.2526 - val_accuracy: 0.9280\n",
      "Epoch 53/100\n",
      "1719/1719 [==============================] - 7s 4ms/step - loss: 0.2587 - accuracy: 0.9280 - val_loss: 0.2523 - val_accuracy: 0.9282\n",
      "Epoch 54/100\n",
      "1719/1719 [==============================] - 8s 4ms/step - loss: 0.2578 - accuracy: 0.9279 - val_loss: 0.2524 - val_accuracy: 0.9280\n",
      "Epoch 55/100\n",
      "1719/1719 [==============================] - 7s 4ms/step - loss: 0.2571 - accuracy: 0.9285 - val_loss: 0.2502 - val_accuracy: 0.9280\n",
      "Epoch 56/100\n",
      "1719/1719 [==============================] - 7s 4ms/step - loss: 0.2562 - accuracy: 0.9289 - val_loss: 0.2500 - val_accuracy: 0.9296\n",
      "Epoch 57/100\n"
     ]
    },
    {
     "name": "stdout",
     "output_type": "stream",
     "text": [
      "1719/1719 [==============================] - 7s 4ms/step - loss: 0.2557 - accuracy: 0.9287 - val_loss: 0.2502 - val_accuracy: 0.9270\n",
      "Epoch 58/100\n",
      "1719/1719 [==============================] - 7s 4ms/step - loss: 0.2549 - accuracy: 0.9293 - val_loss: 0.2500 - val_accuracy: 0.9276\n",
      "Epoch 59/100\n",
      "1719/1719 [==============================] - 7s 4ms/step - loss: 0.2542 - accuracy: 0.9292 - val_loss: 0.2487 - val_accuracy: 0.9276\n",
      "Epoch 60/100\n",
      "1719/1719 [==============================] - 7s 4ms/step - loss: 0.2533 - accuracy: 0.9299 - val_loss: 0.2485 - val_accuracy: 0.9292\n",
      "Epoch 61/100\n",
      "1719/1719 [==============================] - 8s 4ms/step - loss: 0.2526 - accuracy: 0.9298 - val_loss: 0.2477 - val_accuracy: 0.9304\n",
      "Epoch 62/100\n",
      "1719/1719 [==============================] - 7s 4ms/step - loss: 0.2519 - accuracy: 0.9305 - val_loss: 0.2471 - val_accuracy: 0.9292\n",
      "Epoch 63/100\n",
      "1719/1719 [==============================] - 8s 4ms/step - loss: 0.2512 - accuracy: 0.9304 - val_loss: 0.2462 - val_accuracy: 0.9302\n",
      "Epoch 64/100\n",
      "1719/1719 [==============================] - 7s 4ms/step - loss: 0.2505 - accuracy: 0.9308 - val_loss: 0.2465 - val_accuracy: 0.9304\n",
      "Epoch 65/100\n",
      "1719/1719 [==============================] - 7s 4ms/step - loss: 0.2500 - accuracy: 0.9307 - val_loss: 0.2455 - val_accuracy: 0.9306\n",
      "Epoch 66/100\n",
      "1719/1719 [==============================] - 7s 4ms/step - loss: 0.2493 - accuracy: 0.9308 - val_loss: 0.2444 - val_accuracy: 0.9302\n",
      "Epoch 67/100\n",
      "1719/1719 [==============================] - 7s 4ms/step - loss: 0.2485 - accuracy: 0.9313 - val_loss: 0.2452 - val_accuracy: 0.9300\n",
      "Epoch 68/100\n",
      "1719/1719 [==============================] - 8s 4ms/step - loss: 0.2480 - accuracy: 0.9312 - val_loss: 0.2441 - val_accuracy: 0.9324\n",
      "Epoch 69/100\n",
      "1719/1719 [==============================] - 7s 4ms/step - loss: 0.2475 - accuracy: 0.9312 - val_loss: 0.2439 - val_accuracy: 0.9318\n",
      "Epoch 70/100\n",
      "1719/1719 [==============================] - 7s 4ms/step - loss: 0.2468 - accuracy: 0.9314 - val_loss: 0.2440 - val_accuracy: 0.9312\n",
      "Epoch 71/100\n",
      "1719/1719 [==============================] - 7s 4ms/step - loss: 0.2462 - accuracy: 0.9317 - val_loss: 0.2426 - val_accuracy: 0.9316\n",
      "Epoch 72/100\n",
      "1719/1719 [==============================] - 7s 4ms/step - loss: 0.2455 - accuracy: 0.9321 - val_loss: 0.2428 - val_accuracy: 0.9312\n",
      "Epoch 73/100\n",
      "1719/1719 [==============================] - 7s 4ms/step - loss: 0.2452 - accuracy: 0.9322 - val_loss: 0.2420 - val_accuracy: 0.9320\n",
      "Epoch 74/100\n",
      "1719/1719 [==============================] - 7s 4ms/step - loss: 0.2445 - accuracy: 0.9323 - val_loss: 0.2419 - val_accuracy: 0.9326\n",
      "Epoch 75/100\n",
      "1719/1719 [==============================] - 8s 4ms/step - loss: 0.2439 - accuracy: 0.9327 - val_loss: 0.2411 - val_accuracy: 0.9326\n",
      "Epoch 76/100\n",
      "1719/1719 [==============================] - 7s 4ms/step - loss: 0.2434 - accuracy: 0.9326 - val_loss: 0.2407 - val_accuracy: 0.9318\n",
      "Epoch 77/100\n",
      "1719/1719 [==============================] - 8s 4ms/step - loss: 0.2428 - accuracy: 0.9326 - val_loss: 0.2407 - val_accuracy: 0.9336\n",
      "Epoch 78/100\n",
      "1719/1719 [==============================] - 7s 4ms/step - loss: 0.2423 - accuracy: 0.9328 - val_loss: 0.2399 - val_accuracy: 0.9332\n",
      "Epoch 79/100\n",
      "1719/1719 [==============================] - 7s 4ms/step - loss: 0.2416 - accuracy: 0.9329 - val_loss: 0.2395 - val_accuracy: 0.9328\n",
      "Epoch 80/100\n",
      "1719/1719 [==============================] - 7s 4ms/step - loss: 0.2413 - accuracy: 0.9331 - val_loss: 0.2403 - val_accuracy: 0.9314\n",
      "Epoch 81/100\n",
      "1719/1719 [==============================] - 7s 4ms/step - loss: 0.2406 - accuracy: 0.9337 - val_loss: 0.2392 - val_accuracy: 0.9318\n",
      "Epoch 82/100\n",
      "1719/1719 [==============================] - 8s 4ms/step - loss: 0.2402 - accuracy: 0.9335 - val_loss: 0.2388 - val_accuracy: 0.9336\n",
      "Epoch 83/100\n",
      "1719/1719 [==============================] - 7s 4ms/step - loss: 0.2398 - accuracy: 0.9339 - val_loss: 0.2382 - val_accuracy: 0.9328\n",
      "Epoch 84/100\n",
      "1719/1719 [==============================] - 7s 4ms/step - loss: 0.2392 - accuracy: 0.9339 - val_loss: 0.2379 - val_accuracy: 0.9336\n",
      "Epoch 85/100\n",
      "1719/1719 [==============================] - 7s 4ms/step - loss: 0.2385 - accuracy: 0.9340 - val_loss: 0.2389 - val_accuracy: 0.9312\n",
      "Epoch 86/100\n",
      "1719/1719 [==============================] - 7s 4ms/step - loss: 0.2384 - accuracy: 0.9345 - val_loss: 0.2376 - val_accuracy: 0.9332\n",
      "Epoch 87/100\n",
      "1719/1719 [==============================] - 7s 4ms/step - loss: 0.2377 - accuracy: 0.9346 - val_loss: 0.2374 - val_accuracy: 0.9324\n",
      "Epoch 88/100\n",
      "1719/1719 [==============================] - 7s 4ms/step - loss: 0.2370 - accuracy: 0.9349 - val_loss: 0.2374 - val_accuracy: 0.9328\n",
      "Epoch 89/100\n",
      "1719/1719 [==============================] - 8s 4ms/step - loss: 0.2366 - accuracy: 0.9347 - val_loss: 0.2367 - val_accuracy: 0.9330\n",
      "Epoch 90/100\n",
      "1719/1719 [==============================] - 7s 4ms/step - loss: 0.2360 - accuracy: 0.9345 - val_loss: 0.2369 - val_accuracy: 0.9338\n",
      "Epoch 91/100\n",
      "1719/1719 [==============================] - 8s 4ms/step - loss: 0.2357 - accuracy: 0.9348 - val_loss: 0.2373 - val_accuracy: 0.9338\n",
      "Epoch 92/100\n",
      "1719/1719 [==============================] - 7s 4ms/step - loss: 0.2350 - accuracy: 0.9353 - val_loss: 0.2381 - val_accuracy: 0.9340\n",
      "Epoch 93/100\n",
      "1719/1719 [==============================] - 8s 4ms/step - loss: 0.2347 - accuracy: 0.9352 - val_loss: 0.2366 - val_accuracy: 0.9348\n",
      "Epoch 94/100\n",
      "1719/1719 [==============================] - 8s 4ms/step - loss: 0.2341 - accuracy: 0.9355 - val_loss: 0.2368 - val_accuracy: 0.9336\n",
      "Epoch 95/100\n",
      "1719/1719 [==============================] - 9s 5ms/step - loss: 0.2335 - accuracy: 0.9358 - val_loss: 0.2358 - val_accuracy: 0.9336\n",
      "Epoch 96/100\n",
      "1719/1719 [==============================] - 8s 5ms/step - loss: 0.2331 - accuracy: 0.9352 - val_loss: 0.2352 - val_accuracy: 0.9344\n",
      "Epoch 97/100\n",
      "1719/1719 [==============================] - 7s 4ms/step - loss: 0.2326 - accuracy: 0.9355 - val_loss: 0.2351 - val_accuracy: 0.9346\n",
      "Epoch 98/100\n",
      "1719/1719 [==============================] - 7s 4ms/step - loss: 0.2320 - accuracy: 0.9365 - val_loss: 0.2360 - val_accuracy: 0.9326\n",
      "Epoch 99/100\n",
      "1719/1719 [==============================] - 7s 4ms/step - loss: 0.2316 - accuracy: 0.9357 - val_loss: 0.2348 - val_accuracy: 0.9350\n",
      "Epoch 100/100\n",
      "1719/1719 [==============================] - 7s 4ms/step - loss: 0.2311 - accuracy: 0.9362 - val_loss: 0.2344 - val_accuracy: 0.9328\n"
     ]
    },
    {
     "data": {
      "text/plain": [
       "RandomizedSearchCV(cv=3,\n",
       "                   estimator=<keras.wrappers.scikit_learn.KerasClassifier object at 0x29d34bfa0>,\n",
       "                   param_distributions={'n_hidden': (0, 1),\n",
       "                                        'n_neurons': (5, 10)},\n",
       "                   verbose=2)"
      ]
     },
     "execution_count": 66,
     "metadata": {},
     "output_type": "execute_result"
    }
   ],
   "source": [
    "####Don't run this during class!  It will take too long!####\n",
    "rnd_search_cv.fit(X_train, y_train, epochs=100, \\\n",
    "                  validation_data=(X_valid,y_valid),\\\n",
    "                  callbacks=[keras.callbacks.EarlyStopping(patience=10)])"
   ]
  },
  {
   "cell_type": "code",
   "execution_count": 67,
   "metadata": {
    "slideshow": {
     "slide_type": "slide"
    }
   },
   "outputs": [
    {
     "name": "stdout",
     "output_type": "stream",
     "text": [
      "{'n_neurons': 10, 'n_hidden': 1}\n",
      "{'mean_fit_time': array([547.57224758, 770.02661212, 513.27455966, 514.49816537]), 'std_fit_time': array([  4.90471475, 314.21246396,   5.4850142 ,   1.19513836]), 'mean_score_time': array([2.43421292, 2.52190932, 2.30200434, 2.49883596]), 'std_score_time': array([0.11930972, 0.0162952 , 0.01264741, 0.25625567]), 'param_n_neurons': masked_array(data=[5, 10, 5, 10],\n",
      "             mask=[False, False, False, False],\n",
      "       fill_value='?',\n",
      "            dtype=object), 'param_n_hidden': masked_array(data=[0, 0, 1, 1],\n",
      "             mask=[False, False, False, False],\n",
      "       fill_value='?',\n",
      "            dtype=object), 'params': [{'n_neurons': 5, 'n_hidden': 0}, {'n_neurons': 10, 'n_hidden': 0}, {'n_neurons': 5, 'n_hidden': 1}, {'n_neurons': 10, 'n_hidden': 1}], 'split0_test_score': array([0.91229409, 0.91191226, 0.89254934, 0.92413002]), 'split1_test_score': array([0.90858018, 0.90781653, 0.88823432, 0.9244532 ]), 'split2_test_score': array([0.91501665, 0.91561663, 0.8844161 , 0.93121696]), 'mean_test_score': array([0.91196364, 0.91178181, 0.88839992, 0.92660006]), 'std_test_score': array([0.00263805, 0.00318571, 0.00332244, 0.0032673 ]), 'rank_test_score': array([2, 3, 4, 1], dtype=int32)}\n"
     ]
    }
   ],
   "source": [
    "print(rnd_search_cv.best_params_)\n",
    "print(rnd_search_cv.cv_results_)"
   ]
  },
  {
   "cell_type": "code",
   "execution_count": 68,
   "metadata": {
    "scrolled": true,
    "slideshow": {
     "slide_type": "slide"
    }
   },
   "outputs": [
    {
     "data": {
      "text/plain": [
       "['LeakyReLU', 'PReLU', 'ReLU', 'ThresholdedReLU']"
      ]
     },
     "execution_count": 68,
     "metadata": {},
     "output_type": "execute_result"
    }
   ],
   "source": [
    "[m for m in dir(keras.layers) if \"relu\" in m.lower()]"
   ]
  },
  {
   "cell_type": "markdown",
   "metadata": {
    "slideshow": {
     "slide_type": "-"
    }
   },
   "source": [
    "---"
   ]
  },
  {
   "cell_type": "markdown",
   "metadata": {
    "slideshow": {
     "slide_type": "slide"
    }
   },
   "source": [
    "### Advanced Topics in Neural Networks with Deep Learning"
   ]
  },
  {
   "cell_type": "markdown",
   "metadata": {
    "slideshow": {
     "slide_type": "slide"
    }
   },
   "source": [
    "Recent interest in neural networks surged in 2012 when a team using a deep [convolutional neural network (CNN)](https://en.wikipedia.org/wiki/Convolutional_neural_network) acheived record results classifying objects in the [ImageNet](http://image-net.org/) data set.\n",
    "\n",
    "The idea behind CNNs is inspired by human visual perception.  Each neuron in your visual cortex doesn't \"see\" all of what your eye can see at once and some neuron are more sensitive to one pattern over another (e.g., horizontal lines vs. vertical lines).  \n",
    "\n",
    "Moreover, the simplest deeply connected neural networks would choke on \"real\" data which has far more than 28x28 pixels and would require following tens of millions of connections.  So we use a combination of \"convolution\" and \"pooling\" to reduce the dimensionality of the data first.\n",
    "\n",
    "![Ivezic Figure 9.19](https://www.astroml.org/_images/fig_cnn_1.png)"
   ]
  },
  {
   "cell_type": "markdown",
   "metadata": {
    "slideshow": {
     "slide_type": "slide"
    }
   },
   "source": [
    "### Convolutional Layers\n",
    "\n",
    "In a convolutional layer, each neuron is not connected to each neuron in the previous layer, but only those that are within its \"field of view\" as defined by a kernel (filter).  We slide the kernel over the input layer and the value in the next layer depends only on those pixels.\n",
    "\n",
    "![Convolutional Layer](https://miro.medium.com/max/1400/1*wLlXFtWI--7knyQT2wlhMg.png)"
   ]
  },
  {
   "cell_type": "markdown",
   "metadata": {
    "slideshow": {
     "slide_type": "slide"
    }
   },
   "source": [
    "Here's another perspective that helps to visualize going from one layer to the next.\n",
    "\n",
    "![Convolution example](https://developer.apple.com/library/content/documentation/Performance/Conceptual/vImage/Art/kernel_convolution.jpg)"
   ]
  },
  {
   "cell_type": "markdown",
   "metadata": {
    "slideshow": {
     "slide_type": "slide"
    }
   },
   "source": [
    "[Geron14-3.png](attachment:Geron14-3.png)\n",
    "\n",
    "[Geron14-4.png](attachment:Geron14-4.png)"
   ]
  },
  {
   "cell_type": "markdown",
   "metadata": {
    "slideshow": {
     "slide_type": "slide"
    }
   },
   "source": [
    "Choosing a filter (kernel) with a certain pattern can help recognize certain types of features (like horizontal aor vertical lines).\n",
    "\n",
    "![vertical filter](https://miro.medium.com/max/1338/1*7IEbBib7Yc7qST5IGQoYXA.jpeg)\n",
    "\n",
    "![horizontal filter](https://miro.medium.com/max/1238/1*PSSAaH2pZbl5bK3Ef_zk4A.jpeg)"
   ]
  },
  {
   "cell_type": "markdown",
   "metadata": {
    "slideshow": {
     "slide_type": "slide"
    }
   },
   "source": [
    "[Geron14-5.png](attachment:Geron14-5.png)"
   ]
  },
  {
   "cell_type": "markdown",
   "metadata": {
    "slideshow": {
     "slide_type": "slide"
    }
   },
   "source": [
    "It is common to follow the convolutional layer by a so-called \"pooling layer\", essentially to reduce the amount of data that needs to be processed.  The full architecture of a CNN might look something like this:\n",
    "![CNN Example](https://www.researchgate.net/profile/Xian_Wei2/publication/331986652/figure/fig1/AS:740547106988032@1553571597647/The-classic-structure-of-CNN-It-consists-of-two-modules-Feature-extraction-module-and.ppm)"
   ]
  },
  {
   "cell_type": "markdown",
   "metadata": {
    "slideshow": {
     "slide_type": "slide"
    }
   },
   "source": [
    "Where the pooling layers are reducing the number of pixels by averaging, summing, taking the max, etc.:\n",
    "\n",
    "![Pooling example](https://miro.medium.com/max/1000/1*ydNsGDxMldAiq7b96GDQwg.jpeg)"
   ]
  },
  {
   "cell_type": "markdown",
   "metadata": {
    "slideshow": {
     "slide_type": "slide"
    }
   },
   "source": [
    "[Geron14-8.png](attachment:Geron14-8.png)\n",
    "\n",
    "[Geron14-9.png](attachment:Geron14-9.png)\n",
    "\n",
    "[Geron14-11.png](attachment:Geron14-11.png)"
   ]
  },
  {
   "cell_type": "markdown",
   "metadata": {
    "slideshow": {
     "slide_type": "slide"
    }
   },
   "source": [
    "When you are done, the output gets feed into a regular, fully connected neural network which outputs the predictions.\n",
    "\n",
    "This is clearly much more sophisticated than our basic perceptron. \"Deep\" networks consist of tens of layers with thousands of neurons. These large networks have become usable thanks to two breakthroughs: the use of sparse layers and the power of graphics processing units (GPUs).\n",
    "\n",
    "The sparse layers or convolutional layers in a deep network contain a large number of hidden nodes but very few synapses. The sparseness arises from the relatively small size of a typical convolution kernel (15x15 is a large kernel), so a hidden node representing one output of the convolution is connected to only a few input nodes. Compare this the our previous perceptron, in which every hidden node was connected to every input node.\n",
    "\n",
    "Even though the total number of connections is greatly reduced in the sparse layers, the total number of nodes and connections in a modern deep network is still enormous. Luckily, training these networks turns out to be a great task for GPU acceleration."
   ]
  },
  {
   "cell_type": "markdown",
   "metadata": {
    "slideshow": {
     "slide_type": "slide"
    }
   },
   "source": [
    "For further study, there are lots of resources for CNNs online.  For example, see\n",
    "https://medium.com/analytics-vidhya/convolutional-neural-networks-cnn-explained-step-by-step-69137a54e5e7\n",
    "    \n",
    "Now let's see a worked example of a CNN."
   ]
  },
  {
   "cell_type": "markdown",
   "metadata": {
    "slideshow": {
     "slide_type": "notes"
    }
   },
   "source": [
    "GTR: Output of convolution is a \"feature map\".  Number of weights needed (which are computed from backpropagation is just the kernel size times the number of layers.)"
   ]
  },
  {
   "cell_type": "code",
   "execution_count": null,
   "metadata": {},
   "outputs": [],
   "source": []
  },
  {
   "cell_type": "markdown",
   "metadata": {
    "slideshow": {
     "slide_type": "slide"
    }
   },
   "source": [
    "### CNN Example using Fashion MNIST\n",
    "\n",
    "See https://github.com/ageron/handson-ml2/blob/master/14_deep_computer_vision_with_cnns.ipynb"
   ]
  },
  {
   "cell_type": "code",
   "execution_count": null,
   "metadata": {
    "slideshow": {
     "slide_type": "slide"
    }
   },
   "outputs": [],
   "source": [
    "keras.backend.clear_session() #Make sure that we are starting a new model and not adding to an earlier one\n",
    "np.random.seed(42) #Set the numpy and tensorflow random seeds so that we all get the same answer\n",
    "tf.random.set_seed(42)"
   ]
  },
  {
   "cell_type": "code",
   "execution_count": null,
   "metadata": {
    "slideshow": {
     "slide_type": "slide"
    }
   },
   "outputs": [],
   "source": [
    "(X_train_full, y_train_full), (X_test, y_test) = keras.datasets.fashion_mnist.load_data()\n",
    "X_train, X_valid = X_train_full[:-5000], X_train_full[-5000:]\n",
    "y_train, y_valid = y_train_full[:-5000], y_train_full[-5000:]\n",
    "\n",
    "X_mean = X_train.mean(axis=0, keepdims=True)\n",
    "X_std = X_train.std(axis=0, keepdims=True) + 1e-7\n",
    "X_train = (X_train - X_mean) / X_std\n",
    "X_valid = (X_valid - X_mean) / X_std\n",
    "X_test = (X_test - X_mean) / X_std"
   ]
  },
  {
   "cell_type": "code",
   "execution_count": null,
   "metadata": {
    "slideshow": {
     "slide_type": "slide"
    }
   },
   "outputs": [],
   "source": [
    "#Need to reshape for CNN\n",
    "X_train = X_train[:, :, :, np.newaxis]\n",
    "X_valid = X_valid[:,  :, :, np.newaxis]\n",
    "X_test = X_test[:, :, :, np.newaxis]\n",
    "\n",
    "print(len(X_train))\n",
    "print(X_train.shape)\n",
    "print(X_valid.shape)\n",
    "print(X_test.shape)"
   ]
  },
  {
   "cell_type": "code",
   "execution_count": null,
   "metadata": {
    "slideshow": {
     "slide_type": "slide"
    }
   },
   "outputs": [],
   "source": [
    "model = keras.models.Sequential([\n",
    "    keras.layers.InputLayer(input_shape=[28, 28, 1]),\n",
    "    keras.layers.Conv2D(filters=64, kernel_size=7, activation='relu', padding='same'),\n",
    "    keras.layers.MaxPooling2D(pool_size=2),\n",
    "    keras.layers.Conv2D(128, 3, activation='relu', padding='same'),\n",
    "    keras.layers.Conv2D(128, 3, activation='relu', padding='same'),  \n",
    "    keras.layers.MaxPooling2D(pool_size=2),\n",
    "    keras.layers.Conv2D(256, 3, activation='relu', padding='same'),\n",
    "    keras.layers.Conv2D(256, 3, activation='relu', padding='same'),\n",
    "    keras.layers.MaxPooling2D(pool_size=2),\n",
    "    keras.layers.Flatten(),\n",
    "    keras.layers.Dense(units=128, activation='relu'),\n",
    "    keras.layers.Dropout(0.5),\n",
    "    keras.layers.Dense(units=64, activation='relu'),\n",
    "    keras.layers.Dropout(0.5),\n",
    "    keras.layers.Dense(units=10, activation='softmax'),\n",
    "])   "
   ]
  },
  {
   "cell_type": "markdown",
   "metadata": {
    "slideshow": {
     "slide_type": "notes"
    }
   },
   "source": [
    "\"same\" is with zero padding."
   ]
  },
  {
   "cell_type": "code",
   "execution_count": null,
   "metadata": {
    "slideshow": {
     "slide_type": "slide"
    }
   },
   "outputs": [],
   "source": [
    "model.summary()"
   ]
  },
  {
   "cell_type": "raw",
   "metadata": {
    "slideshow": {
     "slide_type": "slide"
    }
   },
   "source": [
    "####Do NOT run during class.  It will take too long!####\n",
    "model.compile(loss=\"sparse_categorical_crossentropy\", optimizer=\"nadam\", metrics=[\"accuracy\"])\n",
    "history = model.fit(X_train, y_train, epochs=10, validation_data=(X_valid, y_valid))"
   ]
  },
  {
   "cell_type": "markdown",
   "metadata": {
    "slideshow": {
     "slide_type": "slide"
    }
   },
   "source": [
    "Now let's see how well this model does."
   ]
  },
  {
   "cell_type": "code",
   "execution_count": null,
   "metadata": {
    "slideshow": {
     "slide_type": "slide"
    }
   },
   "outputs": [],
   "source": [
    "score = model.evaluate(X_test, y_test)"
   ]
  },
  {
   "cell_type": "code",
   "execution_count": null,
   "metadata": {
    "slideshow": {
     "slide_type": "slide"
    }
   },
   "outputs": [],
   "source": [
    "X_new = X_test[:10] # to represent \"new\" images\n",
    "print(X_new.shape)\n",
    "\n",
    "y_pred = model.predict(X_new)\n",
    "print(y_pred)"
   ]
  },
  {
   "cell_type": "markdown",
   "metadata": {
    "slideshow": {
     "slide_type": "slide"
    }
   },
   "source": [
    "Use the `history` output to see the improvement in performance with each epoch."
   ]
  },
  {
   "cell_type": "code",
   "execution_count": null,
   "metadata": {
    "slideshow": {
     "slide_type": "slide"
    }
   },
   "outputs": [],
   "source": [
    "import matplotlib.pyplot as plt\n",
    "  \n",
    "history_dict = history.history\n",
    "loss_values = history_dict['loss']\n",
    "val_loss_values = history_dict['val_loss']\n",
    "accuracy = history_dict['accuracy']\n",
    "val_accuracy = history_dict['val_accuracy']\n",
    "  \n",
    "epochs = range(1, len(loss_values) + 1)\n",
    "fig, ax = plt.subplots(1, 2, figsize=(14, 6))\n",
    "#\n",
    "# Plot the model accuracy vs Epochs\n",
    "#\n",
    "ax[0].plot(epochs, accuracy, 'bo', label='Training accuracy')\n",
    "ax[0].plot(epochs, val_accuracy, 'b', label='Validation accuracy')\n",
    "ax[0].set_title('Training & Validation Accuracy', fontsize=16)\n",
    "ax[0].set_xlabel('Epochs', fontsize=16)\n",
    "ax[0].set_ylabel('Accuracy', fontsize=16)\n",
    "ax[0].legend()\n",
    "#\n",
    "# Plot the loss vs Epochs\n",
    "#\n",
    "ax[1].plot(epochs, loss_values, 'bo', label='Training loss') \n",
    "ax[1].plot(epochs, val_loss_values, 'b', label='Validation loss')\n",
    "ax[1].set_title('Training & Validation Loss', fontsize=16)\n",
    "ax[1].set_xlabel('Epochs', fontsize=16)\n",
    "ax[1].set_ylabel('Loss', fontsize=16)\n",
    "ax[1].legend()\n"
   ]
  },
  {
   "cell_type": "markdown",
   "metadata": {
    "slideshow": {
     "slide_type": "-"
    }
   },
   "source": [
    "---"
   ]
  },
  {
   "cell_type": "markdown",
   "metadata": {
    "slideshow": {
     "slide_type": "slide"
    }
   },
   "source": [
    "With image data one of the cool things that we can do is to visualize what the kernel in a given convolutional layer is actually doing.\n",
    "\n",
    "[GTR: However, I can't remember where I got this from and I can't get the last cell to work because I don't have the code for the \"convolution\" function.]"
   ]
  },
  {
   "cell_type": "code",
   "execution_count": null,
   "metadata": {
    "slideshow": {
     "slide_type": "slide"
    }
   },
   "outputs": [],
   "source": [
    "conv1 = model.layers[0]\n",
    "weights1 = conv1.get_weights()\n",
    "len(weights1)"
   ]
  },
  {
   "cell_type": "code",
   "execution_count": null,
   "metadata": {
    "slideshow": {
     "slide_type": "slide"
    }
   },
   "outputs": [],
   "source": [
    "kernels1 = weights1[0]\n",
    "kernels1.shape\n",
    "\n",
    "kernels1_1 = kernels1[:,:,0,0]\n",
    "kernels1_1.shape"
   ]
  },
  {
   "cell_type": "code",
   "execution_count": null,
   "metadata": {
    "slideshow": {
     "slide_type": "slide"
    }
   },
   "outputs": [],
   "source": [
    "plt.imshow(kernels1_1)"
   ]
  },
  {
   "cell_type": "code",
   "execution_count": null,
   "metadata": {
    "slideshow": {
     "slide_type": "slide"
    }
   },
   "outputs": [],
   "source": [
    "test_image = X_test[0, :, :, 0]\n",
    "plt.imshow(test_image, origin='upper')"
   ]
  },
  {
   "cell_type": "raw",
   "metadata": {
    "slideshow": {
     "slide_type": "slide"
    }
   },
   "source": [
    "filtered_image = convolution(test_image, kernel1_1)\n",
    "plt.imshow(filtered_image)"
   ]
  },
  {
   "cell_type": "markdown",
   "metadata": {
    "slideshow": {
     "slide_type": "-"
    }
   },
   "source": [
    "---"
   ]
  },
  {
   "cell_type": "raw",
   "metadata": {
    "slideshow": {
     "slide_type": "slide"
    }
   },
   "source": [
    "####Need sdss_images_1000.npy for this to work####\n",
    "\n",
    "#Ivezic v2, Figure 9.20, edits by GTR\n",
    "import matplotlib.pyplot as plt\n",
    "from pathlib import Path\n",
    "\n",
    "from sklearn.metrics import roc_curve\n",
    "\n",
    "from tensorflow.keras.preprocessing.image import ImageDataGenerator\n",
    "from tensorflow.keras.models import Sequential\n",
    "from tensorflow.keras.layers import Dense, Dropout, Activation, Flatten\n",
    "\n",
    "from tensorflow.keras.layers import Convolution2D, MaxPooling2D\n",
    "\n",
    "import random\n",
    "\n",
    "from sklearn.utils import shuffle\n",
    "from sklearn.metrics import accuracy_score\n",
    "\n",
    "from tensorflow.keras.callbacks import EarlyStopping\n",
    "from tensorflow.keras.callbacks import ModelCheckpoint\n",
    "\n",
    "\n",
    "if \"setup_text_plots\" not in globals():\n",
    "    from astroML.plotting import setup_text_plots\n",
    "setup_text_plots(fontsize=8, usetex=True)\n",
    "plt.rcParams['axes.xmargin'] = 0.05\n",
    "plt.rcParams['axes.ymargin'] = 0.05\n",
    "\n",
    "\n",
    "def read_savefile(filename):\n",
    "    '''Read npy save file containing images or labels of galaxies'''\n",
    "    return np.load(filename)\n",
    "\n",
    "\n",
    "def CNN(img_channels, img_rows, img_cols, verbose=False):\n",
    "    '''Define CNN model for Nair and Abraham data'''\n",
    "\n",
    "    # some hyperparamters you can chage\n",
    "    dropoutpar = 0.5\n",
    "    nb_dense = 64\n",
    "\n",
    "    model = Sequential()\n",
    "    model.add(Convolution2D(32, 6, 6, border_mode='same',\n",
    "                            input_shape=(img_rows, img_cols, img_channels)))\n",
    "    model.add(Activation('relu'))\n",
    "    model.add(Dropout(0.5))\n",
    "\n",
    "    model.add(Convolution2D(64, 5, 5, border_mode='same'))\n",
    "    model.add(Activation('relu'))\n",
    "\n",
    "    model.add(MaxPooling2D(pool_size=(2, 2)))\n",
    "    model.add(Dropout(0.25))\n",
    "\n",
    "    model.add(Convolution2D(64, 5, 5, border_mode='same'))\n",
    "    model.add(Activation('relu'))\n",
    "\n",
    "    model.add(MaxPooling2D(pool_size=(2, 2)))\n",
    "    model.add(Dropout(0.25))\n",
    "\n",
    "    model.add(Convolution2D(128, 2, 2, border_mode='same'))\n",
    "    model.add(Activation('relu'))\n",
    "\n",
    "    model.add(MaxPooling2D(pool_size=(2, 2)))\n",
    "    model.add(Dropout(0.25))\n",
    "\n",
    "    model.add(Convolution2D(128, 3, 3, border_mode='same'))\n",
    "    model.add(Activation('relu'))\n",
    "\n",
    "    model.add(Dropout(0.25))\n",
    "\n",
    "    model.add(Flatten())\n",
    "    model.add(Dense(nb_dense, activation='relu'))\n",
    "    model.add(Dropout(dropoutpar))\n",
    "    model.add(Dense(1, init='uniform', activation='sigmoid'))\n",
    "    print(\"Compilation...\")\n",
    "\n",
    "    model.compile(loss='binary_crossentropy', optimizer='adam',\n",
    "                  metrics=['accuracy'])\n",
    "    print(\"... done!\")\n",
    "    if verbose is True:\n",
    "        print(\"Model Summary\")\n",
    "        print(\"===================\")\n",
    "        model.summary()\n",
    "    return model\n",
    "\n",
    "\n",
    "def train_CNN(X, Y, ntrain, nval, output=\"test\", verbose=False):\n",
    "    '''Train the CNN given a dataset and output model and weights'''\n",
    "\n",
    "    # train params - hardcoded for simplicity\n",
    "    batch_size = 30\n",
    "    nb_epoch = 50\n",
    "    data_augmentation = True  # if True the data will be augmented at every iteration\n",
    "\n",
    "    ind = random.sample(range(0, ntrain+nval-1), ntrain+nval-1)\n",
    "    X_train = X[ind[0:ntrain], :, :, :]\n",
    "    X_val = X[ind[ntrain:ntrain+nval], :, :, :]\n",
    "    Y_train = Y[ind[0:ntrain]]\n",
    "    Y_val = Y[ind[ntrain:ntrain+nval]]\n",
    "\n",
    "    # input image dimensions\n",
    "    img_rows, img_cols = X_train.shape[1:3]\n",
    "    img_channels = 3\n",
    "\n",
    "    # Right shape for X\n",
    "    X_train = X_train.reshape(X_train.shape[0], img_rows, img_cols,\n",
    "                              img_channels)\n",
    "    X_val = X_val.reshape(X_val.shape[0], img_rows, img_cols, img_channels)\n",
    "\n",
    "    # Avoid more iterations once convergence\n",
    "    patience_par = 10\n",
    "    earlystopping = EarlyStopping(monitor='val_loss', patience=patience_par,\n",
    "                                  verbose=0, mode='auto' )\n",
    "    modelcheckpoint = ModelCheckpoint(output+\"_best.hd5\", monitor='val_loss',\n",
    "                                      verbose=0, save_best_only=True)\n",
    "\n",
    "    # Define CNN\n",
    "    model = CNN(img_channels, img_rows, img_cols, verbose=True)\n",
    "\n",
    "    if not data_augmentation:\n",
    "        print('Not using data augmentation.')\n",
    "        history = model.fit(X_train, Y_train,\n",
    "                            batch_size=batch_size,\n",
    "                            nb_epoch=nb_epoch,\n",
    "                            validation_data=(X_val, Y_val),\n",
    "                            shuffle=True, verbose=verbose,\n",
    "                            callbacks=[earlystopping, modelcheckpoint])\n",
    "    else:\n",
    "        print('Using real-time data augmentation.')\n",
    "        # this will do preprocessing and realtime data augmentation\n",
    "        datagen = ImageDataGenerator(\n",
    "            featurewise_center=False,\n",
    "            samplewise_center=False,\n",
    "            featurewise_std_normalization=False,\n",
    "            samplewise_std_normalization=False,\n",
    "            zca_whitening=False,\n",
    "            rotation_range=45,\n",
    "            width_shift_range=0.05,\n",
    "            height_shift_range=0.05,\n",
    "            horizontal_flip=True,\n",
    "            vertical_flip=True,\n",
    "            zoom_range=[0.75, 1.3])\n",
    "\n",
    "        datagen.fit(X_train)\n",
    "\n",
    "        history = model.fit_generator(\n",
    "            datagen.flow(X_train, Y_train, batch_size=batch_size),\n",
    "            samples_per_epoch=X_train.shape[0],\n",
    "            nb_epoch=nb_epoch,\n",
    "            validation_data=(X_val, Y_val),\n",
    "            callbacks=[earlystopping, modelcheckpoint])\n",
    "\n",
    "    print(\"Saving model...\")\n",
    "    # save weights\n",
    "    model.save_weights(output+\".weights\", overwrite=True)\n",
    "\n",
    "\n",
    "def apply_CNN(X, model_name):\n",
    "    '''Apply a CNN to a data set'''\n",
    "    # input image dimensions\n",
    "    img_rows, img_cols = X.shape[1:3]\n",
    "    img_channels = 3\n",
    "    X = X.reshape(X.shape[0], img_rows, img_cols, img_channels)\n",
    "\n",
    "    # load model & predict\n",
    "    print(\"Loading weights\", model_name)\n",
    "\n",
    "    model = CNN(img_channels, img_rows, img_cols)\n",
    "    model.load_weights(model_name+\".weights\")\n",
    "    Y_pred = model.predict_proba(X)\n",
    "\n",
    "    return Y_pred\n",
    "\n",
    "\n",
    "def add_titlebox(ax, text):\n",
    "    '''Add an embedded title into figure panel'''\n",
    "    ax.text(.1, .85, text,\n",
    "            horizontalalignment='left',\n",
    "            transform=ax.transAxes,\n",
    "            bbox=dict(facecolor='white', edgecolor='none', alpha=0.8))\n",
    "    return ax\n",
    "\n",
    "\n",
    "def plot_CNN_performance(pred, labels):\n",
    "    '''Plot ROC curve and sample galaxies'''\n",
    "\n",
    "    fig = plt.figure(figsize=(6, 3))\n",
    "    fig.subplots_adjust(wspace=0.1, hspace=0.1,\n",
    "                        left=0.1, right=0.95,\n",
    "                        bottom=0.15, top=0.9)\n",
    "\n",
    "    # define shape of figure\n",
    "    gridsize = (2, 4)\n",
    "    ax1 = plt.subplot2grid(gridsize, (0, 0), colspan=2, rowspan=2)\n",
    "    ax2 = plt.subplot2grid(gridsize, (0, 2))\n",
    "    ax3 = plt.subplot2grid(gridsize, (0, 3))\n",
    "    ax4 = plt.subplot2grid(gridsize, (1, 2))\n",
    "    ax5 = plt.subplot2grid(gridsize, (1, 3))\n",
    "\n",
    "    # plot ROC curve\n",
    "    fpr, tpr, thresholds = roc_curve(labels, pred)\n",
    "\n",
    "    ax1.plot(fpr, tpr, color='black')\n",
    "    ax1.set_xlabel(r'False Positive Rate')\n",
    "    ax1.set_ylabel(r'True Positive Rate')\n",
    "\n",
    "    # array of objects (good E, good S, bad E, bad S)\n",
    "    goodE = np.where((pred[:, 0] < 0.5) & (labels == 0))\n",
    "    goodS = np.where((pred[:, 0] > 0.5) & (labels == 1))\n",
    "    badE = np.where((pred[:, 0] < 0.5) & (labels == 1))\n",
    "    badS = np.where((pred[:, 0] > 0.5) & (labels == 0))\n",
    "\n",
    "    ax2.imshow(D[pred_index + goodE[0][1]])\n",
    "    add_titlebox(ax2, \"Correct E\")\n",
    "    ax2.axis('off')\n",
    "\n",
    "    ax3.imshow(D[pred_index + goodS[0][4]])\n",
    "    add_titlebox(ax3, \"Correct Spiral\")\n",
    "    ax3.axis('off')\n",
    "\n",
    "    ax4.imshow(D[pred_index + badE[0][1]])\n",
    "    add_titlebox(ax4, \"Incorrect E\")\n",
    "    ax4.axis('off')\n",
    "\n",
    "    ax5.imshow(D[pred_index + badS[0][3]])\n",
    "    add_titlebox(ax5, \"Incorrect Spiral\")\n",
    "    ax5.axis('off')\n",
    "\n",
    "    plt.show()\n",
    "\n",
    "\n",
    "n_objects = 500\n",
    "save_files = \"./SDSS{}\".format(n_objects)\n",
    "\n",
    "# Read SDSS images and labels\n",
    "D = read_savefile(\"sdss_images_1000.npy\")[0:n_objects]\n",
    "Y = read_savefile(\"sdss_labels_1000.npy\")[0:n_objects]\n",
    "\n",
    "# Train network and output to disk (keep 10% of data for test set)\n",
    "ntrain = D.shape[0] * 8 // 10.\n",
    "nval = D.shape[0] // 10\n",
    "npred = D.shape[0] - (ntrain + nval)  # test sample size;\n",
    "pred_index = ntrain + nval            # test sample start index;\n",
    "\n",
    "# Normalize images\n",
    "mu = np.amax(D, axis=(1, 2))\n",
    "for i in range(0, mu.shape[0]):\n",
    "    D[i, :, :, 0] = D[i, :, :, 0] / mu[i, 0]\n",
    "    D[i, :, :, 1] = D[i, :, :, 1] / mu[i, 1]\n",
    "    D[i, :, :, 2] = D[i, :, :, 2] / mu[i, 2]\n",
    "\n",
    "# change order so that we do not use always the same objects to train/test\n",
    "D, Y, = shuffle(D, Y, random_state=0)\n",
    "\n",
    "my_file = Path(save_files + \".weights\")\n",
    "if my_file.is_file():\n",
    "    Y_pred = apply_CNN(D[pred_index:pred_index + npred, :, :, :], save_files)\n",
    "    Y_test=Y[pred_index:pred_index + npred]\n",
    "else:\n",
    "    print(\"Training Model\")\n",
    "    print(\"====================\")\n",
    "    model_name = train_CNN(D, Y, ntrain, nval, output=save_files)\n",
    "    Y_pred = apply_CNN(D[pred_index:pred_index + npred, :, :, :], save_files)\n",
    "    Y_test = Y[pred_index:pred_index + npred]\n",
    "\n",
    "Y_pred_class = Y_pred * 0\n",
    "Y_pred_class[Y_pred > 0.5] = 1\n",
    "print(\"Global Accuracy:\", accuracy_score(Y_test, Y_pred_class))\n",
    "\n",
    "\n",
    "plot_CNN_performance(Y_pred, Y_test)"
   ]
  },
  {
   "cell_type": "markdown",
   "metadata": {},
   "source": [
    "---"
   ]
  },
  {
   "cell_type": "markdown",
   "metadata": {
    "slideshow": {
     "slide_type": "slide"
    }
   },
   "source": [
    "### Autoencoders\n",
    "\n",
    "Autoencoders are neural networks that copy their input to their output, but after passing the data through a bottleneck.  For example if there are 28x28 = 784 inputs, there will also be 784 outputs, but there will be one or more (odd, but symmetric) hidden layers with fewer neuron than that.\n",
    "\n",
    "For example see \n",
    "\n",
    "![autoencoder structure](https://miro.medium.com/max/1400/1*44eDEuZBEsmG_TCAKRI3Kw@2x.png)\n",
    "\n",
    "from\n",
    "https://towardsdatascience.com/applied-deep-learning-part-3-autoencoders-1c083af4d798"
   ]
  },
  {
   "cell_type": "markdown",
   "metadata": {
    "slideshow": {
     "slide_type": "notes"
    }
   },
   "source": [
    "So, distill our MNIST digits down to the three most important pixels.  Or perhaps the three most important line segments."
   ]
  },
  {
   "cell_type": "markdown",
   "metadata": {
    "slideshow": {
     "slide_type": "slide"
    }
   },
   "source": [
    "You can think of this as doing PCA with a neural network -- breaking our data down into the only the most important features that we actually *need* (finding the intrinsic dimensionality).   In fact, if the network uses only linear (or no) activation functions and $l2$ cost function, then we have exactly PCA."
   ]
  },
  {
   "cell_type": "markdown",
   "metadata": {
    "slideshow": {
     "slide_type": "slide"
    }
   },
   "source": [
    "How might this be useful?  Well, for example we can use it to reconstruct MNIST digits that have had noise added to them:\n",
    "\n",
    "![autoencoder example](https://miro.medium.com/max/1400/1*SxwRp9i23OM0Up4sEze1QQ@2x.png)"
   ]
  },
  {
   "cell_type": "code",
   "execution_count": null,
   "metadata": {},
   "outputs": [],
   "source": []
  },
  {
   "cell_type": "markdown",
   "metadata": {
    "slideshow": {
     "slide_type": "slide"
    }
   },
   "source": [
    "### Autoencoder Example\n",
    "\n",
    "Let's build a stacked Autoencoder with 3 hidden layers and 1 output layer (i.e., 2 stacked Autoencoders) and run it on the fashion MNIST data set.\n",
    "\n",
    "See\n",
    "https://github.com/ageron/handson-ml2/blob/master/17_autoencoders_and_gans.ipynb\n",
    "\n",
    "Specifically, we are going to build this:"
   ]
  },
  {
   "cell_type": "markdown",
   "metadata": {
    "slideshow": {
     "slide_type": "slide"
    }
   },
   "source": [
    "[Geron17-3autoencoder.png](attachment:Geron17-3autoencoder.png)"
   ]
  },
  {
   "cell_type": "code",
   "execution_count": null,
   "metadata": {
    "slideshow": {
     "slide_type": "slide"
    }
   },
   "outputs": [],
   "source": [
    "(X_train_full, y_train_full), (X_test, y_test) = keras.datasets.fashion_mnist.load_data()\n",
    "X_train_full = X_train_full.astype(np.float32) / 255\n",
    "X_test = X_test.astype(np.float32) / 255\n",
    "X_train, X_valid = X_train_full[:-5000], X_train_full[-5000:]\n",
    "y_train, y_valid = y_train_full[:-5000], y_train_full[-5000:]"
   ]
  },
  {
   "cell_type": "code",
   "execution_count": null,
   "metadata": {
    "slideshow": {
     "slide_type": "slide"
    }
   },
   "outputs": [],
   "source": [
    "tf.random.set_seed(42)\n",
    "np.random.seed(42)\n",
    "\n",
    "stacked_encoder = keras.models.Sequential([\n",
    "    keras.layers.Flatten(input_shape=[28, 28]),\n",
    "    keras.layers.Dense(100, activation=\"selu\"),\n",
    "    keras.layers.Dense(30, activation=\"selu\"),\n",
    "])\n",
    "stacked_decoder = keras.models.Sequential([\n",
    "    keras.layers.Dense(100, activation=\"selu\", input_shape=[30]),\n",
    "    keras.layers.Dense(28 * 28, activation=\"sigmoid\"),\n",
    "    keras.layers.Reshape([28, 28])\n",
    "])\n",
    "stacked_ae = keras.models.Sequential([stacked_encoder, stacked_decoder])\n",
    "stacked_ae.compile(loss=\"binary_crossentropy\",\n",
    "                   optimizer=keras.optimizers.SGD(lr=1.5), metrics=['accuracy'])\n",
    "history = stacked_ae.fit(X_train, X_train, epochs=20,\n",
    "                         validation_data=(X_valid, X_valid))"
   ]
  },
  {
   "cell_type": "markdown",
   "metadata": {
    "slideshow": {
     "slide_type": "slide"
    }
   },
   "source": [
    "Let's look at the output reconstructions."
   ]
  },
  {
   "cell_type": "code",
   "execution_count": null,
   "metadata": {
    "slideshow": {
     "slide_type": "slide"
    }
   },
   "outputs": [],
   "source": [
    "#Helper function from Geron to show example reconstructions\n",
    "def show_reconstructions(model, images=X_valid, n_images=5):\n",
    "    reconstructions = model.predict(images[:n_images])\n",
    "    fig = plt.figure(figsize=(n_images * 1.5, 3))\n",
    "    for image_index in range(n_images):\n",
    "        plt.subplot(2, n_images, 1 + image_index)\n",
    "        plt.imshow(images[image_index], cmap=\"binary\", origin='upper')\n",
    "        plt.axis(\"off\")  \n",
    "        \n",
    "        plt.subplot(2, n_images, 1 + n_images + image_index)\n",
    "        plt.imshow(reconstructions[image_index], cmap=\"binary\", origin='upper')\n",
    "        plt.axis(\"off\")                 "
   ]
  },
  {
   "cell_type": "code",
   "execution_count": null,
   "metadata": {
    "slideshow": {
     "slide_type": "slide"
    }
   },
   "outputs": [],
   "source": [
    "show_reconstructions(stacked_ae)"
   ]
  },
  {
   "cell_type": "markdown",
   "metadata": {
    "slideshow": {
     "slide_type": "slide"
    }
   },
   "source": [
    "Now we can use t-SNE to visualize the clustering"
   ]
  },
  {
   "cell_type": "code",
   "execution_count": null,
   "metadata": {
    "slideshow": {
     "slide_type": "slide"
    }
   },
   "outputs": [],
   "source": [
    "np.random.seed(42)\n",
    "\n",
    "from sklearn.manifold import TSNE\n",
    "\n",
    "X_valid_compressed = stacked_encoder.predict(X_valid)\n",
    "tsne = TSNE()\n",
    "X_valid_2D = tsne.fit_transform(X_valid_compressed)\n",
    "X_valid_2D = (X_valid_2D - X_valid_2D.min()) / (X_valid_2D.max() - X_valid_2D.min())"
   ]
  },
  {
   "cell_type": "code",
   "execution_count": null,
   "metadata": {
    "slideshow": {
     "slide_type": "slide"
    }
   },
   "outputs": [],
   "source": [
    "# From Geron\n",
    "# adapted from https://scikit-learn.org/stable/auto_examples/manifold/plot_lle_digits.html\n",
    "import matplotlib as mpl\n",
    "import matplotlib.pyplot as plt\n",
    "plt.figure(figsize=(10, 8))\n",
    "cmap = plt.cm.tab10\n",
    "plt.scatter(X_valid_2D[:, 0], X_valid_2D[:, 1], c=y_valid, s=10, cmap=cmap)\n",
    "image_positions = np.array([[1., 1.]])\n",
    "for index, position in enumerate(X_valid_2D):\n",
    "    dist = np.sum((position - image_positions) ** 2, axis=1)\n",
    "    if np.min(dist) > 0.02: # if far enough from other images\n",
    "        image_positions = np.r_[image_positions, [position]]\n",
    "        imagebox = mpl.offsetbox.AnnotationBbox(\n",
    "            mpl.offsetbox.OffsetImage(X_valid[index], cmap=\"binary\", origin='upper'),\n",
    "            position, bboxprops={\"edgecolor\": cmap(y_valid[index]), \"lw\": 2})\n",
    "        plt.gca().add_artist(imagebox)\n",
    "plt.axis(\"off\")\n",
    "plt.show()"
   ]
  },
  {
   "cell_type": "markdown",
   "metadata": {
    "slideshow": {
     "slide_type": "-"
    }
   },
   "source": [
    "---"
   ]
  },
  {
   "cell_type": "markdown",
   "metadata": {
    "slideshow": {
     "slide_type": "slide"
    }
   },
   "source": [
    "#### Variational Autoencoders\n",
    "\n",
    "More common in astronomy are variational autoencoders, partly because the \"latent space\" that results from a standard autoencoder doesn't necessarily map continuously to the data (e.g., if your training data don't span the full data space).  We won't go into detail, just realize that these are something that you might try if you were otherwise going to try an autoencoder to tackle your problem.\n",
    "\n",
    "![Ivezic Figure 9.21](https://www.astroml.org/_images/fig_vae_1.png)"
   ]
  },
  {
   "cell_type": "markdown",
   "metadata": {
    "slideshow": {
     "slide_type": "slide"
    }
   },
   "source": [
    "[Geron17-12variational_autoencoder.png](attachment:Geron17-12variational_autoencoder.png)"
   ]
  },
  {
   "cell_type": "markdown",
   "metadata": {
    "slideshow": {
     "slide_type": "slide"
    }
   },
   "source": [
    "#### Variational Autoencoder Example\n",
    "\n",
    "Until GANs (see below), this is how you would have generated fake images."
   ]
  },
  {
   "cell_type": "code",
   "execution_count": null,
   "metadata": {
    "slideshow": {
     "slide_type": "slide"
    }
   },
   "outputs": [],
   "source": [
    "K = keras.backend\n",
    "\n",
    "class Sampling(keras.layers.Layer):\n",
    "    def call(self, inputs):\n",
    "        mean, log_var = inputs\n",
    "        return K.random_normal(tf.shape(log_var)) * K.exp(log_var / 2) + mean"
   ]
  },
  {
   "cell_type": "code",
   "execution_count": null,
   "metadata": {
    "slideshow": {
     "slide_type": "slide"
    }
   },
   "outputs": [],
   "source": [
    "tf.random.set_seed(42)\n",
    "np.random.seed(42)\n",
    "\n",
    "codings_size = 10\n",
    "\n",
    "inputs = keras.layers.Input(shape=[28, 28])\n",
    "z = keras.layers.Flatten()(inputs)\n",
    "z = keras.layers.Dense(150, activation=\"selu\")(z)\n",
    "z = keras.layers.Dense(100, activation=\"selu\")(z)\n",
    "codings_mean = keras.layers.Dense(codings_size)(z)\n",
    "codings_log_var = keras.layers.Dense(codings_size)(z)\n",
    "codings = Sampling()([codings_mean, codings_log_var])\n",
    "variational_encoder = keras.models.Model(\n",
    "    inputs=[inputs], outputs=[codings_mean, codings_log_var, codings])\n",
    "\n",
    "decoder_inputs = keras.layers.Input(shape=[codings_size])\n",
    "x = keras.layers.Dense(100, activation=\"selu\")(decoder_inputs)\n",
    "x = keras.layers.Dense(150, activation=\"selu\")(x)\n",
    "x = keras.layers.Dense(28 * 28, activation=\"sigmoid\")(x)\n",
    "outputs = keras.layers.Reshape([28, 28])(x)\n",
    "variational_decoder = keras.models.Model(inputs=[decoder_inputs], outputs=[outputs])\n",
    "\n",
    "_, _, codings = variational_encoder(inputs)\n",
    "reconstructions = variational_decoder(codings)\n",
    "variational_ae = keras.models.Model(inputs=[inputs], outputs=[reconstructions])\n",
    "\n",
    "latent_loss = -0.5 * K.sum(\n",
    "    1 + codings_log_var - K.exp(codings_log_var) - K.square(codings_mean),\n",
    "    axis=-1)\n",
    "variational_ae.add_loss(K.mean(latent_loss) / 784.)\n",
    "variational_ae.compile(loss=\"binary_crossentropy\", optimizer=\"rmsprop\", metrics=['accuracy'])\n",
    "history = variational_ae.fit(X_train, X_train, epochs=20, batch_size=128,\n",
    "                             validation_data=(X_valid, X_valid))"
   ]
  },
  {
   "cell_type": "markdown",
   "metadata": {
    "slideshow": {
     "slide_type": "slide"
    }
   },
   "source": [
    "Now generate some fake images.  Note that the goal here is NOT to teach you how to create \"deep fakes\", but rather to build up to scientifically useful applications of GANs."
   ]
  },
  {
   "cell_type": "code",
   "execution_count": null,
   "metadata": {
    "slideshow": {
     "slide_type": "slide"
    }
   },
   "outputs": [],
   "source": [
    "def plot_multiple_images(images, n_cols=None):\n",
    "    n_cols = n_cols or len(images)\n",
    "    n_rows = (len(images) - 1) // n_cols + 1\n",
    "    if images.shape[-1] == 1:\n",
    "        images = np.squeeze(images, axis=-1)\n",
    "    plt.figure(figsize=(n_cols, n_rows))\n",
    "    for index, image in enumerate(images):\n",
    "        plt.subplot(n_rows, n_cols, index + 1)\n",
    "        plt.imshow(image, cmap=\"binary\", origin='upper')\n",
    "        plt.axis(\"off\")"
   ]
  },
  {
   "cell_type": "code",
   "execution_count": null,
   "metadata": {
    "slideshow": {
     "slide_type": "slide"
    }
   },
   "outputs": [],
   "source": [
    "tf.random.set_seed(42)\n",
    "\n",
    "codings = tf.random.normal(shape=[12, codings_size])\n",
    "images = variational_decoder(codings).numpy()\n",
    "plot_multiple_images(images, 4)"
   ]
  },
  {
   "cell_type": "markdown",
   "metadata": {
    "slideshow": {
     "slide_type": "-"
    }
   },
   "source": [
    "---"
   ]
  },
  {
   "cell_type": "markdown",
   "metadata": {
    "slideshow": {
     "slide_type": "slide"
    }
   },
   "source": [
    "### Generative Adversarial Networks (GANs)\n",
    "\n",
    "GANs are pure evil, see\n",
    "https://thispersondoesnotexist.com"
   ]
  },
  {
   "cell_type": "markdown",
   "metadata": {
    "slideshow": {
     "slide_type": "slide"
    }
   },
   "source": [
    "But they are also brilliant, incredibly useful, and relatively new (2014).  The idea builds logically on autoencoders in that we have a generator (like the decoder part of an autoencoder) that can produce fake data (e.g., an image).  Then we have a discriminator (a standard binary classifier) that tries to distinguish fake data from real.  Then the generator learns to produce more and more accurate images to trick the discriminator -- without ever seeing any real images -- it just has the feedback from the discriminator.\n",
    "\n",
    "[Geron17-15GAN.png](attachment:Geron17-15GAN.png)"
   ]
  },
  {
   "cell_type": "markdown",
   "metadata": {
    "slideshow": {
     "slide_type": "slide"
    }
   },
   "source": [
    "[Geron17-18GANexample.png](attachment:Geron17-18GANexample.png)"
   ]
  },
  {
   "cell_type": "markdown",
   "metadata": {
    "slideshow": {
     "slide_type": "slide"
    }
   },
   "source": [
    "For more, see\n",
    "https://towardsdatascience.com/understanding-generative-adversarial-networks-gans-cd6e4651a29"
   ]
  },
  {
   "cell_type": "markdown",
   "metadata": {
    "slideshow": {
     "slide_type": "slide"
    }
   },
   "source": [
    "Astronomy has seen some interesting uses of autoencoders and GANs in recent years.  For example:\n",
    "    \n",
    "https://arxiv.org/abs/1702.00403    \n",
    "https://www.aanda.org/articles/aa/full_html/2017/07/aa30240-16/aa30240-16.html"
   ]
  },
  {
   "cell_type": "markdown",
   "metadata": {
    "slideshow": {
     "slide_type": "slide"
    }
   },
   "source": [
    "### Generative Adversarial Network (GAN) example"
   ]
  },
  {
   "cell_type": "code",
   "execution_count": null,
   "metadata": {
    "slideshow": {
     "slide_type": "slide"
    }
   },
   "outputs": [],
   "source": [
    "np.random.seed(42)\n",
    "tf.random.set_seed(42)\n",
    "\n",
    "codings_size = 30\n",
    "\n",
    "generator = keras.models.Sequential([\n",
    "    keras.layers.Dense(100, activation=\"selu\", input_shape=[codings_size]),\n",
    "    keras.layers.Dense(150, activation=\"selu\"),\n",
    "    keras.layers.Dense(28 * 28, activation=\"sigmoid\"),\n",
    "    keras.layers.Reshape([28, 28])\n",
    "])\n",
    "discriminator = keras.models.Sequential([\n",
    "    keras.layers.Flatten(input_shape=[28, 28]),\n",
    "    keras.layers.Dense(150, activation=\"selu\"),\n",
    "    keras.layers.Dense(100, activation=\"selu\"),\n",
    "    keras.layers.Dense(1, activation=\"sigmoid\")\n",
    "])\n",
    "gan = keras.models.Sequential([generator, discriminator])"
   ]
  },
  {
   "cell_type": "code",
   "execution_count": null,
   "metadata": {
    "slideshow": {
     "slide_type": "slide"
    }
   },
   "outputs": [],
   "source": [
    "discriminator.compile(loss=\"binary_crossentropy\", optimizer=\"rmsprop\")\n",
    "discriminator.trainable = False\n",
    "gan.compile(loss=\"binary_crossentropy\", optimizer=\"rmsprop\")"
   ]
  },
  {
   "cell_type": "code",
   "execution_count": null,
   "metadata": {
    "slideshow": {
     "slide_type": "slide"
    }
   },
   "outputs": [],
   "source": [
    "batch_size = 32\n",
    "dataset = tf.data.Dataset.from_tensor_slices(X_train).shuffle(1000)\n",
    "dataset = dataset.batch(batch_size, drop_remainder=True).prefetch(1)"
   ]
  },
  {
   "cell_type": "code",
   "execution_count": null,
   "metadata": {
    "slideshow": {
     "slide_type": "slide"
    }
   },
   "outputs": [],
   "source": [
    "def train_gan(gan, dataset, batch_size, codings_size, n_epochs=50):\n",
    "    generator, discriminator = gan.layers\n",
    "    for epoch in range(n_epochs):\n",
    "        print(\"Epoch {}/{}\".format(epoch + 1, n_epochs))              # not shown in the book\n",
    "        for X_batch in dataset:\n",
    "            # phase 1 - training the discriminator\n",
    "            noise = tf.random.normal(shape=[batch_size, codings_size])\n",
    "            generated_images = generator(noise)\n",
    "            X_fake_and_real = tf.concat([generated_images, X_batch], axis=0)\n",
    "            y1 = tf.constant([[0.]] * batch_size + [[1.]] * batch_size)\n",
    "            discriminator.trainable = True\n",
    "            discriminator.train_on_batch(X_fake_and_real, y1)\n",
    "            # phase 2 - training the generator\n",
    "            noise = tf.random.normal(shape=[batch_size, codings_size])\n",
    "            y2 = tf.constant([[1.]] * batch_size)\n",
    "            discriminator.trainable = False\n",
    "            gan.train_on_batch(noise, y2)\n",
    "        plot_multiple_images(generated_images, 8)                     # not shown\n",
    "        plt.show()         "
   ]
  },
  {
   "cell_type": "code",
   "execution_count": null,
   "metadata": {
    "slideshow": {
     "slide_type": "slide"
    }
   },
   "outputs": [],
   "source": [
    "train_gan(gan, dataset, batch_size, codings_size, n_epochs=1)"
   ]
  },
  {
   "cell_type": "code",
   "execution_count": null,
   "metadata": {
    "slideshow": {
     "slide_type": "slide"
    }
   },
   "outputs": [],
   "source": [
    "tf.random.set_seed(42)\n",
    "np.random.seed(42)\n",
    "\n",
    "noise = tf.random.normal(shape=[batch_size, codings_size])\n",
    "generated_images = generator(noise)\n",
    "plot_multiple_images(generated_images, 8)"
   ]
  },
  {
   "cell_type": "markdown",
   "metadata": {
    "slideshow": {
     "slide_type": "slide"
    }
   },
   "source": [
    "Geron then runs the GAN for 50 epochs and discusses why training GANs is so hard and is still an active area of research."
   ]
  },
  {
   "cell_type": "markdown",
   "metadata": {
    "slideshow": {
     "slide_type": "slide"
    }
   },
   "source": [
    "---"
   ]
  },
  {
   "cell_type": "markdown",
   "metadata": {
    "slideshow": {
     "slide_type": "-"
    }
   },
   "source": [
    "---"
   ]
  },
  {
   "cell_type": "markdown",
   "metadata": {
    "slideshow": {
     "slide_type": "slide"
    }
   },
   "source": [
    "More exciting to me is the possibility to use autoencoders for \"unsupervised pretraining\".  For example you have data that is only partially labeled (at least not enough to do traditional supervised classification).  We can train an autoencoder on the full data set, then used the encoder part as the base of a regular neural network that is trained on the labeled data that we do have.  See Geron Figure 17.6\n",
    "\n",
    "Also for [anomaly detection](https://scikit-learn.org/stable/modules/outlier_detection.html).\n",
    "See also\n",
    "https://www.pyimagesearch.com/2020/03/02/anomaly-detection-with-keras-tensorflow-and-deep-learning/ and \n",
    "https://towardsdatascience.com/autoencoder-neural-network-for-anomaly-detection-with-unlabeled-dataset-af9051a048."
   ]
  },
  {
   "cell_type": "markdown",
   "metadata": {
    "slideshow": {
     "slide_type": "slide"
    }
   },
   "source": [
    "The last example will pretend that we have a very large training set, but with only a small fraction of the training set having labels.  So, we will use tranfer learning from a pre-trained autoencoder that \"clusters\" all of the unlabeled training data to build the base layers of a our classification neural network."
   ]
  },
  {
   "cell_type": "markdown",
   "metadata": {
    "slideshow": {
     "slide_type": "slide"
    }
   },
   "source": [
    "[Geron17-6transferlearning.png](attachment:Geron17-6transferlearning.png)\n",
    "\n",
    "[Geron](./figures/Geron17-6transferlearning.png)"
   ]
  },
  {
   "cell_type": "markdown",
   "metadata": {
    "slideshow": {
     "slide_type": "slide"
    }
   },
   "source": [
    "This is exactly the problem that we have for quasar selection in LSST.  We have about 500k quasars that are labeled (plus labels for stars and galaxies) but those objects don't necessarily represent the full range of objects that we are trying to find.  So, it might help to use this pre-training technique."
   ]
  },
  {
   "cell_type": "markdown",
   "metadata": {
    "slideshow": {
     "slide_type": "slide"
    }
   },
   "source": [
    "We'll do this with Fashion MNIST data set as above.  Let's train the autoencoder with 2/3 of the full training set data (but without the labels!), which is 40k objects.  Then we'll have 10k for the test set, the validation set, and our \"B\" training set.  Then we'll see how that compares to a regular neural net trained with only the \"B\" training data.\n",
    "\n",
    "See \n",
    "https://github.com/ageron/handson-ml2/blob/master/11_training_deep_neural_networks.ipynb\n",
    "and\n",
    "https://github.com/ageron/handson-ml2/blob/master/17_autoencoders_and_gans.ipynb"
   ]
  },
  {
   "cell_type": "code",
   "execution_count": null,
   "metadata": {
    "slideshow": {
     "slide_type": "slide"
    }
   },
   "outputs": [],
   "source": [
    "keras.backend.clear_session() #Make sure that we are starting a new model and not adding to an earlier one\n",
    "np.random.seed(42) #Set the numpy and tensorflow random seeds so that we all get the same answer\n",
    "tf.random.set_seed(42)"
   ]
  },
  {
   "cell_type": "code",
   "execution_count": null,
   "metadata": {
    "slideshow": {
     "slide_type": "slide"
    }
   },
   "outputs": [],
   "source": [
    "#We'll use 60% of the sample to do unsupervised training with an autoencoder\n",
    "#Then 10% each for supervised training, validation, and testing\n",
    "(X_train_full, y_train_full), (X_test, y_test) = keras.datasets.fashion_mnist.load_data()\n",
    "X_train_full = X_train_full.astype(np.float32) / 255\n",
    "X_test = X_test.astype(np.float32) / 255\n",
    "print(len(X_train_full),len(X_test))"
   ]
  },
  {
   "cell_type": "code",
   "execution_count": null,
   "metadata": {
    "slideshow": {
     "slide_type": "slide"
    }
   },
   "outputs": [],
   "source": [
    "from sklearn.model_selection import train_test_split\n",
    "\n",
    "X_train_A, X_rest, y_train_A, y_rest = train_test_split(X_train_full, y_train_full, test_size=0.33333, random_state=42)\n",
    "print(len(X_train_A),len(X_rest))\n",
    "\n",
    "X_train_B, X_valid, y_train_B, y_valid = train_test_split(X_rest, y_rest, test_size=0.50, random_state=42)\n",
    "print(len(X_train_B),len(X_valid))"
   ]
  },
  {
   "cell_type": "code",
   "execution_count": null,
   "metadata": {
    "slideshow": {
     "slide_type": "slide"
    }
   },
   "outputs": [],
   "source": [
    "stacked_encoder = keras.models.Sequential([\n",
    "    keras.layers.Flatten(input_shape=[28, 28]),\n",
    "    keras.layers.Dense(200, activation=\"selu\"),\n",
    "    keras.layers.Dense(100, activation=\"selu\"),\n",
    "    keras.layers.Dense(30, activation=\"selu\"),\n",
    "])\n",
    "stacked_decoder = keras.models.Sequential([\n",
    "    keras.layers.Dense(100, activation=\"selu\", input_shape=[30]),\n",
    "    keras.layers.Dense(200, activation=\"selu\", input_shape=[100]),\n",
    "    keras.layers.Dense(28 * 28, activation=\"sigmoid\"),\n",
    "    keras.layers.Reshape([28, 28])\n",
    "])\n",
    "stacked_ae = keras.models.Sequential([stacked_encoder, stacked_decoder])\n",
    "stacked_ae.compile(loss=\"binary_crossentropy\",\n",
    "                   optimizer=keras.optimizers.SGD(lr=1.5), metrics=['accuracy'])\n",
    "history = stacked_ae.fit(X_train_A, X_train_A, epochs=50,\n",
    "                         validation_data=(X_valid, X_valid))"
   ]
  },
  {
   "cell_type": "code",
   "execution_count": null,
   "metadata": {
    "slideshow": {
     "slide_type": "slide"
    }
   },
   "outputs": [],
   "source": [
    "stacked_encoder.summary()"
   ]
  },
  {
   "cell_type": "code",
   "execution_count": null,
   "metadata": {
    "slideshow": {
     "slide_type": "slide"
    }
   },
   "outputs": [],
   "source": [
    "stacked_decoder.summary()"
   ]
  },
  {
   "cell_type": "code",
   "execution_count": null,
   "metadata": {
    "slideshow": {
     "slide_type": "slide"
    }
   },
   "outputs": [],
   "source": [
    "stacked_ae.summary()"
   ]
  },
  {
   "cell_type": "code",
   "execution_count": null,
   "metadata": {
    "slideshow": {
     "slide_type": "slide"
    }
   },
   "outputs": [],
   "source": [
    "stacked_ae.save(\"autoencoder.h5\")"
   ]
  },
  {
   "cell_type": "code",
   "execution_count": null,
   "metadata": {
    "slideshow": {
     "slide_type": "slide"
    }
   },
   "outputs": [],
   "source": [
    "from sklearn.manifold import TSNE\n",
    "\n",
    "#Maybe should be X_train_A if want to visualize clustering of autoencoder training results?\n",
    "#But plot validation objects on top?\n",
    "#X_valid_compressed = stacked_encoder.predict(X_valid)\n",
    "X_valid_compressed = stacked_encoder.predict(X_train_A)\n",
    "tsne = TSNE()\n",
    "X_valid_2D = tsne.fit_transform(X_valid_compressed)\n",
    "X_valid_2D = (X_valid_2D - X_valid_2D.min()) / (X_valid_2D.max() - X_valid_2D.min())"
   ]
  },
  {
   "cell_type": "code",
   "execution_count": null,
   "metadata": {
    "slideshow": {
     "slide_type": "slide"
    }
   },
   "outputs": [],
   "source": [
    "# From Geron\n",
    "# adapted from https://scikit-learn.org/stable/auto_examples/manifold/plot_lle_digits.html\n",
    "import matplotlib as mpl\n",
    "import matplotlib.pyplot as plt\n",
    "plt.figure(figsize=(10, 8))\n",
    "cmap = plt.cm.tab10\n",
    "#plt.scatter(X_valid_2D[:, 0], X_valid_2D[:, 1], c=y_valid, s=10, cmap=cmap)\n",
    "plt.scatter(X_valid_2D[:, 0], X_valid_2D[:, 1], c=y_train_A, s=10, cmap=cmap)\n",
    "image_positions = np.array([[1., 1.]])\n",
    "for index, position in enumerate(X_valid_2D):\n",
    "    dist = np.sum((position - image_positions) ** 2, axis=1)\n",
    "    if np.min(dist) > 0.02: # if far enough from other images\n",
    "        image_positions = np.r_[image_positions, [position]]\n",
    "        imagebox = mpl.offsetbox.AnnotationBbox(\n",
    "            #mpl.offsetbox.OffsetImage(X_valid[index], cmap=\"binary\", origin='upper'),\n",
    "            mpl.offsetbox.OffsetImage(X_train_A[index], cmap=\"binary\", origin='upper'),\n",
    "            #position, bboxprops={\"edgecolor\": cmap(y_valid[index]), \"lw\": 2})\n",
    "            position, bboxprops={\"edgecolor\": cmap(y_train_A[index]), \"lw\": 2})\n",
    "        plt.gca().add_artist(imagebox)\n",
    "plt.axis(\"off\")\n",
    "plt.show()"
   ]
  },
  {
   "cell_type": "code",
   "execution_count": null,
   "metadata": {
    "slideshow": {
     "slide_type": "slide"
    }
   },
   "outputs": [],
   "source": [
    "model_A = keras.models.load_model(\"autoencoder.h5\") #Read in full autoencoder model\n",
    "#model_B_on_A = keras.models.Sequential(model_A.layers[:-1]) #Just take the encoder part\n",
    "#model_B_on_A.add(keras.layers.Dense(10, activation=\"softmax\")) #Now add on a new ouput layer"
   ]
  },
  {
   "cell_type": "code",
   "execution_count": null,
   "metadata": {
    "slideshow": {
     "slide_type": "slide"
    }
   },
   "outputs": [],
   "source": [
    "#Need to clone model A and set weights otherwise they will be update when fitting model_B_on_A\n",
    "model_A_clone = keras.models.clone_model(model_A)\n",
    "model_A_clone.set_weights(model_A.get_weights())\n",
    "\n",
    "model_B_on_A = keras.models.Sequential(model_A_clone.layers[:-1]) #Just take the encoder part\n",
    "model_B_on_A.add(keras.layers.Dense(10, activation=\"softmax\")) #Now add on a new ouput layer\n",
    "\n",
    "#Freeze reused layers during first few epochs\n",
    "#Later will have to unfreeze\n",
    "for layer in model_B_on_A.layers[:-1]:\n",
    "    layer.trainable = False"
   ]
  },
  {
   "cell_type": "code",
   "execution_count": null,
   "metadata": {
    "slideshow": {
     "slide_type": "slide"
    }
   },
   "outputs": [],
   "source": [
    "#Now need to compile\n",
    "model_B_on_A.compile(loss=\"sparse_categorical_crossentropy\",\n",
    "              optimizer=\"sgd\",\n",
    "              metrics=[\"accuracy\"])"
   ]
  },
  {
   "cell_type": "code",
   "execution_count": null,
   "metadata": {
    "slideshow": {
     "slide_type": "slide"
    }
   },
   "outputs": [],
   "source": [
    "#Run for a few epochs\n",
    "#Here we need the answers; don't use data that trained autoencoder.\n",
    "#Might not be OK to use test data for validation here?\n",
    "history2 = model_B_on_A.fit(X_train_B, y_train_B, epochs=10,\n",
    "                    validation_data=(X_valid, y_valid))"
   ]
  },
  {
   "cell_type": "code",
   "execution_count": null,
   "metadata": {
    "slideshow": {
     "slide_type": "slide"
    }
   },
   "outputs": [],
   "source": [
    "#Unfreeze reused layers\n",
    "for layer in model_B_on_A.layers[:-1]:\n",
    "    layer.trainable = True"
   ]
  },
  {
   "cell_type": "code",
   "execution_count": null,
   "metadata": {
    "slideshow": {
     "slide_type": "slide"
    }
   },
   "outputs": [],
   "source": [
    "#Recompile with lower learning rate\n",
    "#Keep fitting for more epochs\n",
    "model_B_on_A.compile(loss=\"sparse_categorical_crossentropy\",\n",
    "                     optimizer=keras.optimizers.SGD(lr=1e-3),\n",
    "                     metrics=[\"accuracy\"])\n",
    "history = model_B_on_A.fit(X_train_B, y_train_B, epochs=40,\n",
    "                           validation_data=(X_valid, y_valid))"
   ]
  },
  {
   "cell_type": "code",
   "execution_count": null,
   "metadata": {
    "slideshow": {
     "slide_type": "slide"
    }
   },
   "outputs": [],
   "source": [
    "model_B_on_A.save(\"autoencoder_transfer_example.h5\")"
   ]
  },
  {
   "cell_type": "code",
   "execution_count": null,
   "metadata": {
    "slideshow": {
     "slide_type": "slide"
    }
   },
   "outputs": [],
   "source": [
    "model_B_on_A.evaluate(X_test, y_test)"
   ]
  },
  {
   "cell_type": "code",
   "execution_count": null,
   "metadata": {
    "slideshow": {
     "slide_type": "slide"
    }
   },
   "outputs": [],
   "source": [
    "model_B = keras.models.Sequential() #Instantiate a sequential model\n",
    "model_B.add(keras.layers.Flatten(input_shape=[28, 28])) #Define the input layer\n",
    "model_B.add(keras.layers.Dense(300, activation=\"relu\")) #First hidden layer\n",
    "model_B.add(keras.layers.Dense(100, activation=\"relu\")) #Second hidden layer\n",
    "model_B.add(keras.layers.Dense(10, activation=\"softmax\")) #Output layer"
   ]
  },
  {
   "cell_type": "code",
   "execution_count": null,
   "metadata": {
    "slideshow": {
     "slide_type": "slide"
    }
   },
   "outputs": [],
   "source": [
    "#Now need to compile\n",
    "model_B.compile(loss=\"sparse_categorical_crossentropy\",\n",
    "              optimizer=\"sgd\",\n",
    "              metrics=[\"accuracy\"])"
   ]
  },
  {
   "cell_type": "code",
   "execution_count": null,
   "metadata": {
    "slideshow": {
     "slide_type": "slide"
    }
   },
   "outputs": [],
   "source": [
    "history_B = model_B.fit(X_train_B, y_train_B, epochs=50,\n",
    "                           validation_data=(X_valid, y_valid))"
   ]
  },
  {
   "cell_type": "code",
   "execution_count": null,
   "metadata": {
    "slideshow": {
     "slide_type": "slide"
    }
   },
   "outputs": [],
   "source": [
    "model_B.evaluate(X_test, y_test)"
   ]
  },
  {
   "cell_type": "markdown",
   "metadata": {
    "slideshow": {
     "slide_type": "slide"
    }
   },
   "source": [
    "We find that Model B is actually better than Model A on B.  Geron says that this shouldn't be expected to work well with a small dense network.  Need a deeper network (maybe even CNN) to get best reslts.  But this at least shows how it is done.\n",
    "\n",
    "It is worth noting that we **do** have the answers for the full training set here, but if you did **NOT** then the 84.8% that we got (compared to 85.1%) is pretty darn good!"
   ]
  },
  {
   "cell_type": "markdown",
   "metadata": {
    "slideshow": {
     "slide_type": "slide"
    }
   },
   "source": [
    "---"
   ]
  },
  {
   "cell_type": "markdown",
   "metadata": {
    "slideshow": {
     "slide_type": "notes"
    }
   },
   "source": [
    "* Sigmoid needed for output of binary classification (with binary cross entropy loss)\n",
    "* ReLU for layers other than output\n",
    "* Softmax for output with more than 2 classes (with categorical cross entropy loss)\n",
    "\n",
    "multi-label is like doing several binary classifications at once, so use sigmoid activation function.\n",
    "\n",
    "One vs. rest\n",
    "\n",
    "Train faster with mini-batches.  Updates weights N mini-batches times per epoch.\n",
    "Batches normalize between layers.\n",
    "\n",
    "Current version leaves no place for AdaBoost or LogisticRegression."
   ]
  }
 ],
 "metadata": {
  "anaconda-cloud": {},
  "celltoolbar": "Slideshow",
  "kernelspec": {
   "display_name": "Python 3 (ipykernel)",
   "language": "python",
   "name": "python3"
  },
  "language_info": {
   "codemirror_mode": {
    "name": "ipython",
    "version": 3
   },
   "file_extension": ".py",
   "mimetype": "text/x-python",
   "name": "python",
   "nbconvert_exporter": "python",
   "pygments_lexer": "ipython3",
   "version": "3.9.12"
  },
  "nbpresent": {
   "slides": {
    "a6340146-092b-47d0-8584-e84bb64c0952": {
     "id": "a6340146-092b-47d0-8584-e84bb64c0952",
     "prev": null,
     "regions": {
      "9f3c3dc8-1276-4b96-9b97-e4b352cc7fb5": {
       "attrs": {
        "height": 1,
        "width": 1,
        "x": 0.008349570712902259,
        "y": -0.008482103581361025
       },
       "id": "9f3c3dc8-1276-4b96-9b97-e4b352cc7fb5"
      }
     }
    }
   },
   "themes": {}
  }
 },
 "nbformat": 4,
 "nbformat_minor": 1
}
