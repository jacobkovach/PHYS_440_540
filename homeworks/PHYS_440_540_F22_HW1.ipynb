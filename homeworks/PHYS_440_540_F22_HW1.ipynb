{
 "cells": [
  {
   "cell_type": "markdown",
   "metadata": {},
   "source": [
    "# Homework 1: Problems (due Monday 26 September)\n",
    "### PHYS 440/540, Fall 2022\n",
    "https://github.com/gtrichards/PHYS_440_540/\n",
    "\n",
    "\n",
    "## Problem 1\n",
    "\n",
    "Practice your git and github skills by submitting this homework via github.  You can skip Steps 1-6 if you have already submitted your Lecture 2 \"exit ticket\".  Steps 7 and 8 are the only realy \"homework\" (and all that I'm asking you to do is to change a file name!).  \n",
    "\n",
    "1) Follow the instructions in [InitialSetup.ipynb](https://github.com/gtrichards/PHYS_440_540/blob/master/notebooks/InitialSetup.ipynb) to fork the class repository and clone the forked repository onto your local computer (skip this step if you have done this in class).\n",
    "2) Login to your GitHub account in a web browser\n",
    "\n",
    "3) Go to the GitHub Classroom assignments link for Big Data Physics 2022\n",
    "https://classroom.github.com/a/wnge8VcC\n",
    "\n",
    "4) Click on your Drexel e-mail address under \"identifiers\"\n",
    "\n",
    "5) Accept the assignment.  This will create a GitHub repo of the form\n",
    "   bigdataphys-yourgitusername\n",
    "   This is where you will be submitting your homeworks and exit tickets.\n",
    "\n",
    "   Wait until you see an http address in a blue box that looks like \n",
    "   https://github.com/PHYS-440-540/bigdataphys-yourgitusername\n",
    "   and go to the next step\n",
    "\n",
    "6) Clone this repo in your git directory on your computer:\n",
    "   % cd ~/git\n",
    "   % git clone https://github.com/PHYS-440-540/bigdataphys-yourgitusername\n",
    "\n",
    "   This will create\n",
    "   ~/git/bigdataphys-yourgitusername\n",
    "   which already has two folders \"homeworks\" and \"lecture_exits\"\n",
    "\n",
    "7) Copy the Homework1 notebook (this file) to the homeworks folder, adding your name (i.e., PHYS_440_540_F22_HW1_YourName.ipynb).  \n",
    "\n",
    "   % cp ~/git/PHYS_440_540/homeworks/PHYS_440_540_F22_HW1.ipynb ~/git/bigdataphys-yourgitusername/homeworks/PHYS_440_540_F22_HW1_YourName.ipynb\n",
    "\n",
    "8) Submit your \"homework\" as follows:\n",
    "\n",
    "   % git add homeworks/PHYS_440_540_F22_HW1_YourName.ipynb\n",
    "   \n",
    "   % git commit -am \"Uploaded Homework 1\"\n",
    "   \n",
    "   % git push\n",
    "\n",
    "9) Future homeworks will be submitted the same way (with you writing/filling in code cells).\n",
    "\n",
    "\n",
    "\n",
    "## Problem 2\n",
    "\n",
    "On Data Camp:\n",
    "\n",
    "Accept the invitation to join the class (which gives you access to their library for 6 months!)\n",
    "\n",
    "Complete Chapter 1 of the Intro to Git course.\n",
    "\n",
    "Complete Intro or Intermediate Python -- one or the other -- whichever you think is more appropriate.  If you know Python already do the Intermediate lesson instead of the Intro.  I'm only assigning Chapter 1, more to give you some practice working in the Data Camp environment than because of what you might or might not learn.  Feel free to do the other lessons on your own if you feel like they will be helpful.\n"
   ]
  },
  {
   "cell_type": "code",
   "execution_count": null,
   "metadata": {},
   "outputs": [],
   "source": []
  }
 ],
 "metadata": {
  "anaconda-cloud": {},
  "kernelspec": {
   "display_name": "Python 3 (ipykernel)",
   "language": "python",
   "name": "python3"
  },
  "language_info": {
   "codemirror_mode": {
    "name": "ipython",
    "version": 3
   },
   "file_extension": ".py",
   "mimetype": "text/x-python",
   "name": "python",
   "nbconvert_exporter": "python",
   "pygments_lexer": "ipython3",
   "version": "3.9.12"
  }
 },
 "nbformat": 4,
 "nbformat_minor": 4
}
