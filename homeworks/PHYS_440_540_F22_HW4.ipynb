{
 "cells": [
  {
   "cell_type": "markdown",
   "metadata": {},
   "source": [
    "# Homework 4: Problems\n",
    "## Due Wednesday 19 October, by 5pm\n",
    "\n",
    "### PHYS 440/540, Fall 2022\n",
    "https://github.com/gtrichards/PHYS_440_540/\n",
    "\n",
    "\n",
    "## Problem 1\n",
    "\n",
    "What does the `s6` attribute measure in the `diabetes` dataset (which is built in to Scikit Learn)?\n",
    "\n",
    "\n",
    "## Problem 2\n",
    "\n",
    "Practice with faces.  Load the classic Olivetti faces dataset using the `sklearn.datasets.fetch_olivetti_faces()` function.  It contains 400 grayscale 64 × 64–pixel images that are flattened to a 1D vector of size 4,096. 40 different people were photographed (10 times each).\n",
    "\n",
    "Use DESCR to learn about the data set.  Then print a listing of the target values.\n",
    "\n",
    "Split the data into a training set, a validation set, and a test set.  Make sure to use stratification.  Most of the data should be in the training set, with the test and validation sets being smaller.\n",
    "\n",
    "Cluster the images using K-means.\n",
    "\n",
    "Visualize your clusters.\n",
    "\n",
    "\n",
    "## Problem 3\n",
    "\n",
    "Use [datasets.make_blobs](https://scikit-learn.org/stable/modules/generated/sklearn.datasets.make_blobs.html#sklearn.datasets.make_blobs) to generate a fake sample of data.  It should have 100 data points each with 3 attributes/features where the objects are grouped into 4 clusters/groups.  Use `random_state=234567`.\n",
    "\n",
    "Illustrate with a 2-D plot of two of the attributes.  Show `X` as a 100x3 table of data.  \n",
    "\n",
    "Do it again in Pandas and give each of the attributes a name.\n",
    "\n",
    "\n",
    "[Possibly useful or of interest](https://medium.com/dunder-data/from-pandas-to-scikit-learn-a-new-exciting-workflow-e88e2271ef62)\n"
   ]
  },
  {
   "cell_type": "markdown",
   "metadata": {},
   "source": [
    "---\n",
    "#### Problem 2 Starter Code"
   ]
  },
  {
   "cell_type": "code",
   "execution_count": null,
   "metadata": {},
   "outputs": [],
   "source": [
    "from sklearn.datasets import fetch_olivetti_faces\n",
    "\n",
    "olivetti = fetch_olivetti_faces()"
   ]
  },
  {
   "cell_type": "code",
   "execution_count": null,
   "metadata": {},
   "outputs": [],
   "source": [
    "#Use DESCR to learn about the data set\n",
    "print(____.____)"
   ]
  },
  {
   "cell_type": "code",
   "execution_count": null,
   "metadata": {},
   "outputs": [],
   "source": [
    "#View the \"targets\"\n",
    "print(____.____)"
   ]
  },
  {
   "cell_type": "code",
   "execution_count": null,
   "metadata": {},
   "outputs": [],
   "source": [
    "#Split the data into a training set, a validation set, and a test set.  Make sure to use stratification.  \n",
    "#Most of the data should be in the training set, with the test and validation sets being smaller.\n",
    "\n",
    "from sklearn.model_selection import ____\n",
    "\n",
    "X = ____.____\n",
    "y = ____.____\n",
    "\n",
    "Xtrainvalid, Xtest, ytrainvalid, ytest = train_test_split(____, ____, ____=____, test_size=____, random_state=42)\n",
    "Xtrain, Xvalid, ytrain, yvalid = train_test_split(____, ____, ____=____, test_size=____, random_state=42)"
   ]
  },
  {
   "cell_type": "code",
   "execution_count": null,
   "metadata": {},
   "outputs": [],
   "source": [
    "print(Xtrain.shape,Xvalid.shape,Xtest.shape)"
   ]
  },
  {
   "cell_type": "code",
   "execution_count": null,
   "metadata": {},
   "outputs": [],
   "source": [
    "from sklearn.cluster import ____\n",
    "\n",
    "k_range = range(____, ____, ____)\n",
    "kmeans_scores = []\n",
    "kmeans_per_k = []\n",
    "for k in k_range:\n",
    "\n",
    "    kmeans = KMeans(n_clusters=____, random_state=42).fit(____)\n",
    "    kmeans_per_k.append(____)\n",
    "    \n",
    "    score = kmeans.score(____)\n",
    "    kmeans_scores.append(____)\n",
    "    \n",
    "    print(\"k={}, score={}\".format(k,score))"
   ]
  },
  {
   "cell_type": "code",
   "execution_count": null,
   "metadata": {},
   "outputs": [],
   "source": [
    "best_index = np.argmax(____)\n",
    "best_model = kmeans_per_k[____]\n",
    "print(kmeans_scores[best_index])"
   ]
  },
  {
   "cell_type": "code",
   "execution_count": null,
   "metadata": {},
   "outputs": [],
   "source": [
    "#Nothing for you to fill in here, but try to understand what it is doing\n",
    "\n",
    "def plot_faces(faces, labels, n_cols=5):\n",
    "    faces = faces.reshape(-1, 64, 64)\n",
    "    n_rows = (len(faces) - 1) // n_cols + 1\n",
    "    plt.figure(figsize=(n_cols, n_rows * 1.1))\n",
    "    for index, (face, label) in enumerate(zip(faces, labels)):\n",
    "        plt.subplot(n_rows, n_cols, index + 1)\n",
    "        plt.imshow(face, cmap=\"gray\", origin='upper')\n",
    "        plt.axis(\"off\")\n",
    "        plt.title(label)\n",
    "    plt.show()\n",
    "\n",
    "for cluster_id in np.unique(best_model.labels_):\n",
    "    print(\"Cluster\", cluster_id)\n",
    "    in_cluster = best_model.labels_==cluster_id\n",
    "    faces = Xtrain[in_cluster]\n",
    "    labels = ytrain[in_cluster]\n",
    "    plot_faces(faces, labels)"
   ]
  },
  {
   "cell_type": "markdown",
   "metadata": {},
   "source": [
    "---\n",
    "\n",
    "#### Problem 3 Starter Code"
   ]
  },
  {
   "cell_type": "code",
   "execution_count": null,
   "metadata": {},
   "outputs": [],
   "source": [
    "from sklearn import ____\n",
    "____,____ = datasets.make_blobs(____=____,____=____,____=____,____=____)"
   ]
  },
  {
   "cell_type": "code",
   "execution_count": null,
   "metadata": {},
   "outputs": [],
   "source": [
    "import numpy as ____\n",
    "import matplotlib.pyplot as ____\n",
    "from matplotlib import cm\n",
    "\n",
    "plt.figure() #setup plot\n",
    "\n",
    "#Needed to plot clusters in color according to their labels\n",
    "y_unique = np.unique(y) \n",
    "colors = cm.rainbow(np.linspace(0.0, 1.0, y_unique.size))\n",
    "for this_y, color in zip(y_unique, colors):\n",
    "    this_X = X[y == this_y]\n",
    "    # Plot the first two columns for all of the objects\n",
    "    plt.scatter(this_X[____,____], this_X[____,____], c=color[np.newaxis, :],\\\n",
    "                alpha=0.5, edgecolor='k', label=\"Class %s\" % this_y)\n",
    "    \n",
    "plt.legend(loc=\"best\")"
   ]
  },
  {
   "cell_type": "code",
   "execution_count": null,
   "metadata": {},
   "outputs": [],
   "source": [
    "print(____)"
   ]
  },
  {
   "cell_type": "code",
   "execution_count": null,
   "metadata": {},
   "outputs": [],
   "source": [
    "#Now with Pandas\n",
    "import ____ as ____\n",
    "dfX = ____.____(____)\n",
    "dfX.____ = [____]\n",
    "print(dfX)"
   ]
  }
 ],
 "metadata": {
  "anaconda-cloud": {},
  "kernelspec": {
   "display_name": "Python 3 (ipykernel)",
   "language": "python",
   "name": "python3"
  },
  "language_info": {
   "codemirror_mode": {
    "name": "ipython",
    "version": 3
   },
   "file_extension": ".py",
   "mimetype": "text/x-python",
   "name": "python",
   "nbconvert_exporter": "python",
   "pygments_lexer": "ipython3",
   "version": "3.9.12"
  }
 },
 "nbformat": 4,
 "nbformat_minor": 2
}
